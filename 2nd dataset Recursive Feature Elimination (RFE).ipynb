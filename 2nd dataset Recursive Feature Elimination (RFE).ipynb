{
  "nbformat": 4,
  "nbformat_minor": 0,
  "metadata": {
    "colab": {
      "provenance": [],
      "include_colab_link": true
    },
    "kernelspec": {
      "name": "python3",
      "display_name": "Python 3"
    },
    "language_info": {
      "name": "python"
    }
  },
  "cells": [
    {
      "cell_type": "markdown",
      "metadata": {
        "id": "view-in-github",
        "colab_type": "text"
      },
      "source": [
        "<a href=\"https://colab.research.google.com/github/FathimaNazarudeen/lung-cancer/blob/main/2nd%20dataset%20Recursive%20Feature%20Elimination%20(RFE).ipynb\" target=\"_parent\"><img src=\"https://colab.research.google.com/assets/colab-badge.svg\" alt=\"Open In Colab\"/></a>"
      ]
    },
    {
      "cell_type": "code",
      "execution_count": 32,
      "metadata": {
        "id": "Yt-0FxcaIn1b"
      },
      "outputs": [],
      "source": [
        "import pandas as pd \n",
        "import numpy as np"
      ]
    },
    {
      "cell_type": "code",
      "source": [
        "data=pd.read_csv(\"/content/thirddatasetdata2editednew.csv\")"
      ],
      "metadata": {
        "id": "_TwssuD-ZbZM"
      },
      "execution_count": 33,
      "outputs": []
    },
    {
      "cell_type": "code",
      "source": [
        "data['Label'].value_counts()"
      ],
      "metadata": {
        "colab": {
          "base_uri": "https://localhost:8080/"
        },
        "id": "77U6Co_WQOBW",
        "outputId": "43ddf01c-5aef-4da1-e768-5f36a87068e8"
      },
      "execution_count": 34,
      "outputs": [
        {
          "output_type": "execute_result",
          "data": {
            "text/plain": [
              "adeno       42\n",
              "squamous    35\n",
              "other       12\n",
              "Name: Label, dtype: int64"
            ]
          },
          "metadata": {},
          "execution_count": 34
        }
      ]
    },
    {
      "cell_type": "code",
      "source": [
        "data.columns "
      ],
      "metadata": {
        "colab": {
          "base_uri": "https://localhost:8080/"
        },
        "id": "KoaSe4-wRwK0",
        "outputId": "4aa8c7c3-cd00-4ec2-ecd8-51054c055a08"
      },
      "execution_count": 35,
      "outputs": [
        {
          "output_type": "execute_result",
          "data": {
            "text/plain": [
              "Index(['imaging.radiomics.GLCM_autocorr', 'imaging.radiomics.GLCM_clusProm',\n",
              "       'imaging.radiomics.GLCM_clusShade', 'imaging.radiomics.GLCM_clusTend',\n",
              "       'imaging.radiomics.GLCM_contrast', 'imaging.radiomics.GLCM_correl1',\n",
              "       'imaging.radiomics.GLCM_diffEntro', 'imaging.radiomics.GLCM_dissimilar',\n",
              "       'imaging.radiomics.GLCM_energy', 'imaging.radiomics.GLCM_entrop2',\n",
              "       ...\n",
              "       'imaging.radiomics.Wavelet_LLL_stats_median',\n",
              "       'imaging.radiomics.Wavelet_LLL_stats_min',\n",
              "       'imaging.radiomics.Wavelet_LLL_stats_range',\n",
              "       'imaging.radiomics.Wavelet_LLL_stats_rms',\n",
              "       'imaging.radiomics.Wavelet_LLL_stats_skewness',\n",
              "       'imaging.radiomics.Wavelet_LLL_stats_std',\n",
              "       'imaging.radiomics.Wavelet_LLL_stats_totalenergy',\n",
              "       'imaging.radiomics.Wavelet_LLL_stats_uniformity',\n",
              "       'imaging.radiomics.Wavelet_LLL_stats_var', 'Label'],\n",
              "      dtype='object', length=651)"
            ]
          },
          "metadata": {},
          "execution_count": 35
        }
      ]
    },
    {
      "cell_type": "code",
      "source": [
        "data_real = data.replace(np.inf, np.nan)"
      ],
      "metadata": {
        "id": "q4h6KjggRxfq"
      },
      "execution_count": 36,
      "outputs": []
    },
    {
      "cell_type": "code",
      "source": [
        "data_real.isnull().sum().sum()"
      ],
      "metadata": {
        "colab": {
          "base_uri": "https://localhost:8080/"
        },
        "id": "_F7n3UJCR2MO",
        "outputId": "1dc6d46b-7945-4881-a852-92097272b35e"
      },
      "execution_count": 37,
      "outputs": [
        {
          "output_type": "execute_result",
          "data": {
            "text/plain": [
              "0"
            ]
          },
          "metadata": {},
          "execution_count": 37
        }
      ]
    },
    {
      "cell_type": "code",
      "source": [
        "data_df = data_real.dropna(axis=0)"
      ],
      "metadata": {
        "id": "og_p85LcR6bO"
      },
      "execution_count": 38,
      "outputs": []
    },
    {
      "cell_type": "code",
      "source": [
        "data_df.isnull().sum().sum()"
      ],
      "metadata": {
        "colab": {
          "base_uri": "https://localhost:8080/"
        },
        "id": "-p1_6MARR92v",
        "outputId": "356cc16e-b162-4a9d-e7c3-b3b6014c0bd5"
      },
      "execution_count": 39,
      "outputs": [
        {
          "output_type": "execute_result",
          "data": {
            "text/plain": [
              "0"
            ]
          },
          "metadata": {},
          "execution_count": 39
        }
      ]
    },
    {
      "cell_type": "code",
      "source": [
        "data_df"
      ],
      "metadata": {
        "colab": {
          "base_uri": "https://localhost:8080/",
          "height": 487
        },
        "id": "ejydE7xGSAw4",
        "outputId": "b6dad753-f673-4b19-b3bf-e929e2e51347"
      },
      "execution_count": 40,
      "outputs": [
        {
          "output_type": "execute_result",
          "data": {
            "text/plain": [
              "    imaging.radiomics.GLCM_autocorr  imaging.radiomics.GLCM_clusProm  \\\n",
              "0                        974.807775                     1.622693e+04   \n",
              "1                       1481.384832                     5.990974e+04   \n",
              "2                       3872.453374                     4.108418e+09   \n",
              "3                        695.041214                     4.149945e+04   \n",
              "4                        762.350839                     6.832887e+04   \n",
              "..                              ...                              ...   \n",
              "84                      1136.874226                     1.726526e+04   \n",
              "85                       690.874197                     4.733321e+04   \n",
              "86                       601.924490                     6.179012e+03   \n",
              "87                       601.924490                     6.179012e+03   \n",
              "88                       404.275573                     2.867433e+04   \n",
              "\n",
              "    imaging.radiomics.GLCM_clusShade  imaging.radiomics.GLCM_clusTend  \\\n",
              "0                        -485.694214                        20.677451   \n",
              "1                       -1576.604188                        65.516719   \n",
              "2                      -40980.455560                      1374.305720   \n",
              "3                       -1315.773459                        87.294884   \n",
              "4                       -1381.277499                       148.188061   \n",
              "..                               ...                              ...   \n",
              "84                       -508.990915                        40.848166   \n",
              "85                      -1432.032909                       107.520123   \n",
              "86                       -210.953607                        20.484082   \n",
              "87                       -210.953607                        20.484082   \n",
              "88                       -707.032249                        93.849341   \n",
              "\n",
              "    imaging.radiomics.GLCM_contrast  imaging.radiomics.GLCM_correl1  \\\n",
              "0                          2.199042                        0.821098   \n",
              "1                          9.254695                        0.754425   \n",
              "2                         29.367922                        0.960624   \n",
              "3                         10.902911                        0.775198   \n",
              "4                         22.457054                        0.736728   \n",
              "..                              ...                             ...   \n",
              "84                        12.219760                        0.537969   \n",
              "85                        12.172218                        0.792865   \n",
              "86                         2.231344                        0.800474   \n",
              "87                         2.231344                        0.800474   \n",
              "88                        22.308018                        0.618446   \n",
              "\n",
              "    imaging.radiomics.GLCM_diffEntro  imaging.radiomics.GLCM_dissimilar  \\\n",
              "0                           1.080075                           0.734860   \n",
              "1                           1.686171                           1.722073   \n",
              "2                           2.416309                           3.878045   \n",
              "3                           1.851825                           2.009553   \n",
              "4                           2.297417                           3.411370   \n",
              "..                               ...                                ...   \n",
              "84                          2.017602                           2.541419   \n",
              "85                          1.992276                           2.357484   \n",
              "86                          1.212351                           0.864871   \n",
              "87                          1.212351                           0.864871   \n",
              "88                          2.266238                           3.473518   \n",
              "\n",
              "    imaging.radiomics.GLCM_energy  imaging.radiomics.GLCM_entrop2  ...  \\\n",
              "0                        0.161738                        2.561361  ...   \n",
              "1                        0.047312                        4.066880  ...   \n",
              "2                        0.003364                        6.389297  ...   \n",
              "3                        0.034897                        4.583572  ...   \n",
              "4                        0.005689                        5.767177  ...   \n",
              "..                            ...                             ...  ...   \n",
              "84                       0.012917                        4.897015  ...   \n",
              "85                       0.019799                        4.922992  ...   \n",
              "86                       0.093544                        3.260115  ...   \n",
              "87                       0.093544                        3.260115  ...   \n",
              "88                       0.008502                        5.085398  ...   \n",
              "\n",
              "    imaging.radiomics.Wavelet_LLL_stats_median  \\\n",
              "0                                  2908.156236   \n",
              "1                                  2895.820234   \n",
              "2                                  5252.020964   \n",
              "3                                  5886.237720   \n",
              "4                                  2577.676304   \n",
              "..                                         ...   \n",
              "84                                 2947.395894   \n",
              "85                                 5844.429702   \n",
              "86                                 2982.771351   \n",
              "87                                 2982.771351   \n",
              "88                                 2825.492940   \n",
              "\n",
              "    imaging.radiomics.Wavelet_LLL_stats_min  \\\n",
              "0                                749.562721   \n",
              "1                                 77.734493   \n",
              "2                                768.520760   \n",
              "3                               4035.371922   \n",
              "4                                728.016080   \n",
              "..                                      ...   \n",
              "84                               899.333940   \n",
              "85                              3969.695656   \n",
              "86                              1308.938860   \n",
              "87                              1308.938860   \n",
              "88                              1492.839890   \n",
              "\n",
              "    imaging.radiomics.Wavelet_LLL_stats_range  \\\n",
              "0                                 2737.841292   \n",
              "1                                 3450.898825   \n",
              "2                                 5846.377098   \n",
              "3                                 2586.389219   \n",
              "4                                 2955.870207   \n",
              "..                                        ...   \n",
              "84                                2488.809180   \n",
              "85                                2325.999258   \n",
              "86                                2335.651107   \n",
              "87                                2335.651107   \n",
              "88                                1983.158830   \n",
              "\n",
              "    imaging.radiomics.Wavelet_LLL_stats_rms  \\\n",
              "0                               2866.720944   \n",
              "1                               2808.211801   \n",
              "2                               4919.140829   \n",
              "3                               5725.580599   \n",
              "4                               2540.403805   \n",
              "..                                      ...   \n",
              "84                              2872.653468   \n",
              "85                              5696.150168   \n",
              "86                              2959.605055   \n",
              "87                              2959.605055   \n",
              "88                              2777.899166   \n",
              "\n",
              "    imaging.radiomics.Wavelet_LLL_stats_skewness  \\\n",
              "0                                      -4.684032   \n",
              "1                                      -2.685867   \n",
              "2                                      -0.778334   \n",
              "3                                      -1.472562   \n",
              "4                                      -0.571742   \n",
              "..                                           ...   \n",
              "84                                     -1.943993   \n",
              "85                                     -1.123228   \n",
              "86                                     -2.456362   \n",
              "87                                     -2.456362   \n",
              "88                                     -0.622212   \n",
              "\n",
              "    imaging.radiomics.Wavelet_LLL_stats_std  \\\n",
              "0                                202.090410   \n",
              "1                                327.154770   \n",
              "2                               1349.678920   \n",
              "3                                397.225995   \n",
              "4                                474.197815   \n",
              "..                                      ...   \n",
              "84                               278.641225   \n",
              "85                               432.854997   \n",
              "86                               187.578235   \n",
              "87                               187.578235   \n",
              "88                               429.690726   \n",
              "\n",
              "    imaging.radiomics.Wavelet_LLL_stats_totalenergy  \\\n",
              "0                                      4.920334e+08   \n",
              "1                                      6.100099e+08   \n",
              "2                                      2.104979e+08   \n",
              "3                                      9.263943e+08   \n",
              "4                                      3.166161e+07   \n",
              "..                                              ...   \n",
              "84                                     1.155299e+08   \n",
              "85                                     2.281936e+08   \n",
              "86                                     1.643343e+09   \n",
              "87                                     1.643343e+09   \n",
              "88                                     5.023587e+09   \n",
              "\n",
              "    imaging.radiomics.Wavelet_LLL_stats_uniformity  \\\n",
              "0                                         0.341563   \n",
              "1                                         0.193098   \n",
              "2                                         0.026267   \n",
              "3                                         0.120999   \n",
              "4                                         0.045411   \n",
              "..                                             ...   \n",
              "84                                        0.099577   \n",
              "85                                        0.077416   \n",
              "86                                        0.253570   \n",
              "87                                        0.253570   \n",
              "88                                        0.049898   \n",
              "\n",
              "    imaging.radiomics.Wavelet_LLL_stats_var     Label  \n",
              "0                              4.084053e+04  squamous  \n",
              "1                              1.070302e+05  squamous  \n",
              "2                              1.821633e+09  squamous  \n",
              "3                              1.577885e+05  squamous  \n",
              "4                              2.248636e+05  squamous  \n",
              "..                                      ...       ...  \n",
              "84                             7.764093e+04     other  \n",
              "85                             1.873634e+05     other  \n",
              "86                             3.518559e+04     other  \n",
              "87                             3.518559e+04     other  \n",
              "88                             1.846341e+05     other  \n",
              "\n",
              "[89 rows x 651 columns]"
            ],
            "text/html": [
              "\n",
              "  <div id=\"df-b5026714-53ee-46f0-b2c3-206b71fabe95\">\n",
              "    <div class=\"colab-df-container\">\n",
              "      <div>\n",
              "<style scoped>\n",
              "    .dataframe tbody tr th:only-of-type {\n",
              "        vertical-align: middle;\n",
              "    }\n",
              "\n",
              "    .dataframe tbody tr th {\n",
              "        vertical-align: top;\n",
              "    }\n",
              "\n",
              "    .dataframe thead th {\n",
              "        text-align: right;\n",
              "    }\n",
              "</style>\n",
              "<table border=\"1\" class=\"dataframe\">\n",
              "  <thead>\n",
              "    <tr style=\"text-align: right;\">\n",
              "      <th></th>\n",
              "      <th>imaging.radiomics.GLCM_autocorr</th>\n",
              "      <th>imaging.radiomics.GLCM_clusProm</th>\n",
              "      <th>imaging.radiomics.GLCM_clusShade</th>\n",
              "      <th>imaging.radiomics.GLCM_clusTend</th>\n",
              "      <th>imaging.radiomics.GLCM_contrast</th>\n",
              "      <th>imaging.radiomics.GLCM_correl1</th>\n",
              "      <th>imaging.radiomics.GLCM_diffEntro</th>\n",
              "      <th>imaging.radiomics.GLCM_dissimilar</th>\n",
              "      <th>imaging.radiomics.GLCM_energy</th>\n",
              "      <th>imaging.radiomics.GLCM_entrop2</th>\n",
              "      <th>...</th>\n",
              "      <th>imaging.radiomics.Wavelet_LLL_stats_median</th>\n",
              "      <th>imaging.radiomics.Wavelet_LLL_stats_min</th>\n",
              "      <th>imaging.radiomics.Wavelet_LLL_stats_range</th>\n",
              "      <th>imaging.radiomics.Wavelet_LLL_stats_rms</th>\n",
              "      <th>imaging.radiomics.Wavelet_LLL_stats_skewness</th>\n",
              "      <th>imaging.radiomics.Wavelet_LLL_stats_std</th>\n",
              "      <th>imaging.radiomics.Wavelet_LLL_stats_totalenergy</th>\n",
              "      <th>imaging.radiomics.Wavelet_LLL_stats_uniformity</th>\n",
              "      <th>imaging.radiomics.Wavelet_LLL_stats_var</th>\n",
              "      <th>Label</th>\n",
              "    </tr>\n",
              "  </thead>\n",
              "  <tbody>\n",
              "    <tr>\n",
              "      <th>0</th>\n",
              "      <td>974.807775</td>\n",
              "      <td>1.622693e+04</td>\n",
              "      <td>-485.694214</td>\n",
              "      <td>20.677451</td>\n",
              "      <td>2.199042</td>\n",
              "      <td>0.821098</td>\n",
              "      <td>1.080075</td>\n",
              "      <td>0.734860</td>\n",
              "      <td>0.161738</td>\n",
              "      <td>2.561361</td>\n",
              "      <td>...</td>\n",
              "      <td>2908.156236</td>\n",
              "      <td>749.562721</td>\n",
              "      <td>2737.841292</td>\n",
              "      <td>2866.720944</td>\n",
              "      <td>-4.684032</td>\n",
              "      <td>202.090410</td>\n",
              "      <td>4.920334e+08</td>\n",
              "      <td>0.341563</td>\n",
              "      <td>4.084053e+04</td>\n",
              "      <td>squamous</td>\n",
              "    </tr>\n",
              "    <tr>\n",
              "      <th>1</th>\n",
              "      <td>1481.384832</td>\n",
              "      <td>5.990974e+04</td>\n",
              "      <td>-1576.604188</td>\n",
              "      <td>65.516719</td>\n",
              "      <td>9.254695</td>\n",
              "      <td>0.754425</td>\n",
              "      <td>1.686171</td>\n",
              "      <td>1.722073</td>\n",
              "      <td>0.047312</td>\n",
              "      <td>4.066880</td>\n",
              "      <td>...</td>\n",
              "      <td>2895.820234</td>\n",
              "      <td>77.734493</td>\n",
              "      <td>3450.898825</td>\n",
              "      <td>2808.211801</td>\n",
              "      <td>-2.685867</td>\n",
              "      <td>327.154770</td>\n",
              "      <td>6.100099e+08</td>\n",
              "      <td>0.193098</td>\n",
              "      <td>1.070302e+05</td>\n",
              "      <td>squamous</td>\n",
              "    </tr>\n",
              "    <tr>\n",
              "      <th>2</th>\n",
              "      <td>3872.453374</td>\n",
              "      <td>4.108418e+09</td>\n",
              "      <td>-40980.455560</td>\n",
              "      <td>1374.305720</td>\n",
              "      <td>29.367922</td>\n",
              "      <td>0.960624</td>\n",
              "      <td>2.416309</td>\n",
              "      <td>3.878045</td>\n",
              "      <td>0.003364</td>\n",
              "      <td>6.389297</td>\n",
              "      <td>...</td>\n",
              "      <td>5252.020964</td>\n",
              "      <td>768.520760</td>\n",
              "      <td>5846.377098</td>\n",
              "      <td>4919.140829</td>\n",
              "      <td>-0.778334</td>\n",
              "      <td>1349.678920</td>\n",
              "      <td>2.104979e+08</td>\n",
              "      <td>0.026267</td>\n",
              "      <td>1.821633e+09</td>\n",
              "      <td>squamous</td>\n",
              "    </tr>\n",
              "    <tr>\n",
              "      <th>3</th>\n",
              "      <td>695.041214</td>\n",
              "      <td>4.149945e+04</td>\n",
              "      <td>-1315.773459</td>\n",
              "      <td>87.294884</td>\n",
              "      <td>10.902911</td>\n",
              "      <td>0.775198</td>\n",
              "      <td>1.851825</td>\n",
              "      <td>2.009553</td>\n",
              "      <td>0.034897</td>\n",
              "      <td>4.583572</td>\n",
              "      <td>...</td>\n",
              "      <td>5886.237720</td>\n",
              "      <td>4035.371922</td>\n",
              "      <td>2586.389219</td>\n",
              "      <td>5725.580599</td>\n",
              "      <td>-1.472562</td>\n",
              "      <td>397.225995</td>\n",
              "      <td>9.263943e+08</td>\n",
              "      <td>0.120999</td>\n",
              "      <td>1.577885e+05</td>\n",
              "      <td>squamous</td>\n",
              "    </tr>\n",
              "    <tr>\n",
              "      <th>4</th>\n",
              "      <td>762.350839</td>\n",
              "      <td>6.832887e+04</td>\n",
              "      <td>-1381.277499</td>\n",
              "      <td>148.188061</td>\n",
              "      <td>22.457054</td>\n",
              "      <td>0.736728</td>\n",
              "      <td>2.297417</td>\n",
              "      <td>3.411370</td>\n",
              "      <td>0.005689</td>\n",
              "      <td>5.767177</td>\n",
              "      <td>...</td>\n",
              "      <td>2577.676304</td>\n",
              "      <td>728.016080</td>\n",
              "      <td>2955.870207</td>\n",
              "      <td>2540.403805</td>\n",
              "      <td>-0.571742</td>\n",
              "      <td>474.197815</td>\n",
              "      <td>3.166161e+07</td>\n",
              "      <td>0.045411</td>\n",
              "      <td>2.248636e+05</td>\n",
              "      <td>squamous</td>\n",
              "    </tr>\n",
              "    <tr>\n",
              "      <th>...</th>\n",
              "      <td>...</td>\n",
              "      <td>...</td>\n",
              "      <td>...</td>\n",
              "      <td>...</td>\n",
              "      <td>...</td>\n",
              "      <td>...</td>\n",
              "      <td>...</td>\n",
              "      <td>...</td>\n",
              "      <td>...</td>\n",
              "      <td>...</td>\n",
              "      <td>...</td>\n",
              "      <td>...</td>\n",
              "      <td>...</td>\n",
              "      <td>...</td>\n",
              "      <td>...</td>\n",
              "      <td>...</td>\n",
              "      <td>...</td>\n",
              "      <td>...</td>\n",
              "      <td>...</td>\n",
              "      <td>...</td>\n",
              "      <td>...</td>\n",
              "    </tr>\n",
              "    <tr>\n",
              "      <th>84</th>\n",
              "      <td>1136.874226</td>\n",
              "      <td>1.726526e+04</td>\n",
              "      <td>-508.990915</td>\n",
              "      <td>40.848166</td>\n",
              "      <td>12.219760</td>\n",
              "      <td>0.537969</td>\n",
              "      <td>2.017602</td>\n",
              "      <td>2.541419</td>\n",
              "      <td>0.012917</td>\n",
              "      <td>4.897015</td>\n",
              "      <td>...</td>\n",
              "      <td>2947.395894</td>\n",
              "      <td>899.333940</td>\n",
              "      <td>2488.809180</td>\n",
              "      <td>2872.653468</td>\n",
              "      <td>-1.943993</td>\n",
              "      <td>278.641225</td>\n",
              "      <td>1.155299e+08</td>\n",
              "      <td>0.099577</td>\n",
              "      <td>7.764093e+04</td>\n",
              "      <td>other</td>\n",
              "    </tr>\n",
              "    <tr>\n",
              "      <th>85</th>\n",
              "      <td>690.874197</td>\n",
              "      <td>4.733321e+04</td>\n",
              "      <td>-1432.032909</td>\n",
              "      <td>107.520123</td>\n",
              "      <td>12.172218</td>\n",
              "      <td>0.792865</td>\n",
              "      <td>1.992276</td>\n",
              "      <td>2.357484</td>\n",
              "      <td>0.019799</td>\n",
              "      <td>4.922992</td>\n",
              "      <td>...</td>\n",
              "      <td>5844.429702</td>\n",
              "      <td>3969.695656</td>\n",
              "      <td>2325.999258</td>\n",
              "      <td>5696.150168</td>\n",
              "      <td>-1.123228</td>\n",
              "      <td>432.854997</td>\n",
              "      <td>2.281936e+08</td>\n",
              "      <td>0.077416</td>\n",
              "      <td>1.873634e+05</td>\n",
              "      <td>other</td>\n",
              "    </tr>\n",
              "    <tr>\n",
              "      <th>86</th>\n",
              "      <td>601.924490</td>\n",
              "      <td>6.179012e+03</td>\n",
              "      <td>-210.953607</td>\n",
              "      <td>20.484082</td>\n",
              "      <td>2.231344</td>\n",
              "      <td>0.800474</td>\n",
              "      <td>1.212351</td>\n",
              "      <td>0.864871</td>\n",
              "      <td>0.093544</td>\n",
              "      <td>3.260115</td>\n",
              "      <td>...</td>\n",
              "      <td>2982.771351</td>\n",
              "      <td>1308.938860</td>\n",
              "      <td>2335.651107</td>\n",
              "      <td>2959.605055</td>\n",
              "      <td>-2.456362</td>\n",
              "      <td>187.578235</td>\n",
              "      <td>1.643343e+09</td>\n",
              "      <td>0.253570</td>\n",
              "      <td>3.518559e+04</td>\n",
              "      <td>other</td>\n",
              "    </tr>\n",
              "    <tr>\n",
              "      <th>87</th>\n",
              "      <td>601.924490</td>\n",
              "      <td>6.179012e+03</td>\n",
              "      <td>-210.953607</td>\n",
              "      <td>20.484082</td>\n",
              "      <td>2.231344</td>\n",
              "      <td>0.800474</td>\n",
              "      <td>1.212351</td>\n",
              "      <td>0.864871</td>\n",
              "      <td>0.093544</td>\n",
              "      <td>3.260115</td>\n",
              "      <td>...</td>\n",
              "      <td>2982.771351</td>\n",
              "      <td>1308.938860</td>\n",
              "      <td>2335.651107</td>\n",
              "      <td>2959.605055</td>\n",
              "      <td>-2.456362</td>\n",
              "      <td>187.578235</td>\n",
              "      <td>1.643343e+09</td>\n",
              "      <td>0.253570</td>\n",
              "      <td>3.518559e+04</td>\n",
              "      <td>other</td>\n",
              "    </tr>\n",
              "    <tr>\n",
              "      <th>88</th>\n",
              "      <td>404.275573</td>\n",
              "      <td>2.867433e+04</td>\n",
              "      <td>-707.032249</td>\n",
              "      <td>93.849341</td>\n",
              "      <td>22.308018</td>\n",
              "      <td>0.618446</td>\n",
              "      <td>2.266238</td>\n",
              "      <td>3.473518</td>\n",
              "      <td>0.008502</td>\n",
              "      <td>5.085398</td>\n",
              "      <td>...</td>\n",
              "      <td>2825.492940</td>\n",
              "      <td>1492.839890</td>\n",
              "      <td>1983.158830</td>\n",
              "      <td>2777.899166</td>\n",
              "      <td>-0.622212</td>\n",
              "      <td>429.690726</td>\n",
              "      <td>5.023587e+09</td>\n",
              "      <td>0.049898</td>\n",
              "      <td>1.846341e+05</td>\n",
              "      <td>other</td>\n",
              "    </tr>\n",
              "  </tbody>\n",
              "</table>\n",
              "<p>89 rows × 651 columns</p>\n",
              "</div>\n",
              "      <button class=\"colab-df-convert\" onclick=\"convertToInteractive('df-b5026714-53ee-46f0-b2c3-206b71fabe95')\"\n",
              "              title=\"Convert this dataframe to an interactive table.\"\n",
              "              style=\"display:none;\">\n",
              "        \n",
              "  <svg xmlns=\"http://www.w3.org/2000/svg\" height=\"24px\"viewBox=\"0 0 24 24\"\n",
              "       width=\"24px\">\n",
              "    <path d=\"M0 0h24v24H0V0z\" fill=\"none\"/>\n",
              "    <path d=\"M18.56 5.44l.94 2.06.94-2.06 2.06-.94-2.06-.94-.94-2.06-.94 2.06-2.06.94zm-11 1L8.5 8.5l.94-2.06 2.06-.94-2.06-.94L8.5 2.5l-.94 2.06-2.06.94zm10 10l.94 2.06.94-2.06 2.06-.94-2.06-.94-.94-2.06-.94 2.06-2.06.94z\"/><path d=\"M17.41 7.96l-1.37-1.37c-.4-.4-.92-.59-1.43-.59-.52 0-1.04.2-1.43.59L10.3 9.45l-7.72 7.72c-.78.78-.78 2.05 0 2.83L4 21.41c.39.39.9.59 1.41.59.51 0 1.02-.2 1.41-.59l7.78-7.78 2.81-2.81c.8-.78.8-2.07 0-2.86zM5.41 20L4 18.59l7.72-7.72 1.47 1.35L5.41 20z\"/>\n",
              "  </svg>\n",
              "      </button>\n",
              "      \n",
              "  <style>\n",
              "    .colab-df-container {\n",
              "      display:flex;\n",
              "      flex-wrap:wrap;\n",
              "      gap: 12px;\n",
              "    }\n",
              "\n",
              "    .colab-df-convert {\n",
              "      background-color: #E8F0FE;\n",
              "      border: none;\n",
              "      border-radius: 50%;\n",
              "      cursor: pointer;\n",
              "      display: none;\n",
              "      fill: #1967D2;\n",
              "      height: 32px;\n",
              "      padding: 0 0 0 0;\n",
              "      width: 32px;\n",
              "    }\n",
              "\n",
              "    .colab-df-convert:hover {\n",
              "      background-color: #E2EBFA;\n",
              "      box-shadow: 0px 1px 2px rgba(60, 64, 67, 0.3), 0px 1px 3px 1px rgba(60, 64, 67, 0.15);\n",
              "      fill: #174EA6;\n",
              "    }\n",
              "\n",
              "    [theme=dark] .colab-df-convert {\n",
              "      background-color: #3B4455;\n",
              "      fill: #D2E3FC;\n",
              "    }\n",
              "\n",
              "    [theme=dark] .colab-df-convert:hover {\n",
              "      background-color: #434B5C;\n",
              "      box-shadow: 0px 1px 3px 1px rgba(0, 0, 0, 0.15);\n",
              "      filter: drop-shadow(0px 1px 2px rgba(0, 0, 0, 0.3));\n",
              "      fill: #FFFFFF;\n",
              "    }\n",
              "  </style>\n",
              "\n",
              "      <script>\n",
              "        const buttonEl =\n",
              "          document.querySelector('#df-b5026714-53ee-46f0-b2c3-206b71fabe95 button.colab-df-convert');\n",
              "        buttonEl.style.display =\n",
              "          google.colab.kernel.accessAllowed ? 'block' : 'none';\n",
              "\n",
              "        async function convertToInteractive(key) {\n",
              "          const element = document.querySelector('#df-b5026714-53ee-46f0-b2c3-206b71fabe95');\n",
              "          const dataTable =\n",
              "            await google.colab.kernel.invokeFunction('convertToInteractive',\n",
              "                                                     [key], {});\n",
              "          if (!dataTable) return;\n",
              "\n",
              "          const docLinkHtml = 'Like what you see? Visit the ' +\n",
              "            '<a target=\"_blank\" href=https://colab.research.google.com/notebooks/data_table.ipynb>data table notebook</a>'\n",
              "            + ' to learn more about interactive tables.';\n",
              "          element.innerHTML = '';\n",
              "          dataTable['output_type'] = 'display_data';\n",
              "          await google.colab.output.renderOutput(dataTable, element);\n",
              "          const docLink = document.createElement('div');\n",
              "          docLink.innerHTML = docLinkHtml;\n",
              "          element.appendChild(docLink);\n",
              "        }\n",
              "      </script>\n",
              "    </div>\n",
              "  </div>\n",
              "  "
            ]
          },
          "metadata": {},
          "execution_count": 40
        }
      ]
    },
    {
      "cell_type": "code",
      "source": [
        "data_X = data_df.drop(['Label'], axis = 1)"
      ],
      "metadata": {
        "id": "xY7x8ocvSH4J"
      },
      "execution_count": 41,
      "outputs": []
    },
    {
      "cell_type": "code",
      "source": [
        "data_X.columns "
      ],
      "metadata": {
        "colab": {
          "base_uri": "https://localhost:8080/"
        },
        "id": "m0Z66Mw1SXU0",
        "outputId": "b29f98ad-ae6f-49cc-d1ac-5ec59f65b4d1"
      },
      "execution_count": 42,
      "outputs": [
        {
          "output_type": "execute_result",
          "data": {
            "text/plain": [
              "Index(['imaging.radiomics.GLCM_autocorr', 'imaging.radiomics.GLCM_clusProm',\n",
              "       'imaging.radiomics.GLCM_clusShade', 'imaging.radiomics.GLCM_clusTend',\n",
              "       'imaging.radiomics.GLCM_contrast', 'imaging.radiomics.GLCM_correl1',\n",
              "       'imaging.radiomics.GLCM_diffEntro', 'imaging.radiomics.GLCM_dissimilar',\n",
              "       'imaging.radiomics.GLCM_energy', 'imaging.radiomics.GLCM_entrop2',\n",
              "       ...\n",
              "       'imaging.radiomics.Wavelet_LLL_stats_mean',\n",
              "       'imaging.radiomics.Wavelet_LLL_stats_median',\n",
              "       'imaging.radiomics.Wavelet_LLL_stats_min',\n",
              "       'imaging.radiomics.Wavelet_LLL_stats_range',\n",
              "       'imaging.radiomics.Wavelet_LLL_stats_rms',\n",
              "       'imaging.radiomics.Wavelet_LLL_stats_skewness',\n",
              "       'imaging.radiomics.Wavelet_LLL_stats_std',\n",
              "       'imaging.radiomics.Wavelet_LLL_stats_totalenergy',\n",
              "       'imaging.radiomics.Wavelet_LLL_stats_uniformity',\n",
              "       'imaging.radiomics.Wavelet_LLL_stats_var'],\n",
              "      dtype='object', length=650)"
            ]
          },
          "metadata": {},
          "execution_count": 42
        }
      ]
    },
    {
      "cell_type": "code",
      "source": [
        "data_X.shape "
      ],
      "metadata": {
        "colab": {
          "base_uri": "https://localhost:8080/"
        },
        "id": "i1NsbDmKSYne",
        "outputId": "27fc74ed-9b0d-4cf0-d06b-ff58bb0e7d53"
      },
      "execution_count": 43,
      "outputs": [
        {
          "output_type": "execute_result",
          "data": {
            "text/plain": [
              "(89, 650)"
            ]
          },
          "metadata": {},
          "execution_count": 43
        }
      ]
    },
    {
      "cell_type": "code",
      "source": [
        "data_y = data_df['Label']"
      ],
      "metadata": {
        "id": "Kg-YAsI4Sduw"
      },
      "execution_count": 44,
      "outputs": []
    },
    {
      "cell_type": "code",
      "source": [
        "data_y.shape "
      ],
      "metadata": {
        "colab": {
          "base_uri": "https://localhost:8080/"
        },
        "id": "zQwhaFrBSgjc",
        "outputId": "381eaefb-ae73-47c5-ef67-936485ed0c94"
      },
      "execution_count": 45,
      "outputs": [
        {
          "output_type": "execute_result",
          "data": {
            "text/plain": [
              "(89,)"
            ]
          },
          "metadata": {},
          "execution_count": 45
        }
      ]
    },
    {
      "cell_type": "code",
      "source": [
        "data_df.isnull().sum().sum()"
      ],
      "metadata": {
        "colab": {
          "base_uri": "https://localhost:8080/"
        },
        "id": "IZKfuHyKSilb",
        "outputId": "20c11f8b-0bde-4898-a0b5-f50344c44407"
      },
      "execution_count": 46,
      "outputs": [
        {
          "output_type": "execute_result",
          "data": {
            "text/plain": [
              "0"
            ]
          },
          "metadata": {},
          "execution_count": 46
        }
      ]
    },
    {
      "cell_type": "code",
      "source": [
        "data_y.unique()"
      ],
      "metadata": {
        "colab": {
          "base_uri": "https://localhost:8080/"
        },
        "id": "zYYZQ-WjSl0H",
        "outputId": "00538509-e8c8-44ee-bd6f-9dbf2f1695e9"
      },
      "execution_count": 47,
      "outputs": [
        {
          "output_type": "execute_result",
          "data": {
            "text/plain": [
              "array(['squamous', 'adeno', 'other'], dtype=object)"
            ]
          },
          "metadata": {},
          "execution_count": 47
        }
      ]
    },
    {
      "cell_type": "code",
      "source": [
        "data_X "
      ],
      "metadata": {
        "colab": {
          "base_uri": "https://localhost:8080/",
          "height": 487
        },
        "id": "_cW362R8Sp46",
        "outputId": "dcfbb699-cf20-4180-9fd6-2c3499c098e8"
      },
      "execution_count": 48,
      "outputs": [
        {
          "output_type": "execute_result",
          "data": {
            "text/plain": [
              "    imaging.radiomics.GLCM_autocorr  imaging.radiomics.GLCM_clusProm  \\\n",
              "0                        974.807775                     1.622693e+04   \n",
              "1                       1481.384832                     5.990974e+04   \n",
              "2                       3872.453374                     4.108418e+09   \n",
              "3                        695.041214                     4.149945e+04   \n",
              "4                        762.350839                     6.832887e+04   \n",
              "..                              ...                              ...   \n",
              "84                      1136.874226                     1.726526e+04   \n",
              "85                       690.874197                     4.733321e+04   \n",
              "86                       601.924490                     6.179012e+03   \n",
              "87                       601.924490                     6.179012e+03   \n",
              "88                       404.275573                     2.867433e+04   \n",
              "\n",
              "    imaging.radiomics.GLCM_clusShade  imaging.radiomics.GLCM_clusTend  \\\n",
              "0                        -485.694214                        20.677451   \n",
              "1                       -1576.604188                        65.516719   \n",
              "2                      -40980.455560                      1374.305720   \n",
              "3                       -1315.773459                        87.294884   \n",
              "4                       -1381.277499                       148.188061   \n",
              "..                               ...                              ...   \n",
              "84                       -508.990915                        40.848166   \n",
              "85                      -1432.032909                       107.520123   \n",
              "86                       -210.953607                        20.484082   \n",
              "87                       -210.953607                        20.484082   \n",
              "88                       -707.032249                        93.849341   \n",
              "\n",
              "    imaging.radiomics.GLCM_contrast  imaging.radiomics.GLCM_correl1  \\\n",
              "0                          2.199042                        0.821098   \n",
              "1                          9.254695                        0.754425   \n",
              "2                         29.367922                        0.960624   \n",
              "3                         10.902911                        0.775198   \n",
              "4                         22.457054                        0.736728   \n",
              "..                              ...                             ...   \n",
              "84                        12.219760                        0.537969   \n",
              "85                        12.172218                        0.792865   \n",
              "86                         2.231344                        0.800474   \n",
              "87                         2.231344                        0.800474   \n",
              "88                        22.308018                        0.618446   \n",
              "\n",
              "    imaging.radiomics.GLCM_diffEntro  imaging.radiomics.GLCM_dissimilar  \\\n",
              "0                           1.080075                           0.734860   \n",
              "1                           1.686171                           1.722073   \n",
              "2                           2.416309                           3.878045   \n",
              "3                           1.851825                           2.009553   \n",
              "4                           2.297417                           3.411370   \n",
              "..                               ...                                ...   \n",
              "84                          2.017602                           2.541419   \n",
              "85                          1.992276                           2.357484   \n",
              "86                          1.212351                           0.864871   \n",
              "87                          1.212351                           0.864871   \n",
              "88                          2.266238                           3.473518   \n",
              "\n",
              "    imaging.radiomics.GLCM_energy  imaging.radiomics.GLCM_entrop2  ...  \\\n",
              "0                        0.161738                        2.561361  ...   \n",
              "1                        0.047312                        4.066880  ...   \n",
              "2                        0.003364                        6.389297  ...   \n",
              "3                        0.034897                        4.583572  ...   \n",
              "4                        0.005689                        5.767177  ...   \n",
              "..                            ...                             ...  ...   \n",
              "84                       0.012917                        4.897015  ...   \n",
              "85                       0.019799                        4.922992  ...   \n",
              "86                       0.093544                        3.260115  ...   \n",
              "87                       0.093544                        3.260115  ...   \n",
              "88                       0.008502                        5.085398  ...   \n",
              "\n",
              "    imaging.radiomics.Wavelet_LLL_stats_mean  \\\n",
              "0                                2859.588978   \n",
              "1                                2789.090292   \n",
              "2                                4730.382935   \n",
              "3                                5711.785210   \n",
              "4                                2495.763162   \n",
              "..                                       ...   \n",
              "84                               2859.108700   \n",
              "85                               5679.682203   \n",
              "86                               2953.654799   \n",
              "87                               2953.654799   \n",
              "88                               2744.516947   \n",
              "\n",
              "    imaging.radiomics.Wavelet_LLL_stats_median  \\\n",
              "0                                  2908.156236   \n",
              "1                                  2895.820234   \n",
              "2                                  5252.020964   \n",
              "3                                  5886.237720   \n",
              "4                                  2577.676304   \n",
              "..                                         ...   \n",
              "84                                 2947.395894   \n",
              "85                                 5844.429702   \n",
              "86                                 2982.771351   \n",
              "87                                 2982.771351   \n",
              "88                                 2825.492940   \n",
              "\n",
              "    imaging.radiomics.Wavelet_LLL_stats_min  \\\n",
              "0                                749.562721   \n",
              "1                                 77.734493   \n",
              "2                                768.520760   \n",
              "3                               4035.371922   \n",
              "4                                728.016080   \n",
              "..                                      ...   \n",
              "84                               899.333940   \n",
              "85                              3969.695656   \n",
              "86                              1308.938860   \n",
              "87                              1308.938860   \n",
              "88                              1492.839890   \n",
              "\n",
              "    imaging.radiomics.Wavelet_LLL_stats_range  \\\n",
              "0                                 2737.841292   \n",
              "1                                 3450.898825   \n",
              "2                                 5846.377098   \n",
              "3                                 2586.389219   \n",
              "4                                 2955.870207   \n",
              "..                                        ...   \n",
              "84                                2488.809180   \n",
              "85                                2325.999258   \n",
              "86                                2335.651107   \n",
              "87                                2335.651107   \n",
              "88                                1983.158830   \n",
              "\n",
              "    imaging.radiomics.Wavelet_LLL_stats_rms  \\\n",
              "0                               2866.720944   \n",
              "1                               2808.211801   \n",
              "2                               4919.140829   \n",
              "3                               5725.580599   \n",
              "4                               2540.403805   \n",
              "..                                      ...   \n",
              "84                              2872.653468   \n",
              "85                              5696.150168   \n",
              "86                              2959.605055   \n",
              "87                              2959.605055   \n",
              "88                              2777.899166   \n",
              "\n",
              "    imaging.radiomics.Wavelet_LLL_stats_skewness  \\\n",
              "0                                      -4.684032   \n",
              "1                                      -2.685867   \n",
              "2                                      -0.778334   \n",
              "3                                      -1.472562   \n",
              "4                                      -0.571742   \n",
              "..                                           ...   \n",
              "84                                     -1.943993   \n",
              "85                                     -1.123228   \n",
              "86                                     -2.456362   \n",
              "87                                     -2.456362   \n",
              "88                                     -0.622212   \n",
              "\n",
              "    imaging.radiomics.Wavelet_LLL_stats_std  \\\n",
              "0                                202.090410   \n",
              "1                                327.154770   \n",
              "2                               1349.678920   \n",
              "3                                397.225995   \n",
              "4                                474.197815   \n",
              "..                                      ...   \n",
              "84                               278.641225   \n",
              "85                               432.854997   \n",
              "86                               187.578235   \n",
              "87                               187.578235   \n",
              "88                               429.690726   \n",
              "\n",
              "    imaging.radiomics.Wavelet_LLL_stats_totalenergy  \\\n",
              "0                                      4.920334e+08   \n",
              "1                                      6.100099e+08   \n",
              "2                                      2.104979e+08   \n",
              "3                                      9.263943e+08   \n",
              "4                                      3.166161e+07   \n",
              "..                                              ...   \n",
              "84                                     1.155299e+08   \n",
              "85                                     2.281936e+08   \n",
              "86                                     1.643343e+09   \n",
              "87                                     1.643343e+09   \n",
              "88                                     5.023587e+09   \n",
              "\n",
              "    imaging.radiomics.Wavelet_LLL_stats_uniformity  \\\n",
              "0                                         0.341563   \n",
              "1                                         0.193098   \n",
              "2                                         0.026267   \n",
              "3                                         0.120999   \n",
              "4                                         0.045411   \n",
              "..                                             ...   \n",
              "84                                        0.099577   \n",
              "85                                        0.077416   \n",
              "86                                        0.253570   \n",
              "87                                        0.253570   \n",
              "88                                        0.049898   \n",
              "\n",
              "    imaging.radiomics.Wavelet_LLL_stats_var  \n",
              "0                              4.084053e+04  \n",
              "1                              1.070302e+05  \n",
              "2                              1.821633e+09  \n",
              "3                              1.577885e+05  \n",
              "4                              2.248636e+05  \n",
              "..                                      ...  \n",
              "84                             7.764093e+04  \n",
              "85                             1.873634e+05  \n",
              "86                             3.518559e+04  \n",
              "87                             3.518559e+04  \n",
              "88                             1.846341e+05  \n",
              "\n",
              "[89 rows x 650 columns]"
            ],
            "text/html": [
              "\n",
              "  <div id=\"df-400adcdf-c92f-4c66-8a8c-f6195dedbc4b\">\n",
              "    <div class=\"colab-df-container\">\n",
              "      <div>\n",
              "<style scoped>\n",
              "    .dataframe tbody tr th:only-of-type {\n",
              "        vertical-align: middle;\n",
              "    }\n",
              "\n",
              "    .dataframe tbody tr th {\n",
              "        vertical-align: top;\n",
              "    }\n",
              "\n",
              "    .dataframe thead th {\n",
              "        text-align: right;\n",
              "    }\n",
              "</style>\n",
              "<table border=\"1\" class=\"dataframe\">\n",
              "  <thead>\n",
              "    <tr style=\"text-align: right;\">\n",
              "      <th></th>\n",
              "      <th>imaging.radiomics.GLCM_autocorr</th>\n",
              "      <th>imaging.radiomics.GLCM_clusProm</th>\n",
              "      <th>imaging.radiomics.GLCM_clusShade</th>\n",
              "      <th>imaging.radiomics.GLCM_clusTend</th>\n",
              "      <th>imaging.radiomics.GLCM_contrast</th>\n",
              "      <th>imaging.radiomics.GLCM_correl1</th>\n",
              "      <th>imaging.radiomics.GLCM_diffEntro</th>\n",
              "      <th>imaging.radiomics.GLCM_dissimilar</th>\n",
              "      <th>imaging.radiomics.GLCM_energy</th>\n",
              "      <th>imaging.radiomics.GLCM_entrop2</th>\n",
              "      <th>...</th>\n",
              "      <th>imaging.radiomics.Wavelet_LLL_stats_mean</th>\n",
              "      <th>imaging.radiomics.Wavelet_LLL_stats_median</th>\n",
              "      <th>imaging.radiomics.Wavelet_LLL_stats_min</th>\n",
              "      <th>imaging.radiomics.Wavelet_LLL_stats_range</th>\n",
              "      <th>imaging.radiomics.Wavelet_LLL_stats_rms</th>\n",
              "      <th>imaging.radiomics.Wavelet_LLL_stats_skewness</th>\n",
              "      <th>imaging.radiomics.Wavelet_LLL_stats_std</th>\n",
              "      <th>imaging.radiomics.Wavelet_LLL_stats_totalenergy</th>\n",
              "      <th>imaging.radiomics.Wavelet_LLL_stats_uniformity</th>\n",
              "      <th>imaging.radiomics.Wavelet_LLL_stats_var</th>\n",
              "    </tr>\n",
              "  </thead>\n",
              "  <tbody>\n",
              "    <tr>\n",
              "      <th>0</th>\n",
              "      <td>974.807775</td>\n",
              "      <td>1.622693e+04</td>\n",
              "      <td>-485.694214</td>\n",
              "      <td>20.677451</td>\n",
              "      <td>2.199042</td>\n",
              "      <td>0.821098</td>\n",
              "      <td>1.080075</td>\n",
              "      <td>0.734860</td>\n",
              "      <td>0.161738</td>\n",
              "      <td>2.561361</td>\n",
              "      <td>...</td>\n",
              "      <td>2859.588978</td>\n",
              "      <td>2908.156236</td>\n",
              "      <td>749.562721</td>\n",
              "      <td>2737.841292</td>\n",
              "      <td>2866.720944</td>\n",
              "      <td>-4.684032</td>\n",
              "      <td>202.090410</td>\n",
              "      <td>4.920334e+08</td>\n",
              "      <td>0.341563</td>\n",
              "      <td>4.084053e+04</td>\n",
              "    </tr>\n",
              "    <tr>\n",
              "      <th>1</th>\n",
              "      <td>1481.384832</td>\n",
              "      <td>5.990974e+04</td>\n",
              "      <td>-1576.604188</td>\n",
              "      <td>65.516719</td>\n",
              "      <td>9.254695</td>\n",
              "      <td>0.754425</td>\n",
              "      <td>1.686171</td>\n",
              "      <td>1.722073</td>\n",
              "      <td>0.047312</td>\n",
              "      <td>4.066880</td>\n",
              "      <td>...</td>\n",
              "      <td>2789.090292</td>\n",
              "      <td>2895.820234</td>\n",
              "      <td>77.734493</td>\n",
              "      <td>3450.898825</td>\n",
              "      <td>2808.211801</td>\n",
              "      <td>-2.685867</td>\n",
              "      <td>327.154770</td>\n",
              "      <td>6.100099e+08</td>\n",
              "      <td>0.193098</td>\n",
              "      <td>1.070302e+05</td>\n",
              "    </tr>\n",
              "    <tr>\n",
              "      <th>2</th>\n",
              "      <td>3872.453374</td>\n",
              "      <td>4.108418e+09</td>\n",
              "      <td>-40980.455560</td>\n",
              "      <td>1374.305720</td>\n",
              "      <td>29.367922</td>\n",
              "      <td>0.960624</td>\n",
              "      <td>2.416309</td>\n",
              "      <td>3.878045</td>\n",
              "      <td>0.003364</td>\n",
              "      <td>6.389297</td>\n",
              "      <td>...</td>\n",
              "      <td>4730.382935</td>\n",
              "      <td>5252.020964</td>\n",
              "      <td>768.520760</td>\n",
              "      <td>5846.377098</td>\n",
              "      <td>4919.140829</td>\n",
              "      <td>-0.778334</td>\n",
              "      <td>1349.678920</td>\n",
              "      <td>2.104979e+08</td>\n",
              "      <td>0.026267</td>\n",
              "      <td>1.821633e+09</td>\n",
              "    </tr>\n",
              "    <tr>\n",
              "      <th>3</th>\n",
              "      <td>695.041214</td>\n",
              "      <td>4.149945e+04</td>\n",
              "      <td>-1315.773459</td>\n",
              "      <td>87.294884</td>\n",
              "      <td>10.902911</td>\n",
              "      <td>0.775198</td>\n",
              "      <td>1.851825</td>\n",
              "      <td>2.009553</td>\n",
              "      <td>0.034897</td>\n",
              "      <td>4.583572</td>\n",
              "      <td>...</td>\n",
              "      <td>5711.785210</td>\n",
              "      <td>5886.237720</td>\n",
              "      <td>4035.371922</td>\n",
              "      <td>2586.389219</td>\n",
              "      <td>5725.580599</td>\n",
              "      <td>-1.472562</td>\n",
              "      <td>397.225995</td>\n",
              "      <td>9.263943e+08</td>\n",
              "      <td>0.120999</td>\n",
              "      <td>1.577885e+05</td>\n",
              "    </tr>\n",
              "    <tr>\n",
              "      <th>4</th>\n",
              "      <td>762.350839</td>\n",
              "      <td>6.832887e+04</td>\n",
              "      <td>-1381.277499</td>\n",
              "      <td>148.188061</td>\n",
              "      <td>22.457054</td>\n",
              "      <td>0.736728</td>\n",
              "      <td>2.297417</td>\n",
              "      <td>3.411370</td>\n",
              "      <td>0.005689</td>\n",
              "      <td>5.767177</td>\n",
              "      <td>...</td>\n",
              "      <td>2495.763162</td>\n",
              "      <td>2577.676304</td>\n",
              "      <td>728.016080</td>\n",
              "      <td>2955.870207</td>\n",
              "      <td>2540.403805</td>\n",
              "      <td>-0.571742</td>\n",
              "      <td>474.197815</td>\n",
              "      <td>3.166161e+07</td>\n",
              "      <td>0.045411</td>\n",
              "      <td>2.248636e+05</td>\n",
              "    </tr>\n",
              "    <tr>\n",
              "      <th>...</th>\n",
              "      <td>...</td>\n",
              "      <td>...</td>\n",
              "      <td>...</td>\n",
              "      <td>...</td>\n",
              "      <td>...</td>\n",
              "      <td>...</td>\n",
              "      <td>...</td>\n",
              "      <td>...</td>\n",
              "      <td>...</td>\n",
              "      <td>...</td>\n",
              "      <td>...</td>\n",
              "      <td>...</td>\n",
              "      <td>...</td>\n",
              "      <td>...</td>\n",
              "      <td>...</td>\n",
              "      <td>...</td>\n",
              "      <td>...</td>\n",
              "      <td>...</td>\n",
              "      <td>...</td>\n",
              "      <td>...</td>\n",
              "      <td>...</td>\n",
              "    </tr>\n",
              "    <tr>\n",
              "      <th>84</th>\n",
              "      <td>1136.874226</td>\n",
              "      <td>1.726526e+04</td>\n",
              "      <td>-508.990915</td>\n",
              "      <td>40.848166</td>\n",
              "      <td>12.219760</td>\n",
              "      <td>0.537969</td>\n",
              "      <td>2.017602</td>\n",
              "      <td>2.541419</td>\n",
              "      <td>0.012917</td>\n",
              "      <td>4.897015</td>\n",
              "      <td>...</td>\n",
              "      <td>2859.108700</td>\n",
              "      <td>2947.395894</td>\n",
              "      <td>899.333940</td>\n",
              "      <td>2488.809180</td>\n",
              "      <td>2872.653468</td>\n",
              "      <td>-1.943993</td>\n",
              "      <td>278.641225</td>\n",
              "      <td>1.155299e+08</td>\n",
              "      <td>0.099577</td>\n",
              "      <td>7.764093e+04</td>\n",
              "    </tr>\n",
              "    <tr>\n",
              "      <th>85</th>\n",
              "      <td>690.874197</td>\n",
              "      <td>4.733321e+04</td>\n",
              "      <td>-1432.032909</td>\n",
              "      <td>107.520123</td>\n",
              "      <td>12.172218</td>\n",
              "      <td>0.792865</td>\n",
              "      <td>1.992276</td>\n",
              "      <td>2.357484</td>\n",
              "      <td>0.019799</td>\n",
              "      <td>4.922992</td>\n",
              "      <td>...</td>\n",
              "      <td>5679.682203</td>\n",
              "      <td>5844.429702</td>\n",
              "      <td>3969.695656</td>\n",
              "      <td>2325.999258</td>\n",
              "      <td>5696.150168</td>\n",
              "      <td>-1.123228</td>\n",
              "      <td>432.854997</td>\n",
              "      <td>2.281936e+08</td>\n",
              "      <td>0.077416</td>\n",
              "      <td>1.873634e+05</td>\n",
              "    </tr>\n",
              "    <tr>\n",
              "      <th>86</th>\n",
              "      <td>601.924490</td>\n",
              "      <td>6.179012e+03</td>\n",
              "      <td>-210.953607</td>\n",
              "      <td>20.484082</td>\n",
              "      <td>2.231344</td>\n",
              "      <td>0.800474</td>\n",
              "      <td>1.212351</td>\n",
              "      <td>0.864871</td>\n",
              "      <td>0.093544</td>\n",
              "      <td>3.260115</td>\n",
              "      <td>...</td>\n",
              "      <td>2953.654799</td>\n",
              "      <td>2982.771351</td>\n",
              "      <td>1308.938860</td>\n",
              "      <td>2335.651107</td>\n",
              "      <td>2959.605055</td>\n",
              "      <td>-2.456362</td>\n",
              "      <td>187.578235</td>\n",
              "      <td>1.643343e+09</td>\n",
              "      <td>0.253570</td>\n",
              "      <td>3.518559e+04</td>\n",
              "    </tr>\n",
              "    <tr>\n",
              "      <th>87</th>\n",
              "      <td>601.924490</td>\n",
              "      <td>6.179012e+03</td>\n",
              "      <td>-210.953607</td>\n",
              "      <td>20.484082</td>\n",
              "      <td>2.231344</td>\n",
              "      <td>0.800474</td>\n",
              "      <td>1.212351</td>\n",
              "      <td>0.864871</td>\n",
              "      <td>0.093544</td>\n",
              "      <td>3.260115</td>\n",
              "      <td>...</td>\n",
              "      <td>2953.654799</td>\n",
              "      <td>2982.771351</td>\n",
              "      <td>1308.938860</td>\n",
              "      <td>2335.651107</td>\n",
              "      <td>2959.605055</td>\n",
              "      <td>-2.456362</td>\n",
              "      <td>187.578235</td>\n",
              "      <td>1.643343e+09</td>\n",
              "      <td>0.253570</td>\n",
              "      <td>3.518559e+04</td>\n",
              "    </tr>\n",
              "    <tr>\n",
              "      <th>88</th>\n",
              "      <td>404.275573</td>\n",
              "      <td>2.867433e+04</td>\n",
              "      <td>-707.032249</td>\n",
              "      <td>93.849341</td>\n",
              "      <td>22.308018</td>\n",
              "      <td>0.618446</td>\n",
              "      <td>2.266238</td>\n",
              "      <td>3.473518</td>\n",
              "      <td>0.008502</td>\n",
              "      <td>5.085398</td>\n",
              "      <td>...</td>\n",
              "      <td>2744.516947</td>\n",
              "      <td>2825.492940</td>\n",
              "      <td>1492.839890</td>\n",
              "      <td>1983.158830</td>\n",
              "      <td>2777.899166</td>\n",
              "      <td>-0.622212</td>\n",
              "      <td>429.690726</td>\n",
              "      <td>5.023587e+09</td>\n",
              "      <td>0.049898</td>\n",
              "      <td>1.846341e+05</td>\n",
              "    </tr>\n",
              "  </tbody>\n",
              "</table>\n",
              "<p>89 rows × 650 columns</p>\n",
              "</div>\n",
              "      <button class=\"colab-df-convert\" onclick=\"convertToInteractive('df-400adcdf-c92f-4c66-8a8c-f6195dedbc4b')\"\n",
              "              title=\"Convert this dataframe to an interactive table.\"\n",
              "              style=\"display:none;\">\n",
              "        \n",
              "  <svg xmlns=\"http://www.w3.org/2000/svg\" height=\"24px\"viewBox=\"0 0 24 24\"\n",
              "       width=\"24px\">\n",
              "    <path d=\"M0 0h24v24H0V0z\" fill=\"none\"/>\n",
              "    <path d=\"M18.56 5.44l.94 2.06.94-2.06 2.06-.94-2.06-.94-.94-2.06-.94 2.06-2.06.94zm-11 1L8.5 8.5l.94-2.06 2.06-.94-2.06-.94L8.5 2.5l-.94 2.06-2.06.94zm10 10l.94 2.06.94-2.06 2.06-.94-2.06-.94-.94-2.06-.94 2.06-2.06.94z\"/><path d=\"M17.41 7.96l-1.37-1.37c-.4-.4-.92-.59-1.43-.59-.52 0-1.04.2-1.43.59L10.3 9.45l-7.72 7.72c-.78.78-.78 2.05 0 2.83L4 21.41c.39.39.9.59 1.41.59.51 0 1.02-.2 1.41-.59l7.78-7.78 2.81-2.81c.8-.78.8-2.07 0-2.86zM5.41 20L4 18.59l7.72-7.72 1.47 1.35L5.41 20z\"/>\n",
              "  </svg>\n",
              "      </button>\n",
              "      \n",
              "  <style>\n",
              "    .colab-df-container {\n",
              "      display:flex;\n",
              "      flex-wrap:wrap;\n",
              "      gap: 12px;\n",
              "    }\n",
              "\n",
              "    .colab-df-convert {\n",
              "      background-color: #E8F0FE;\n",
              "      border: none;\n",
              "      border-radius: 50%;\n",
              "      cursor: pointer;\n",
              "      display: none;\n",
              "      fill: #1967D2;\n",
              "      height: 32px;\n",
              "      padding: 0 0 0 0;\n",
              "      width: 32px;\n",
              "    }\n",
              "\n",
              "    .colab-df-convert:hover {\n",
              "      background-color: #E2EBFA;\n",
              "      box-shadow: 0px 1px 2px rgba(60, 64, 67, 0.3), 0px 1px 3px 1px rgba(60, 64, 67, 0.15);\n",
              "      fill: #174EA6;\n",
              "    }\n",
              "\n",
              "    [theme=dark] .colab-df-convert {\n",
              "      background-color: #3B4455;\n",
              "      fill: #D2E3FC;\n",
              "    }\n",
              "\n",
              "    [theme=dark] .colab-df-convert:hover {\n",
              "      background-color: #434B5C;\n",
              "      box-shadow: 0px 1px 3px 1px rgba(0, 0, 0, 0.15);\n",
              "      filter: drop-shadow(0px 1px 2px rgba(0, 0, 0, 0.3));\n",
              "      fill: #FFFFFF;\n",
              "    }\n",
              "  </style>\n",
              "\n",
              "      <script>\n",
              "        const buttonEl =\n",
              "          document.querySelector('#df-400adcdf-c92f-4c66-8a8c-f6195dedbc4b button.colab-df-convert');\n",
              "        buttonEl.style.display =\n",
              "          google.colab.kernel.accessAllowed ? 'block' : 'none';\n",
              "\n",
              "        async function convertToInteractive(key) {\n",
              "          const element = document.querySelector('#df-400adcdf-c92f-4c66-8a8c-f6195dedbc4b');\n",
              "          const dataTable =\n",
              "            await google.colab.kernel.invokeFunction('convertToInteractive',\n",
              "                                                     [key], {});\n",
              "          if (!dataTable) return;\n",
              "\n",
              "          const docLinkHtml = 'Like what you see? Visit the ' +\n",
              "            '<a target=\"_blank\" href=https://colab.research.google.com/notebooks/data_table.ipynb>data table notebook</a>'\n",
              "            + ' to learn more about interactive tables.';\n",
              "          element.innerHTML = '';\n",
              "          dataTable['output_type'] = 'display_data';\n",
              "          await google.colab.output.renderOutput(dataTable, element);\n",
              "          const docLink = document.createElement('div');\n",
              "          docLink.innerHTML = docLinkHtml;\n",
              "          element.appendChild(docLink);\n",
              "        }\n",
              "      </script>\n",
              "    </div>\n",
              "  </div>\n",
              "  "
            ]
          },
          "metadata": {},
          "execution_count": 48
        }
      ]
    },
    {
      "cell_type": "markdown",
      "source": [
        "Label encoding"
      ],
      "metadata": {
        "id": "m_33cVtBpNrv"
      }
    },
    {
      "cell_type": "code",
      "source": [
        "from sklearn.preprocessing import LabelEncoder "
      ],
      "metadata": {
        "id": "ZtLQo0xTSuKP"
      },
      "execution_count": 49,
      "outputs": []
    },
    {
      "cell_type": "code",
      "source": [
        "le = LabelEncoder()"
      ],
      "metadata": {
        "id": "9Lr1-HvcV8-V"
      },
      "execution_count": 50,
      "outputs": []
    },
    {
      "cell_type": "code",
      "source": [
        "data_y_trans = le.fit_transform(data_y)\n"
      ],
      "metadata": {
        "id": "l32ds-KaWBEt"
      },
      "execution_count": 51,
      "outputs": []
    },
    {
      "cell_type": "code",
      "source": [
        "data_X"
      ],
      "metadata": {
        "colab": {
          "base_uri": "https://localhost:8080/",
          "height": 487
        },
        "id": "bGQlGNLBWGsd",
        "outputId": "5e10d8ce-ec3e-4799-dd09-43c3daaa2abb"
      },
      "execution_count": 52,
      "outputs": [
        {
          "output_type": "execute_result",
          "data": {
            "text/plain": [
              "    imaging.radiomics.GLCM_autocorr  imaging.radiomics.GLCM_clusProm  \\\n",
              "0                        974.807775                     1.622693e+04   \n",
              "1                       1481.384832                     5.990974e+04   \n",
              "2                       3872.453374                     4.108418e+09   \n",
              "3                        695.041214                     4.149945e+04   \n",
              "4                        762.350839                     6.832887e+04   \n",
              "..                              ...                              ...   \n",
              "84                      1136.874226                     1.726526e+04   \n",
              "85                       690.874197                     4.733321e+04   \n",
              "86                       601.924490                     6.179012e+03   \n",
              "87                       601.924490                     6.179012e+03   \n",
              "88                       404.275573                     2.867433e+04   \n",
              "\n",
              "    imaging.radiomics.GLCM_clusShade  imaging.radiomics.GLCM_clusTend  \\\n",
              "0                        -485.694214                        20.677451   \n",
              "1                       -1576.604188                        65.516719   \n",
              "2                      -40980.455560                      1374.305720   \n",
              "3                       -1315.773459                        87.294884   \n",
              "4                       -1381.277499                       148.188061   \n",
              "..                               ...                              ...   \n",
              "84                       -508.990915                        40.848166   \n",
              "85                      -1432.032909                       107.520123   \n",
              "86                       -210.953607                        20.484082   \n",
              "87                       -210.953607                        20.484082   \n",
              "88                       -707.032249                        93.849341   \n",
              "\n",
              "    imaging.radiomics.GLCM_contrast  imaging.radiomics.GLCM_correl1  \\\n",
              "0                          2.199042                        0.821098   \n",
              "1                          9.254695                        0.754425   \n",
              "2                         29.367922                        0.960624   \n",
              "3                         10.902911                        0.775198   \n",
              "4                         22.457054                        0.736728   \n",
              "..                              ...                             ...   \n",
              "84                        12.219760                        0.537969   \n",
              "85                        12.172218                        0.792865   \n",
              "86                         2.231344                        0.800474   \n",
              "87                         2.231344                        0.800474   \n",
              "88                        22.308018                        0.618446   \n",
              "\n",
              "    imaging.radiomics.GLCM_diffEntro  imaging.radiomics.GLCM_dissimilar  \\\n",
              "0                           1.080075                           0.734860   \n",
              "1                           1.686171                           1.722073   \n",
              "2                           2.416309                           3.878045   \n",
              "3                           1.851825                           2.009553   \n",
              "4                           2.297417                           3.411370   \n",
              "..                               ...                                ...   \n",
              "84                          2.017602                           2.541419   \n",
              "85                          1.992276                           2.357484   \n",
              "86                          1.212351                           0.864871   \n",
              "87                          1.212351                           0.864871   \n",
              "88                          2.266238                           3.473518   \n",
              "\n",
              "    imaging.radiomics.GLCM_energy  imaging.radiomics.GLCM_entrop2  ...  \\\n",
              "0                        0.161738                        2.561361  ...   \n",
              "1                        0.047312                        4.066880  ...   \n",
              "2                        0.003364                        6.389297  ...   \n",
              "3                        0.034897                        4.583572  ...   \n",
              "4                        0.005689                        5.767177  ...   \n",
              "..                            ...                             ...  ...   \n",
              "84                       0.012917                        4.897015  ...   \n",
              "85                       0.019799                        4.922992  ...   \n",
              "86                       0.093544                        3.260115  ...   \n",
              "87                       0.093544                        3.260115  ...   \n",
              "88                       0.008502                        5.085398  ...   \n",
              "\n",
              "    imaging.radiomics.Wavelet_LLL_stats_mean  \\\n",
              "0                                2859.588978   \n",
              "1                                2789.090292   \n",
              "2                                4730.382935   \n",
              "3                                5711.785210   \n",
              "4                                2495.763162   \n",
              "..                                       ...   \n",
              "84                               2859.108700   \n",
              "85                               5679.682203   \n",
              "86                               2953.654799   \n",
              "87                               2953.654799   \n",
              "88                               2744.516947   \n",
              "\n",
              "    imaging.radiomics.Wavelet_LLL_stats_median  \\\n",
              "0                                  2908.156236   \n",
              "1                                  2895.820234   \n",
              "2                                  5252.020964   \n",
              "3                                  5886.237720   \n",
              "4                                  2577.676304   \n",
              "..                                         ...   \n",
              "84                                 2947.395894   \n",
              "85                                 5844.429702   \n",
              "86                                 2982.771351   \n",
              "87                                 2982.771351   \n",
              "88                                 2825.492940   \n",
              "\n",
              "    imaging.radiomics.Wavelet_LLL_stats_min  \\\n",
              "0                                749.562721   \n",
              "1                                 77.734493   \n",
              "2                                768.520760   \n",
              "3                               4035.371922   \n",
              "4                                728.016080   \n",
              "..                                      ...   \n",
              "84                               899.333940   \n",
              "85                              3969.695656   \n",
              "86                              1308.938860   \n",
              "87                              1308.938860   \n",
              "88                              1492.839890   \n",
              "\n",
              "    imaging.radiomics.Wavelet_LLL_stats_range  \\\n",
              "0                                 2737.841292   \n",
              "1                                 3450.898825   \n",
              "2                                 5846.377098   \n",
              "3                                 2586.389219   \n",
              "4                                 2955.870207   \n",
              "..                                        ...   \n",
              "84                                2488.809180   \n",
              "85                                2325.999258   \n",
              "86                                2335.651107   \n",
              "87                                2335.651107   \n",
              "88                                1983.158830   \n",
              "\n",
              "    imaging.radiomics.Wavelet_LLL_stats_rms  \\\n",
              "0                               2866.720944   \n",
              "1                               2808.211801   \n",
              "2                               4919.140829   \n",
              "3                               5725.580599   \n",
              "4                               2540.403805   \n",
              "..                                      ...   \n",
              "84                              2872.653468   \n",
              "85                              5696.150168   \n",
              "86                              2959.605055   \n",
              "87                              2959.605055   \n",
              "88                              2777.899166   \n",
              "\n",
              "    imaging.radiomics.Wavelet_LLL_stats_skewness  \\\n",
              "0                                      -4.684032   \n",
              "1                                      -2.685867   \n",
              "2                                      -0.778334   \n",
              "3                                      -1.472562   \n",
              "4                                      -0.571742   \n",
              "..                                           ...   \n",
              "84                                     -1.943993   \n",
              "85                                     -1.123228   \n",
              "86                                     -2.456362   \n",
              "87                                     -2.456362   \n",
              "88                                     -0.622212   \n",
              "\n",
              "    imaging.radiomics.Wavelet_LLL_stats_std  \\\n",
              "0                                202.090410   \n",
              "1                                327.154770   \n",
              "2                               1349.678920   \n",
              "3                                397.225995   \n",
              "4                                474.197815   \n",
              "..                                      ...   \n",
              "84                               278.641225   \n",
              "85                               432.854997   \n",
              "86                               187.578235   \n",
              "87                               187.578235   \n",
              "88                               429.690726   \n",
              "\n",
              "    imaging.radiomics.Wavelet_LLL_stats_totalenergy  \\\n",
              "0                                      4.920334e+08   \n",
              "1                                      6.100099e+08   \n",
              "2                                      2.104979e+08   \n",
              "3                                      9.263943e+08   \n",
              "4                                      3.166161e+07   \n",
              "..                                              ...   \n",
              "84                                     1.155299e+08   \n",
              "85                                     2.281936e+08   \n",
              "86                                     1.643343e+09   \n",
              "87                                     1.643343e+09   \n",
              "88                                     5.023587e+09   \n",
              "\n",
              "    imaging.radiomics.Wavelet_LLL_stats_uniformity  \\\n",
              "0                                         0.341563   \n",
              "1                                         0.193098   \n",
              "2                                         0.026267   \n",
              "3                                         0.120999   \n",
              "4                                         0.045411   \n",
              "..                                             ...   \n",
              "84                                        0.099577   \n",
              "85                                        0.077416   \n",
              "86                                        0.253570   \n",
              "87                                        0.253570   \n",
              "88                                        0.049898   \n",
              "\n",
              "    imaging.radiomics.Wavelet_LLL_stats_var  \n",
              "0                              4.084053e+04  \n",
              "1                              1.070302e+05  \n",
              "2                              1.821633e+09  \n",
              "3                              1.577885e+05  \n",
              "4                              2.248636e+05  \n",
              "..                                      ...  \n",
              "84                             7.764093e+04  \n",
              "85                             1.873634e+05  \n",
              "86                             3.518559e+04  \n",
              "87                             3.518559e+04  \n",
              "88                             1.846341e+05  \n",
              "\n",
              "[89 rows x 650 columns]"
            ],
            "text/html": [
              "\n",
              "  <div id=\"df-293da1c4-f469-44da-93c9-d26adc30ff51\">\n",
              "    <div class=\"colab-df-container\">\n",
              "      <div>\n",
              "<style scoped>\n",
              "    .dataframe tbody tr th:only-of-type {\n",
              "        vertical-align: middle;\n",
              "    }\n",
              "\n",
              "    .dataframe tbody tr th {\n",
              "        vertical-align: top;\n",
              "    }\n",
              "\n",
              "    .dataframe thead th {\n",
              "        text-align: right;\n",
              "    }\n",
              "</style>\n",
              "<table border=\"1\" class=\"dataframe\">\n",
              "  <thead>\n",
              "    <tr style=\"text-align: right;\">\n",
              "      <th></th>\n",
              "      <th>imaging.radiomics.GLCM_autocorr</th>\n",
              "      <th>imaging.radiomics.GLCM_clusProm</th>\n",
              "      <th>imaging.radiomics.GLCM_clusShade</th>\n",
              "      <th>imaging.radiomics.GLCM_clusTend</th>\n",
              "      <th>imaging.radiomics.GLCM_contrast</th>\n",
              "      <th>imaging.radiomics.GLCM_correl1</th>\n",
              "      <th>imaging.radiomics.GLCM_diffEntro</th>\n",
              "      <th>imaging.radiomics.GLCM_dissimilar</th>\n",
              "      <th>imaging.radiomics.GLCM_energy</th>\n",
              "      <th>imaging.radiomics.GLCM_entrop2</th>\n",
              "      <th>...</th>\n",
              "      <th>imaging.radiomics.Wavelet_LLL_stats_mean</th>\n",
              "      <th>imaging.radiomics.Wavelet_LLL_stats_median</th>\n",
              "      <th>imaging.radiomics.Wavelet_LLL_stats_min</th>\n",
              "      <th>imaging.radiomics.Wavelet_LLL_stats_range</th>\n",
              "      <th>imaging.radiomics.Wavelet_LLL_stats_rms</th>\n",
              "      <th>imaging.radiomics.Wavelet_LLL_stats_skewness</th>\n",
              "      <th>imaging.radiomics.Wavelet_LLL_stats_std</th>\n",
              "      <th>imaging.radiomics.Wavelet_LLL_stats_totalenergy</th>\n",
              "      <th>imaging.radiomics.Wavelet_LLL_stats_uniformity</th>\n",
              "      <th>imaging.radiomics.Wavelet_LLL_stats_var</th>\n",
              "    </tr>\n",
              "  </thead>\n",
              "  <tbody>\n",
              "    <tr>\n",
              "      <th>0</th>\n",
              "      <td>974.807775</td>\n",
              "      <td>1.622693e+04</td>\n",
              "      <td>-485.694214</td>\n",
              "      <td>20.677451</td>\n",
              "      <td>2.199042</td>\n",
              "      <td>0.821098</td>\n",
              "      <td>1.080075</td>\n",
              "      <td>0.734860</td>\n",
              "      <td>0.161738</td>\n",
              "      <td>2.561361</td>\n",
              "      <td>...</td>\n",
              "      <td>2859.588978</td>\n",
              "      <td>2908.156236</td>\n",
              "      <td>749.562721</td>\n",
              "      <td>2737.841292</td>\n",
              "      <td>2866.720944</td>\n",
              "      <td>-4.684032</td>\n",
              "      <td>202.090410</td>\n",
              "      <td>4.920334e+08</td>\n",
              "      <td>0.341563</td>\n",
              "      <td>4.084053e+04</td>\n",
              "    </tr>\n",
              "    <tr>\n",
              "      <th>1</th>\n",
              "      <td>1481.384832</td>\n",
              "      <td>5.990974e+04</td>\n",
              "      <td>-1576.604188</td>\n",
              "      <td>65.516719</td>\n",
              "      <td>9.254695</td>\n",
              "      <td>0.754425</td>\n",
              "      <td>1.686171</td>\n",
              "      <td>1.722073</td>\n",
              "      <td>0.047312</td>\n",
              "      <td>4.066880</td>\n",
              "      <td>...</td>\n",
              "      <td>2789.090292</td>\n",
              "      <td>2895.820234</td>\n",
              "      <td>77.734493</td>\n",
              "      <td>3450.898825</td>\n",
              "      <td>2808.211801</td>\n",
              "      <td>-2.685867</td>\n",
              "      <td>327.154770</td>\n",
              "      <td>6.100099e+08</td>\n",
              "      <td>0.193098</td>\n",
              "      <td>1.070302e+05</td>\n",
              "    </tr>\n",
              "    <tr>\n",
              "      <th>2</th>\n",
              "      <td>3872.453374</td>\n",
              "      <td>4.108418e+09</td>\n",
              "      <td>-40980.455560</td>\n",
              "      <td>1374.305720</td>\n",
              "      <td>29.367922</td>\n",
              "      <td>0.960624</td>\n",
              "      <td>2.416309</td>\n",
              "      <td>3.878045</td>\n",
              "      <td>0.003364</td>\n",
              "      <td>6.389297</td>\n",
              "      <td>...</td>\n",
              "      <td>4730.382935</td>\n",
              "      <td>5252.020964</td>\n",
              "      <td>768.520760</td>\n",
              "      <td>5846.377098</td>\n",
              "      <td>4919.140829</td>\n",
              "      <td>-0.778334</td>\n",
              "      <td>1349.678920</td>\n",
              "      <td>2.104979e+08</td>\n",
              "      <td>0.026267</td>\n",
              "      <td>1.821633e+09</td>\n",
              "    </tr>\n",
              "    <tr>\n",
              "      <th>3</th>\n",
              "      <td>695.041214</td>\n",
              "      <td>4.149945e+04</td>\n",
              "      <td>-1315.773459</td>\n",
              "      <td>87.294884</td>\n",
              "      <td>10.902911</td>\n",
              "      <td>0.775198</td>\n",
              "      <td>1.851825</td>\n",
              "      <td>2.009553</td>\n",
              "      <td>0.034897</td>\n",
              "      <td>4.583572</td>\n",
              "      <td>...</td>\n",
              "      <td>5711.785210</td>\n",
              "      <td>5886.237720</td>\n",
              "      <td>4035.371922</td>\n",
              "      <td>2586.389219</td>\n",
              "      <td>5725.580599</td>\n",
              "      <td>-1.472562</td>\n",
              "      <td>397.225995</td>\n",
              "      <td>9.263943e+08</td>\n",
              "      <td>0.120999</td>\n",
              "      <td>1.577885e+05</td>\n",
              "    </tr>\n",
              "    <tr>\n",
              "      <th>4</th>\n",
              "      <td>762.350839</td>\n",
              "      <td>6.832887e+04</td>\n",
              "      <td>-1381.277499</td>\n",
              "      <td>148.188061</td>\n",
              "      <td>22.457054</td>\n",
              "      <td>0.736728</td>\n",
              "      <td>2.297417</td>\n",
              "      <td>3.411370</td>\n",
              "      <td>0.005689</td>\n",
              "      <td>5.767177</td>\n",
              "      <td>...</td>\n",
              "      <td>2495.763162</td>\n",
              "      <td>2577.676304</td>\n",
              "      <td>728.016080</td>\n",
              "      <td>2955.870207</td>\n",
              "      <td>2540.403805</td>\n",
              "      <td>-0.571742</td>\n",
              "      <td>474.197815</td>\n",
              "      <td>3.166161e+07</td>\n",
              "      <td>0.045411</td>\n",
              "      <td>2.248636e+05</td>\n",
              "    </tr>\n",
              "    <tr>\n",
              "      <th>...</th>\n",
              "      <td>...</td>\n",
              "      <td>...</td>\n",
              "      <td>...</td>\n",
              "      <td>...</td>\n",
              "      <td>...</td>\n",
              "      <td>...</td>\n",
              "      <td>...</td>\n",
              "      <td>...</td>\n",
              "      <td>...</td>\n",
              "      <td>...</td>\n",
              "      <td>...</td>\n",
              "      <td>...</td>\n",
              "      <td>...</td>\n",
              "      <td>...</td>\n",
              "      <td>...</td>\n",
              "      <td>...</td>\n",
              "      <td>...</td>\n",
              "      <td>...</td>\n",
              "      <td>...</td>\n",
              "      <td>...</td>\n",
              "      <td>...</td>\n",
              "    </tr>\n",
              "    <tr>\n",
              "      <th>84</th>\n",
              "      <td>1136.874226</td>\n",
              "      <td>1.726526e+04</td>\n",
              "      <td>-508.990915</td>\n",
              "      <td>40.848166</td>\n",
              "      <td>12.219760</td>\n",
              "      <td>0.537969</td>\n",
              "      <td>2.017602</td>\n",
              "      <td>2.541419</td>\n",
              "      <td>0.012917</td>\n",
              "      <td>4.897015</td>\n",
              "      <td>...</td>\n",
              "      <td>2859.108700</td>\n",
              "      <td>2947.395894</td>\n",
              "      <td>899.333940</td>\n",
              "      <td>2488.809180</td>\n",
              "      <td>2872.653468</td>\n",
              "      <td>-1.943993</td>\n",
              "      <td>278.641225</td>\n",
              "      <td>1.155299e+08</td>\n",
              "      <td>0.099577</td>\n",
              "      <td>7.764093e+04</td>\n",
              "    </tr>\n",
              "    <tr>\n",
              "      <th>85</th>\n",
              "      <td>690.874197</td>\n",
              "      <td>4.733321e+04</td>\n",
              "      <td>-1432.032909</td>\n",
              "      <td>107.520123</td>\n",
              "      <td>12.172218</td>\n",
              "      <td>0.792865</td>\n",
              "      <td>1.992276</td>\n",
              "      <td>2.357484</td>\n",
              "      <td>0.019799</td>\n",
              "      <td>4.922992</td>\n",
              "      <td>...</td>\n",
              "      <td>5679.682203</td>\n",
              "      <td>5844.429702</td>\n",
              "      <td>3969.695656</td>\n",
              "      <td>2325.999258</td>\n",
              "      <td>5696.150168</td>\n",
              "      <td>-1.123228</td>\n",
              "      <td>432.854997</td>\n",
              "      <td>2.281936e+08</td>\n",
              "      <td>0.077416</td>\n",
              "      <td>1.873634e+05</td>\n",
              "    </tr>\n",
              "    <tr>\n",
              "      <th>86</th>\n",
              "      <td>601.924490</td>\n",
              "      <td>6.179012e+03</td>\n",
              "      <td>-210.953607</td>\n",
              "      <td>20.484082</td>\n",
              "      <td>2.231344</td>\n",
              "      <td>0.800474</td>\n",
              "      <td>1.212351</td>\n",
              "      <td>0.864871</td>\n",
              "      <td>0.093544</td>\n",
              "      <td>3.260115</td>\n",
              "      <td>...</td>\n",
              "      <td>2953.654799</td>\n",
              "      <td>2982.771351</td>\n",
              "      <td>1308.938860</td>\n",
              "      <td>2335.651107</td>\n",
              "      <td>2959.605055</td>\n",
              "      <td>-2.456362</td>\n",
              "      <td>187.578235</td>\n",
              "      <td>1.643343e+09</td>\n",
              "      <td>0.253570</td>\n",
              "      <td>3.518559e+04</td>\n",
              "    </tr>\n",
              "    <tr>\n",
              "      <th>87</th>\n",
              "      <td>601.924490</td>\n",
              "      <td>6.179012e+03</td>\n",
              "      <td>-210.953607</td>\n",
              "      <td>20.484082</td>\n",
              "      <td>2.231344</td>\n",
              "      <td>0.800474</td>\n",
              "      <td>1.212351</td>\n",
              "      <td>0.864871</td>\n",
              "      <td>0.093544</td>\n",
              "      <td>3.260115</td>\n",
              "      <td>...</td>\n",
              "      <td>2953.654799</td>\n",
              "      <td>2982.771351</td>\n",
              "      <td>1308.938860</td>\n",
              "      <td>2335.651107</td>\n",
              "      <td>2959.605055</td>\n",
              "      <td>-2.456362</td>\n",
              "      <td>187.578235</td>\n",
              "      <td>1.643343e+09</td>\n",
              "      <td>0.253570</td>\n",
              "      <td>3.518559e+04</td>\n",
              "    </tr>\n",
              "    <tr>\n",
              "      <th>88</th>\n",
              "      <td>404.275573</td>\n",
              "      <td>2.867433e+04</td>\n",
              "      <td>-707.032249</td>\n",
              "      <td>93.849341</td>\n",
              "      <td>22.308018</td>\n",
              "      <td>0.618446</td>\n",
              "      <td>2.266238</td>\n",
              "      <td>3.473518</td>\n",
              "      <td>0.008502</td>\n",
              "      <td>5.085398</td>\n",
              "      <td>...</td>\n",
              "      <td>2744.516947</td>\n",
              "      <td>2825.492940</td>\n",
              "      <td>1492.839890</td>\n",
              "      <td>1983.158830</td>\n",
              "      <td>2777.899166</td>\n",
              "      <td>-0.622212</td>\n",
              "      <td>429.690726</td>\n",
              "      <td>5.023587e+09</td>\n",
              "      <td>0.049898</td>\n",
              "      <td>1.846341e+05</td>\n",
              "    </tr>\n",
              "  </tbody>\n",
              "</table>\n",
              "<p>89 rows × 650 columns</p>\n",
              "</div>\n",
              "      <button class=\"colab-df-convert\" onclick=\"convertToInteractive('df-293da1c4-f469-44da-93c9-d26adc30ff51')\"\n",
              "              title=\"Convert this dataframe to an interactive table.\"\n",
              "              style=\"display:none;\">\n",
              "        \n",
              "  <svg xmlns=\"http://www.w3.org/2000/svg\" height=\"24px\"viewBox=\"0 0 24 24\"\n",
              "       width=\"24px\">\n",
              "    <path d=\"M0 0h24v24H0V0z\" fill=\"none\"/>\n",
              "    <path d=\"M18.56 5.44l.94 2.06.94-2.06 2.06-.94-2.06-.94-.94-2.06-.94 2.06-2.06.94zm-11 1L8.5 8.5l.94-2.06 2.06-.94-2.06-.94L8.5 2.5l-.94 2.06-2.06.94zm10 10l.94 2.06.94-2.06 2.06-.94-2.06-.94-.94-2.06-.94 2.06-2.06.94z\"/><path d=\"M17.41 7.96l-1.37-1.37c-.4-.4-.92-.59-1.43-.59-.52 0-1.04.2-1.43.59L10.3 9.45l-7.72 7.72c-.78.78-.78 2.05 0 2.83L4 21.41c.39.39.9.59 1.41.59.51 0 1.02-.2 1.41-.59l7.78-7.78 2.81-2.81c.8-.78.8-2.07 0-2.86zM5.41 20L4 18.59l7.72-7.72 1.47 1.35L5.41 20z\"/>\n",
              "  </svg>\n",
              "      </button>\n",
              "      \n",
              "  <style>\n",
              "    .colab-df-container {\n",
              "      display:flex;\n",
              "      flex-wrap:wrap;\n",
              "      gap: 12px;\n",
              "    }\n",
              "\n",
              "    .colab-df-convert {\n",
              "      background-color: #E8F0FE;\n",
              "      border: none;\n",
              "      border-radius: 50%;\n",
              "      cursor: pointer;\n",
              "      display: none;\n",
              "      fill: #1967D2;\n",
              "      height: 32px;\n",
              "      padding: 0 0 0 0;\n",
              "      width: 32px;\n",
              "    }\n",
              "\n",
              "    .colab-df-convert:hover {\n",
              "      background-color: #E2EBFA;\n",
              "      box-shadow: 0px 1px 2px rgba(60, 64, 67, 0.3), 0px 1px 3px 1px rgba(60, 64, 67, 0.15);\n",
              "      fill: #174EA6;\n",
              "    }\n",
              "\n",
              "    [theme=dark] .colab-df-convert {\n",
              "      background-color: #3B4455;\n",
              "      fill: #D2E3FC;\n",
              "    }\n",
              "\n",
              "    [theme=dark] .colab-df-convert:hover {\n",
              "      background-color: #434B5C;\n",
              "      box-shadow: 0px 1px 3px 1px rgba(0, 0, 0, 0.15);\n",
              "      filter: drop-shadow(0px 1px 2px rgba(0, 0, 0, 0.3));\n",
              "      fill: #FFFFFF;\n",
              "    }\n",
              "  </style>\n",
              "\n",
              "      <script>\n",
              "        const buttonEl =\n",
              "          document.querySelector('#df-293da1c4-f469-44da-93c9-d26adc30ff51 button.colab-df-convert');\n",
              "        buttonEl.style.display =\n",
              "          google.colab.kernel.accessAllowed ? 'block' : 'none';\n",
              "\n",
              "        async function convertToInteractive(key) {\n",
              "          const element = document.querySelector('#df-293da1c4-f469-44da-93c9-d26adc30ff51');\n",
              "          const dataTable =\n",
              "            await google.colab.kernel.invokeFunction('convertToInteractive',\n",
              "                                                     [key], {});\n",
              "          if (!dataTable) return;\n",
              "\n",
              "          const docLinkHtml = 'Like what you see? Visit the ' +\n",
              "            '<a target=\"_blank\" href=https://colab.research.google.com/notebooks/data_table.ipynb>data table notebook</a>'\n",
              "            + ' to learn more about interactive tables.';\n",
              "          element.innerHTML = '';\n",
              "          dataTable['output_type'] = 'display_data';\n",
              "          await google.colab.output.renderOutput(dataTable, element);\n",
              "          const docLink = document.createElement('div');\n",
              "          docLink.innerHTML = docLinkHtml;\n",
              "          element.appendChild(docLink);\n",
              "        }\n",
              "      </script>\n",
              "    </div>\n",
              "  </div>\n",
              "  "
            ]
          },
          "metadata": {},
          "execution_count": 52
        }
      ]
    },
    {
      "cell_type": "code",
      "source": [
        "df2 = pd.DataFrame(data_X)  "
      ],
      "metadata": {
        "id": "AQmLs5oZZBJX"
      },
      "execution_count": 53,
      "outputs": []
    },
    {
      "cell_type": "code",
      "source": [
        "df2.to_csv(r'my_data.csv', index=False)"
      ],
      "metadata": {
        "id": "inC1c6myZ658"
      },
      "execution_count": 54,
      "outputs": []
    },
    {
      "cell_type": "code",
      "source": [
        "from sklearn.model_selection import train_test_split\n",
        "X_train, X_test,y_train, y_test = train_test_split(data_X, data_y_trans, train_size = 0.7)"
      ],
      "metadata": {
        "id": "mrdZHJ0WOGAW"
      },
      "execution_count": 55,
      "outputs": []
    },
    {
      "cell_type": "code",
      "source": [
        "from sklearn.preprocessing import StandardScaler \n",
        "ss = StandardScaler()\n",
        "X_train_std = ss.fit_transform(X_train)\n",
        "X_test_std = ss.fit_transform(X_test)"
      ],
      "metadata": {
        "id": "ZaY6hGTXcDt4"
      },
      "execution_count": 56,
      "outputs": []
    },
    {
      "cell_type": "markdown",
      "source": [
        "FEATURE SELECTION"
      ],
      "metadata": {
        "id": "IaBRVekPmMZi"
      }
    },
    {
      "cell_type": "markdown",
      "source": [
        "Recursive Feature Elimination (RFE)"
      ],
      "metadata": {
        "id": "7MVwVLWwWG_z"
      }
    },
    {
      "cell_type": "code",
      "source": [
        "import pandas as pd\n",
        "import numpy as np\n",
        "import matplotlib.pyplot as plt\n",
        "import seaborn as sns\n",
        "%matplotlib inline\n",
        "from sklearn import datasets\n",
        "from sklearn.model_selection import train_test_split\n",
        "from sklearn.linear_model import LinearRegression"
      ],
      "metadata": {
        "id": "wYaFHU2XKmph"
      },
      "execution_count": 57,
      "outputs": []
    },
    {
      "cell_type": "code",
      "source": [
        "from sklearn.feature_selection import RFE\n",
        "from sklearn.feature_selection import RFECV\n",
        "\n",
        "lin_reg=LinearRegression()\n",
        "\n",
        "rfe_mod=RFE(lin_reg)\n",
        "myvalues=rfe_mod.fit(data_X, data_y_trans)\n",
        "myvalues.support_\n",
        "myvalues.ranking_\n",
        "\n",
        "\n",
        "print(\"Num of features: %s\"%(myvalues.n_features_))\n",
        "print(\"Selected features:%s\"%(myvalues.support_))\n",
        "print(\"Feature Ranking :%s\"%(myvalues.ranking_))"
      ],
      "metadata": {
        "id": "302df53wKnSm",
        "outputId": "cf21a53b-d8f9-4b5d-896d-4bea1fe73c90",
        "colab": {
          "base_uri": "https://localhost:8080/"
        }
      },
      "execution_count": 58,
      "outputs": [
        {
          "output_type": "stream",
          "name": "stdout",
          "text": [
            "Num of features: 325\n",
            "Selected features:[ True  True  True  True  True False False  True False False False False\n",
            " False False False False False False  True False  True  True  True False\n",
            "  True  True False False  True False  True False False False False  True\n",
            "  True  True  True  True False False False False  True  True  True  True\n",
            "  True False False False False  True  True  True  True  True False False\n",
            " False False  True  True  True False  True False False False False  True\n",
            "  True  True  True  True False False False False  True  True  True False\n",
            "  True False False False False  True  True  True  True  True False False\n",
            " False  True False  True  True False  True False False False False  True\n",
            "  True  True  True  True False False False False  True  True  True  True\n",
            "  True False False False False  True  True  True False  True False False\n",
            " False  True  True  True  True False  True False False False  True  True\n",
            "  True  True  True  True False False False False  True  True  True False\n",
            "  True False False False False  True  True  True  True  True False False\n",
            " False  True False  True  True False  True False False False False  True\n",
            "  True  True  True  True False False False  True  True  True  True False\n",
            "  True False False False False False  True  True  True  True False False\n",
            " False False False  True  True False  True False False  True  True False\n",
            "  True False False  True False False  True False False False False  True\n",
            " False  True  True  True False  True  True  True  True False False  True\n",
            "  True  True  True  True  True False False  True  True  True  True False\n",
            " False False  True False  True  True  True  True  True  True  True False\n",
            " False  True  True  True  True  True  True False False False False False\n",
            " False False False False False False False False  True False  True  True\n",
            "  True  True False  True False False  True False False False False False\n",
            " False  True  True  True False False  True  True False  True False  True\n",
            " False  True  True  True  True  True False False False False False False\n",
            " False False False False False False False False  True False  True  True\n",
            "  True  True  True  True False False  True False False  True False False\n",
            " False False  True  True False False  True  True  True False  True  True\n",
            " False  True  True  True  True  True  True False False False False False\n",
            " False False False False False False False False  True False  True  True\n",
            "  True  True  True  True False False  True False False  True False False\n",
            " False  True  True False False False  True  True  True  True  True  True\n",
            " False  True  True  True  True  True  True False False  True False False\n",
            " False False False False False False False False  True False  True  True\n",
            "  True  True False  True False False  True False False  True False False\n",
            " False False  True  True  True  True  True  True  True False  True  True\n",
            " False  True  True  True  True  True  True False False  True False  True\n",
            " False False False False False False False False  True False  True  True\n",
            "  True  True  True  True False False  True False False  True False False\n",
            " False  True  True  True False False  True  True  True False  True  True\n",
            " False  True  True  True  True  True  True False False False False  True\n",
            " False False False False False False False False  True False  True  True\n",
            "  True  True  True  True False False  True False False  True False False\n",
            " False  True  True  True  True  True  True  True  True  True  True  True\n",
            " False  True  True  True  True  True  True False False False False False\n",
            " False False False False False False False False  True False  True  True\n",
            "  True  True False  True False False  True False False  True False False\n",
            " False  True  True  True  True  True  True  True  True  True  True  True\n",
            " False  True  True  True  True  True  True False False False False False\n",
            " False False False False False False False False  True False  True  True\n",
            "  True  True False  True False False  True False False False False False\n",
            "  True  True  True False  True  True  True  True  True  True  True False\n",
            " False False]\n",
            "Feature Ranking :[  1   1   1   1   1 187  30   1 284  17 127 118 157 186 308 310 243 165\n",
            "   1 167   1   1   1 311   1   1 265 135   1 222   1  23 309  80 100   1\n",
            "   1   1   1   1  78 220  61  51   1   1   1   1   1 275 293  33  38   1\n",
            "   1   1   1   1 254 152 261 106   1   1   1  14   1 182 257  54  59   1\n",
            "   1   1   1   1  97 109 278 247   1   1   1  46   1 105 145  42  82   1\n",
            "   1   1   1   1 159 170  29   1  19   1   1   6   1 154 134 241 252   1\n",
            "   1   1   1   1 244 263  25  76   1   1   1   1   1 161 126 116 150   1\n",
            "   1   1 110   1 227 233 236   1   1   1   1  63   1 196 248  92   1   1\n",
            "   1   1   1   1 188 200  74  12   1   1   1   9   1 219 215 216 172   1\n",
            "   1   1   1   1 259 253  47   1  52   1   1  60   1 175 169 174 111   1\n",
            "   1   1   1   1 213 237   8   1   1   1   1  62   1 238 242 158 104  20\n",
            "   1   1   1   1 239 245  31  34  58   1   1  68   1 204 191   1   1  37\n",
            "   1 274 322   1 129 250   1 323 119 193  55   1 101   1   1   1 133   1\n",
            "   1   1   1 128 102   1   1   1   1   1   1 112  98   1   1   1   1 295\n",
            "  35  56   1  67   1   1   1   1   1   1   1 235 251   1   1   1   1   1\n",
            "   1 142 123  85 225  84 201 199 203 120 326 312 163 198   1  57   1   1\n",
            "   1   1  13   1 189 290   1 208 223   2 298 280  70   1   1   1 307 269\n",
            "   1   1  91   1  94   1 228   1   1   1   1   1 197 160  75  32 130  65\n",
            " 117 108 232 113 303 270 255  81   1  95   1   1   1   1   1   1 139 283\n",
            "   1  93 144   1 286 262  86  69   1   1 177  22   1   1   1  77   1   1\n",
            " 146   1   1   1   1   1   1 151 121  79 176  66 224 221 132  40 287 231\n",
            " 240  44   1  89   1   1   1   1   1   1 164 276   1 156 210   1 282 281\n",
            "  96   1   1  15   7  49   1   1   1   1   1   1 209   1   1   1   1   1\n",
            "   1 202  39   1 292  88 168 149 153 122 324 268 304  64   1  90   1   1\n",
            "   1   1  43   1 155 289   1 115 192   1 299 316  87  28   1   1   1   1\n",
            "   1   1   1 103   1   1 294   1   1   1   1   1   1 185  41   1 266   1\n",
            " 131 124 141  36 273 183 138 190   1   4   1   1   1   1   1   1 277 319\n",
            "   1 180 184   1 320 314   5   1   1   1  24   3   1   1   1  73   1   1\n",
            " 178   1   1   1   1   1   1  21  45  53 194   1 147 136 271  50 321 313\n",
            " 256 206   1  27   1   1   1   1   1   1 207 291   1 148 166   1 302  72\n",
            "  11   1   1   1   1   1   1   1   1   1   1   1 162   1   1   1   1   1\n",
            "   1 140 217  16 258 234 226 229 212 114 300 272 315 205   1 230   1   1\n",
            "   1   1  18   1 181 318   1 218 214   1 325  71 211   1   1   1   1   1\n",
            "   1   1   1   1   1   1 246   1   1   1   1   1   1 171 264  48 285 249\n",
            " 143 137 173 179 305 301 195 107   1 296   1   1   1   1  10   1 288 306\n",
            "   1 125 267 279 317 297   1   1   1  26   1   1   1   1   1   1   1  99\n",
            " 260  83]\n"
          ]
        }
      ]
    },
    {
      "cell_type": "code",
      "source": [
        "myvalues.n_features_"
      ],
      "metadata": {
        "id": "uFMjOMhQLa-o",
        "outputId": "c9e7747e-b3b0-4a8d-cf97-33c11b48a772",
        "colab": {
          "base_uri": "https://localhost:8080/"
        }
      },
      "execution_count": 59,
      "outputs": [
        {
          "output_type": "execute_result",
          "data": {
            "text/plain": [
              "325"
            ]
          },
          "metadata": {},
          "execution_count": 59
        }
      ]
    },
    {
      "cell_type": "code",
      "source": [],
      "metadata": {
        "id": "Y-GHJ-GTL3b0"
      },
      "execution_count": 59,
      "outputs": []
    },
    {
      "cell_type": "code",
      "source": [
        "feature_importance_std = pd.Series(myvalues.ranking_, index=data_X.columns)\n",
        "feature_importance_std.nlargest(20).plot(kind='bar', title='Standardised Dataset Feature Selection using Recursive Feature Elimination')"
      ],
      "metadata": {
        "id": "Z8ty4qs584ae",
        "outputId": "144b289f-4950-4c42-d6ae-0713c0b90db5",
        "colab": {
          "base_uri": "https://localhost:8080/",
          "height": 616
        }
      },
      "execution_count": 60,
      "outputs": [
        {
          "output_type": "execute_result",
          "data": {
            "text/plain": [
              "<matplotlib.axes._subplots.AxesSubplot at 0x7fc51aef0460>"
            ]
          },
          "metadata": {},
          "execution_count": 60
        },
        {
          "output_type": "display_data",
          "data": {
            "text/plain": [
              "<Figure size 432x288 with 1 Axes>"
            ],
            "image/png": "[encoded data removed]"
          },
          "metadata": {
            "needs_background": "light"
          }
        }
      ]
    },
    {
      "cell_type": "code",
      "source": [
        "feature_importance_std.nlargest(20)"
      ],
      "metadata": {
        "id": "W1S-8tQuMmfc",
        "outputId": "7bbd5106-1683-48e3-fa63-74b18c42f930",
        "colab": {
          "base_uri": "https://localhost:8080/"
        }
      },
      "execution_count": 61,
      "outputs": [
        {
          "output_type": "execute_result",
          "data": {
            "text/plain": [
              "imaging.radiomics.Wavelet_HHH_glcm_invDiffmomnor              326\n",
              "imaging.radiomics.Wavelet_LLH_rlgl_shortRunLowGrayLevEmpha    325\n",
              "imaging.radiomics.Wavelet_HLL_glcm_invDiffmomnor              324\n",
              "imaging.radiomics.RLGL_shortRunLowGrayLevEmpha                323\n",
              "imaging.radiomics.RLGL_lowGrayLevelRunEmphasis                322\n",
              "imaging.radiomics.Wavelet_LHL_glcm_invDiffmomnor              321\n",
              "imaging.radiomics.Wavelet_LHH_rlgl_shortRunLowGrayLevEmpha    320\n",
              "imaging.radiomics.Wavelet_LHH_rlgl_lowGrayLevelRunEmphasis    319\n",
              "imaging.radiomics.Wavelet_LLH_rlgl_lowGrayLevelRunEmphasis    318\n",
              "imaging.radiomics.Wavelet_LLL_rlgl_shortRunLowGrayLevEmpha    317\n",
              "imaging.radiomics.Wavelet_HLL_stats_energy                    316\n",
              "imaging.radiomics.Wavelet_LLH_glcm_inverseVar                 315\n",
              "imaging.radiomics.Wavelet_LHH_stats_energy                    314\n",
              "imaging.radiomics.Wavelet_LHL_glcm_invDiffnorm                313\n",
              "imaging.radiomics.Wavelet_HHH_glcm_invDiffnorm                312\n",
              "imaging.radiomics.GLSZM_highIntensityLarteAreaEmp             311\n",
              "imaging.radiomics.GLCM_invDiffnorm                            310\n",
              "imaging.radiomics.GLSZM_zonePercentage                        309\n",
              "imaging.radiomics.GLCM_invDiffmomnor                          308\n",
              "imaging.radiomics.Wavelet_HHH_stats_mean                      307\n",
              "dtype: int64"
            ]
          },
          "metadata": {},
          "execution_count": 61
        }
      ]
    },
    {
      "cell_type": "code",
      "source": [
        "data_new_20features_X = data_X[['imaging.radiomics.Wavelet_HHH_glcm_invDiffmomnor',\n",
        "'imaging.radiomics.Wavelet_LLH_rlgl_shortRunLowGrayLevEmpha',\n",
        "'imaging.radiomics.Wavelet_HLL_glcm_invDiffmomnor',\n",
        "'imaging.radiomics.RLGL_shortRunLowGrayLevEmpha',\n",
        "'imaging.radiomics.RLGL_lowGrayLevelRunEmphasis',\n",
        "'imaging.radiomics.Wavelet_LHL_glcm_invDiffmomnor',\n",
        "'imaging.radiomics.Wavelet_LHH_rlgl_shortRunLowGrayLevEmpha',\n",
        "'imaging.radiomics.Wavelet_LHH_rlgl_lowGrayLevelRunEmphasis',\n",
        "'imaging.radiomics.Wavelet_LLH_rlgl_lowGrayLevelRunEmphasis',\n",
        "'imaging.radiomics.Wavelet_LLL_rlgl_shortRunLowGrayLevEmpha',\n",
        "'imaging.radiomics.Wavelet_HLL_stats_energy',\n",
        "'imaging.radiomics.Wavelet_LLH_glcm_inverseVar',\n",
        "'imaging.radiomics.Wavelet_LHH_stats_energy',\n",
        "'imaging.radiomics.Wavelet_LHL_glcm_invDiffnorm',\n",
        "'imaging.radiomics.Wavelet_HHH_glcm_invDiffnorm',\n",
        "'imaging.radiomics.GLSZM_highIntensityLarteAreaEmp',\n",
        "'imaging.radiomics.GLCM_invDiffnorm',\n",
        "'imaging.radiomics.GLSZM_zonePercentage',\n",
        "'imaging.radiomics.GLCM_invDiffmomnor',\n",
        "'imaging.radiomics.Wavelet_HHH_stats_mean']]"
      ],
      "metadata": {
        "id": "97C-CtzKRfFe"
      },
      "execution_count": 62,
      "outputs": []
    },
    {
      "cell_type": "code",
      "source": [
        "from sklearn.model_selection import train_test_split\n",
        "X_train_20, X_test_20, y_train_20, y_test_20 = train_test_split(data_new_20features_X, data_y_trans, train_size = 0.8, random_state=26)"
      ],
      "metadata": {
        "id": "gyDp8nmb9YO5"
      },
      "execution_count": 63,
      "outputs": []
    },
    {
      "cell_type": "code",
      "source": [
        "from sklearn.preprocessing import StandardScaler \n",
        "ss_20 = StandardScaler()\n",
        "X_train_std_20 = ss_20.fit_transform(X_train_20)\n",
        "X_test_std_20 = ss_20.fit_transform(X_test_20)"
      ],
      "metadata": {
        "id": "XR8nf1hpeMYN"
      },
      "execution_count": 64,
      "outputs": []
    },
    {
      "cell_type": "markdown",
      "source": [
        "Random forest"
      ],
      "metadata": {
        "id": "VGYijZvKeZSN"
      }
    },
    {
      "cell_type": "code",
      "source": [
        "from sklearn.ensemble import RandomForestClassifier\n",
        "rf = RandomForestClassifier(random_state=56)\n",
        "rf.fit(X_train_std_20, y_train_20)"
      ],
      "metadata": {
        "id": "M0Nu1SSleghf",
        "outputId": "9ba33667-fbdf-4551-c630-b2bf49668ba6",
        "colab": {
          "base_uri": "https://localhost:8080/"
        }
      },
      "execution_count": 65,
      "outputs": [
        {
          "output_type": "execute_result",
          "data": {
            "text/plain": [
              "RandomForestClassifier(random_state=56)"
            ]
          },
          "metadata": {},
          "execution_count": 65
        }
      ]
    },
    {
      "cell_type": "code",
      "source": [
        "from sklearn.metrics import accuracy_score "
      ],
      "metadata": {
        "id": "t7cAA8_wfi0W"
      },
      "execution_count": 67,
      "outputs": []
    },
    {
      "cell_type": "code",
      "source": [
        "from sklearn.metrics import classification_report \n",
        "from sklearn.metrics import confusion_matrix"
      ],
      "metadata": {
        "id": "y3NdR-gff1Mr"
      },
      "execution_count": 69,
      "outputs": []
    },
    {
      "cell_type": "code",
      "source": [
        "from sklearn.model_selection import cross_val_score"
      ],
      "metadata": {
        "id": "_AQ7VAZrbyhW"
      },
      "execution_count": 73,
      "outputs": []
    },
    {
      "cell_type": "code",
      "source": [
        "from sklearn.model_selection import cross_validate"
      ],
      "metadata": {
        "id": "gcRG9YczcJFL"
      },
      "execution_count": 74,
      "outputs": []
    },
    {
      "cell_type": "code",
      "source": [
        "from sklearn.model_selection import cross_val_predict\n",
        "from sklearn.metrics import confusion_matrix\n",
        "y_pred = cross_val_predict(rf, data_new_20features_X, data_y_trans, cv=10)\n",
        "conf_mat = confusion_matrix(data_y_trans, y_pred)"
      ],
      "metadata": {
        "id": "Az3aC-99g-4S"
      },
      "execution_count": 76,
      "outputs": []
    },
    {
      "cell_type": "code",
      "source": [
        "print(conf_mat)"
      ],
      "metadata": {
        "id": "B6lEba_vhyka",
        "colab": {
          "base_uri": "https://localhost:8080/"
        },
        "outputId": "7cec26f4-b47e-4991-d8ab-b84e0b2658ed"
      },
      "execution_count": 77,
      "outputs": [
        {
          "output_type": "stream",
          "name": "stdout",
          "text": [
            "[[41  0  1]\n",
            " [ 0 12  0]\n",
            " [ 1  0 34]]\n"
          ]
        }
      ]
    },
    {
      "cell_type": "code",
      "source": [
        "print(\"Classification Report for Random Forest: \\n\", classification_report(data_y_trans,y_pred))"
      ],
      "metadata": {
        "id": "Ue3TuN23heeL",
        "colab": {
          "base_uri": "https://localhost:8080/"
        },
        "outputId": "bc1707c8-90da-47b7-e623-50b5ef96696d"
      },
      "execution_count": 78,
      "outputs": [
        {
          "output_type": "stream",
          "name": "stdout",
          "text": [
            "Classification Report for Random Forest: \n",
            "               precision    recall  f1-score   support\n",
            "\n",
            "           0       0.98      0.98      0.98        42\n",
            "           1       1.00      1.00      1.00        12\n",
            "           2       0.97      0.97      0.97        35\n",
            "\n",
            "    accuracy                           0.98        89\n",
            "   macro avg       0.98      0.98      0.98        89\n",
            "weighted avg       0.98      0.98      0.98        89\n",
            "\n"
          ]
        }
      ]
    },
    {
      "cell_type": "code",
      "source": [
        "import matplotlib.pyplot as plt"
      ],
      "metadata": {
        "id": "PnJqrF75k8Lc"
      },
      "execution_count": 81,
      "outputs": []
    },
    {
      "cell_type": "code",
      "source": [
        "y_score = cross_val_predict(rf, data_new_20features_X, data_y_trans, cv=2 ,method='predict_proba')\n",
        "\n",
        "fpr = dict()\n",
        "tpr = dict()\n",
        "roc_auc = dict()\n",
        "for i in range(3):\n",
        "    fpr[i], tpr[i], _ = roc_curve(y_bin[:, i], y_score[:, i])\n",
        "    roc_auc[i] = auc(fpr[i], tpr[i])\n",
        "colors = cycle(['blue', 'red', 'green','magenta'])\n",
        "list_class = ['squamous','largecell','others','adeno']\n",
        "for i, color in zip(range(3), colors):\n",
        "    plt.plot(fpr[i], tpr[i], color=color, lw=lw,\n",
        "             label='ROC curve of class {0} (area = {1:0.2f})'\n",
        "             ''.format(list_class[i], roc_auc[i]))\n",
        "plt.plot([0, 1], [0, 1], 'k--', lw=lw)\n",
        "plt.xlim([-0.05, 1.0])\n",
        "plt.ylim([0.0, 1.05])\n",
        "plt.xlabel('False Positive Rate')\n",
        "plt.ylabel('True Positive Rate')\n",
        "# plt.title('Receiver operating characteristic for multi-class data')\n",
        "plt.legend(loc=\"lower right\")\n",
        "plt.show()"
      ],
      "metadata": {
        "id": "UQ_fJuwOkc_h",
        "colab": {
          "base_uri": "https://localhost:8080/",
          "height": 279
        },
        "outputId": "79c9608d-88c3-40c1-ab49-35775b0dd1ab"
      },
      "execution_count": 83,
      "outputs": [
        {
          "output_type": "display_data",
          "data": {
            "text/plain": [
              "<Figure size 432x288 with 1 Axes>"
            ],
            "image/png": "[encoded data removed]"
          },
          "metadata": {
            "needs_background": "light"
          }
        }
      ]
    },
    {
      "cell_type": "markdown",
      "source": [
        "svm"
      ],
      "metadata": {
        "id": "lZo3iGbemIDI"
      }
    },
    {
      "cell_type": "code",
      "source": [
        "from sklearn.svm import SVC\n",
        "\n",
        "svm_rbf = SVC(gamma=4, C=1)"
      ],
      "metadata": {
        "id": "YFjVZ8Qjl1ga"
      },
      "execution_count": 84,
      "outputs": []
    },
    {
      "cell_type": "code",
      "source": [
        "from sklearn.model_selection import cross_val_predict\n",
        "from sklearn.metrics import confusion_matrix\n",
        "y_pred = cross_val_predict(svm_rbf, data_new_20features_X, data_y_trans, cv=10)\n",
        "conf_mat = confusion_matrix(data_y_trans, y_pred)"
      ],
      "metadata": {
        "id": "vrd-YEMPmHBy"
      },
      "execution_count": 85,
      "outputs": []
    },
    {
      "cell_type": "code",
      "source": [
        "print(\"Classification Report for Random Forest: \\n\", classification_report(data_y_trans,y_pred))"
      ],
      "metadata": {
        "id": "AYePNR5TmUVs",
        "colab": {
          "base_uri": "https://localhost:8080/"
        },
        "outputId": "ea1fd0ab-cdad-4fef-c0e4-5a04cad707ad"
      },
      "execution_count": 86,
      "outputs": [
        {
          "output_type": "stream",
          "name": "stdout",
          "text": [
            "Classification Report for Random Forest: \n",
            "               precision    recall  f1-score   support\n",
            "\n",
            "           0       0.93      0.90      0.92        42\n",
            "           1       1.00      1.00      1.00        12\n",
            "           2       0.89      0.91      0.90        35\n",
            "\n",
            "    accuracy                           0.92        89\n",
            "   macro avg       0.94      0.94      0.94        89\n",
            "weighted avg       0.92      0.92      0.92        89\n",
            "\n"
          ]
        }
      ]
    },
    {
      "cell_type": "markdown",
      "source": [
        "knn"
      ],
      "metadata": {
        "id": "-srW6xmfmngj"
      }
    },
    {
      "cell_type": "code",
      "source": [
        "from sklearn.neighbors import KNeighborsClassifier\n",
        "\n",
        "knn = KNeighborsClassifier(3) "
      ],
      "metadata": {
        "id": "BwF9mvFpmXLV"
      },
      "execution_count": 87,
      "outputs": []
    },
    {
      "cell_type": "code",
      "source": [
        "from sklearn.model_selection import cross_val_predict\n",
        "from sklearn.metrics import confusion_matrix\n",
        "y_pred = cross_val_predict(knn, data_new_20features_X, data_y_trans, cv=10)\n",
        "conf_mat = confusion_matrix(data_y_trans, y_pred)"
      ],
      "metadata": {
        "id": "CIe3uu01mihJ"
      },
      "execution_count": 88,
      "outputs": []
    },
    {
      "cell_type": "code",
      "source": [
        "print(\"Classification Report for knn: \\n\", classification_report(data_y_trans,y_pred))"
      ],
      "metadata": {
        "id": "Jc8xPKsdmmKx",
        "colab": {
          "base_uri": "https://localhost:8080/"
        },
        "outputId": "d391bbe4-4345-44ed-b9a7-877e6a619202"
      },
      "execution_count": 89,
      "outputs": [
        {
          "output_type": "stream",
          "name": "stdout",
          "text": [
            "Classification Report for knn: \n",
            "               precision    recall  f1-score   support\n",
            "\n",
            "           0       0.68      0.76      0.72        42\n",
            "           1       0.67      0.67      0.67        12\n",
            "           2       0.80      0.69      0.74        35\n",
            "\n",
            "    accuracy                           0.72        89\n",
            "   macro avg       0.72      0.70      0.71        89\n",
            "weighted avg       0.73      0.72      0.72        89\n",
            "\n"
          ]
        }
      ]
    },
    {
      "cell_type": "markdown",
      "source": [
        "ROC Curve"
      ],
      "metadata": {
        "id": "CaVzfwfQiHfT"
      }
    },
    {
      "cell_type": "code",
      "source": [
        "y_score = cross_val_predict(knn, data_new_20features_X, data_y_trans, cv=2 ,method='predict_proba')\n",
        "\n",
        "fpr = dict()\n",
        "tpr = dict()\n",
        "roc_auc = dict()\n",
        "for i in range(3):\n",
        "    fpr[i], tpr[i], _ = roc_curve(y_bin[:, i], y_score[:, i])\n",
        "    roc_auc[i] = auc(fpr[i], tpr[i])\n",
        "colors = cycle(['blue', 'red', 'green','magenta'])\n",
        "list_class = ['squamous','largecell','others','adeno']\n",
        "for i, color in zip(range(3), colors):\n",
        "    plt.plot(fpr[i], tpr[i], color=color, lw=lw,\n",
        "             label='ROC curve of class {0} (area = {1:0.2f})'\n",
        "             ''.format(list_class[i], roc_auc[i]))\n",
        "plt.plot([0, 1], [0, 1], 'k--', lw=lw)\n",
        "plt.xlim([-0.05, 1.0])\n",
        "plt.ylim([0.0, 1.05])\n",
        "plt.xlabel('False Positive Rate')\n",
        "plt.ylabel('True Positive Rate')\n",
        "# plt.title('Receiver operating characteristic for multi-class data')\n",
        "plt.legend(loc=\"lower right\")\n",
        "plt.show()"
      ],
      "metadata": {
        "id": "KE-rCZ9xiJcv",
        "outputId": "b595d0b7-2f94-4224-b566-74c66fe5ee6f",
        "colab": {
          "base_uri": "https://localhost:8080/",
          "height": 279
        }
      },
      "execution_count": 90,
      "outputs": [
        {
          "output_type": "display_data",
          "data": {
            "text/plain": [
              "<Figure size 432x288 with 1 Axes>"
            ],
            "image/png": "[encoded data removed]"
          },
          "metadata": {
            "needs_background": "light"
          }
        }
      ]
    },
    {
      "cell_type": "markdown",
      "source": [
        "GradientBoostingClassifier"
      ],
      "metadata": {
        "id": "TWAGTg7BgdhI"
      }
    },
    {
      "cell_type": "code",
      "source": [
        "from sklearn.ensemble import GradientBoostingClassifier"
      ],
      "metadata": {
        "id": "eNUHwu8Dgj9Y"
      },
      "execution_count": 91,
      "outputs": []
    },
    {
      "cell_type": "code",
      "source": [
        "gradient_boost = GradientBoostingClassifier(random_state=56)"
      ],
      "metadata": {
        "id": "KsdFGo_bnNUh"
      },
      "execution_count": 92,
      "outputs": []
    },
    {
      "cell_type": "code",
      "source": [
        "from sklearn.model_selection import cross_val_predict\n",
        "from sklearn.metrics import confusion_matrix\n",
        "y_pred = cross_val_predict(gradient_boost, data_new_20features_X, data_y_trans, cv=10)\n",
        "conf_mat = confusion_matrix(data_y_trans, y_pred)"
      ],
      "metadata": {
        "id": "rDrFJtkxnKeA"
      },
      "execution_count": 93,
      "outputs": []
    },
    {
      "cell_type": "code",
      "source": [
        "print(\"Classification Report for xgboost: \\n\", classification_report(data_y_trans,y_pred))"
      ],
      "metadata": {
        "id": "wUpsEHJmnVuH",
        "colab": {
          "base_uri": "https://localhost:8080/"
        },
        "outputId": "e8e75f16-a213-4a5b-d0f1-94a552cbd1ef"
      },
      "execution_count": 94,
      "outputs": [
        {
          "output_type": "stream",
          "name": "stdout",
          "text": [
            "Classification Report for xgboost: \n",
            "               precision    recall  f1-score   support\n",
            "\n",
            "           0       0.93      0.98      0.95        42\n",
            "           1       0.92      1.00      0.96        12\n",
            "           2       1.00      0.91      0.96        35\n",
            "\n",
            "    accuracy                           0.96        89\n",
            "   macro avg       0.95      0.96      0.96        89\n",
            "weighted avg       0.96      0.96      0.96        89\n",
            "\n"
          ]
        }
      ]
    },
    {
      "cell_type": "markdown",
      "source": [
        "ROC"
      ],
      "metadata": {
        "id": "rb7836LeXxBH"
      }
    },
    {
      "cell_type": "code",
      "source": [
        "y_score = cross_val_predict(gradient_boost, data_new_20features_X, data_y_trans, cv=2 ,method='predict_proba')\n",
        "\n",
        "fpr = dict()\n",
        "tpr = dict()\n",
        "roc_auc = dict()\n",
        "for i in range(3):\n",
        "    fpr[i], tpr[i], _ = roc_curve(y_bin[:, i], y_score[:, i])\n",
        "    roc_auc[i] = auc(fpr[i], tpr[i])\n",
        "colors = cycle(['blue', 'red', 'green','magenta'])\n",
        "list_class = ['squamous','largecell','others','adeno']\n",
        "for i, color in zip(range(3), colors):\n",
        "    plt.plot(fpr[i], tpr[i], color=color, lw=lw,\n",
        "             label='ROC curve of class {0} (area = {1:0.2f})'\n",
        "             ''.format(list_class[i], roc_auc[i]))\n",
        "plt.plot([0, 1], [0, 1], 'k--', lw=lw)\n",
        "plt.xlim([-0.05, 1.0])\n",
        "plt.ylim([0.0, 1.05])\n",
        "plt.xlabel('False Positive Rate')\n",
        "plt.ylabel('True Positive Rate')\n",
        "# plt.title('Receiver operating characteristic for multi-class data')\n",
        "plt.legend(loc=\"lower right\")\n",
        "plt.show()"
      ],
      "metadata": {
        "id": "uIYEG1_1XzaL",
        "outputId": "cc9616d7-1b5d-43e9-ccc6-89add5d469b2",
        "colab": {
          "base_uri": "https://localhost:8080/",
          "height": 279
        }
      },
      "execution_count": 95,
      "outputs": [
        {
          "output_type": "display_data",
          "data": {
            "text/plain": [
              "<Figure size 432x288 with 1 Axes>"
            ],
            "image/png": "[encoded data removed]"
          },
          "metadata": {
            "needs_background": "light"
          }
        }
      ]
    }
  ]
}