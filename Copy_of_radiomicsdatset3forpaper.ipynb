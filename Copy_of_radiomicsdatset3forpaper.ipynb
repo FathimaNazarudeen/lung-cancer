{
  "nbformat": 4,
  "nbformat_minor": 0,
  "metadata": {
    "colab": {
      "provenance": [],
      "include_colab_link": true
    },
    "kernelspec": {
      "name": "python3",
      "display_name": "Python 3"
    },
    "language_info": {
      "name": "python"
    }
  },
  "cells": [
    {
      "cell_type": "markdown",
      "metadata": {
        "id": "view-in-github",
        "colab_type": "text"
      },
      "source": [
        "<a href=\"https://colab.research.google.com/github/FathimaNazarudeen/lung-cancer/blob/main/Copy_of_radiomicsdatset3forpaper.ipynb\" target=\"_parent\"><img src=\"https://colab.research.google.com/assets/colab-badge.svg\" alt=\"Open In Colab\"/></a>"
      ]
    },
    {
      "cell_type": "code",
      "execution_count": 1,
      "metadata": {
        "id": "Yt-0FxcaIn1b"
      },
      "outputs": [],
      "source": [
        "import pandas as pd \n",
        "import numpy as np"
      ]
    },
    {
      "cell_type": "code",
      "source": [
        "data=pd.read_csv(\"/content/thirddatasetdata3lung1editednew.csv\")"
      ],
      "metadata": {
        "id": "_TwssuD-ZbZM"
      },
      "execution_count": 2,
      "outputs": []
    },
    {
      "cell_type": "code",
      "source": [
        "data['Label'].value_counts()"
      ],
      "metadata": {
        "colab": {
          "base_uri": "https://localhost:8080/"
        },
        "id": "77U6Co_WQOBW",
        "outputId": "9bcfbb96-3b8c-46ca-bb1e-a226a733b0d0"
      },
      "execution_count": 3,
      "outputs": [
        {
          "output_type": "execute_result",
          "data": {
            "text/plain": [
              "'squamous cell carcinoma'    83\n",
              "'large cell'                 71\n",
              "others                       70\n",
              "adenocarcinoma               23\n",
              "Name: Label, dtype: int64"
            ]
          },
          "metadata": {},
          "execution_count": 3
        }
      ]
    },
    {
      "cell_type": "code",
      "source": [
        "data.columns "
      ],
      "metadata": {
        "colab": {
          "base_uri": "https://localhost:8080/"
        },
        "id": "KoaSe4-wRwK0",
        "outputId": "452eb8e4-b5bd-44d4-950c-d14808915faf"
      },
      "execution_count": 4,
      "outputs": [
        {
          "output_type": "execute_result",
          "data": {
            "text/plain": [
              "Index(['original_shape_Elongation', 'original_shape_Flatness',\n",
              "       'original_shape_LeastAxisLength', 'original_shape_MajorAxisLength',\n",
              "       'original_shape_Maximum2DDiameterColumn',\n",
              "       'original_shape_Maximum2DDiameterRow',\n",
              "       'original_shape_Maximum2DDiameterSlice',\n",
              "       'original_shape_Maximum3DDiameter', 'original_shape_MeshVolume',\n",
              "       'original_shape_MinorAxisLength',\n",
              "       ...\n",
              "       'wavelet-LLL_gldm_LowGrayLevelEmphasis',\n",
              "       'wavelet-LLL_gldm_SmallDependenceEmphasis',\n",
              "       'wavelet-LLL_gldm_SmallDependenceHighGrayLevelEmphasis',\n",
              "       'wavelet-LLL_gldm_SmallDependenceLowGrayLevelEmphasis',\n",
              "       'wavelet-LLL_ngtdm_Busyness', 'wavelet-LLL_ngtdm_Coarseness',\n",
              "       'wavelet-LLL_ngtdm_Complexity', 'wavelet-LLL_ngtdm_Contrast',\n",
              "       'wavelet-LLL_ngtdm_Strength', 'Label'],\n",
              "      dtype='object', length=1094)"
            ]
          },
          "metadata": {},
          "execution_count": 4
        }
      ]
    },
    {
      "cell_type": "code",
      "source": [
        "data_real = data.replace(np.inf, np.nan)"
      ],
      "metadata": {
        "id": "q4h6KjggRxfq"
      },
      "execution_count": 5,
      "outputs": []
    },
    {
      "cell_type": "code",
      "source": [
        "data_real.isnull().sum().sum()"
      ],
      "metadata": {
        "colab": {
          "base_uri": "https://localhost:8080/"
        },
        "id": "_F7n3UJCR2MO",
        "outputId": "435a4a58-268c-4192-c5d7-881116c41c56"
      },
      "execution_count": 6,
      "outputs": [
        {
          "output_type": "execute_result",
          "data": {
            "text/plain": [
              "0"
            ]
          },
          "metadata": {},
          "execution_count": 6
        }
      ]
    },
    {
      "cell_type": "code",
      "source": [
        "data_df = data_real.dropna(axis=0)"
      ],
      "metadata": {
        "id": "og_p85LcR6bO"
      },
      "execution_count": 7,
      "outputs": []
    },
    {
      "cell_type": "code",
      "source": [
        "data_df.isnull().sum().sum()"
      ],
      "metadata": {
        "colab": {
          "base_uri": "https://localhost:8080/"
        },
        "id": "-p1_6MARR92v",
        "outputId": "32f55aa9-de4d-4dcd-c38a-16cd438806f1"
      },
      "execution_count": 8,
      "outputs": [
        {
          "output_type": "execute_result",
          "data": {
            "text/plain": [
              "0"
            ]
          },
          "metadata": {},
          "execution_count": 8
        }
      ]
    },
    {
      "cell_type": "code",
      "source": [
        "data_df"
      ],
      "metadata": {
        "colab": {
          "base_uri": "https://localhost:8080/",
          "height": 591
        },
        "id": "ejydE7xGSAw4",
        "outputId": "b296fe41-8019-4fcf-84cb-e949fa74e23a"
      },
      "execution_count": 9,
      "outputs": [
        {
          "output_type": "execute_result",
          "data": {
            "text/plain": [
              "     original_shape_Elongation  original_shape_Flatness  \\\n",
              "0                     0.898535                 0.570600   \n",
              "1                     0.356341                 0.293696   \n",
              "2                     0.972992                 0.838632   \n",
              "3                     0.355514                 0.250921   \n",
              "4                     0.869980                 0.715864   \n",
              "..                         ...                      ...   \n",
              "242                   0.613950                 0.536166   \n",
              "243                   0.706267                 0.473298   \n",
              "244                   0.832425                 0.624674   \n",
              "245                   0.505327                 0.335579   \n",
              "246                   0.505327                 0.335579   \n",
              "\n",
              "     original_shape_LeastAxisLength  original_shape_MajorAxisLength  \\\n",
              "0                         31.886509                       55.882450   \n",
              "1                         30.746972                      104.689637   \n",
              "2                         36.685554                       43.744513   \n",
              "3                         32.048424                      127.723174   \n",
              "4                         37.872296                       52.904327   \n",
              "..                              ...                             ...   \n",
              "242                       67.085543                      125.120921   \n",
              "243                       19.144342                       40.448808   \n",
              "244                       10.141866                       16.235443   \n",
              "245                       14.737564                       43.916805   \n",
              "246                       14.737564                       43.916805   \n",
              "\n",
              "     original_shape_Maximum2DDiameterColumn  \\\n",
              "0                                 63.529521   \n",
              "1                                 62.289646   \n",
              "2                                 56.920998   \n",
              "3                                 92.130342   \n",
              "4                                 63.780875   \n",
              "..                                      ...   \n",
              "242                              151.433154   \n",
              "243                               39.395431   \n",
              "244                               19.697716   \n",
              "245                               45.650849   \n",
              "246                               45.650849   \n",
              "\n",
              "     original_shape_Maximum2DDiameterRow  \\\n",
              "0                              66.573268   \n",
              "1                              76.837491   \n",
              "2                              59.093147   \n",
              "3                              52.153619   \n",
              "4                              65.115282   \n",
              "..                                   ...   \n",
              "242                           143.178211   \n",
              "243                            48.414874   \n",
              "244                            17.204651   \n",
              "245                            41.761226   \n",
              "246                            41.761226   \n",
              "\n",
              "     original_shape_Maximum2DDiameterSlice  original_shape_Maximum3DDiameter  \\\n",
              "0                                61.188234                         72.718636   \n",
              "1                                48.332184                         99.015150   \n",
              "2                                50.000000                         59.531504   \n",
              "3                                50.159745                        158.808060   \n",
              "4                                59.363288                         70.992957   \n",
              "..                                     ...                               ...   \n",
              "242                             118.962179                        186.986630   \n",
              "243                              34.234486                         49.071377   \n",
              "244                              16.124516                         19.798990   \n",
              "245                              29.120440                         50.358713   \n",
              "246                              29.120440                         50.358713   \n",
              "\n",
              "     original_shape_MeshVolume  original_shape_MinorAxisLength  ...  \\\n",
              "0                 48863.000000                       50.212354  ...   \n",
              "1                 16849.666670                       37.305177  ...   \n",
              "2                 45073.000000                       42.563080  ...   \n",
              "3                 13973.333330                       45.407417  ...   \n",
              "4                 50277.333330                       46.025717  ...   \n",
              "..                         ...                             ...  ...   \n",
              "242              262922.000000                       76.818007  ...   \n",
              "243               13417.666670                       28.567655  ...   \n",
              "244                1428.000000                       13.514788  ...   \n",
              "245                7421.333333                       22.192352  ...   \n",
              "246                7421.333333                       22.192352  ...   \n",
              "\n",
              "     wavelet-LLL_gldm_LowGrayLevelEmphasis  \\\n",
              "0                                 0.000175   \n",
              "1                                 0.000480   \n",
              "2                                 0.000204   \n",
              "3                                 0.000609   \n",
              "4                                 0.000179   \n",
              "..                                     ...   \n",
              "242                               0.000055   \n",
              "243                               0.000797   \n",
              "244                               0.005545   \n",
              "245                               0.001130   \n",
              "246                               0.001130   \n",
              "\n",
              "     wavelet-LLL_gldm_SmallDependenceEmphasis  \\\n",
              "0                                    0.782714   \n",
              "1                                    0.809799   \n",
              "2                                    0.607683   \n",
              "3                                    0.672628   \n",
              "4                                    0.739990   \n",
              "..                                        ...   \n",
              "242                                  0.539262   \n",
              "243                                  0.635981   \n",
              "244                                  0.855006   \n",
              "245                                  0.715150   \n",
              "246                                  0.715150   \n",
              "\n",
              "     wavelet-LLL_gldm_SmallDependenceHighGrayLevelEmphasis  \\\n",
              "0                                         188544.34720       \n",
              "1                                         185506.13380       \n",
              "2                                          51789.09974       \n",
              "3                                          16150.60173       \n",
              "4                                         152246.78220       \n",
              "..                                                 ...       \n",
              "242                                        30796.75751       \n",
              "243                                        11131.16552       \n",
              "244                                        21236.68132       \n",
              "245                                        10757.09395       \n",
              "246                                        10757.09395       \n",
              "\n",
              "     wavelet-LLL_gldm_SmallDependenceLowGrayLevelEmphasis  \\\n",
              "0                                             0.000174      \n",
              "1                                             0.000478      \n",
              "2                                             0.000200      \n",
              "3                                             0.000595      \n",
              "4                                             0.000178      \n",
              "..                                                 ...      \n",
              "242                                           0.000047      \n",
              "243                                           0.000775      \n",
              "244                                           0.005537      \n",
              "245                                           0.001110      \n",
              "246                                           0.001110      \n",
              "\n",
              "     wavelet-LLL_ngtdm_Busyness  wavelet-LLL_ngtdm_Coarseness  \\\n",
              "0                      0.001121                      0.001950   \n",
              "1                      0.000573                      0.006157   \n",
              "2                      0.003829                      0.001594   \n",
              "3                      0.008233                      0.005954   \n",
              "4                      0.001932                      0.001420   \n",
              "..                          ...                           ...   \n",
              "242                    0.018433                      0.000387   \n",
              "243                    0.007429                      0.006453   \n",
              "244                    0.003682                      0.030105   \n",
              "245                    0.007144                      0.010583   \n",
              "246                    0.007144                      0.010583   \n",
              "\n",
              "     wavelet-LLL_ngtdm_Complexity  wavelet-LLL_ngtdm_Contrast  \\\n",
              "0                    5.241414e+06                    1.329551   \n",
              "1                    3.263341e+06                    8.577655   \n",
              "2                    1.033373e+06                    1.189275   \n",
              "3                    6.759171e+04                    0.596882   \n",
              "4                    3.371136e+06                    2.314521   \n",
              "..                            ...                         ...   \n",
              "242                  5.073418e+05                    0.115637   \n",
              "243                  8.507560e+04                    0.600453   \n",
              "244                  8.491850e+04                    4.490970   \n",
              "245                  5.701539e+04                    0.849220   \n",
              "246                  5.701539e+04                    0.849220   \n",
              "\n",
              "     wavelet-LLL_ngtdm_Strength         Label  \n",
              "0                    576.487136  'large cell'  \n",
              "1                   1468.964920  'large cell'  \n",
              "2                    158.997655  'large cell'  \n",
              "3                     48.462226  'large cell'  \n",
              "4                    364.513624  'large cell'  \n",
              "..                          ...           ...  \n",
              "242                   33.076902        others  \n",
              "243                   51.726423        others  \n",
              "244                  194.650316        others  \n",
              "245                   56.233061        others  \n",
              "246                   56.233061        others  \n",
              "\n",
              "[247 rows x 1094 columns]"
            ],
            "text/html": [
              "\n",
              "  <div id=\"df-953fcb53-6247-49e5-91ec-26a383554b74\">\n",
              "    <div class=\"colab-df-container\">\n",
              "      <div>\n",
              "<style scoped>\n",
              "    .dataframe tbody tr th:only-of-type {\n",
              "        vertical-align: middle;\n",
              "    }\n",
              "\n",
              "    .dataframe tbody tr th {\n",
              "        vertical-align: top;\n",
              "    }\n",
              "\n",
              "    .dataframe thead th {\n",
              "        text-align: right;\n",
              "    }\n",
              "</style>\n",
              "<table border=\"1\" class=\"dataframe\">\n",
              "  <thead>\n",
              "    <tr style=\"text-align: right;\">\n",
              "      <th></th>\n",
              "      <th>original_shape_Elongation</th>\n",
              "      <th>original_shape_Flatness</th>\n",
              "      <th>original_shape_LeastAxisLength</th>\n",
              "      <th>original_shape_MajorAxisLength</th>\n",
              "      <th>original_shape_Maximum2DDiameterColumn</th>\n",
              "      <th>original_shape_Maximum2DDiameterRow</th>\n",
              "      <th>original_shape_Maximum2DDiameterSlice</th>\n",
              "      <th>original_shape_Maximum3DDiameter</th>\n",
              "      <th>original_shape_MeshVolume</th>\n",
              "      <th>original_shape_MinorAxisLength</th>\n",
              "      <th>...</th>\n",
              "      <th>wavelet-LLL_gldm_LowGrayLevelEmphasis</th>\n",
              "      <th>wavelet-LLL_gldm_SmallDependenceEmphasis</th>\n",
              "      <th>wavelet-LLL_gldm_SmallDependenceHighGrayLevelEmphasis</th>\n",
              "      <th>wavelet-LLL_gldm_SmallDependenceLowGrayLevelEmphasis</th>\n",
              "      <th>wavelet-LLL_ngtdm_Busyness</th>\n",
              "      <th>wavelet-LLL_ngtdm_Coarseness</th>\n",
              "      <th>wavelet-LLL_ngtdm_Complexity</th>\n",
              "      <th>wavelet-LLL_ngtdm_Contrast</th>\n",
              "      <th>wavelet-LLL_ngtdm_Strength</th>\n",
              "      <th>Label</th>\n",
              "    </tr>\n",
              "  </thead>\n",
              "  <tbody>\n",
              "    <tr>\n",
              "      <th>0</th>\n",
              "      <td>0.898535</td>\n",
              "      <td>0.570600</td>\n",
              "      <td>31.886509</td>\n",
              "      <td>55.882450</td>\n",
              "      <td>63.529521</td>\n",
              "      <td>66.573268</td>\n",
              "      <td>61.188234</td>\n",
              "      <td>72.718636</td>\n",
              "      <td>48863.000000</td>\n",
              "      <td>50.212354</td>\n",
              "      <td>...</td>\n",
              "      <td>0.000175</td>\n",
              "      <td>0.782714</td>\n",
              "      <td>188544.34720</td>\n",
              "      <td>0.000174</td>\n",
              "      <td>0.001121</td>\n",
              "      <td>0.001950</td>\n",
              "      <td>5.241414e+06</td>\n",
              "      <td>1.329551</td>\n",
              "      <td>576.487136</td>\n",
              "      <td>'large cell'</td>\n",
              "    </tr>\n",
              "    <tr>\n",
              "      <th>1</th>\n",
              "      <td>0.356341</td>\n",
              "      <td>0.293696</td>\n",
              "      <td>30.746972</td>\n",
              "      <td>104.689637</td>\n",
              "      <td>62.289646</td>\n",
              "      <td>76.837491</td>\n",
              "      <td>48.332184</td>\n",
              "      <td>99.015150</td>\n",
              "      <td>16849.666670</td>\n",
              "      <td>37.305177</td>\n",
              "      <td>...</td>\n",
              "      <td>0.000480</td>\n",
              "      <td>0.809799</td>\n",
              "      <td>185506.13380</td>\n",
              "      <td>0.000478</td>\n",
              "      <td>0.000573</td>\n",
              "      <td>0.006157</td>\n",
              "      <td>3.263341e+06</td>\n",
              "      <td>8.577655</td>\n",
              "      <td>1468.964920</td>\n",
              "      <td>'large cell'</td>\n",
              "    </tr>\n",
              "    <tr>\n",
              "      <th>2</th>\n",
              "      <td>0.972992</td>\n",
              "      <td>0.838632</td>\n",
              "      <td>36.685554</td>\n",
              "      <td>43.744513</td>\n",
              "      <td>56.920998</td>\n",
              "      <td>59.093147</td>\n",
              "      <td>50.000000</td>\n",
              "      <td>59.531504</td>\n",
              "      <td>45073.000000</td>\n",
              "      <td>42.563080</td>\n",
              "      <td>...</td>\n",
              "      <td>0.000204</td>\n",
              "      <td>0.607683</td>\n",
              "      <td>51789.09974</td>\n",
              "      <td>0.000200</td>\n",
              "      <td>0.003829</td>\n",
              "      <td>0.001594</td>\n",
              "      <td>1.033373e+06</td>\n",
              "      <td>1.189275</td>\n",
              "      <td>158.997655</td>\n",
              "      <td>'large cell'</td>\n",
              "    </tr>\n",
              "    <tr>\n",
              "      <th>3</th>\n",
              "      <td>0.355514</td>\n",
              "      <td>0.250921</td>\n",
              "      <td>32.048424</td>\n",
              "      <td>127.723174</td>\n",
              "      <td>92.130342</td>\n",
              "      <td>52.153619</td>\n",
              "      <td>50.159745</td>\n",
              "      <td>158.808060</td>\n",
              "      <td>13973.333330</td>\n",
              "      <td>45.407417</td>\n",
              "      <td>...</td>\n",
              "      <td>0.000609</td>\n",
              "      <td>0.672628</td>\n",
              "      <td>16150.60173</td>\n",
              "      <td>0.000595</td>\n",
              "      <td>0.008233</td>\n",
              "      <td>0.005954</td>\n",
              "      <td>6.759171e+04</td>\n",
              "      <td>0.596882</td>\n",
              "      <td>48.462226</td>\n",
              "      <td>'large cell'</td>\n",
              "    </tr>\n",
              "    <tr>\n",
              "      <th>4</th>\n",
              "      <td>0.869980</td>\n",
              "      <td>0.715864</td>\n",
              "      <td>37.872296</td>\n",
              "      <td>52.904327</td>\n",
              "      <td>63.780875</td>\n",
              "      <td>65.115282</td>\n",
              "      <td>59.363288</td>\n",
              "      <td>70.992957</td>\n",
              "      <td>50277.333330</td>\n",
              "      <td>46.025717</td>\n",
              "      <td>...</td>\n",
              "      <td>0.000179</td>\n",
              "      <td>0.739990</td>\n",
              "      <td>152246.78220</td>\n",
              "      <td>0.000178</td>\n",
              "      <td>0.001932</td>\n",
              "      <td>0.001420</td>\n",
              "      <td>3.371136e+06</td>\n",
              "      <td>2.314521</td>\n",
              "      <td>364.513624</td>\n",
              "      <td>'large cell'</td>\n",
              "    </tr>\n",
              "    <tr>\n",
              "      <th>...</th>\n",
              "      <td>...</td>\n",
              "      <td>...</td>\n",
              "      <td>...</td>\n",
              "      <td>...</td>\n",
              "      <td>...</td>\n",
              "      <td>...</td>\n",
              "      <td>...</td>\n",
              "      <td>...</td>\n",
              "      <td>...</td>\n",
              "      <td>...</td>\n",
              "      <td>...</td>\n",
              "      <td>...</td>\n",
              "      <td>...</td>\n",
              "      <td>...</td>\n",
              "      <td>...</td>\n",
              "      <td>...</td>\n",
              "      <td>...</td>\n",
              "      <td>...</td>\n",
              "      <td>...</td>\n",
              "      <td>...</td>\n",
              "      <td>...</td>\n",
              "    </tr>\n",
              "    <tr>\n",
              "      <th>242</th>\n",
              "      <td>0.613950</td>\n",
              "      <td>0.536166</td>\n",
              "      <td>67.085543</td>\n",
              "      <td>125.120921</td>\n",
              "      <td>151.433154</td>\n",
              "      <td>143.178211</td>\n",
              "      <td>118.962179</td>\n",
              "      <td>186.986630</td>\n",
              "      <td>262922.000000</td>\n",
              "      <td>76.818007</td>\n",
              "      <td>...</td>\n",
              "      <td>0.000055</td>\n",
              "      <td>0.539262</td>\n",
              "      <td>30796.75751</td>\n",
              "      <td>0.000047</td>\n",
              "      <td>0.018433</td>\n",
              "      <td>0.000387</td>\n",
              "      <td>5.073418e+05</td>\n",
              "      <td>0.115637</td>\n",
              "      <td>33.076902</td>\n",
              "      <td>others</td>\n",
              "    </tr>\n",
              "    <tr>\n",
              "      <th>243</th>\n",
              "      <td>0.706267</td>\n",
              "      <td>0.473298</td>\n",
              "      <td>19.144342</td>\n",
              "      <td>40.448808</td>\n",
              "      <td>39.395431</td>\n",
              "      <td>48.414874</td>\n",
              "      <td>34.234486</td>\n",
              "      <td>49.071377</td>\n",
              "      <td>13417.666670</td>\n",
              "      <td>28.567655</td>\n",
              "      <td>...</td>\n",
              "      <td>0.000797</td>\n",
              "      <td>0.635981</td>\n",
              "      <td>11131.16552</td>\n",
              "      <td>0.000775</td>\n",
              "      <td>0.007429</td>\n",
              "      <td>0.006453</td>\n",
              "      <td>8.507560e+04</td>\n",
              "      <td>0.600453</td>\n",
              "      <td>51.726423</td>\n",
              "      <td>others</td>\n",
              "    </tr>\n",
              "    <tr>\n",
              "      <th>244</th>\n",
              "      <td>0.832425</td>\n",
              "      <td>0.624674</td>\n",
              "      <td>10.141866</td>\n",
              "      <td>16.235443</td>\n",
              "      <td>19.697716</td>\n",
              "      <td>17.204651</td>\n",
              "      <td>16.124516</td>\n",
              "      <td>19.798990</td>\n",
              "      <td>1428.000000</td>\n",
              "      <td>13.514788</td>\n",
              "      <td>...</td>\n",
              "      <td>0.005545</td>\n",
              "      <td>0.855006</td>\n",
              "      <td>21236.68132</td>\n",
              "      <td>0.005537</td>\n",
              "      <td>0.003682</td>\n",
              "      <td>0.030105</td>\n",
              "      <td>8.491850e+04</td>\n",
              "      <td>4.490970</td>\n",
              "      <td>194.650316</td>\n",
              "      <td>others</td>\n",
              "    </tr>\n",
              "    <tr>\n",
              "      <th>245</th>\n",
              "      <td>0.505327</td>\n",
              "      <td>0.335579</td>\n",
              "      <td>14.737564</td>\n",
              "      <td>43.916805</td>\n",
              "      <td>45.650849</td>\n",
              "      <td>41.761226</td>\n",
              "      <td>29.120440</td>\n",
              "      <td>50.358713</td>\n",
              "      <td>7421.333333</td>\n",
              "      <td>22.192352</td>\n",
              "      <td>...</td>\n",
              "      <td>0.001130</td>\n",
              "      <td>0.715150</td>\n",
              "      <td>10757.09395</td>\n",
              "      <td>0.001110</td>\n",
              "      <td>0.007144</td>\n",
              "      <td>0.010583</td>\n",
              "      <td>5.701539e+04</td>\n",
              "      <td>0.849220</td>\n",
              "      <td>56.233061</td>\n",
              "      <td>others</td>\n",
              "    </tr>\n",
              "    <tr>\n",
              "      <th>246</th>\n",
              "      <td>0.505327</td>\n",
              "      <td>0.335579</td>\n",
              "      <td>14.737564</td>\n",
              "      <td>43.916805</td>\n",
              "      <td>45.650849</td>\n",
              "      <td>41.761226</td>\n",
              "      <td>29.120440</td>\n",
              "      <td>50.358713</td>\n",
              "      <td>7421.333333</td>\n",
              "      <td>22.192352</td>\n",
              "      <td>...</td>\n",
              "      <td>0.001130</td>\n",
              "      <td>0.715150</td>\n",
              "      <td>10757.09395</td>\n",
              "      <td>0.001110</td>\n",
              "      <td>0.007144</td>\n",
              "      <td>0.010583</td>\n",
              "      <td>5.701539e+04</td>\n",
              "      <td>0.849220</td>\n",
              "      <td>56.233061</td>\n",
              "      <td>others</td>\n",
              "    </tr>\n",
              "  </tbody>\n",
              "</table>\n",
              "<p>247 rows × 1094 columns</p>\n",
              "</div>\n",
              "      <button class=\"colab-df-convert\" onclick=\"convertToInteractive('df-953fcb53-6247-49e5-91ec-26a383554b74')\"\n",
              "              title=\"Convert this dataframe to an interactive table.\"\n",
              "              style=\"display:none;\">\n",
              "        \n",
              "  <svg xmlns=\"http://www.w3.org/2000/svg\" height=\"24px\"viewBox=\"0 0 24 24\"\n",
              "       width=\"24px\">\n",
              "    <path d=\"M0 0h24v24H0V0z\" fill=\"none\"/>\n",
              "    <path d=\"M18.56 5.44l.94 2.06.94-2.06 2.06-.94-2.06-.94-.94-2.06-.94 2.06-2.06.94zm-11 1L8.5 8.5l.94-2.06 2.06-.94-2.06-.94L8.5 2.5l-.94 2.06-2.06.94zm10 10l.94 2.06.94-2.06 2.06-.94-2.06-.94-.94-2.06-.94 2.06-2.06.94z\"/><path d=\"M17.41 7.96l-1.37-1.37c-.4-.4-.92-.59-1.43-.59-.52 0-1.04.2-1.43.59L10.3 9.45l-7.72 7.72c-.78.78-.78 2.05 0 2.83L4 21.41c.39.39.9.59 1.41.59.51 0 1.02-.2 1.41-.59l7.78-7.78 2.81-2.81c.8-.78.8-2.07 0-2.86zM5.41 20L4 18.59l7.72-7.72 1.47 1.35L5.41 20z\"/>\n",
              "  </svg>\n",
              "      </button>\n",
              "      \n",
              "  <style>\n",
              "    .colab-df-container {\n",
              "      display:flex;\n",
              "      flex-wrap:wrap;\n",
              "      gap: 12px;\n",
              "    }\n",
              "\n",
              "    .colab-df-convert {\n",
              "      background-color: #E8F0FE;\n",
              "      border: none;\n",
              "      border-radius: 50%;\n",
              "      cursor: pointer;\n",
              "      display: none;\n",
              "      fill: #1967D2;\n",
              "      height: 32px;\n",
              "      padding: 0 0 0 0;\n",
              "      width: 32px;\n",
              "    }\n",
              "\n",
              "    .colab-df-convert:hover {\n",
              "      background-color: #E2EBFA;\n",
              "      box-shadow: 0px 1px 2px rgba(60, 64, 67, 0.3), 0px 1px 3px 1px rgba(60, 64, 67, 0.15);\n",
              "      fill: #174EA6;\n",
              "    }\n",
              "\n",
              "    [theme=dark] .colab-df-convert {\n",
              "      background-color: #3B4455;\n",
              "      fill: #D2E3FC;\n",
              "    }\n",
              "\n",
              "    [theme=dark] .colab-df-convert:hover {\n",
              "      background-color: #434B5C;\n",
              "      box-shadow: 0px 1px 3px 1px rgba(0, 0, 0, 0.15);\n",
              "      filter: drop-shadow(0px 1px 2px rgba(0, 0, 0, 0.3));\n",
              "      fill: #FFFFFF;\n",
              "    }\n",
              "  </style>\n",
              "\n",
              "      <script>\n",
              "        const buttonEl =\n",
              "          document.querySelector('#df-953fcb53-6247-49e5-91ec-26a383554b74 button.colab-df-convert');\n",
              "        buttonEl.style.display =\n",
              "          google.colab.kernel.accessAllowed ? 'block' : 'none';\n",
              "\n",
              "        async function convertToInteractive(key) {\n",
              "          const element = document.querySelector('#df-953fcb53-6247-49e5-91ec-26a383554b74');\n",
              "          const dataTable =\n",
              "            await google.colab.kernel.invokeFunction('convertToInteractive',\n",
              "                                                     [key], {});\n",
              "          if (!dataTable) return;\n",
              "\n",
              "          const docLinkHtml = 'Like what you see? Visit the ' +\n",
              "            '<a target=\"_blank\" href=https://colab.research.google.com/notebooks/data_table.ipynb>data table notebook</a>'\n",
              "            + ' to learn more about interactive tables.';\n",
              "          element.innerHTML = '';\n",
              "          dataTable['output_type'] = 'display_data';\n",
              "          await google.colab.output.renderOutput(dataTable, element);\n",
              "          const docLink = document.createElement('div');\n",
              "          docLink.innerHTML = docLinkHtml;\n",
              "          element.appendChild(docLink);\n",
              "        }\n",
              "      </script>\n",
              "    </div>\n",
              "  </div>\n",
              "  "
            ]
          },
          "metadata": {},
          "execution_count": 9
        }
      ]
    },
    {
      "cell_type": "code",
      "source": [
        "data_X = data_df.drop(['Label'], axis = 1)"
      ],
      "metadata": {
        "id": "xY7x8ocvSH4J"
      },
      "execution_count": 10,
      "outputs": []
    },
    {
      "cell_type": "code",
      "source": [
        "data_X.columns "
      ],
      "metadata": {
        "colab": {
          "base_uri": "https://localhost:8080/"
        },
        "id": "m0Z66Mw1SXU0",
        "outputId": "946b25c9-07bf-478f-9c2b-cea50bd229d0"
      },
      "execution_count": 11,
      "outputs": [
        {
          "output_type": "execute_result",
          "data": {
            "text/plain": [
              "Index(['original_shape_Elongation', 'original_shape_Flatness',\n",
              "       'original_shape_LeastAxisLength', 'original_shape_MajorAxisLength',\n",
              "       'original_shape_Maximum2DDiameterColumn',\n",
              "       'original_shape_Maximum2DDiameterRow',\n",
              "       'original_shape_Maximum2DDiameterSlice',\n",
              "       'original_shape_Maximum3DDiameter', 'original_shape_MeshVolume',\n",
              "       'original_shape_MinorAxisLength',\n",
              "       ...\n",
              "       'wavelet-LLL_gldm_LargeDependenceLowGrayLevelEmphasis',\n",
              "       'wavelet-LLL_gldm_LowGrayLevelEmphasis',\n",
              "       'wavelet-LLL_gldm_SmallDependenceEmphasis',\n",
              "       'wavelet-LLL_gldm_SmallDependenceHighGrayLevelEmphasis',\n",
              "       'wavelet-LLL_gldm_SmallDependenceLowGrayLevelEmphasis',\n",
              "       'wavelet-LLL_ngtdm_Busyness', 'wavelet-LLL_ngtdm_Coarseness',\n",
              "       'wavelet-LLL_ngtdm_Complexity', 'wavelet-LLL_ngtdm_Contrast',\n",
              "       'wavelet-LLL_ngtdm_Strength'],\n",
              "      dtype='object', length=1093)"
            ]
          },
          "metadata": {},
          "execution_count": 11
        }
      ]
    },
    {
      "cell_type": "code",
      "source": [
        "data_X.shape "
      ],
      "metadata": {
        "colab": {
          "base_uri": "https://localhost:8080/"
        },
        "id": "i1NsbDmKSYne",
        "outputId": "24403c9e-a484-4e31-e353-8de019e2d0d6"
      },
      "execution_count": 12,
      "outputs": [
        {
          "output_type": "execute_result",
          "data": {
            "text/plain": [
              "(247, 1093)"
            ]
          },
          "metadata": {},
          "execution_count": 12
        }
      ]
    },
    {
      "cell_type": "code",
      "source": [
        "data_y = data_df['Label']"
      ],
      "metadata": {
        "id": "Kg-YAsI4Sduw"
      },
      "execution_count": 13,
      "outputs": []
    },
    {
      "cell_type": "code",
      "source": [
        "data_y.shape "
      ],
      "metadata": {
        "colab": {
          "base_uri": "https://localhost:8080/"
        },
        "id": "zQwhaFrBSgjc",
        "outputId": "7ea5dfb5-33fb-4ebf-87d9-54f845e0def9"
      },
      "execution_count": 14,
      "outputs": [
        {
          "output_type": "execute_result",
          "data": {
            "text/plain": [
              "(247,)"
            ]
          },
          "metadata": {},
          "execution_count": 14
        }
      ]
    },
    {
      "cell_type": "code",
      "source": [
        "data_df.isnull().sum().sum()"
      ],
      "metadata": {
        "colab": {
          "base_uri": "https://localhost:8080/"
        },
        "id": "IZKfuHyKSilb",
        "outputId": "ec5e34af-4f9f-42bc-f096-4717871176ba"
      },
      "execution_count": 15,
      "outputs": [
        {
          "output_type": "execute_result",
          "data": {
            "text/plain": [
              "0"
            ]
          },
          "metadata": {},
          "execution_count": 15
        }
      ]
    },
    {
      "cell_type": "code",
      "source": [
        "data_y.unique()"
      ],
      "metadata": {
        "colab": {
          "base_uri": "https://localhost:8080/"
        },
        "id": "zYYZQ-WjSl0H",
        "outputId": "f8b3cae2-dc31-4f40-db84-f14e3841f233"
      },
      "execution_count": 16,
      "outputs": [
        {
          "output_type": "execute_result",
          "data": {
            "text/plain": [
              "array([\"'large cell'\", \"'squamous cell carcinoma'\", 'adenocarcinoma',\n",
              "       'others'], dtype=object)"
            ]
          },
          "metadata": {},
          "execution_count": 16
        }
      ]
    },
    {
      "cell_type": "code",
      "source": [
        "data_X "
      ],
      "metadata": {
        "colab": {
          "base_uri": "https://localhost:8080/",
          "height": 505
        },
        "id": "_cW362R8Sp46",
        "outputId": "7b9e49d9-97d2-4674-c01f-334fc319fc18"
      },
      "execution_count": 17,
      "outputs": [
        {
          "output_type": "execute_result",
          "data": {
            "text/plain": [
              "     original_shape_Elongation  original_shape_Flatness  \\\n",
              "0                     0.898535                 0.570600   \n",
              "1                     0.356341                 0.293696   \n",
              "2                     0.972992                 0.838632   \n",
              "3                     0.355514                 0.250921   \n",
              "4                     0.869980                 0.715864   \n",
              "..                         ...                      ...   \n",
              "242                   0.613950                 0.536166   \n",
              "243                   0.706267                 0.473298   \n",
              "244                   0.832425                 0.624674   \n",
              "245                   0.505327                 0.335579   \n",
              "246                   0.505327                 0.335579   \n",
              "\n",
              "     original_shape_LeastAxisLength  original_shape_MajorAxisLength  \\\n",
              "0                         31.886509                       55.882450   \n",
              "1                         30.746972                      104.689637   \n",
              "2                         36.685554                       43.744513   \n",
              "3                         32.048424                      127.723174   \n",
              "4                         37.872296                       52.904327   \n",
              "..                              ...                             ...   \n",
              "242                       67.085543                      125.120921   \n",
              "243                       19.144342                       40.448808   \n",
              "244                       10.141866                       16.235443   \n",
              "245                       14.737564                       43.916805   \n",
              "246                       14.737564                       43.916805   \n",
              "\n",
              "     original_shape_Maximum2DDiameterColumn  \\\n",
              "0                                 63.529521   \n",
              "1                                 62.289646   \n",
              "2                                 56.920998   \n",
              "3                                 92.130342   \n",
              "4                                 63.780875   \n",
              "..                                      ...   \n",
              "242                              151.433154   \n",
              "243                               39.395431   \n",
              "244                               19.697716   \n",
              "245                               45.650849   \n",
              "246                               45.650849   \n",
              "\n",
              "     original_shape_Maximum2DDiameterRow  \\\n",
              "0                              66.573268   \n",
              "1                              76.837491   \n",
              "2                              59.093147   \n",
              "3                              52.153619   \n",
              "4                              65.115282   \n",
              "..                                   ...   \n",
              "242                           143.178211   \n",
              "243                            48.414874   \n",
              "244                            17.204651   \n",
              "245                            41.761226   \n",
              "246                            41.761226   \n",
              "\n",
              "     original_shape_Maximum2DDiameterSlice  original_shape_Maximum3DDiameter  \\\n",
              "0                                61.188234                         72.718636   \n",
              "1                                48.332184                         99.015150   \n",
              "2                                50.000000                         59.531504   \n",
              "3                                50.159745                        158.808060   \n",
              "4                                59.363288                         70.992957   \n",
              "..                                     ...                               ...   \n",
              "242                             118.962179                        186.986630   \n",
              "243                              34.234486                         49.071377   \n",
              "244                              16.124516                         19.798990   \n",
              "245                              29.120440                         50.358713   \n",
              "246                              29.120440                         50.358713   \n",
              "\n",
              "     original_shape_MeshVolume  original_shape_MinorAxisLength  ...  \\\n",
              "0                 48863.000000                       50.212354  ...   \n",
              "1                 16849.666670                       37.305177  ...   \n",
              "2                 45073.000000                       42.563080  ...   \n",
              "3                 13973.333330                       45.407417  ...   \n",
              "4                 50277.333330                       46.025717  ...   \n",
              "..                         ...                             ...  ...   \n",
              "242              262922.000000                       76.818007  ...   \n",
              "243               13417.666670                       28.567655  ...   \n",
              "244                1428.000000                       13.514788  ...   \n",
              "245                7421.333333                       22.192352  ...   \n",
              "246                7421.333333                       22.192352  ...   \n",
              "\n",
              "     wavelet-LLL_gldm_LargeDependenceLowGrayLevelEmphasis  \\\n",
              "0                                             0.000182      \n",
              "1                                             0.000492      \n",
              "2                                             0.000242      \n",
              "3                                             0.000702      \n",
              "4                                             0.000188      \n",
              "..                                                 ...      \n",
              "242                                           0.000135      \n",
              "243                                           0.000960      \n",
              "244                                           0.005574      \n",
              "245                                           0.001249      \n",
              "246                                           0.001249      \n",
              "\n",
              "     wavelet-LLL_gldm_LowGrayLevelEmphasis  \\\n",
              "0                                 0.000175   \n",
              "1                                 0.000480   \n",
              "2                                 0.000204   \n",
              "3                                 0.000609   \n",
              "4                                 0.000179   \n",
              "..                                     ...   \n",
              "242                               0.000055   \n",
              "243                               0.000797   \n",
              "244                               0.005545   \n",
              "245                               0.001130   \n",
              "246                               0.001130   \n",
              "\n",
              "     wavelet-LLL_gldm_SmallDependenceEmphasis  \\\n",
              "0                                    0.782714   \n",
              "1                                    0.809799   \n",
              "2                                    0.607683   \n",
              "3                                    0.672628   \n",
              "4                                    0.739990   \n",
              "..                                        ...   \n",
              "242                                  0.539262   \n",
              "243                                  0.635981   \n",
              "244                                  0.855006   \n",
              "245                                  0.715150   \n",
              "246                                  0.715150   \n",
              "\n",
              "     wavelet-LLL_gldm_SmallDependenceHighGrayLevelEmphasis  \\\n",
              "0                                         188544.34720       \n",
              "1                                         185506.13380       \n",
              "2                                          51789.09974       \n",
              "3                                          16150.60173       \n",
              "4                                         152246.78220       \n",
              "..                                                 ...       \n",
              "242                                        30796.75751       \n",
              "243                                        11131.16552       \n",
              "244                                        21236.68132       \n",
              "245                                        10757.09395       \n",
              "246                                        10757.09395       \n",
              "\n",
              "     wavelet-LLL_gldm_SmallDependenceLowGrayLevelEmphasis  \\\n",
              "0                                             0.000174      \n",
              "1                                             0.000478      \n",
              "2                                             0.000200      \n",
              "3                                             0.000595      \n",
              "4                                             0.000178      \n",
              "..                                                 ...      \n",
              "242                                           0.000047      \n",
              "243                                           0.000775      \n",
              "244                                           0.005537      \n",
              "245                                           0.001110      \n",
              "246                                           0.001110      \n",
              "\n",
              "     wavelet-LLL_ngtdm_Busyness  wavelet-LLL_ngtdm_Coarseness  \\\n",
              "0                      0.001121                      0.001950   \n",
              "1                      0.000573                      0.006157   \n",
              "2                      0.003829                      0.001594   \n",
              "3                      0.008233                      0.005954   \n",
              "4                      0.001932                      0.001420   \n",
              "..                          ...                           ...   \n",
              "242                    0.018433                      0.000387   \n",
              "243                    0.007429                      0.006453   \n",
              "244                    0.003682                      0.030105   \n",
              "245                    0.007144                      0.010583   \n",
              "246                    0.007144                      0.010583   \n",
              "\n",
              "     wavelet-LLL_ngtdm_Complexity  wavelet-LLL_ngtdm_Contrast  \\\n",
              "0                    5.241414e+06                    1.329551   \n",
              "1                    3.263341e+06                    8.577655   \n",
              "2                    1.033373e+06                    1.189275   \n",
              "3                    6.759171e+04                    0.596882   \n",
              "4                    3.371136e+06                    2.314521   \n",
              "..                            ...                         ...   \n",
              "242                  5.073418e+05                    0.115637   \n",
              "243                  8.507560e+04                    0.600453   \n",
              "244                  8.491850e+04                    4.490970   \n",
              "245                  5.701539e+04                    0.849220   \n",
              "246                  5.701539e+04                    0.849220   \n",
              "\n",
              "     wavelet-LLL_ngtdm_Strength  \n",
              "0                    576.487136  \n",
              "1                   1468.964920  \n",
              "2                    158.997655  \n",
              "3                     48.462226  \n",
              "4                    364.513624  \n",
              "..                          ...  \n",
              "242                   33.076902  \n",
              "243                   51.726423  \n",
              "244                  194.650316  \n",
              "245                   56.233061  \n",
              "246                   56.233061  \n",
              "\n",
              "[247 rows x 1093 columns]"
            ],
            "text/html": [
              "\n",
              "  <div id=\"df-179b8850-967e-43a6-b31f-bc5a838fd2a3\">\n",
              "    <div class=\"colab-df-container\">\n",
              "      <div>\n",
              "<style scoped>\n",
              "    .dataframe tbody tr th:only-of-type {\n",
              "        vertical-align: middle;\n",
              "    }\n",
              "\n",
              "    .dataframe tbody tr th {\n",
              "        vertical-align: top;\n",
              "    }\n",
              "\n",
              "    .dataframe thead th {\n",
              "        text-align: right;\n",
              "    }\n",
              "</style>\n",
              "<table border=\"1\" class=\"dataframe\">\n",
              "  <thead>\n",
              "    <tr style=\"text-align: right;\">\n",
              "      <th></th>\n",
              "      <th>original_shape_Elongation</th>\n",
              "      <th>original_shape_Flatness</th>\n",
              "      <th>original_shape_LeastAxisLength</th>\n",
              "      <th>original_shape_MajorAxisLength</th>\n",
              "      <th>original_shape_Maximum2DDiameterColumn</th>\n",
              "      <th>original_shape_Maximum2DDiameterRow</th>\n",
              "      <th>original_shape_Maximum2DDiameterSlice</th>\n",
              "      <th>original_shape_Maximum3DDiameter</th>\n",
              "      <th>original_shape_MeshVolume</th>\n",
              "      <th>original_shape_MinorAxisLength</th>\n",
              "      <th>...</th>\n",
              "      <th>wavelet-LLL_gldm_LargeDependenceLowGrayLevelEmphasis</th>\n",
              "      <th>wavelet-LLL_gldm_LowGrayLevelEmphasis</th>\n",
              "      <th>wavelet-LLL_gldm_SmallDependenceEmphasis</th>\n",
              "      <th>wavelet-LLL_gldm_SmallDependenceHighGrayLevelEmphasis</th>\n",
              "      <th>wavelet-LLL_gldm_SmallDependenceLowGrayLevelEmphasis</th>\n",
              "      <th>wavelet-LLL_ngtdm_Busyness</th>\n",
              "      <th>wavelet-LLL_ngtdm_Coarseness</th>\n",
              "      <th>wavelet-LLL_ngtdm_Complexity</th>\n",
              "      <th>wavelet-LLL_ngtdm_Contrast</th>\n",
              "      <th>wavelet-LLL_ngtdm_Strength</th>\n",
              "    </tr>\n",
              "  </thead>\n",
              "  <tbody>\n",
              "    <tr>\n",
              "      <th>0</th>\n",
              "      <td>0.898535</td>\n",
              "      <td>0.570600</td>\n",
              "      <td>31.886509</td>\n",
              "      <td>55.882450</td>\n",
              "      <td>63.529521</td>\n",
              "      <td>66.573268</td>\n",
              "      <td>61.188234</td>\n",
              "      <td>72.718636</td>\n",
              "      <td>48863.000000</td>\n",
              "      <td>50.212354</td>\n",
              "      <td>...</td>\n",
              "      <td>0.000182</td>\n",
              "      <td>0.000175</td>\n",
              "      <td>0.782714</td>\n",
              "      <td>188544.34720</td>\n",
              "      <td>0.000174</td>\n",
              "      <td>0.001121</td>\n",
              "      <td>0.001950</td>\n",
              "      <td>5.241414e+06</td>\n",
              "      <td>1.329551</td>\n",
              "      <td>576.487136</td>\n",
              "    </tr>\n",
              "    <tr>\n",
              "      <th>1</th>\n",
              "      <td>0.356341</td>\n",
              "      <td>0.293696</td>\n",
              "      <td>30.746972</td>\n",
              "      <td>104.689637</td>\n",
              "      <td>62.289646</td>\n",
              "      <td>76.837491</td>\n",
              "      <td>48.332184</td>\n",
              "      <td>99.015150</td>\n",
              "      <td>16849.666670</td>\n",
              "      <td>37.305177</td>\n",
              "      <td>...</td>\n",
              "      <td>0.000492</td>\n",
              "      <td>0.000480</td>\n",
              "      <td>0.809799</td>\n",
              "      <td>185506.13380</td>\n",
              "      <td>0.000478</td>\n",
              "      <td>0.000573</td>\n",
              "      <td>0.006157</td>\n",
              "      <td>3.263341e+06</td>\n",
              "      <td>8.577655</td>\n",
              "      <td>1468.964920</td>\n",
              "    </tr>\n",
              "    <tr>\n",
              "      <th>2</th>\n",
              "      <td>0.972992</td>\n",
              "      <td>0.838632</td>\n",
              "      <td>36.685554</td>\n",
              "      <td>43.744513</td>\n",
              "      <td>56.920998</td>\n",
              "      <td>59.093147</td>\n",
              "      <td>50.000000</td>\n",
              "      <td>59.531504</td>\n",
              "      <td>45073.000000</td>\n",
              "      <td>42.563080</td>\n",
              "      <td>...</td>\n",
              "      <td>0.000242</td>\n",
              "      <td>0.000204</td>\n",
              "      <td>0.607683</td>\n",
              "      <td>51789.09974</td>\n",
              "      <td>0.000200</td>\n",
              "      <td>0.003829</td>\n",
              "      <td>0.001594</td>\n",
              "      <td>1.033373e+06</td>\n",
              "      <td>1.189275</td>\n",
              "      <td>158.997655</td>\n",
              "    </tr>\n",
              "    <tr>\n",
              "      <th>3</th>\n",
              "      <td>0.355514</td>\n",
              "      <td>0.250921</td>\n",
              "      <td>32.048424</td>\n",
              "      <td>127.723174</td>\n",
              "      <td>92.130342</td>\n",
              "      <td>52.153619</td>\n",
              "      <td>50.159745</td>\n",
              "      <td>158.808060</td>\n",
              "      <td>13973.333330</td>\n",
              "      <td>45.407417</td>\n",
              "      <td>...</td>\n",
              "      <td>0.000702</td>\n",
              "      <td>0.000609</td>\n",
              "      <td>0.672628</td>\n",
              "      <td>16150.60173</td>\n",
              "      <td>0.000595</td>\n",
              "      <td>0.008233</td>\n",
              "      <td>0.005954</td>\n",
              "      <td>6.759171e+04</td>\n",
              "      <td>0.596882</td>\n",
              "      <td>48.462226</td>\n",
              "    </tr>\n",
              "    <tr>\n",
              "      <th>4</th>\n",
              "      <td>0.869980</td>\n",
              "      <td>0.715864</td>\n",
              "      <td>37.872296</td>\n",
              "      <td>52.904327</td>\n",
              "      <td>63.780875</td>\n",
              "      <td>65.115282</td>\n",
              "      <td>59.363288</td>\n",
              "      <td>70.992957</td>\n",
              "      <td>50277.333330</td>\n",
              "      <td>46.025717</td>\n",
              "      <td>...</td>\n",
              "      <td>0.000188</td>\n",
              "      <td>0.000179</td>\n",
              "      <td>0.739990</td>\n",
              "      <td>152246.78220</td>\n",
              "      <td>0.000178</td>\n",
              "      <td>0.001932</td>\n",
              "      <td>0.001420</td>\n",
              "      <td>3.371136e+06</td>\n",
              "      <td>2.314521</td>\n",
              "      <td>364.513624</td>\n",
              "    </tr>\n",
              "    <tr>\n",
              "      <th>...</th>\n",
              "      <td>...</td>\n",
              "      <td>...</td>\n",
              "      <td>...</td>\n",
              "      <td>...</td>\n",
              "      <td>...</td>\n",
              "      <td>...</td>\n",
              "      <td>...</td>\n",
              "      <td>...</td>\n",
              "      <td>...</td>\n",
              "      <td>...</td>\n",
              "      <td>...</td>\n",
              "      <td>...</td>\n",
              "      <td>...</td>\n",
              "      <td>...</td>\n",
              "      <td>...</td>\n",
              "      <td>...</td>\n",
              "      <td>...</td>\n",
              "      <td>...</td>\n",
              "      <td>...</td>\n",
              "      <td>...</td>\n",
              "      <td>...</td>\n",
              "    </tr>\n",
              "    <tr>\n",
              "      <th>242</th>\n",
              "      <td>0.613950</td>\n",
              "      <td>0.536166</td>\n",
              "      <td>67.085543</td>\n",
              "      <td>125.120921</td>\n",
              "      <td>151.433154</td>\n",
              "      <td>143.178211</td>\n",
              "      <td>118.962179</td>\n",
              "      <td>186.986630</td>\n",
              "      <td>262922.000000</td>\n",
              "      <td>76.818007</td>\n",
              "      <td>...</td>\n",
              "      <td>0.000135</td>\n",
              "      <td>0.000055</td>\n",
              "      <td>0.539262</td>\n",
              "      <td>30796.75751</td>\n",
              "      <td>0.000047</td>\n",
              "      <td>0.018433</td>\n",
              "      <td>0.000387</td>\n",
              "      <td>5.073418e+05</td>\n",
              "      <td>0.115637</td>\n",
              "      <td>33.076902</td>\n",
              "    </tr>\n",
              "    <tr>\n",
              "      <th>243</th>\n",
              "      <td>0.706267</td>\n",
              "      <td>0.473298</td>\n",
              "      <td>19.144342</td>\n",
              "      <td>40.448808</td>\n",
              "      <td>39.395431</td>\n",
              "      <td>48.414874</td>\n",
              "      <td>34.234486</td>\n",
              "      <td>49.071377</td>\n",
              "      <td>13417.666670</td>\n",
              "      <td>28.567655</td>\n",
              "      <td>...</td>\n",
              "      <td>0.000960</td>\n",
              "      <td>0.000797</td>\n",
              "      <td>0.635981</td>\n",
              "      <td>11131.16552</td>\n",
              "      <td>0.000775</td>\n",
              "      <td>0.007429</td>\n",
              "      <td>0.006453</td>\n",
              "      <td>8.507560e+04</td>\n",
              "      <td>0.600453</td>\n",
              "      <td>51.726423</td>\n",
              "    </tr>\n",
              "    <tr>\n",
              "      <th>244</th>\n",
              "      <td>0.832425</td>\n",
              "      <td>0.624674</td>\n",
              "      <td>10.141866</td>\n",
              "      <td>16.235443</td>\n",
              "      <td>19.697716</td>\n",
              "      <td>17.204651</td>\n",
              "      <td>16.124516</td>\n",
              "      <td>19.798990</td>\n",
              "      <td>1428.000000</td>\n",
              "      <td>13.514788</td>\n",
              "      <td>...</td>\n",
              "      <td>0.005574</td>\n",
              "      <td>0.005545</td>\n",
              "      <td>0.855006</td>\n",
              "      <td>21236.68132</td>\n",
              "      <td>0.005537</td>\n",
              "      <td>0.003682</td>\n",
              "      <td>0.030105</td>\n",
              "      <td>8.491850e+04</td>\n",
              "      <td>4.490970</td>\n",
              "      <td>194.650316</td>\n",
              "    </tr>\n",
              "    <tr>\n",
              "      <th>245</th>\n",
              "      <td>0.505327</td>\n",
              "      <td>0.335579</td>\n",
              "      <td>14.737564</td>\n",
              "      <td>43.916805</td>\n",
              "      <td>45.650849</td>\n",
              "      <td>41.761226</td>\n",
              "      <td>29.120440</td>\n",
              "      <td>50.358713</td>\n",
              "      <td>7421.333333</td>\n",
              "      <td>22.192352</td>\n",
              "      <td>...</td>\n",
              "      <td>0.001249</td>\n",
              "      <td>0.001130</td>\n",
              "      <td>0.715150</td>\n",
              "      <td>10757.09395</td>\n",
              "      <td>0.001110</td>\n",
              "      <td>0.007144</td>\n",
              "      <td>0.010583</td>\n",
              "      <td>5.701539e+04</td>\n",
              "      <td>0.849220</td>\n",
              "      <td>56.233061</td>\n",
              "    </tr>\n",
              "    <tr>\n",
              "      <th>246</th>\n",
              "      <td>0.505327</td>\n",
              "      <td>0.335579</td>\n",
              "      <td>14.737564</td>\n",
              "      <td>43.916805</td>\n",
              "      <td>45.650849</td>\n",
              "      <td>41.761226</td>\n",
              "      <td>29.120440</td>\n",
              "      <td>50.358713</td>\n",
              "      <td>7421.333333</td>\n",
              "      <td>22.192352</td>\n",
              "      <td>...</td>\n",
              "      <td>0.001249</td>\n",
              "      <td>0.001130</td>\n",
              "      <td>0.715150</td>\n",
              "      <td>10757.09395</td>\n",
              "      <td>0.001110</td>\n",
              "      <td>0.007144</td>\n",
              "      <td>0.010583</td>\n",
              "      <td>5.701539e+04</td>\n",
              "      <td>0.849220</td>\n",
              "      <td>56.233061</td>\n",
              "    </tr>\n",
              "  </tbody>\n",
              "</table>\n",
              "<p>247 rows × 1093 columns</p>\n",
              "</div>\n",
              "      <button class=\"colab-df-convert\" onclick=\"convertToInteractive('df-179b8850-967e-43a6-b31f-bc5a838fd2a3')\"\n",
              "              title=\"Convert this dataframe to an interactive table.\"\n",
              "              style=\"display:none;\">\n",
              "        \n",
              "  <svg xmlns=\"http://www.w3.org/2000/svg\" height=\"24px\"viewBox=\"0 0 24 24\"\n",
              "       width=\"24px\">\n",
              "    <path d=\"M0 0h24v24H0V0z\" fill=\"none\"/>\n",
              "    <path d=\"M18.56 5.44l.94 2.06.94-2.06 2.06-.94-2.06-.94-.94-2.06-.94 2.06-2.06.94zm-11 1L8.5 8.5l.94-2.06 2.06-.94-2.06-.94L8.5 2.5l-.94 2.06-2.06.94zm10 10l.94 2.06.94-2.06 2.06-.94-2.06-.94-.94-2.06-.94 2.06-2.06.94z\"/><path d=\"M17.41 7.96l-1.37-1.37c-.4-.4-.92-.59-1.43-.59-.52 0-1.04.2-1.43.59L10.3 9.45l-7.72 7.72c-.78.78-.78 2.05 0 2.83L4 21.41c.39.39.9.59 1.41.59.51 0 1.02-.2 1.41-.59l7.78-7.78 2.81-2.81c.8-.78.8-2.07 0-2.86zM5.41 20L4 18.59l7.72-7.72 1.47 1.35L5.41 20z\"/>\n",
              "  </svg>\n",
              "      </button>\n",
              "      \n",
              "  <style>\n",
              "    .colab-df-container {\n",
              "      display:flex;\n",
              "      flex-wrap:wrap;\n",
              "      gap: 12px;\n",
              "    }\n",
              "\n",
              "    .colab-df-convert {\n",
              "      background-color: #E8F0FE;\n",
              "      border: none;\n",
              "      border-radius: 50%;\n",
              "      cursor: pointer;\n",
              "      display: none;\n",
              "      fill: #1967D2;\n",
              "      height: 32px;\n",
              "      padding: 0 0 0 0;\n",
              "      width: 32px;\n",
              "    }\n",
              "\n",
              "    .colab-df-convert:hover {\n",
              "      background-color: #E2EBFA;\n",
              "      box-shadow: 0px 1px 2px rgba(60, 64, 67, 0.3), 0px 1px 3px 1px rgba(60, 64, 67, 0.15);\n",
              "      fill: #174EA6;\n",
              "    }\n",
              "\n",
              "    [theme=dark] .colab-df-convert {\n",
              "      background-color: #3B4455;\n",
              "      fill: #D2E3FC;\n",
              "    }\n",
              "\n",
              "    [theme=dark] .colab-df-convert:hover {\n",
              "      background-color: #434B5C;\n",
              "      box-shadow: 0px 1px 3px 1px rgba(0, 0, 0, 0.15);\n",
              "      filter: drop-shadow(0px 1px 2px rgba(0, 0, 0, 0.3));\n",
              "      fill: #FFFFFF;\n",
              "    }\n",
              "  </style>\n",
              "\n",
              "      <script>\n",
              "        const buttonEl =\n",
              "          document.querySelector('#df-179b8850-967e-43a6-b31f-bc5a838fd2a3 button.colab-df-convert');\n",
              "        buttonEl.style.display =\n",
              "          google.colab.kernel.accessAllowed ? 'block' : 'none';\n",
              "\n",
              "        async function convertToInteractive(key) {\n",
              "          const element = document.querySelector('#df-179b8850-967e-43a6-b31f-bc5a838fd2a3');\n",
              "          const dataTable =\n",
              "            await google.colab.kernel.invokeFunction('convertToInteractive',\n",
              "                                                     [key], {});\n",
              "          if (!dataTable) return;\n",
              "\n",
              "          const docLinkHtml = 'Like what you see? Visit the ' +\n",
              "            '<a target=\"_blank\" href=https://colab.research.google.com/notebooks/data_table.ipynb>data table notebook</a>'\n",
              "            + ' to learn more about interactive tables.';\n",
              "          element.innerHTML = '';\n",
              "          dataTable['output_type'] = 'display_data';\n",
              "          await google.colab.output.renderOutput(dataTable, element);\n",
              "          const docLink = document.createElement('div');\n",
              "          docLink.innerHTML = docLinkHtml;\n",
              "          element.appendChild(docLink);\n",
              "        }\n",
              "      </script>\n",
              "    </div>\n",
              "  </div>\n",
              "  "
            ]
          },
          "metadata": {},
          "execution_count": 17
        }
      ]
    },
    {
      "cell_type": "markdown",
      "source": [
        "Label encoding"
      ],
      "metadata": {
        "id": "m_33cVtBpNrv"
      }
    },
    {
      "cell_type": "code",
      "source": [
        "from sklearn.preprocessing import LabelEncoder "
      ],
      "metadata": {
        "id": "ZtLQo0xTSuKP"
      },
      "execution_count": 18,
      "outputs": []
    },
    {
      "cell_type": "code",
      "source": [
        "le = LabelEncoder()"
      ],
      "metadata": {
        "id": "9Lr1-HvcV8-V"
      },
      "execution_count": 19,
      "outputs": []
    },
    {
      "cell_type": "code",
      "source": [
        "data_y_trans = le.fit_transform(data_y)\n"
      ],
      "metadata": {
        "id": "l32ds-KaWBEt"
      },
      "execution_count": 20,
      "outputs": []
    },
    {
      "cell_type": "code",
      "source": [
        "data_X"
      ],
      "metadata": {
        "colab": {
          "base_uri": "https://localhost:8080/",
          "height": 505
        },
        "id": "bGQlGNLBWGsd",
        "outputId": "75ae3a1d-4053-45be-e950-54e72c9659ec"
      },
      "execution_count": 21,
      "outputs": [
        {
          "output_type": "execute_result",
          "data": {
            "text/plain": [
              "     original_shape_Elongation  original_shape_Flatness  \\\n",
              "0                     0.898535                 0.570600   \n",
              "1                     0.356341                 0.293696   \n",
              "2                     0.972992                 0.838632   \n",
              "3                     0.355514                 0.250921   \n",
              "4                     0.869980                 0.715864   \n",
              "..                         ...                      ...   \n",
              "242                   0.613950                 0.536166   \n",
              "243                   0.706267                 0.473298   \n",
              "244                   0.832425                 0.624674   \n",
              "245                   0.505327                 0.335579   \n",
              "246                   0.505327                 0.335579   \n",
              "\n",
              "     original_shape_LeastAxisLength  original_shape_MajorAxisLength  \\\n",
              "0                         31.886509                       55.882450   \n",
              "1                         30.746972                      104.689637   \n",
              "2                         36.685554                       43.744513   \n",
              "3                         32.048424                      127.723174   \n",
              "4                         37.872296                       52.904327   \n",
              "..                              ...                             ...   \n",
              "242                       67.085543                      125.120921   \n",
              "243                       19.144342                       40.448808   \n",
              "244                       10.141866                       16.235443   \n",
              "245                       14.737564                       43.916805   \n",
              "246                       14.737564                       43.916805   \n",
              "\n",
              "     original_shape_Maximum2DDiameterColumn  \\\n",
              "0                                 63.529521   \n",
              "1                                 62.289646   \n",
              "2                                 56.920998   \n",
              "3                                 92.130342   \n",
              "4                                 63.780875   \n",
              "..                                      ...   \n",
              "242                              151.433154   \n",
              "243                               39.395431   \n",
              "244                               19.697716   \n",
              "245                               45.650849   \n",
              "246                               45.650849   \n",
              "\n",
              "     original_shape_Maximum2DDiameterRow  \\\n",
              "0                              66.573268   \n",
              "1                              76.837491   \n",
              "2                              59.093147   \n",
              "3                              52.153619   \n",
              "4                              65.115282   \n",
              "..                                   ...   \n",
              "242                           143.178211   \n",
              "243                            48.414874   \n",
              "244                            17.204651   \n",
              "245                            41.761226   \n",
              "246                            41.761226   \n",
              "\n",
              "     original_shape_Maximum2DDiameterSlice  original_shape_Maximum3DDiameter  \\\n",
              "0                                61.188234                         72.718636   \n",
              "1                                48.332184                         99.015150   \n",
              "2                                50.000000                         59.531504   \n",
              "3                                50.159745                        158.808060   \n",
              "4                                59.363288                         70.992957   \n",
              "..                                     ...                               ...   \n",
              "242                             118.962179                        186.986630   \n",
              "243                              34.234486                         49.071377   \n",
              "244                              16.124516                         19.798990   \n",
              "245                              29.120440                         50.358713   \n",
              "246                              29.120440                         50.358713   \n",
              "\n",
              "     original_shape_MeshVolume  original_shape_MinorAxisLength  ...  \\\n",
              "0                 48863.000000                       50.212354  ...   \n",
              "1                 16849.666670                       37.305177  ...   \n",
              "2                 45073.000000                       42.563080  ...   \n",
              "3                 13973.333330                       45.407417  ...   \n",
              "4                 50277.333330                       46.025717  ...   \n",
              "..                         ...                             ...  ...   \n",
              "242              262922.000000                       76.818007  ...   \n",
              "243               13417.666670                       28.567655  ...   \n",
              "244                1428.000000                       13.514788  ...   \n",
              "245                7421.333333                       22.192352  ...   \n",
              "246                7421.333333                       22.192352  ...   \n",
              "\n",
              "     wavelet-LLL_gldm_LargeDependenceLowGrayLevelEmphasis  \\\n",
              "0                                             0.000182      \n",
              "1                                             0.000492      \n",
              "2                                             0.000242      \n",
              "3                                             0.000702      \n",
              "4                                             0.000188      \n",
              "..                                                 ...      \n",
              "242                                           0.000135      \n",
              "243                                           0.000960      \n",
              "244                                           0.005574      \n",
              "245                                           0.001249      \n",
              "246                                           0.001249      \n",
              "\n",
              "     wavelet-LLL_gldm_LowGrayLevelEmphasis  \\\n",
              "0                                 0.000175   \n",
              "1                                 0.000480   \n",
              "2                                 0.000204   \n",
              "3                                 0.000609   \n",
              "4                                 0.000179   \n",
              "..                                     ...   \n",
              "242                               0.000055   \n",
              "243                               0.000797   \n",
              "244                               0.005545   \n",
              "245                               0.001130   \n",
              "246                               0.001130   \n",
              "\n",
              "     wavelet-LLL_gldm_SmallDependenceEmphasis  \\\n",
              "0                                    0.782714   \n",
              "1                                    0.809799   \n",
              "2                                    0.607683   \n",
              "3                                    0.672628   \n",
              "4                                    0.739990   \n",
              "..                                        ...   \n",
              "242                                  0.539262   \n",
              "243                                  0.635981   \n",
              "244                                  0.855006   \n",
              "245                                  0.715150   \n",
              "246                                  0.715150   \n",
              "\n",
              "     wavelet-LLL_gldm_SmallDependenceHighGrayLevelEmphasis  \\\n",
              "0                                         188544.34720       \n",
              "1                                         185506.13380       \n",
              "2                                          51789.09974       \n",
              "3                                          16150.60173       \n",
              "4                                         152246.78220       \n",
              "..                                                 ...       \n",
              "242                                        30796.75751       \n",
              "243                                        11131.16552       \n",
              "244                                        21236.68132       \n",
              "245                                        10757.09395       \n",
              "246                                        10757.09395       \n",
              "\n",
              "     wavelet-LLL_gldm_SmallDependenceLowGrayLevelEmphasis  \\\n",
              "0                                             0.000174      \n",
              "1                                             0.000478      \n",
              "2                                             0.000200      \n",
              "3                                             0.000595      \n",
              "4                                             0.000178      \n",
              "..                                                 ...      \n",
              "242                                           0.000047      \n",
              "243                                           0.000775      \n",
              "244                                           0.005537      \n",
              "245                                           0.001110      \n",
              "246                                           0.001110      \n",
              "\n",
              "     wavelet-LLL_ngtdm_Busyness  wavelet-LLL_ngtdm_Coarseness  \\\n",
              "0                      0.001121                      0.001950   \n",
              "1                      0.000573                      0.006157   \n",
              "2                      0.003829                      0.001594   \n",
              "3                      0.008233                      0.005954   \n",
              "4                      0.001932                      0.001420   \n",
              "..                          ...                           ...   \n",
              "242                    0.018433                      0.000387   \n",
              "243                    0.007429                      0.006453   \n",
              "244                    0.003682                      0.030105   \n",
              "245                    0.007144                      0.010583   \n",
              "246                    0.007144                      0.010583   \n",
              "\n",
              "     wavelet-LLL_ngtdm_Complexity  wavelet-LLL_ngtdm_Contrast  \\\n",
              "0                    5.241414e+06                    1.329551   \n",
              "1                    3.263341e+06                    8.577655   \n",
              "2                    1.033373e+06                    1.189275   \n",
              "3                    6.759171e+04                    0.596882   \n",
              "4                    3.371136e+06                    2.314521   \n",
              "..                            ...                         ...   \n",
              "242                  5.073418e+05                    0.115637   \n",
              "243                  8.507560e+04                    0.600453   \n",
              "244                  8.491850e+04                    4.490970   \n",
              "245                  5.701539e+04                    0.849220   \n",
              "246                  5.701539e+04                    0.849220   \n",
              "\n",
              "     wavelet-LLL_ngtdm_Strength  \n",
              "0                    576.487136  \n",
              "1                   1468.964920  \n",
              "2                    158.997655  \n",
              "3                     48.462226  \n",
              "4                    364.513624  \n",
              "..                          ...  \n",
              "242                   33.076902  \n",
              "243                   51.726423  \n",
              "244                  194.650316  \n",
              "245                   56.233061  \n",
              "246                   56.233061  \n",
              "\n",
              "[247 rows x 1093 columns]"
            ],
            "text/html": [
              "\n",
              "  <div id=\"df-ec948f33-54b2-4bb6-b1ac-60d13c917dcc\">\n",
              "    <div class=\"colab-df-container\">\n",
              "      <div>\n",
              "<style scoped>\n",
              "    .dataframe tbody tr th:only-of-type {\n",
              "        vertical-align: middle;\n",
              "    }\n",
              "\n",
              "    .dataframe tbody tr th {\n",
              "        vertical-align: top;\n",
              "    }\n",
              "\n",
              "    .dataframe thead th {\n",
              "        text-align: right;\n",
              "    }\n",
              "</style>\n",
              "<table border=\"1\" class=\"dataframe\">\n",
              "  <thead>\n",
              "    <tr style=\"text-align: right;\">\n",
              "      <th></th>\n",
              "      <th>original_shape_Elongation</th>\n",
              "      <th>original_shape_Flatness</th>\n",
              "      <th>original_shape_LeastAxisLength</th>\n",
              "      <th>original_shape_MajorAxisLength</th>\n",
              "      <th>original_shape_Maximum2DDiameterColumn</th>\n",
              "      <th>original_shape_Maximum2DDiameterRow</th>\n",
              "      <th>original_shape_Maximum2DDiameterSlice</th>\n",
              "      <th>original_shape_Maximum3DDiameter</th>\n",
              "      <th>original_shape_MeshVolume</th>\n",
              "      <th>original_shape_MinorAxisLength</th>\n",
              "      <th>...</th>\n",
              "      <th>wavelet-LLL_gldm_LargeDependenceLowGrayLevelEmphasis</th>\n",
              "      <th>wavelet-LLL_gldm_LowGrayLevelEmphasis</th>\n",
              "      <th>wavelet-LLL_gldm_SmallDependenceEmphasis</th>\n",
              "      <th>wavelet-LLL_gldm_SmallDependenceHighGrayLevelEmphasis</th>\n",
              "      <th>wavelet-LLL_gldm_SmallDependenceLowGrayLevelEmphasis</th>\n",
              "      <th>wavelet-LLL_ngtdm_Busyness</th>\n",
              "      <th>wavelet-LLL_ngtdm_Coarseness</th>\n",
              "      <th>wavelet-LLL_ngtdm_Complexity</th>\n",
              "      <th>wavelet-LLL_ngtdm_Contrast</th>\n",
              "      <th>wavelet-LLL_ngtdm_Strength</th>\n",
              "    </tr>\n",
              "  </thead>\n",
              "  <tbody>\n",
              "    <tr>\n",
              "      <th>0</th>\n",
              "      <td>0.898535</td>\n",
              "      <td>0.570600</td>\n",
              "      <td>31.886509</td>\n",
              "      <td>55.882450</td>\n",
              "      <td>63.529521</td>\n",
              "      <td>66.573268</td>\n",
              "      <td>61.188234</td>\n",
              "      <td>72.718636</td>\n",
              "      <td>48863.000000</td>\n",
              "      <td>50.212354</td>\n",
              "      <td>...</td>\n",
              "      <td>0.000182</td>\n",
              "      <td>0.000175</td>\n",
              "      <td>0.782714</td>\n",
              "      <td>188544.34720</td>\n",
              "      <td>0.000174</td>\n",
              "      <td>0.001121</td>\n",
              "      <td>0.001950</td>\n",
              "      <td>5.241414e+06</td>\n",
              "      <td>1.329551</td>\n",
              "      <td>576.487136</td>\n",
              "    </tr>\n",
              "    <tr>\n",
              "      <th>1</th>\n",
              "      <td>0.356341</td>\n",
              "      <td>0.293696</td>\n",
              "      <td>30.746972</td>\n",
              "      <td>104.689637</td>\n",
              "      <td>62.289646</td>\n",
              "      <td>76.837491</td>\n",
              "      <td>48.332184</td>\n",
              "      <td>99.015150</td>\n",
              "      <td>16849.666670</td>\n",
              "      <td>37.305177</td>\n",
              "      <td>...</td>\n",
              "      <td>0.000492</td>\n",
              "      <td>0.000480</td>\n",
              "      <td>0.809799</td>\n",
              "      <td>185506.13380</td>\n",
              "      <td>0.000478</td>\n",
              "      <td>0.000573</td>\n",
              "      <td>0.006157</td>\n",
              "      <td>3.263341e+06</td>\n",
              "      <td>8.577655</td>\n",
              "      <td>1468.964920</td>\n",
              "    </tr>\n",
              "    <tr>\n",
              "      <th>2</th>\n",
              "      <td>0.972992</td>\n",
              "      <td>0.838632</td>\n",
              "      <td>36.685554</td>\n",
              "      <td>43.744513</td>\n",
              "      <td>56.920998</td>\n",
              "      <td>59.093147</td>\n",
              "      <td>50.000000</td>\n",
              "      <td>59.531504</td>\n",
              "      <td>45073.000000</td>\n",
              "      <td>42.563080</td>\n",
              "      <td>...</td>\n",
              "      <td>0.000242</td>\n",
              "      <td>0.000204</td>\n",
              "      <td>0.607683</td>\n",
              "      <td>51789.09974</td>\n",
              "      <td>0.000200</td>\n",
              "      <td>0.003829</td>\n",
              "      <td>0.001594</td>\n",
              "      <td>1.033373e+06</td>\n",
              "      <td>1.189275</td>\n",
              "      <td>158.997655</td>\n",
              "    </tr>\n",
              "    <tr>\n",
              "      <th>3</th>\n",
              "      <td>0.355514</td>\n",
              "      <td>0.250921</td>\n",
              "      <td>32.048424</td>\n",
              "      <td>127.723174</td>\n",
              "      <td>92.130342</td>\n",
              "      <td>52.153619</td>\n",
              "      <td>50.159745</td>\n",
              "      <td>158.808060</td>\n",
              "      <td>13973.333330</td>\n",
              "      <td>45.407417</td>\n",
              "      <td>...</td>\n",
              "      <td>0.000702</td>\n",
              "      <td>0.000609</td>\n",
              "      <td>0.672628</td>\n",
              "      <td>16150.60173</td>\n",
              "      <td>0.000595</td>\n",
              "      <td>0.008233</td>\n",
              "      <td>0.005954</td>\n",
              "      <td>6.759171e+04</td>\n",
              "      <td>0.596882</td>\n",
              "      <td>48.462226</td>\n",
              "    </tr>\n",
              "    <tr>\n",
              "      <th>4</th>\n",
              "      <td>0.869980</td>\n",
              "      <td>0.715864</td>\n",
              "      <td>37.872296</td>\n",
              "      <td>52.904327</td>\n",
              "      <td>63.780875</td>\n",
              "      <td>65.115282</td>\n",
              "      <td>59.363288</td>\n",
              "      <td>70.992957</td>\n",
              "      <td>50277.333330</td>\n",
              "      <td>46.025717</td>\n",
              "      <td>...</td>\n",
              "      <td>0.000188</td>\n",
              "      <td>0.000179</td>\n",
              "      <td>0.739990</td>\n",
              "      <td>152246.78220</td>\n",
              "      <td>0.000178</td>\n",
              "      <td>0.001932</td>\n",
              "      <td>0.001420</td>\n",
              "      <td>3.371136e+06</td>\n",
              "      <td>2.314521</td>\n",
              "      <td>364.513624</td>\n",
              "    </tr>\n",
              "    <tr>\n",
              "      <th>...</th>\n",
              "      <td>...</td>\n",
              "      <td>...</td>\n",
              "      <td>...</td>\n",
              "      <td>...</td>\n",
              "      <td>...</td>\n",
              "      <td>...</td>\n",
              "      <td>...</td>\n",
              "      <td>...</td>\n",
              "      <td>...</td>\n",
              "      <td>...</td>\n",
              "      <td>...</td>\n",
              "      <td>...</td>\n",
              "      <td>...</td>\n",
              "      <td>...</td>\n",
              "      <td>...</td>\n",
              "      <td>...</td>\n",
              "      <td>...</td>\n",
              "      <td>...</td>\n",
              "      <td>...</td>\n",
              "      <td>...</td>\n",
              "      <td>...</td>\n",
              "    </tr>\n",
              "    <tr>\n",
              "      <th>242</th>\n",
              "      <td>0.613950</td>\n",
              "      <td>0.536166</td>\n",
              "      <td>67.085543</td>\n",
              "      <td>125.120921</td>\n",
              "      <td>151.433154</td>\n",
              "      <td>143.178211</td>\n",
              "      <td>118.962179</td>\n",
              "      <td>186.986630</td>\n",
              "      <td>262922.000000</td>\n",
              "      <td>76.818007</td>\n",
              "      <td>...</td>\n",
              "      <td>0.000135</td>\n",
              "      <td>0.000055</td>\n",
              "      <td>0.539262</td>\n",
              "      <td>30796.75751</td>\n",
              "      <td>0.000047</td>\n",
              "      <td>0.018433</td>\n",
              "      <td>0.000387</td>\n",
              "      <td>5.073418e+05</td>\n",
              "      <td>0.115637</td>\n",
              "      <td>33.076902</td>\n",
              "    </tr>\n",
              "    <tr>\n",
              "      <th>243</th>\n",
              "      <td>0.706267</td>\n",
              "      <td>0.473298</td>\n",
              "      <td>19.144342</td>\n",
              "      <td>40.448808</td>\n",
              "      <td>39.395431</td>\n",
              "      <td>48.414874</td>\n",
              "      <td>34.234486</td>\n",
              "      <td>49.071377</td>\n",
              "      <td>13417.666670</td>\n",
              "      <td>28.567655</td>\n",
              "      <td>...</td>\n",
              "      <td>0.000960</td>\n",
              "      <td>0.000797</td>\n",
              "      <td>0.635981</td>\n",
              "      <td>11131.16552</td>\n",
              "      <td>0.000775</td>\n",
              "      <td>0.007429</td>\n",
              "      <td>0.006453</td>\n",
              "      <td>8.507560e+04</td>\n",
              "      <td>0.600453</td>\n",
              "      <td>51.726423</td>\n",
              "    </tr>\n",
              "    <tr>\n",
              "      <th>244</th>\n",
              "      <td>0.832425</td>\n",
              "      <td>0.624674</td>\n",
              "      <td>10.141866</td>\n",
              "      <td>16.235443</td>\n",
              "      <td>19.697716</td>\n",
              "      <td>17.204651</td>\n",
              "      <td>16.124516</td>\n",
              "      <td>19.798990</td>\n",
              "      <td>1428.000000</td>\n",
              "      <td>13.514788</td>\n",
              "      <td>...</td>\n",
              "      <td>0.005574</td>\n",
              "      <td>0.005545</td>\n",
              "      <td>0.855006</td>\n",
              "      <td>21236.68132</td>\n",
              "      <td>0.005537</td>\n",
              "      <td>0.003682</td>\n",
              "      <td>0.030105</td>\n",
              "      <td>8.491850e+04</td>\n",
              "      <td>4.490970</td>\n",
              "      <td>194.650316</td>\n",
              "    </tr>\n",
              "    <tr>\n",
              "      <th>245</th>\n",
              "      <td>0.505327</td>\n",
              "      <td>0.335579</td>\n",
              "      <td>14.737564</td>\n",
              "      <td>43.916805</td>\n",
              "      <td>45.650849</td>\n",
              "      <td>41.761226</td>\n",
              "      <td>29.120440</td>\n",
              "      <td>50.358713</td>\n",
              "      <td>7421.333333</td>\n",
              "      <td>22.192352</td>\n",
              "      <td>...</td>\n",
              "      <td>0.001249</td>\n",
              "      <td>0.001130</td>\n",
              "      <td>0.715150</td>\n",
              "      <td>10757.09395</td>\n",
              "      <td>0.001110</td>\n",
              "      <td>0.007144</td>\n",
              "      <td>0.010583</td>\n",
              "      <td>5.701539e+04</td>\n",
              "      <td>0.849220</td>\n",
              "      <td>56.233061</td>\n",
              "    </tr>\n",
              "    <tr>\n",
              "      <th>246</th>\n",
              "      <td>0.505327</td>\n",
              "      <td>0.335579</td>\n",
              "      <td>14.737564</td>\n",
              "      <td>43.916805</td>\n",
              "      <td>45.650849</td>\n",
              "      <td>41.761226</td>\n",
              "      <td>29.120440</td>\n",
              "      <td>50.358713</td>\n",
              "      <td>7421.333333</td>\n",
              "      <td>22.192352</td>\n",
              "      <td>...</td>\n",
              "      <td>0.001249</td>\n",
              "      <td>0.001130</td>\n",
              "      <td>0.715150</td>\n",
              "      <td>10757.09395</td>\n",
              "      <td>0.001110</td>\n",
              "      <td>0.007144</td>\n",
              "      <td>0.010583</td>\n",
              "      <td>5.701539e+04</td>\n",
              "      <td>0.849220</td>\n",
              "      <td>56.233061</td>\n",
              "    </tr>\n",
              "  </tbody>\n",
              "</table>\n",
              "<p>247 rows × 1093 columns</p>\n",
              "</div>\n",
              "      <button class=\"colab-df-convert\" onclick=\"convertToInteractive('df-ec948f33-54b2-4bb6-b1ac-60d13c917dcc')\"\n",
              "              title=\"Convert this dataframe to an interactive table.\"\n",
              "              style=\"display:none;\">\n",
              "        \n",
              "  <svg xmlns=\"http://www.w3.org/2000/svg\" height=\"24px\"viewBox=\"0 0 24 24\"\n",
              "       width=\"24px\">\n",
              "    <path d=\"M0 0h24v24H0V0z\" fill=\"none\"/>\n",
              "    <path d=\"M18.56 5.44l.94 2.06.94-2.06 2.06-.94-2.06-.94-.94-2.06-.94 2.06-2.06.94zm-11 1L8.5 8.5l.94-2.06 2.06-.94-2.06-.94L8.5 2.5l-.94 2.06-2.06.94zm10 10l.94 2.06.94-2.06 2.06-.94-2.06-.94-.94-2.06-.94 2.06-2.06.94z\"/><path d=\"M17.41 7.96l-1.37-1.37c-.4-.4-.92-.59-1.43-.59-.52 0-1.04.2-1.43.59L10.3 9.45l-7.72 7.72c-.78.78-.78 2.05 0 2.83L4 21.41c.39.39.9.59 1.41.59.51 0 1.02-.2 1.41-.59l7.78-7.78 2.81-2.81c.8-.78.8-2.07 0-2.86zM5.41 20L4 18.59l7.72-7.72 1.47 1.35L5.41 20z\"/>\n",
              "  </svg>\n",
              "      </button>\n",
              "      \n",
              "  <style>\n",
              "    .colab-df-container {\n",
              "      display:flex;\n",
              "      flex-wrap:wrap;\n",
              "      gap: 12px;\n",
              "    }\n",
              "\n",
              "    .colab-df-convert {\n",
              "      background-color: #E8F0FE;\n",
              "      border: none;\n",
              "      border-radius: 50%;\n",
              "      cursor: pointer;\n",
              "      display: none;\n",
              "      fill: #1967D2;\n",
              "      height: 32px;\n",
              "      padding: 0 0 0 0;\n",
              "      width: 32px;\n",
              "    }\n",
              "\n",
              "    .colab-df-convert:hover {\n",
              "      background-color: #E2EBFA;\n",
              "      box-shadow: 0px 1px 2px rgba(60, 64, 67, 0.3), 0px 1px 3px 1px rgba(60, 64, 67, 0.15);\n",
              "      fill: #174EA6;\n",
              "    }\n",
              "\n",
              "    [theme=dark] .colab-df-convert {\n",
              "      background-color: #3B4455;\n",
              "      fill: #D2E3FC;\n",
              "    }\n",
              "\n",
              "    [theme=dark] .colab-df-convert:hover {\n",
              "      background-color: #434B5C;\n",
              "      box-shadow: 0px 1px 3px 1px rgba(0, 0, 0, 0.15);\n",
              "      filter: drop-shadow(0px 1px 2px rgba(0, 0, 0, 0.3));\n",
              "      fill: #FFFFFF;\n",
              "    }\n",
              "  </style>\n",
              "\n",
              "      <script>\n",
              "        const buttonEl =\n",
              "          document.querySelector('#df-ec948f33-54b2-4bb6-b1ac-60d13c917dcc button.colab-df-convert');\n",
              "        buttonEl.style.display =\n",
              "          google.colab.kernel.accessAllowed ? 'block' : 'none';\n",
              "\n",
              "        async function convertToInteractive(key) {\n",
              "          const element = document.querySelector('#df-ec948f33-54b2-4bb6-b1ac-60d13c917dcc');\n",
              "          const dataTable =\n",
              "            await google.colab.kernel.invokeFunction('convertToInteractive',\n",
              "                                                     [key], {});\n",
              "          if (!dataTable) return;\n",
              "\n",
              "          const docLinkHtml = 'Like what you see? Visit the ' +\n",
              "            '<a target=\"_blank\" href=https://colab.research.google.com/notebooks/data_table.ipynb>data table notebook</a>'\n",
              "            + ' to learn more about interactive tables.';\n",
              "          element.innerHTML = '';\n",
              "          dataTable['output_type'] = 'display_data';\n",
              "          await google.colab.output.renderOutput(dataTable, element);\n",
              "          const docLink = document.createElement('div');\n",
              "          docLink.innerHTML = docLinkHtml;\n",
              "          element.appendChild(docLink);\n",
              "        }\n",
              "      </script>\n",
              "    </div>\n",
              "  </div>\n",
              "  "
            ]
          },
          "metadata": {},
          "execution_count": 21
        }
      ]
    },
    {
      "cell_type": "code",
      "source": [
        "df2 = pd.DataFrame(data_X)  "
      ],
      "metadata": {
        "id": "AQmLs5oZZBJX"
      },
      "execution_count": 22,
      "outputs": []
    },
    {
      "cell_type": "code",
      "source": [
        "df2.to_csv(r'my_data.csv', index=False)"
      ],
      "metadata": {
        "id": "inC1c6myZ658"
      },
      "execution_count": 23,
      "outputs": []
    },
    {
      "cell_type": "code",
      "source": [
        "from sklearn.model_selection import train_test_split\n",
        "X_train, X_test,y_train, y_test = train_test_split(data_X, data_y_trans, train_size = 0.7)"
      ],
      "metadata": {
        "id": "mrdZHJ0WOGAW"
      },
      "execution_count": 24,
      "outputs": []
    },
    {
      "cell_type": "code",
      "source": [
        "from sklearn.preprocessing import StandardScaler \n",
        "ss = StandardScaler()\n",
        "X_train_std = ss.fit_transform(X_train)\n",
        "X_test_std = ss.fit_transform(X_test)"
      ],
      "metadata": {
        "id": "ZaY6hGTXcDt4"
      },
      "execution_count": 25,
      "outputs": []
    },
    {
      "cell_type": "markdown",
      "source": [
        "FEATURE SELECTION"
      ],
      "metadata": {
        "id": "IaBRVekPmMZi"
      }
    },
    {
      "cell_type": "code",
      "source": [
        "from sklearn.feature_selection import chi2 \n",
        "from sklearn.feature_selection import SelectKBest \n",
        "from sklearn.ensemble import ExtraTreesClassifier"
      ],
      "metadata": {
        "id": "7gJBMcms7025"
      },
      "execution_count": 26,
      "outputs": []
    },
    {
      "cell_type": "code",
      "source": [
        "model = ExtraTreesClassifier(bootstrap=False, ccp_alpha=0.0, class_weight=None,\n",
        "                     criterion='gini', max_depth=None, max_features='auto',\n",
        "                     max_leaf_nodes=None, max_samples=None,\n",
        "                     min_impurity_decrease=0.0, \n",
        "                     min_samples_leaf=1, min_samples_split=2,\n",
        "                     min_weight_fraction_leaf=0.0, n_estimators=100,\n",
        "                     n_jobs=None, oob_score=False, random_state=42, verbose=0,\n",
        "                     warm_start=False)\n",
        "\n",
        "model.fit(data_X, data_y_trans)"
      ],
      "metadata": {
        "id": "n9IAlJzu72GW",
        "outputId": "957cd7d7-b929-44d4-e769-b2c55e0c2771",
        "colab": {
          "base_uri": "https://localhost:8080/"
        }
      },
      "execution_count": 27,
      "outputs": [
        {
          "output_type": "execute_result",
          "data": {
            "text/plain": [
              "ExtraTreesClassifier(random_state=42)"
            ]
          },
          "metadata": {},
          "execution_count": 27
        }
      ]
    },
    {
      "cell_type": "code",
      "source": [
        "model.feature_importances_"
      ],
      "metadata": {
        "id": "_MeL3rQC8lNp",
        "outputId": "6b270025-6613-4fdd-f899-072e2eb788fc",
        "colab": {
          "base_uri": "https://localhost:8080/"
        }
      },
      "execution_count": 28,
      "outputs": [
        {
          "output_type": "execute_result",
          "data": {
            "text/plain": [
              "array([0.00095195, 0.00139088, 0.0009904 , ..., 0.00042896, 0.00129838,\n",
              "       0.00105998])"
            ]
          },
          "metadata": {},
          "execution_count": 28
        }
      ]
    },
    {
      "cell_type": "code",
      "source": [
        "feature_importance_std = pd.Series(model.feature_importances_, index=data_X.columns)\n",
        "feature_importance_std.nlargest(20).plot(kind='bar', title='Standardised Dataset Feature Selection using ExtraTreesClassifier')"
      ],
      "metadata": {
        "id": "Z8ty4qs584ae",
        "outputId": "03dc0aa2-7430-456b-b0a3-5045414ef28f",
        "colab": {
          "base_uri": "https://localhost:8080/",
          "height": 566
        }
      },
      "execution_count": 29,
      "outputs": [
        {
          "output_type": "execute_result",
          "data": {
            "text/plain": [
              "<matplotlib.axes._subplots.AxesSubplot at 0x7f4e1e169220>"
            ]
          },
          "metadata": {},
          "execution_count": 29
        },
        {
          "output_type": "display_data",
          "data": {
            "text/plain": [
              "<Figure size 432x288 with 1 Axes>"
            ],
            "image/png": "[encoded data removed]"
          },
          "metadata": {
            "needs_background": "light"
          }
        }
      ]
    },
    {
      "cell_type": "code",
      "source": [
        "feature_importance_std.nlargest(20)"
      ],
      "metadata": {
        "colab": {
          "base_uri": "https://localhost:8080/"
        },
        "id": "LMpuXLJsasSJ",
        "outputId": "62dbaf71-a6f0-4405-ad93-5a175eaa91ef"
      },
      "execution_count": 30,
      "outputs": [
        {
          "output_type": "execute_result",
          "data": {
            "text/plain": [
              "wavelet-HLL_glcm_Correlation                          0.005322\n",
              "wavelet-LLH_glszm_GrayLevelNonUniformity              0.004076\n",
              "original_shape_Maximum2DDiameterSlice                 0.004027\n",
              "original_glcm_Correlation                             0.003631\n",
              "original_firstorder_90Percentile                      0.003473\n",
              "wavelet-LLL_firstorder_Median                         0.003212\n",
              "log-sigma-1-0-mm-3D_ngtdm_Coarseness                  0.003106\n",
              "wavelet-HLL_gldm_GrayLevelVariance                    0.003091\n",
              "wavelet-LLH_glszm_SizeZoneNonUniformityNormalized     0.003088\n",
              "wavelet-LLH_glrlm_LongRunHighGrayLevelEmphasis        0.003032\n",
              "wavelet-HLH_glcm_Correlation                          0.002955\n",
              "wavelet-HHL_glrlm_LongRunHighGrayLevelEmphasis        0.002646\n",
              "wavelet-HHH_firstorder_Mean                           0.002623\n",
              "wavelet-LLH_glcm_Correlation                          0.002597\n",
              "wavelet-LLL_glszm_SizeZoneNonUniformity               0.002580\n",
              "wavelet-LHL_glszm_GrayLevelNonUniformity              0.002476\n",
              "wavelet-LLL_glszm_GrayLevelNonUniformityNormalized    0.002388\n",
              "wavelet-LHH_glrlm_GrayLevelNonUniformity              0.002364\n",
              "wavelet-HLL_glcm_Idmn                                 0.002303\n",
              "wavelet-HHL_glrlm_ShortRunEmphasis                    0.002302\n",
              "dtype: float64"
            ]
          },
          "metadata": {},
          "execution_count": 30
        }
      ]
    },
    {
      "cell_type": "code",
      "source": [
        "data_new_20features_X = data_X[['wavelet-HLL_glcm_Correlation',\n",
        "'wavelet-LLH_glszm_GrayLevelNonUniformity',\n",
        "'original_shape_Maximum2DDiameterSlice',\n",
        "'original_glcm_Correlation',\n",
        "'original_firstorder_90Percentile',\n",
        "'wavelet-LLL_firstorder_Median',\n",
        "'log-sigma-1-0-mm-3D_ngtdm_Coarseness',\n",
        "'wavelet-HLL_gldm_GrayLevelVariance',\n",
        "'wavelet-LLH_glszm_SizeZoneNonUniformityNormalized',\n",
        "'wavelet-LLH_glrlm_LongRunHighGrayLevelEmphasis',\n",
        "'wavelet-HLH_glcm_Correlation',\n",
        "'wavelet-HHL_glrlm_LongRunHighGrayLevelEmphasis',\n",
        "'wavelet-HHH_firstorder_Mean',\n",
        "'wavelet-LLH_glcm_Correlation',\n",
        "'wavelet-LLL_glszm_SizeZoneNonUniformity',\n",
        "'wavelet-LLH_glszm_GrayLevelNonUniformity',\n",
        "'wavelet-LLL_glszm_GrayLevelNonUniformityNormalized',\n",
        "'wavelet-LHH_glrlm_GrayLevelNonUniformity',\n",
        "'wavelet-HHL_glrlm_ShortRunEmphasis']]"
      ],
      "metadata": {
        "id": "IOCY4W5x9E7e"
      },
      "execution_count": 31,
      "outputs": []
    },
    {
      "cell_type": "code",
      "source": [
        "data_new_20features_X"
      ],
      "metadata": {
        "id": "Z3ovz_PH9Tiy",
        "outputId": "f4d61a82-3940-4bdb-bd5c-cdef8279496b",
        "colab": {
          "base_uri": "https://localhost:8080/",
          "height": 505
        }
      },
      "execution_count": 32,
      "outputs": [
        {
          "output_type": "execute_result",
          "data": {
            "text/plain": [
              "     wavelet-HLL_glcm_Correlation  wavelet-LLH_glszm_GrayLevelNonUniformity  \\\n",
              "0                        0.111907                                 59.266235   \n",
              "1                        0.186510                                 35.799083   \n",
              "2                        0.228052                                 52.330247   \n",
              "3                        0.182696                                 36.963134   \n",
              "4                        0.172725                                 61.275099   \n",
              "..                            ...                                       ...   \n",
              "242                      0.222189                                377.034868   \n",
              "243                      0.242403                                 19.990148   \n",
              "244                      0.400221                                  4.717172   \n",
              "245                      0.371026                                 16.793765   \n",
              "246                      0.371026                                 16.793765   \n",
              "\n",
              "     original_shape_Maximum2DDiameterSlice  original_glcm_Correlation  \\\n",
              "0                                61.188234                   0.692753   \n",
              "1                                48.332184                   0.874721   \n",
              "2                                50.000000                   0.543484   \n",
              "3                                50.159745                   0.471547   \n",
              "4                                59.363288                   0.571065   \n",
              "..                                     ...                        ...   \n",
              "242                             118.962179                   0.484215   \n",
              "243                              34.234486                   0.458299   \n",
              "244                              16.124516                   0.540853   \n",
              "245                              29.120440                   0.532447   \n",
              "246                              29.120440                   0.532447   \n",
              "\n",
              "     original_firstorder_90Percentile  wavelet-LLL_firstorder_Median  \\\n",
              "0                          320.109735                     152.173401   \n",
              "1                           35.692534                    -277.363739   \n",
              "2                          103.570842                     205.087456   \n",
              "3                           58.279659                      21.103539   \n",
              "4                           64.912999                      11.502838   \n",
              "..                                ...                            ...   \n",
              "242                         74.714656                     104.797287   \n",
              "243                        102.990390                     174.314224   \n",
              "244                        102.380483                      55.334547   \n",
              "245                        124.962648                     189.995987   \n",
              "246                        124.962648                     189.995987   \n",
              "\n",
              "     log-sigma-1-0-mm-3D_ngtdm_Coarseness  wavelet-HLL_gldm_GrayLevelVariance  \\\n",
              "0                                0.001385                          587.024260   \n",
              "1                                0.003359                         1678.095013   \n",
              "2                                0.001291                          307.093149   \n",
              "3                                0.003327                          201.963445   \n",
              "4                                0.001198                         1038.807072   \n",
              "..                                    ...                                 ...   \n",
              "242                              0.000202                          201.674443   \n",
              "243                              0.003836                           90.356696   \n",
              "244                              0.030720                          173.772280   \n",
              "245                              0.006959                          100.458654   \n",
              "246                              0.006959                          100.458654   \n",
              "\n",
              "     wavelet-LLH_glszm_SizeZoneNonUniformityNormalized  \\\n",
              "0                                             0.629069   \n",
              "1                                             0.577221   \n",
              "2                                             0.546732   \n",
              "3                                             0.474790   \n",
              "4                                             0.616722   \n",
              "..                                                 ...   \n",
              "242                                           0.436838   \n",
              "243                                           0.492993   \n",
              "244                                           0.469034   \n",
              "245                                           0.437020   \n",
              "246                                           0.437020   \n",
              "\n",
              "     wavelet-LLH_glrlm_LongRunHighGrayLevelEmphasis  \\\n",
              "0                                      15233.713280   \n",
              "1                                      11886.039060   \n",
              "2                                       8416.489819   \n",
              "3                                       8534.187501   \n",
              "4                                      15271.408360   \n",
              "..                                              ...   \n",
              "242                                     9361.071817   \n",
              "243                                    11013.892660   \n",
              "244                                      236.962555   \n",
              "245                                     3324.496749   \n",
              "246                                     3324.496749   \n",
              "\n",
              "     wavelet-HLH_glcm_Correlation  \\\n",
              "0                        0.004805   \n",
              "1                       -0.011177   \n",
              "2                        0.066790   \n",
              "3                        0.025917   \n",
              "4                        0.043009   \n",
              "..                            ...   \n",
              "242                      0.044446   \n",
              "243                      0.086067   \n",
              "244                     -0.014947   \n",
              "245                      0.087089   \n",
              "246                      0.087089   \n",
              "\n",
              "     wavelet-HHL_glrlm_LongRunHighGrayLevelEmphasis  \\\n",
              "0                                      12449.762880   \n",
              "1                                       9211.393271   \n",
              "2                                       4872.943326   \n",
              "3                                       6329.094091   \n",
              "4                                      15586.556710   \n",
              "..                                              ...   \n",
              "242                                    13232.335790   \n",
              "243                                     3492.605707   \n",
              "244                                      975.782516   \n",
              "245                                     3114.071937   \n",
              "246                                     3114.071937   \n",
              "\n",
              "     wavelet-HHH_firstorder_Mean  wavelet-LLH_glcm_Correlation  \\\n",
              "0                      -0.034250                      0.338160   \n",
              "1                       0.003666                      0.378823   \n",
              "2                      -0.074055                      0.442844   \n",
              "3                      -0.003756                      0.380519   \n",
              "4                       0.126153                      0.357940   \n",
              "..                           ...                           ...   \n",
              "242                    -0.033676                      0.376870   \n",
              "243                    -0.139018                      0.477427   \n",
              "244                    -0.268201                      0.485060   \n",
              "245                    -0.501685                      0.460377   \n",
              "246                    -0.501685                      0.460377   \n",
              "\n",
              "     wavelet-LLL_glszm_SizeZoneNonUniformity  \\\n",
              "0                                3856.633300   \n",
              "1                                1482.287701   \n",
              "2                                2393.474352   \n",
              "3                                 866.476580   \n",
              "4                                3596.487221   \n",
              "..                                       ...   \n",
              "242                             11190.092250   \n",
              "243                               744.748533   \n",
              "244                               133.329268   \n",
              "245                               510.316422   \n",
              "246                               510.316422   \n",
              "\n",
              "     wavelet-LLH_glszm_GrayLevelNonUniformity  \\\n",
              "0                                   59.266235   \n",
              "1                                   35.799083   \n",
              "2                                   52.330247   \n",
              "3                                   36.963134   \n",
              "4                                   61.275099   \n",
              "..                                        ...   \n",
              "242                                377.034868   \n",
              "243                                 19.990148   \n",
              "244                                  4.717172   \n",
              "245                                 16.793765   \n",
              "246                                 16.793765   \n",
              "\n",
              "     wavelet-LLL_glszm_GrayLevelNonUniformityNormalized  \\\n",
              "0                                             0.004577    \n",
              "1                                             0.003834    \n",
              "2                                             0.007771    \n",
              "3                                             0.013083    \n",
              "4                                             0.006591    \n",
              "..                                                 ...    \n",
              "242                                           0.012663    \n",
              "243                                           0.012673    \n",
              "244                                           0.012344    \n",
              "245                                           0.011781    \n",
              "246                                           0.011781    \n",
              "\n",
              "     wavelet-LHH_glrlm_GrayLevelNonUniformity  \\\n",
              "0                                  266.960698   \n",
              "1                                  132.744918   \n",
              "2                                  420.984012   \n",
              "3                                  112.082673   \n",
              "4                                  244.401105   \n",
              "..                                        ...   \n",
              "242                               3134.211362   \n",
              "243                                 96.713506   \n",
              "244                                 20.446238   \n",
              "245                                 91.414642   \n",
              "246                                 91.414642   \n",
              "\n",
              "     wavelet-HHL_glrlm_ShortRunEmphasis  \n",
              "0                              0.969541  \n",
              "1                              0.981721  \n",
              "2                              0.959236  \n",
              "3                              0.980580  \n",
              "4                              0.984527  \n",
              "..                                  ...  \n",
              "242                            0.955379  \n",
              "243                            0.970960  \n",
              "244                            0.963744  \n",
              "245                            0.958340  \n",
              "246                            0.958340  \n",
              "\n",
              "[247 rows x 19 columns]"
            ],
            "text/html": [
              "\n",
              "  <div id=\"df-be2dc5a4-30ee-465c-9cb3-f621d293403d\">\n",
              "    <div class=\"colab-df-container\">\n",
              "      <div>\n",
              "<style scoped>\n",
              "    .dataframe tbody tr th:only-of-type {\n",
              "        vertical-align: middle;\n",
              "    }\n",
              "\n",
              "    .dataframe tbody tr th {\n",
              "        vertical-align: top;\n",
              "    }\n",
              "\n",
              "    .dataframe thead th {\n",
              "        text-align: right;\n",
              "    }\n",
              "</style>\n",
              "<table border=\"1\" class=\"dataframe\">\n",
              "  <thead>\n",
              "    <tr style=\"text-align: right;\">\n",
              "      <th></th>\n",
              "      <th>wavelet-HLL_glcm_Correlation</th>\n",
              "      <th>wavelet-LLH_glszm_GrayLevelNonUniformity</th>\n",
              "      <th>original_shape_Maximum2DDiameterSlice</th>\n",
              "      <th>original_glcm_Correlation</th>\n",
              "      <th>original_firstorder_90Percentile</th>\n",
              "      <th>wavelet-LLL_firstorder_Median</th>\n",
              "      <th>log-sigma-1-0-mm-3D_ngtdm_Coarseness</th>\n",
              "      <th>wavelet-HLL_gldm_GrayLevelVariance</th>\n",
              "      <th>wavelet-LLH_glszm_SizeZoneNonUniformityNormalized</th>\n",
              "      <th>wavelet-LLH_glrlm_LongRunHighGrayLevelEmphasis</th>\n",
              "      <th>wavelet-HLH_glcm_Correlation</th>\n",
              "      <th>wavelet-HHL_glrlm_LongRunHighGrayLevelEmphasis</th>\n",
              "      <th>wavelet-HHH_firstorder_Mean</th>\n",
              "      <th>wavelet-LLH_glcm_Correlation</th>\n",
              "      <th>wavelet-LLL_glszm_SizeZoneNonUniformity</th>\n",
              "      <th>wavelet-LLH_glszm_GrayLevelNonUniformity</th>\n",
              "      <th>wavelet-LLL_glszm_GrayLevelNonUniformityNormalized</th>\n",
              "      <th>wavelet-LHH_glrlm_GrayLevelNonUniformity</th>\n",
              "      <th>wavelet-HHL_glrlm_ShortRunEmphasis</th>\n",
              "    </tr>\n",
              "  </thead>\n",
              "  <tbody>\n",
              "    <tr>\n",
              "      <th>0</th>\n",
              "      <td>0.111907</td>\n",
              "      <td>59.266235</td>\n",
              "      <td>61.188234</td>\n",
              "      <td>0.692753</td>\n",
              "      <td>320.109735</td>\n",
              "      <td>152.173401</td>\n",
              "      <td>0.001385</td>\n",
              "      <td>587.024260</td>\n",
              "      <td>0.629069</td>\n",
              "      <td>15233.713280</td>\n",
              "      <td>0.004805</td>\n",
              "      <td>12449.762880</td>\n",
              "      <td>-0.034250</td>\n",
              "      <td>0.338160</td>\n",
              "      <td>3856.633300</td>\n",
              "      <td>59.266235</td>\n",
              "      <td>0.004577</td>\n",
              "      <td>266.960698</td>\n",
              "      <td>0.969541</td>\n",
              "    </tr>\n",
              "    <tr>\n",
              "      <th>1</th>\n",
              "      <td>0.186510</td>\n",
              "      <td>35.799083</td>\n",
              "      <td>48.332184</td>\n",
              "      <td>0.874721</td>\n",
              "      <td>35.692534</td>\n",
              "      <td>-277.363739</td>\n",
              "      <td>0.003359</td>\n",
              "      <td>1678.095013</td>\n",
              "      <td>0.577221</td>\n",
              "      <td>11886.039060</td>\n",
              "      <td>-0.011177</td>\n",
              "      <td>9211.393271</td>\n",
              "      <td>0.003666</td>\n",
              "      <td>0.378823</td>\n",
              "      <td>1482.287701</td>\n",
              "      <td>35.799083</td>\n",
              "      <td>0.003834</td>\n",
              "      <td>132.744918</td>\n",
              "      <td>0.981721</td>\n",
              "    </tr>\n",
              "    <tr>\n",
              "      <th>2</th>\n",
              "      <td>0.228052</td>\n",
              "      <td>52.330247</td>\n",
              "      <td>50.000000</td>\n",
              "      <td>0.543484</td>\n",
              "      <td>103.570842</td>\n",
              "      <td>205.087456</td>\n",
              "      <td>0.001291</td>\n",
              "      <td>307.093149</td>\n",
              "      <td>0.546732</td>\n",
              "      <td>8416.489819</td>\n",
              "      <td>0.066790</td>\n",
              "      <td>4872.943326</td>\n",
              "      <td>-0.074055</td>\n",
              "      <td>0.442844</td>\n",
              "      <td>2393.474352</td>\n",
              "      <td>52.330247</td>\n",
              "      <td>0.007771</td>\n",
              "      <td>420.984012</td>\n",
              "      <td>0.959236</td>\n",
              "    </tr>\n",
              "    <tr>\n",
              "      <th>3</th>\n",
              "      <td>0.182696</td>\n",
              "      <td>36.963134</td>\n",
              "      <td>50.159745</td>\n",
              "      <td>0.471547</td>\n",
              "      <td>58.279659</td>\n",
              "      <td>21.103539</td>\n",
              "      <td>0.003327</td>\n",
              "      <td>201.963445</td>\n",
              "      <td>0.474790</td>\n",
              "      <td>8534.187501</td>\n",
              "      <td>0.025917</td>\n",
              "      <td>6329.094091</td>\n",
              "      <td>-0.003756</td>\n",
              "      <td>0.380519</td>\n",
              "      <td>866.476580</td>\n",
              "      <td>36.963134</td>\n",
              "      <td>0.013083</td>\n",
              "      <td>112.082673</td>\n",
              "      <td>0.980580</td>\n",
              "    </tr>\n",
              "    <tr>\n",
              "      <th>4</th>\n",
              "      <td>0.172725</td>\n",
              "      <td>61.275099</td>\n",
              "      <td>59.363288</td>\n",
              "      <td>0.571065</td>\n",
              "      <td>64.912999</td>\n",
              "      <td>11.502838</td>\n",
              "      <td>0.001198</td>\n",
              "      <td>1038.807072</td>\n",
              "      <td>0.616722</td>\n",
              "      <td>15271.408360</td>\n",
              "      <td>0.043009</td>\n",
              "      <td>15586.556710</td>\n",
              "      <td>0.126153</td>\n",
              "      <td>0.357940</td>\n",
              "      <td>3596.487221</td>\n",
              "      <td>61.275099</td>\n",
              "      <td>0.006591</td>\n",
              "      <td>244.401105</td>\n",
              "      <td>0.984527</td>\n",
              "    </tr>\n",
              "    <tr>\n",
              "      <th>...</th>\n",
              "      <td>...</td>\n",
              "      <td>...</td>\n",
              "      <td>...</td>\n",
              "      <td>...</td>\n",
              "      <td>...</td>\n",
              "      <td>...</td>\n",
              "      <td>...</td>\n",
              "      <td>...</td>\n",
              "      <td>...</td>\n",
              "      <td>...</td>\n",
              "      <td>...</td>\n",
              "      <td>...</td>\n",
              "      <td>...</td>\n",
              "      <td>...</td>\n",
              "      <td>...</td>\n",
              "      <td>...</td>\n",
              "      <td>...</td>\n",
              "      <td>...</td>\n",
              "      <td>...</td>\n",
              "    </tr>\n",
              "    <tr>\n",
              "      <th>242</th>\n",
              "      <td>0.222189</td>\n",
              "      <td>377.034868</td>\n",
              "      <td>118.962179</td>\n",
              "      <td>0.484215</td>\n",
              "      <td>74.714656</td>\n",
              "      <td>104.797287</td>\n",
              "      <td>0.000202</td>\n",
              "      <td>201.674443</td>\n",
              "      <td>0.436838</td>\n",
              "      <td>9361.071817</td>\n",
              "      <td>0.044446</td>\n",
              "      <td>13232.335790</td>\n",
              "      <td>-0.033676</td>\n",
              "      <td>0.376870</td>\n",
              "      <td>11190.092250</td>\n",
              "      <td>377.034868</td>\n",
              "      <td>0.012663</td>\n",
              "      <td>3134.211362</td>\n",
              "      <td>0.955379</td>\n",
              "    </tr>\n",
              "    <tr>\n",
              "      <th>243</th>\n",
              "      <td>0.242403</td>\n",
              "      <td>19.990148</td>\n",
              "      <td>34.234486</td>\n",
              "      <td>0.458299</td>\n",
              "      <td>102.990390</td>\n",
              "      <td>174.314224</td>\n",
              "      <td>0.003836</td>\n",
              "      <td>90.356696</td>\n",
              "      <td>0.492993</td>\n",
              "      <td>11013.892660</td>\n",
              "      <td>0.086067</td>\n",
              "      <td>3492.605707</td>\n",
              "      <td>-0.139018</td>\n",
              "      <td>0.477427</td>\n",
              "      <td>744.748533</td>\n",
              "      <td>19.990148</td>\n",
              "      <td>0.012673</td>\n",
              "      <td>96.713506</td>\n",
              "      <td>0.970960</td>\n",
              "    </tr>\n",
              "    <tr>\n",
              "      <th>244</th>\n",
              "      <td>0.400221</td>\n",
              "      <td>4.717172</td>\n",
              "      <td>16.124516</td>\n",
              "      <td>0.540853</td>\n",
              "      <td>102.380483</td>\n",
              "      <td>55.334547</td>\n",
              "      <td>0.030720</td>\n",
              "      <td>173.772280</td>\n",
              "      <td>0.469034</td>\n",
              "      <td>236.962555</td>\n",
              "      <td>-0.014947</td>\n",
              "      <td>975.782516</td>\n",
              "      <td>-0.268201</td>\n",
              "      <td>0.485060</td>\n",
              "      <td>133.329268</td>\n",
              "      <td>4.717172</td>\n",
              "      <td>0.012344</td>\n",
              "      <td>20.446238</td>\n",
              "      <td>0.963744</td>\n",
              "    </tr>\n",
              "    <tr>\n",
              "      <th>245</th>\n",
              "      <td>0.371026</td>\n",
              "      <td>16.793765</td>\n",
              "      <td>29.120440</td>\n",
              "      <td>0.532447</td>\n",
              "      <td>124.962648</td>\n",
              "      <td>189.995987</td>\n",
              "      <td>0.006959</td>\n",
              "      <td>100.458654</td>\n",
              "      <td>0.437020</td>\n",
              "      <td>3324.496749</td>\n",
              "      <td>0.087089</td>\n",
              "      <td>3114.071937</td>\n",
              "      <td>-0.501685</td>\n",
              "      <td>0.460377</td>\n",
              "      <td>510.316422</td>\n",
              "      <td>16.793765</td>\n",
              "      <td>0.011781</td>\n",
              "      <td>91.414642</td>\n",
              "      <td>0.958340</td>\n",
              "    </tr>\n",
              "    <tr>\n",
              "      <th>246</th>\n",
              "      <td>0.371026</td>\n",
              "      <td>16.793765</td>\n",
              "      <td>29.120440</td>\n",
              "      <td>0.532447</td>\n",
              "      <td>124.962648</td>\n",
              "      <td>189.995987</td>\n",
              "      <td>0.006959</td>\n",
              "      <td>100.458654</td>\n",
              "      <td>0.437020</td>\n",
              "      <td>3324.496749</td>\n",
              "      <td>0.087089</td>\n",
              "      <td>3114.071937</td>\n",
              "      <td>-0.501685</td>\n",
              "      <td>0.460377</td>\n",
              "      <td>510.316422</td>\n",
              "      <td>16.793765</td>\n",
              "      <td>0.011781</td>\n",
              "      <td>91.414642</td>\n",
              "      <td>0.958340</td>\n",
              "    </tr>\n",
              "  </tbody>\n",
              "</table>\n",
              "<p>247 rows × 19 columns</p>\n",
              "</div>\n",
              "      <button class=\"colab-df-convert\" onclick=\"convertToInteractive('df-be2dc5a4-30ee-465c-9cb3-f621d293403d')\"\n",
              "              title=\"Convert this dataframe to an interactive table.\"\n",
              "              style=\"display:none;\">\n",
              "        \n",
              "  <svg xmlns=\"http://www.w3.org/2000/svg\" height=\"24px\"viewBox=\"0 0 24 24\"\n",
              "       width=\"24px\">\n",
              "    <path d=\"M0 0h24v24H0V0z\" fill=\"none\"/>\n",
              "    <path d=\"M18.56 5.44l.94 2.06.94-2.06 2.06-.94-2.06-.94-.94-2.06-.94 2.06-2.06.94zm-11 1L8.5 8.5l.94-2.06 2.06-.94-2.06-.94L8.5 2.5l-.94 2.06-2.06.94zm10 10l.94 2.06.94-2.06 2.06-.94-2.06-.94-.94-2.06-.94 2.06-2.06.94z\"/><path d=\"M17.41 7.96l-1.37-1.37c-.4-.4-.92-.59-1.43-.59-.52 0-1.04.2-1.43.59L10.3 9.45l-7.72 7.72c-.78.78-.78 2.05 0 2.83L4 21.41c.39.39.9.59 1.41.59.51 0 1.02-.2 1.41-.59l7.78-7.78 2.81-2.81c.8-.78.8-2.07 0-2.86zM5.41 20L4 18.59l7.72-7.72 1.47 1.35L5.41 20z\"/>\n",
              "  </svg>\n",
              "      </button>\n",
              "      \n",
              "  <style>\n",
              "    .colab-df-container {\n",
              "      display:flex;\n",
              "      flex-wrap:wrap;\n",
              "      gap: 12px;\n",
              "    }\n",
              "\n",
              "    .colab-df-convert {\n",
              "      background-color: #E8F0FE;\n",
              "      border: none;\n",
              "      border-radius: 50%;\n",
              "      cursor: pointer;\n",
              "      display: none;\n",
              "      fill: #1967D2;\n",
              "      height: 32px;\n",
              "      padding: 0 0 0 0;\n",
              "      width: 32px;\n",
              "    }\n",
              "\n",
              "    .colab-df-convert:hover {\n",
              "      background-color: #E2EBFA;\n",
              "      box-shadow: 0px 1px 2px rgba(60, 64, 67, 0.3), 0px 1px 3px 1px rgba(60, 64, 67, 0.15);\n",
              "      fill: #174EA6;\n",
              "    }\n",
              "\n",
              "    [theme=dark] .colab-df-convert {\n",
              "      background-color: #3B4455;\n",
              "      fill: #D2E3FC;\n",
              "    }\n",
              "\n",
              "    [theme=dark] .colab-df-convert:hover {\n",
              "      background-color: #434B5C;\n",
              "      box-shadow: 0px 1px 3px 1px rgba(0, 0, 0, 0.15);\n",
              "      filter: drop-shadow(0px 1px 2px rgba(0, 0, 0, 0.3));\n",
              "      fill: #FFFFFF;\n",
              "    }\n",
              "  </style>\n",
              "\n",
              "      <script>\n",
              "        const buttonEl =\n",
              "          document.querySelector('#df-be2dc5a4-30ee-465c-9cb3-f621d293403d button.colab-df-convert');\n",
              "        buttonEl.style.display =\n",
              "          google.colab.kernel.accessAllowed ? 'block' : 'none';\n",
              "\n",
              "        async function convertToInteractive(key) {\n",
              "          const element = document.querySelector('#df-be2dc5a4-30ee-465c-9cb3-f621d293403d');\n",
              "          const dataTable =\n",
              "            await google.colab.kernel.invokeFunction('convertToInteractive',\n",
              "                                                     [key], {});\n",
              "          if (!dataTable) return;\n",
              "\n",
              "          const docLinkHtml = 'Like what you see? Visit the ' +\n",
              "            '<a target=\"_blank\" href=https://colab.research.google.com/notebooks/data_table.ipynb>data table notebook</a>'\n",
              "            + ' to learn more about interactive tables.';\n",
              "          element.innerHTML = '';\n",
              "          dataTable['output_type'] = 'display_data';\n",
              "          await google.colab.output.renderOutput(dataTable, element);\n",
              "          const docLink = document.createElement('div');\n",
              "          docLink.innerHTML = docLinkHtml;\n",
              "          element.appendChild(docLink);\n",
              "        }\n",
              "      </script>\n",
              "    </div>\n",
              "  </div>\n",
              "  "
            ]
          },
          "metadata": {},
          "execution_count": 32
        }
      ]
    },
    {
      "cell_type": "code",
      "source": [
        "from sklearn.model_selection import train_test_split\n",
        "X_train_20, X_test_20, y_train_20, y_test_20 = train_test_split(data_new_20features_X, data_y_trans, train_size = 0.8, random_state=26)"
      ],
      "metadata": {
        "id": "gyDp8nmb9YO5"
      },
      "execution_count": 33,
      "outputs": []
    },
    {
      "cell_type": "code",
      "source": [
        "from sklearn.preprocessing import StandardScaler \n",
        "ss_20 = StandardScaler()\n",
        "X_train_std_20 = ss_20.fit_transform(X_train_20)\n",
        "X_test_std_20 = ss_20.fit_transform(X_test_20)"
      ],
      "metadata": {
        "id": "XR8nf1hpeMYN"
      },
      "execution_count": 34,
      "outputs": []
    },
    {
      "cell_type": "markdown",
      "source": [
        "Random forest"
      ],
      "metadata": {
        "id": "VGYijZvKeZSN"
      }
    },
    {
      "cell_type": "code",
      "source": [
        "from sklearn.ensemble import RandomForestClassifier\n",
        "rf = RandomForestClassifier(random_state=56)\n"
      ],
      "metadata": {
        "id": "M0Nu1SSleghf"
      },
      "execution_count": 35,
      "outputs": []
    },
    {
      "cell_type": "code",
      "source": [
        "from sklearn.metrics import accuracy_score \n",
        "from sklearn.metrics import classification_report \n",
        "from sklearn.metrics import confusion_matrix"
      ],
      "metadata": {
        "id": "t7cAA8_wfi0W"
      },
      "execution_count": 36,
      "outputs": []
    },
    {
      "cell_type": "code",
      "source": [
        "from sklearn.model_selection import cross_val_predict\n",
        "y_pred = cross_val_predict(rf, data_new_20features_X, data_y_trans, cv=10)\n",
        "conf_mat = confusion_matrix(data_y_trans, y_pred)\n"
      ],
      "metadata": {
        "id": "5X-o7pMI2RiS"
      },
      "execution_count": 37,
      "outputs": []
    },
    {
      "cell_type": "code",
      "source": [
        "print(conf_mat)"
      ],
      "metadata": {
        "colab": {
          "base_uri": "https://localhost:8080/"
        },
        "id": "N4xSkNyg2dW2",
        "outputId": "ed57f554-ff26-4711-b5e9-496f5fd74183"
      },
      "execution_count": 38,
      "outputs": [
        {
          "output_type": "stream",
          "name": "stdout",
          "text": [
            "[[60  7  0  4]\n",
            " [ 1 79  0  3]\n",
            " [ 1  0 20  2]\n",
            " [ 5  0  0 65]]\n"
          ]
        }
      ]
    },
    {
      "cell_type": "code",
      "source": [
        "print(\"Classification Report for Random Forest: \\n\", classification_report(data_y_trans,y_pred))"
      ],
      "metadata": {
        "colab": {
          "base_uri": "https://localhost:8080/"
        },
        "id": "qVrpLPkQ2ezZ",
        "outputId": "6d578e0b-111d-4210-932c-5c05aa462540"
      },
      "execution_count": 39,
      "outputs": [
        {
          "output_type": "stream",
          "name": "stdout",
          "text": [
            "Classification Report for Random Forest: \n",
            "               precision    recall  f1-score   support\n",
            "\n",
            "           0       0.90      0.85      0.87        71\n",
            "           1       0.92      0.95      0.93        83\n",
            "           2       1.00      0.87      0.93        23\n",
            "           3       0.88      0.93      0.90        70\n",
            "\n",
            "    accuracy                           0.91       247\n",
            "   macro avg       0.92      0.90      0.91       247\n",
            "weighted avg       0.91      0.91      0.91       247\n",
            "\n"
          ]
        }
      ]
    },
    {
      "cell_type": "code",
      "source": [
        "from sklearn.metrics import matthews_corrcoef"
      ],
      "metadata": {
        "id": "z8C3iVn9ufEd"
      },
      "execution_count": 52,
      "outputs": []
    },
    {
      "cell_type": "code",
      "source": [
        "rf.fit(data_new_20features_X, data_y_trans)\n",
        "y_train_pred = rf.predict(data_new_20features_X)\n",
        "rf_train_mcc = matthews_corrcoef(data_y_trans, y_train_pred) "
      ],
      "metadata": {
        "id": "VQBVtn0Fut0X"
      },
      "execution_count": 57,
      "outputs": []
    },
    {
      "cell_type": "code",
      "source": [
        "print('- MCC: %s' % rf_train_mcc)"
      ],
      "metadata": {
        "id": "ixCkuKp-vgdn",
        "outputId": "7e6ab823-61b3-45a3-ad71-39dff9ee4fd6",
        "colab": {
          "base_uri": "https://localhost:8080/"
        }
      },
      "execution_count": 58,
      "outputs": [
        {
          "output_type": "stream",
          "name": "stdout",
          "text": [
            "- MCC: 1.0\n"
          ]
        }
      ]
    },
    {
      "cell_type": "markdown",
      "source": [
        "\\PSO"
      ],
      "metadata": {
        "id": "VME0aMnUR1u2"
      }
    },
    {
      "cell_type": "code",
      "source": [
        "!pip install optunity"
      ],
      "metadata": {
        "colab": {
          "base_uri": "https://localhost:8080/"
        },
        "id": "Hm1CPttYSJ2D",
        "outputId": "0d86db04-b5c6-4fbc-8ddb-1623cee804c0"
      },
      "execution_count": 40,
      "outputs": [
        {
          "output_type": "stream",
          "name": "stdout",
          "text": [
            "Looking in indexes: https://pypi.org/simple, https://us-python.pkg.dev/colab-wheels/public/simple/\n",
            "Collecting optunity\n",
            "  Downloading Optunity-1.1.1.tar.gz (4.6 MB)\n",
            "\u001b[2K     \u001b[90m━━━━━━━━━━━━━━━━━━━━━━━━━━━━━━━━━━━━━━━━\u001b[0m \u001b[32m4.6/4.6 MB\u001b[0m \u001b[31m41.8 MB/s\u001b[0m eta \u001b[36m0:00:00\u001b[0m\n",
            "\u001b[?25h  Preparing metadata (setup.py) ... \u001b[?25l\u001b[?25hdone\n",
            "Building wheels for collected packages: optunity\n",
            "  Building wheel for optunity (setup.py) ... \u001b[?25l\u001b[?25hdone\n",
            "  Created wheel for optunity: filename=Optunity-1.1.1-py3-none-any.whl size=72031 sha256=344de6bf6a1af0ecf89d172c6a0cc485502357e57df727cd05b8b609927a6382\n",
            "  Stored in directory: /root/.cache/pip/wheels/d1/03/a8/c725421da03e2bb8b33fb20b7159727fb1d47806f0ae844a91\n",
            "Successfully built optunity\n",
            "Installing collected packages: optunity\n",
            "Successfully installed optunity-1.1.1\n"
          ]
        }
      ]
    },
    {
      "cell_type": "code",
      "source": [
        "data_new_20features_Xt = ss_20.fit_transform(data_new_20features_X)"
      ],
      "metadata": {
        "id": "ViQsB1Mmz52W"
      },
      "execution_count": 41,
      "outputs": []
    },
    {
      "cell_type": "code",
      "source": [
        "from sklearn.model_selection import cross_val_score"
      ],
      "metadata": {
        "id": "j8yKl9adtiBb"
      },
      "execution_count": 44,
      "outputs": []
    },
    {
      "cell_type": "code",
      "source": [
        "import optunity\n",
        "import optunity.metrics\n",
        "data=data_new_20features_Xt\n",
        "labels= data_y_trans.tolist()\n",
        "# Define the hyperparameter configuration space\n",
        "search = {\n",
        "    'n_estimators': [10, 100],\n",
        "    'max_features': [1, 64],\n",
        "    'max_depth': [5,50],\n",
        "    \"min_samples_split\":[2,11],\n",
        "    \"min_samples_leaf\":[1,11],\n",
        "    \"criterion\":[0,1]\n",
        "         }\n",
        "# Define the objective function\n",
        "@optunity.cross_validated(x=data, y=labels, num_folds=3)\n",
        "def performance(x_train, y_train, x_test, y_test,n_estimators=None, max_features=None,max_depth=None,min_samples_split=None,min_samples_leaf=None,criterion=None):\n",
        "    # fit the model\n",
        "    if criterion<0.5:\n",
        "        cri='gini'\n",
        "    else:\n",
        "        cri='entropy'\n",
        "    model = RandomForestClassifier(\n",
        "                                   criterion=cri,\n",
        "                                  )\n",
        "    #predictions = model.predict(x_test)\n",
        "    scores=np.mean(cross_val_score(model, data_new_20features_Xt,  data_y_trans, cv=10, n_jobs=-1,\n",
        "                                    scoring=\"accuracy\"))\n",
        "    #return optunity.metrics.roc_auc(y_test, predictions, positive=True)\n",
        "    return scores#optunity.metrics.accuracy(y_test, predictions)\n",
        "\n",
        "optimal_configuration, info, _ = optunity.maximize(performance,\n",
        "                                                  solver_name='particle swarm',\n",
        "                                                  num_evals=20,\n",
        "                                                   **search\n",
        "                                                  )\n",
        "print(optimal_configuration)\n",
        "print(\"Accuracy:\"+ str(info.optimum))\n",
        "\n"
      ],
      "metadata": {
        "id": "atN2hETNVhpz",
        "colab": {
          "base_uri": "https://localhost:8080/"
        },
        "outputId": "09095f50-111b-4bdb-c000-82cb1d5ec9d9"
      },
      "execution_count": 46,
      "outputs": [
        {
          "output_type": "stream",
          "name": "stdout",
          "text": [
            "{'n_estimators': 57.863695918723394, 'max_features': 53.491659065899796, 'max_depth': 40.02001953125, 'min_samples_split': 6.89830484169868, 'min_samples_leaf': 2.1601791381084317, 'criterion': 0.3959270002222028}\n",
            "Accuracy:0.9180000000000001\n"
          ]
        }
      ]
    },
    {
      "cell_type": "markdown",
      "source": [
        "ROC Curve"
      ],
      "metadata": {
        "id": "b2srM5Gr2wGD"
      }
    },
    {
      "cell_type": "code",
      "source": [
        "from sklearn.metrics import roc_curve, auc\n",
        "from sklearn.metrics import roc_auc_score"
      ],
      "metadata": {
        "id": "oANjtZ8xkPuS"
      },
      "execution_count": 47,
      "outputs": []
    },
    {
      "cell_type": "code",
      "source": [
        "from sklearn.preprocessing import label_binarize\n",
        "y_bin = label_binarize(data_y_trans, classes=[0, 1, 2,3])\n",
        "from itertools import cycle\n",
        "lw=2"
      ],
      "metadata": {
        "id": "Cnh804PzkT_S"
      },
      "execution_count": 48,
      "outputs": []
    },
    {
      "cell_type": "code",
      "source": [
        "import matplotlib.pyplot as plt"
      ],
      "metadata": {
        "id": "PnJqrF75k8Lc"
      },
      "execution_count": 49,
      "outputs": []
    },
    {
      "cell_type": "code",
      "source": [
        "y_score = cross_val_predict(rf, data_new_20features_X, data_y_trans, cv=10 ,method='predict_proba')\n",
        "\n",
        "fpr = dict()\n",
        "tpr = dict()\n",
        "roc_auc = dict()\n",
        "for i in range(4):\n",
        "    fpr[i], tpr[i], _ = roc_curve(y_bin[:, i], y_score[:, i])\n",
        "    roc_auc[i] = auc(fpr[i], tpr[i])\n",
        "colors = cycle(['blue', 'red', 'green','magenta'])\n",
        "list_class = ['squamous','largecell','others','adeno']\n",
        "for i, color in zip(range(4), colors):\n",
        "    plt.plot(fpr[i], tpr[i], color=color, lw=lw,\n",
        "             label='ROC curve of class {0} (area = {1:0.2f})'\n",
        "             ''.format(list_class[i], roc_auc[i]))\n",
        "plt.plot([0, 1], [0, 1], 'k--', lw=lw)\n",
        "plt.xlim([-0.05, 1.0])\n",
        "plt.ylim([0.0, 1.05])\n",
        "plt.xlabel('False Positive Rate')\n",
        "plt.ylabel('True Positive Rate')\n",
        "# plt.title('Receiver operating characteristic for multi-class data')\n",
        "plt.legend(loc=\"lower right\")\n",
        "plt.show()"
      ],
      "metadata": {
        "id": "UQ_fJuwOkc_h",
        "colab": {
          "base_uri": "https://localhost:8080/",
          "height": 279
        },
        "outputId": "0f9fc013-6d09-49dd-d8d9-1320aba0c47f"
      },
      "execution_count": 51,
      "outputs": [
        {
          "output_type": "display_data",
          "data": {
            "text/plain": [
              "<Figure size 432x288 with 1 Axes>"
            ],
            "image/png": "[encoded data removed]"
          },
          "metadata": {
            "needs_background": "light"
          }
        }
      ]
    },
    {
      "cell_type": "markdown",
      "source": [
        "svm"
      ],
      "metadata": {
        "id": "lZo3iGbemIDI"
      }
    },
    {
      "cell_type": "code",
      "source": [
        "from sklearn.svm import SVC\n",
        "\n",
        "svm_rbf = SVC(gamma=4, C=1)"
      ],
      "metadata": {
        "id": "YFjVZ8Qjl1ga"
      },
      "execution_count": 59,
      "outputs": []
    },
    {
      "cell_type": "code",
      "source": [
        "from sklearn.model_selection import cross_val_predict\n",
        "from sklearn.metrics import confusion_matrix\n",
        "y_pred = cross_val_predict(svm_rbf, data_new_20features_X, data_y_trans, cv=10)\n",
        "conf_mat = confusion_matrix(data_y_trans, y_pred)"
      ],
      "metadata": {
        "id": "vrd-YEMPmHBy"
      },
      "execution_count": 61,
      "outputs": []
    },
    {
      "cell_type": "code",
      "source": [
        "print(\"Classification Report for SVM: \\n\", classification_report(data_y_trans,y_pred))"
      ],
      "metadata": {
        "id": "AYePNR5TmUVs",
        "colab": {
          "base_uri": "https://localhost:8080/"
        },
        "outputId": "eecfac1f-8509-4023-ef54-d5758e1c21a5"
      },
      "execution_count": 63,
      "outputs": [
        {
          "output_type": "stream",
          "name": "stdout",
          "text": [
            "Classification Report for SVM: \n",
            "               precision    recall  f1-score   support\n",
            "\n",
            "           0       0.84      0.80      0.82        71\n",
            "           1       0.75      0.90      0.82        83\n",
            "           2       1.00      0.87      0.93        23\n",
            "           3       1.00      0.84      0.91        70\n",
            "\n",
            "    accuracy                           0.85       247\n",
            "   macro avg       0.90      0.85      0.87       247\n",
            "weighted avg       0.87      0.85      0.86       247\n",
            "\n"
          ]
        }
      ]
    },
    {
      "cell_type": "code",
      "source": [
        "svm_rbf.fit(data_new_20features_X, data_y_trans)\n",
        "y_train_pred1 = svm_rbf.predict(data_new_20features_X)\n",
        "svm_train_mcc = matthews_corrcoef(data_y_trans, y_train_pred1) \n",
        "print('- MCC: %s' % svm_train_mcc)"
      ],
      "metadata": {
        "id": "byP4yX01wgh8",
        "outputId": "4c1700e9-93a4-43a4-f534-69cad295639d",
        "colab": {
          "base_uri": "https://localhost:8080/"
        }
      },
      "execution_count": 65,
      "outputs": [
        {
          "output_type": "stream",
          "name": "stdout",
          "text": [
            "- MCC: 1.0\n"
          ]
        }
      ]
    },
    {
      "cell_type": "code",
      "source": [
        "data=data_new_20features_Xt\n",
        "labels=data_y_trans.tolist()\n",
        "\n",
        "search = {\n",
        "    'C': (0,50),\n",
        "    'kernel':[0,4]\n",
        "         }\n",
        "@optunity.cross_validated(x=data, y=labels, num_folds=3)\n",
        "def performance(x_train, y_train, x_test, y_test,C=None,kernel=None):\n",
        "    # fit the model\n",
        "    if kernel<1:\n",
        "        ke='linear'\n",
        "    elif kernel<2:\n",
        "        ke='poly'\n",
        "    elif kernel<3:\n",
        "        ke='rbf'\n",
        "    else:\n",
        "        ke='sigmoid'\n",
        "    model = SVC(C=float(C),\n",
        "                kernel=ke\n",
        "                                  )\n",
        "    #predictions = model.predict(x_test)\n",
        "    scores=np.mean(cross_val_score(model, data_new_20features_Xt,data_y_trans, cv=10, n_jobs=-1,\n",
        "                                    scoring=\"accuracy\"))\n",
        "    #return optunity.metrics.roc_auc(y_test, predictions, positive=True)\n",
        "    return scores#optunity.metrics.accuracy(y_test, predictions)\n",
        "\n",
        "optimal_configuration, info, _ = optunity.maximize(performance,\n",
        "                                                  solver_name='particle swarm',\n",
        "                                                  num_evals=20,\n",
        "                                                   **search\n",
        "                                                  )\n",
        "print(optimal_configuration)\n",
        "print(\"Accuracy:\"+ str(info.optimum))"
      ],
      "metadata": {
        "id": "nrH6m7M__a8Z",
        "outputId": "b6cbfa46-be38-4c95-c220-d3a75dde684f",
        "colab": {
          "base_uri": "https://localhost:8080/"
        }
      },
      "execution_count": 67,
      "outputs": [
        {
          "output_type": "stream",
          "name": "stdout",
          "text": [
            "{'C': 31.5185546875, 'kernel': 2.990234375}\n",
            "Accuracy:0.875\n"
          ]
        }
      ]
    },
    {
      "cell_type": "markdown",
      "source": [
        "knn"
      ],
      "metadata": {
        "id": "-srW6xmfmngj"
      }
    },
    {
      "cell_type": "code",
      "source": [
        "from sklearn.neighbors import KNeighborsClassifier\n",
        "clf2 = KNeighborsClassifier()\n",
        "clf2.fit(data_new_20features_X, data_y_trans)\n",
        "scores = cross_val_score(clf2, data_new_20features_X, data_y_trans, cv=10,scoring='accuracy')\n",
        "print(\"Accuracy:\"+ str(scores.mean()))"
      ],
      "metadata": {
        "colab": {
          "base_uri": "https://localhost:8080/"
        },
        "id": "QKTGymLJ6J5x",
        "outputId": "f183e10a-c8b9-4b58-9399-0fbebbf161fe"
      },
      "execution_count": 69,
      "outputs": [
        {
          "output_type": "stream",
          "name": "stdout",
          "text": [
            "Accuracy:0.6280000000000001\n"
          ]
        }
      ]
    },
    {
      "cell_type": "markdown",
      "source": [
        "knn PSO"
      ],
      "metadata": {
        "id": "gBR409bi67pQ"
      }
    },
    {
      "cell_type": "code",
      "source": [
        "import optunity\n",
        "import optunity.metrics\n",
        "\n",
        "data=data_new_20features_Xt\n",
        "labels=data_y_trans.tolist()\n",
        "\n",
        "search = {\n",
        "    'n_neighbors': [1, 20],\n",
        "         }\n",
        "@optunity.cross_validated(x=data, y=labels, num_folds=3)\n",
        "def performance(x_train, y_train, x_test, y_test,n_neighbors=None):\n",
        "    # fit the model\n",
        "    model = KNeighborsClassifier(n_neighbors=int(n_neighbors),\n",
        "                                  )\n",
        "    scores=np.mean(cross_val_score(model,data_new_20features_Xt,data_y_trans, cv=10, n_jobs=-1,\n",
        "                                    scoring=\"accuracy\"))\n",
        "    return scores\n",
        "\n",
        "optimal_configuration, info, _ = optunity.maximize(performance,\n",
        "                                                  solver_name='particle swarm',\n",
        "                                                  num_evals=10,\n",
        "                                                   **search\n",
        "                                                  )\n",
        "print(optimal_configuration)\n",
        "print(\"Accuracy:\"+ str(info.optimum))"
      ],
      "metadata": {
        "colab": {
          "base_uri": "https://localhost:8080/"
        },
        "id": "THD_ChqF6v4B",
        "outputId": "11e14417-3944-4519-9258-70ee02e59fad"
      },
      "execution_count": 70,
      "outputs": [
        {
          "output_type": "stream",
          "name": "stdout",
          "text": [
            "{'n_neighbors': 1.259765625}\n",
            "Accuracy:0.8871666666666668\n"
          ]
        }
      ]
    },
    {
      "cell_type": "code",
      "source": [
        "clf2.fit(data_new_20features_X, data_y_trans)\n",
        "y_train_pred2 = clf2.predict(data_new_20features_X)\n",
        "knn_train_mcc = matthews_corrcoef(data_y_trans, y_train_pred2) \n",
        "print('- MCC: %s' % knn_train_mcc)"
      ],
      "metadata": {
        "id": "FFEuH_U8xNd3",
        "outputId": "e92f50c7-e9d3-4923-a346-4519ca3a3880",
        "colab": {
          "base_uri": "https://localhost:8080/"
        }
      },
      "execution_count": 71,
      "outputs": [
        {
          "output_type": "stream",
          "name": "stdout",
          "text": [
            "- MCC: 0.7470955061782882\n"
          ]
        }
      ]
    },
    {
      "cell_type": "markdown",
      "source": [
        "ROC Curve"
      ],
      "metadata": {
        "id": "CaVzfwfQiHfT"
      }
    },
    {
      "cell_type": "code",
      "source": [
        "\n",
        "y_score = cross_val_predict(clf2, data_new_20features_X, data_y_trans, cv=10 ,method='predict_proba')\n",
        "\n",
        "fpr = dict()\n",
        "tpr = dict()\n",
        "roc_auc = dict()\n",
        "for i in range(3):\n",
        "    fpr[i], tpr[i], _ = roc_curve(y_bin[:, i], y_score[:, i])\n",
        "    roc_auc[i] = auc(fpr[i], tpr[i])\n",
        "colors = cycle(['blue', 'red', 'green','magenta'])\n",
        "list_class = ['adeno','squamous','other']\n",
        "for i, color in zip(range(3), colors):\n",
        "    plt.plot(fpr[i], tpr[i], color=color, lw=lw,\n",
        "             label='ROC curve of class {0} (area = {1:0.2f})'\n",
        "             ''.format(list_class[i], roc_auc[i]))\n",
        "plt.plot([0, 1], [0, 1], 'k--', lw=lw)\n",
        "plt.xlim([-0.05, 1.0])\n",
        "plt.ylim([0.0, 1.05])\n",
        "plt.xlabel('False Positive Rate')\n",
        "plt.ylabel('True Positive Rate')\n",
        "# plt.title('Receiver operating characteristic for multi-class data')\n",
        "plt.legend(loc=\"lower right\")\n",
        "plt.show()\n",
        "     "
      ],
      "metadata": {
        "id": "KE-rCZ9xiJcv",
        "outputId": "65b4fd4f-d412-4288-ca40-842f63ce2506",
        "colab": {
          "base_uri": "https://localhost:8080/",
          "height": 279
        }
      },
      "execution_count": 73,
      "outputs": [
        {
          "output_type": "display_data",
          "data": {
            "text/plain": [
              "<Figure size 432x288 with 1 Axes>"
            ],
            "image/png": "[encoded data removed]"
          },
          "metadata": {
            "needs_background": "light"
          }
        }
      ]
    },
    {
      "cell_type": "markdown",
      "source": [
        "GradientBoosting"
      ],
      "metadata": {
        "id": "TWAGTg7BgdhI"
      }
    },
    {
      "cell_type": "code",
      "source": [
        "from sklearn.ensemble import GradientBoostingClassifier"
      ],
      "metadata": {
        "id": "eNUHwu8Dgj9Y"
      },
      "execution_count": 74,
      "outputs": []
    },
    {
      "cell_type": "code",
      "source": [
        "gradient_boost = GradientBoostingClassifier(random_state=56)"
      ],
      "metadata": {
        "id": "KsdFGo_bnNUh"
      },
      "execution_count": 75,
      "outputs": []
    },
    {
      "cell_type": "code",
      "source": [
        "from sklearn.model_selection import cross_val_predict\n",
        "from sklearn.metrics import confusion_matrix\n",
        "y_pred = cross_val_predict(gradient_boost, data_new_20features_X, data_y_trans, cv=10)\n",
        "conf_mat = confusion_matrix(data_y_trans, y_pred)"
      ],
      "metadata": {
        "id": "rDrFJtkxnKeA"
      },
      "execution_count": 76,
      "outputs": []
    },
    {
      "cell_type": "code",
      "source": [
        "print(\"Classification Report for GradientBoosting: \\n\", classification_report(data_y_trans,y_pred))"
      ],
      "metadata": {
        "id": "wUpsEHJmnVuH",
        "colab": {
          "base_uri": "https://localhost:8080/"
        },
        "outputId": "269ba92f-10e5-4887-b2a0-e1b3a1b16c36"
      },
      "execution_count": 77,
      "outputs": [
        {
          "output_type": "stream",
          "name": "stdout",
          "text": [
            "Classification Report for GradientBoosting: \n",
            "               precision    recall  f1-score   support\n",
            "\n",
            "           0       0.95      0.89      0.92        71\n",
            "           1       0.91      0.94      0.92        83\n",
            "           2       0.83      0.87      0.85        23\n",
            "           3       0.90      0.91      0.91        70\n",
            "\n",
            "    accuracy                           0.91       247\n",
            "   macro avg       0.90      0.90      0.90       247\n",
            "weighted avg       0.91      0.91      0.91       247\n",
            "\n"
          ]
        }
      ]
    },
    {
      "cell_type": "code",
      "source": [
        "gradient_boost.fit(data_new_20features_X, data_y_trans)\n",
        "y_train_pred3 = gradient_boost.predict(data_new_20features_X)\n",
        "GB_train_mcc = matthews_corrcoef(data_y_trans, y_train_pred3) \n",
        "print('- MCC: %s' % GB_train_mcc)"
      ],
      "metadata": {
        "id": "GwYeLsTOzI5x",
        "outputId": "fc170f05-cc97-4d0f-d442-4ef474154b22",
        "colab": {
          "base_uri": "https://localhost:8080/"
        }
      },
      "execution_count": 81,
      "outputs": [
        {
          "output_type": "stream",
          "name": "stdout",
          "text": [
            "- MCC: 1.0\n"
          ]
        }
      ]
    },
    {
      "cell_type": "markdown",
      "source": [
        "GB PSO"
      ],
      "metadata": {
        "id": "PNFe8jPu_w9e"
      }
    },
    {
      "cell_type": "code",
      "source": [
        "data=data_new_20features_Xt\n",
        "labels=data_y_trans.tolist()\n",
        "\n",
        "search = {\n",
        "    'C': (0,50),\n",
        "    'kernel':[0,4]\n",
        "         }\n",
        "@optunity.cross_validated(x=data, y=labels, num_folds=3)\n",
        "def performance(x_train, y_train, x_test, y_test,C=None,kernel=None):\n",
        "    # fit the model\n",
        "    \n",
        "    model = GradientBoostingClassifier(random_state=56)\n",
        "    #predictions = model.predict(x_test)\n",
        "    scores=np.mean(cross_val_score(model, data_new_20features_Xt,data_y_trans, cv=10, n_jobs=-1,\n",
        "                                    scoring=\"accuracy\"))\n",
        "    #return optunity.metrics.roc_auc(y_test, predictions, positive=True)\n",
        "    return scores#optunity.metrics.accuracy(y_test, predictions)\n",
        "\n",
        "optimal_configuration, info, _ = optunity.maximize(performance,\n",
        "                                                  solver_name='particle swarm',\n",
        "                                                  num_evals=20,\n",
        "                                                   **search\n",
        "                                                  )\n",
        "print(optimal_configuration)\n",
        "print(\"Accuracy:\"+ str(info.optimum))"
      ],
      "metadata": {
        "id": "EQc5GyoL_wMM",
        "outputId": "38014a45-8a31-43b4-c605-6a54087ac273",
        "colab": {
          "base_uri": "https://localhost:8080/"
        }
      },
      "execution_count": 78,
      "outputs": [
        {
          "output_type": "stream",
          "name": "stdout",
          "text": [
            "{'C': 36.9384765625, 'kernel': 3.181640625}\n",
            "Accuracy:0.9111666666666668\n"
          ]
        }
      ]
    },
    {
      "cell_type": "markdown",
      "source": [
        "ROC"
      ],
      "metadata": {
        "id": "UFqttDSOx-Ld"
      }
    },
    {
      "cell_type": "code",
      "source": [
        "y_score = cross_val_predict(clf2, data_new_20features_X, data_y_trans, cv=10 ,method='predict_proba')\n",
        "\n",
        "fpr = dict()\n",
        "tpr = dict()\n",
        "roc_auc = dict()\n",
        "for i in range(3):\n",
        "    fpr[i], tpr[i], _ = roc_curve(y_bin[:, i], y_score[:, i])\n",
        "    roc_auc[i] = auc(fpr[i], tpr[i])\n",
        "colors = cycle(['blue', 'red', 'green','magenta'])\n",
        "list_class = ['adeno','squamous','other']\n",
        "for i, color in zip(range(3), colors):\n",
        "    plt.plot(fpr[i], tpr[i], color=color, lw=lw,\n",
        "             label='ROC curve of class {0} (area = {1:0.2f})'\n",
        "             ''.format(list_class[i], roc_auc[i]))\n",
        "plt.plot([0, 1], [0, 1], 'k--', lw=lw)\n",
        "plt.xlim([-0.05, 1.0])\n",
        "plt.ylim([0.0, 1.05])\n",
        "plt.xlabel('False Positive Rate')\n",
        "plt.ylabel('True Positive Rate')\n",
        "# plt.title('Receiver operating characteristic for multi-class data')\n",
        "plt.legend(loc=\"lower right\")\n",
        "plt.show()\n",
        "     "
      ],
      "metadata": {
        "id": "2pXTZoA0x4Kg",
        "outputId": "0138071a-18d4-4c93-daaa-d8e3e595b597",
        "colab": {
          "base_uri": "https://localhost:8080/",
          "height": 279
        }
      },
      "execution_count": 80,
      "outputs": [
        {
          "output_type": "display_data",
          "data": {
            "text/plain": [
              "<Figure size 432x288 with 1 Axes>"
            ],
            "image/png": "[encoded data removed]"
          },
          "metadata": {
            "needs_background": "light"
          }
        }
      ]
    }
  ]
}