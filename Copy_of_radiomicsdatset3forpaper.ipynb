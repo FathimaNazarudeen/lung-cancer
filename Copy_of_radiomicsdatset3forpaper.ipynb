{
  "nbformat": 4,
  "nbformat_minor": 0,
  "metadata": {
    "colab": {
      "provenance": [],
      "include_colab_link": true
    },
    "kernelspec": {
      "name": "python3",
      "display_name": "Python 3"
    },
    "language_info": {
      "name": "python"
    }
  },
  "cells": [
    {
      "cell_type": "markdown",
      "metadata": {
        "id": "view-in-github",
        "colab_type": "text"
      },
      "source": [
        "<a href=\"https://colab.research.google.com/github/FathimaNazarudeen/lung-cancer/blob/main/Copy_of_radiomicsdatset3forpaper.ipynb\" target=\"_parent\"><img src=\"https://colab.research.google.com/assets/colab-badge.svg\" alt=\"Open In Colab\"/></a>"
      ]
    },
    {
      "cell_type": "code",
      "execution_count": 259,
      "metadata": {
        "id": "Yt-0FxcaIn1b"
      },
      "outputs": [],
      "source": [
        "import pandas as pd \n",
        "import numpy as np"
      ]
    },
    {
      "cell_type": "code",
      "source": [
        "data=pd.read_csv(\"/content/thirddatasetdata3lung1editednew.csv\")"
      ],
      "metadata": {
        "id": "_TwssuD-ZbZM"
      },
      "execution_count": 260,
      "outputs": []
    },
    {
      "cell_type": "code",
      "source": [
        "data['Label'].value_counts()"
      ],
      "metadata": {
        "colab": {
          "base_uri": "https://localhost:8080/"
        },
        "id": "77U6Co_WQOBW",
        "outputId": "05b4e7c2-5c43-4ffa-819a-8acfe4f9bc54"
      },
      "execution_count": 261,
      "outputs": [
        {
          "output_type": "execute_result",
          "data": {
            "text/plain": [
              "'squamous cell carcinoma'    83\n",
              "'large cell'                 71\n",
              "others                       70\n",
              "adenocarcinoma               23\n",
              "Name: Label, dtype: int64"
            ]
          },
          "metadata": {},
          "execution_count": 261
        }
      ]
    },
    {
      "cell_type": "code",
      "source": [
        "data.columns "
      ],
      "metadata": {
        "colab": {
          "base_uri": "https://localhost:8080/"
        },
        "id": "KoaSe4-wRwK0",
        "outputId": "d2691062-7283-4bbe-badb-c1dc73b89c81"
      },
      "execution_count": 262,
      "outputs": [
        {
          "output_type": "execute_result",
          "data": {
            "text/plain": [
              "Index(['original_shape_Elongation', 'original_shape_Flatness',\n",
              "       'original_shape_LeastAxisLength', 'original_shape_MajorAxisLength',\n",
              "       'original_shape_Maximum2DDiameterColumn',\n",
              "       'original_shape_Maximum2DDiameterRow',\n",
              "       'original_shape_Maximum2DDiameterSlice',\n",
              "       'original_shape_Maximum3DDiameter', 'original_shape_MeshVolume',\n",
              "       'original_shape_MinorAxisLength',\n",
              "       ...\n",
              "       'wavelet-LLL_gldm_LowGrayLevelEmphasis',\n",
              "       'wavelet-LLL_gldm_SmallDependenceEmphasis',\n",
              "       'wavelet-LLL_gldm_SmallDependenceHighGrayLevelEmphasis',\n",
              "       'wavelet-LLL_gldm_SmallDependenceLowGrayLevelEmphasis',\n",
              "       'wavelet-LLL_ngtdm_Busyness', 'wavelet-LLL_ngtdm_Coarseness',\n",
              "       'wavelet-LLL_ngtdm_Complexity', 'wavelet-LLL_ngtdm_Contrast',\n",
              "       'wavelet-LLL_ngtdm_Strength', 'Label'],\n",
              "      dtype='object', length=1094)"
            ]
          },
          "metadata": {},
          "execution_count": 262
        }
      ]
    },
    {
      "cell_type": "code",
      "source": [
        "data_real = data.replace(np.inf, np.nan)"
      ],
      "metadata": {
        "id": "q4h6KjggRxfq"
      },
      "execution_count": 263,
      "outputs": []
    },
    {
      "cell_type": "code",
      "source": [
        "data_real.isnull().sum().sum()"
      ],
      "metadata": {
        "colab": {
          "base_uri": "https://localhost:8080/"
        },
        "id": "_F7n3UJCR2MO",
        "outputId": "5738c521-7ea2-4c64-a851-03cea77fa704"
      },
      "execution_count": 264,
      "outputs": [
        {
          "output_type": "execute_result",
          "data": {
            "text/plain": [
              "0"
            ]
          },
          "metadata": {},
          "execution_count": 264
        }
      ]
    },
    {
      "cell_type": "code",
      "source": [
        "data_df = data_real.dropna(axis=0)"
      ],
      "metadata": {
        "id": "og_p85LcR6bO"
      },
      "execution_count": 265,
      "outputs": []
    },
    {
      "cell_type": "code",
      "source": [
        "data_df.isnull().sum().sum()"
      ],
      "metadata": {
        "colab": {
          "base_uri": "https://localhost:8080/"
        },
        "id": "-p1_6MARR92v",
        "outputId": "c7462bd2-6de0-427d-eb72-e7cb6c2583a0"
      },
      "execution_count": 266,
      "outputs": [
        {
          "output_type": "execute_result",
          "data": {
            "text/plain": [
              "0"
            ]
          },
          "metadata": {},
          "execution_count": 266
        }
      ]
    },
    {
      "cell_type": "code",
      "source": [
        "data_df"
      ],
      "metadata": {
        "colab": {
          "base_uri": "https://localhost:8080/",
          "height": 591
        },
        "id": "ejydE7xGSAw4",
        "outputId": "37cd8b8f-cab3-444c-d346-fc5a5ee2eb15"
      },
      "execution_count": 267,
      "outputs": [
        {
          "output_type": "execute_result",
          "data": {
            "text/plain": [
              "     original_shape_Elongation  original_shape_Flatness  \\\n",
              "0                     0.898535                 0.570600   \n",
              "1                     0.356341                 0.293696   \n",
              "2                     0.972992                 0.838632   \n",
              "3                     0.355514                 0.250921   \n",
              "4                     0.869980                 0.715864   \n",
              "..                         ...                      ...   \n",
              "242                   0.613950                 0.536166   \n",
              "243                   0.706267                 0.473298   \n",
              "244                   0.832425                 0.624674   \n",
              "245                   0.505327                 0.335579   \n",
              "246                   0.505327                 0.335579   \n",
              "\n",
              "     original_shape_LeastAxisLength  original_shape_MajorAxisLength  \\\n",
              "0                         31.886509                       55.882450   \n",
              "1                         30.746972                      104.689637   \n",
              "2                         36.685554                       43.744513   \n",
              "3                         32.048424                      127.723174   \n",
              "4                         37.872296                       52.904327   \n",
              "..                              ...                             ...   \n",
              "242                       67.085543                      125.120921   \n",
              "243                       19.144342                       40.448808   \n",
              "244                       10.141866                       16.235443   \n",
              "245                       14.737564                       43.916805   \n",
              "246                       14.737564                       43.916805   \n",
              "\n",
              "     original_shape_Maximum2DDiameterColumn  \\\n",
              "0                                 63.529521   \n",
              "1                                 62.289646   \n",
              "2                                 56.920998   \n",
              "3                                 92.130342   \n",
              "4                                 63.780875   \n",
              "..                                      ...   \n",
              "242                              151.433154   \n",
              "243                               39.395431   \n",
              "244                               19.697716   \n",
              "245                               45.650849   \n",
              "246                               45.650849   \n",
              "\n",
              "     original_shape_Maximum2DDiameterRow  \\\n",
              "0                              66.573268   \n",
              "1                              76.837491   \n",
              "2                              59.093147   \n",
              "3                              52.153619   \n",
              "4                              65.115282   \n",
              "..                                   ...   \n",
              "242                           143.178211   \n",
              "243                            48.414874   \n",
              "244                            17.204651   \n",
              "245                            41.761226   \n",
              "246                            41.761226   \n",
              "\n",
              "     original_shape_Maximum2DDiameterSlice  original_shape_Maximum3DDiameter  \\\n",
              "0                                61.188234                         72.718636   \n",
              "1                                48.332184                         99.015150   \n",
              "2                                50.000000                         59.531504   \n",
              "3                                50.159745                        158.808060   \n",
              "4                                59.363288                         70.992957   \n",
              "..                                     ...                               ...   \n",
              "242                             118.962179                        186.986630   \n",
              "243                              34.234486                         49.071377   \n",
              "244                              16.124516                         19.798990   \n",
              "245                              29.120440                         50.358713   \n",
              "246                              29.120440                         50.358713   \n",
              "\n",
              "     original_shape_MeshVolume  original_shape_MinorAxisLength  ...  \\\n",
              "0                 48863.000000                       50.212354  ...   \n",
              "1                 16849.666670                       37.305177  ...   \n",
              "2                 45073.000000                       42.563080  ...   \n",
              "3                 13973.333330                       45.407417  ...   \n",
              "4                 50277.333330                       46.025717  ...   \n",
              "..                         ...                             ...  ...   \n",
              "242              262922.000000                       76.818007  ...   \n",
              "243               13417.666670                       28.567655  ...   \n",
              "244                1428.000000                       13.514788  ...   \n",
              "245                7421.333333                       22.192352  ...   \n",
              "246                7421.333333                       22.192352  ...   \n",
              "\n",
              "     wavelet-LLL_gldm_LowGrayLevelEmphasis  \\\n",
              "0                                 0.000175   \n",
              "1                                 0.000480   \n",
              "2                                 0.000204   \n",
              "3                                 0.000609   \n",
              "4                                 0.000179   \n",
              "..                                     ...   \n",
              "242                               0.000055   \n",
              "243                               0.000797   \n",
              "244                               0.005545   \n",
              "245                               0.001130   \n",
              "246                               0.001130   \n",
              "\n",
              "     wavelet-LLL_gldm_SmallDependenceEmphasis  \\\n",
              "0                                    0.782714   \n",
              "1                                    0.809799   \n",
              "2                                    0.607683   \n",
              "3                                    0.672628   \n",
              "4                                    0.739990   \n",
              "..                                        ...   \n",
              "242                                  0.539262   \n",
              "243                                  0.635981   \n",
              "244                                  0.855006   \n",
              "245                                  0.715150   \n",
              "246                                  0.715150   \n",
              "\n",
              "     wavelet-LLL_gldm_SmallDependenceHighGrayLevelEmphasis  \\\n",
              "0                                         188544.34720       \n",
              "1                                         185506.13380       \n",
              "2                                          51789.09974       \n",
              "3                                          16150.60173       \n",
              "4                                         152246.78220       \n",
              "..                                                 ...       \n",
              "242                                        30796.75751       \n",
              "243                                        11131.16552       \n",
              "244                                        21236.68132       \n",
              "245                                        10757.09395       \n",
              "246                                        10757.09395       \n",
              "\n",
              "     wavelet-LLL_gldm_SmallDependenceLowGrayLevelEmphasis  \\\n",
              "0                                             0.000174      \n",
              "1                                             0.000478      \n",
              "2                                             0.000200      \n",
              "3                                             0.000595      \n",
              "4                                             0.000178      \n",
              "..                                                 ...      \n",
              "242                                           0.000047      \n",
              "243                                           0.000775      \n",
              "244                                           0.005537      \n",
              "245                                           0.001110      \n",
              "246                                           0.001110      \n",
              "\n",
              "     wavelet-LLL_ngtdm_Busyness  wavelet-LLL_ngtdm_Coarseness  \\\n",
              "0                      0.001121                      0.001950   \n",
              "1                      0.000573                      0.006157   \n",
              "2                      0.003829                      0.001594   \n",
              "3                      0.008233                      0.005954   \n",
              "4                      0.001932                      0.001420   \n",
              "..                          ...                           ...   \n",
              "242                    0.018433                      0.000387   \n",
              "243                    0.007429                      0.006453   \n",
              "244                    0.003682                      0.030105   \n",
              "245                    0.007144                      0.010583   \n",
              "246                    0.007144                      0.010583   \n",
              "\n",
              "     wavelet-LLL_ngtdm_Complexity  wavelet-LLL_ngtdm_Contrast  \\\n",
              "0                    5.241414e+06                    1.329551   \n",
              "1                    3.263341e+06                    8.577655   \n",
              "2                    1.033373e+06                    1.189275   \n",
              "3                    6.759171e+04                    0.596882   \n",
              "4                    3.371136e+06                    2.314521   \n",
              "..                            ...                         ...   \n",
              "242                  5.073418e+05                    0.115637   \n",
              "243                  8.507560e+04                    0.600453   \n",
              "244                  8.491850e+04                    4.490970   \n",
              "245                  5.701539e+04                    0.849220   \n",
              "246                  5.701539e+04                    0.849220   \n",
              "\n",
              "     wavelet-LLL_ngtdm_Strength         Label  \n",
              "0                    576.487136  'large cell'  \n",
              "1                   1468.964920  'large cell'  \n",
              "2                    158.997655  'large cell'  \n",
              "3                     48.462226  'large cell'  \n",
              "4                    364.513624  'large cell'  \n",
              "..                          ...           ...  \n",
              "242                   33.076902        others  \n",
              "243                   51.726423        others  \n",
              "244                  194.650316        others  \n",
              "245                   56.233061        others  \n",
              "246                   56.233061        others  \n",
              "\n",
              "[247 rows x 1094 columns]"
            ],
            "text/html": [
              "\n",
              "  <div id=\"df-da5c8de8-5d56-486b-92f4-2d0b0258061f\">\n",
              "    <div class=\"colab-df-container\">\n",
              "      <div>\n",
              "<style scoped>\n",
              "    .dataframe tbody tr th:only-of-type {\n",
              "        vertical-align: middle;\n",
              "    }\n",
              "\n",
              "    .dataframe tbody tr th {\n",
              "        vertical-align: top;\n",
              "    }\n",
              "\n",
              "    .dataframe thead th {\n",
              "        text-align: right;\n",
              "    }\n",
              "</style>\n",
              "<table border=\"1\" class=\"dataframe\">\n",
              "  <thead>\n",
              "    <tr style=\"text-align: right;\">\n",
              "      <th></th>\n",
              "      <th>original_shape_Elongation</th>\n",
              "      <th>original_shape_Flatness</th>\n",
              "      <th>original_shape_LeastAxisLength</th>\n",
              "      <th>original_shape_MajorAxisLength</th>\n",
              "      <th>original_shape_Maximum2DDiameterColumn</th>\n",
              "      <th>original_shape_Maximum2DDiameterRow</th>\n",
              "      <th>original_shape_Maximum2DDiameterSlice</th>\n",
              "      <th>original_shape_Maximum3DDiameter</th>\n",
              "      <th>original_shape_MeshVolume</th>\n",
              "      <th>original_shape_MinorAxisLength</th>\n",
              "      <th>...</th>\n",
              "      <th>wavelet-LLL_gldm_LowGrayLevelEmphasis</th>\n",
              "      <th>wavelet-LLL_gldm_SmallDependenceEmphasis</th>\n",
              "      <th>wavelet-LLL_gldm_SmallDependenceHighGrayLevelEmphasis</th>\n",
              "      <th>wavelet-LLL_gldm_SmallDependenceLowGrayLevelEmphasis</th>\n",
              "      <th>wavelet-LLL_ngtdm_Busyness</th>\n",
              "      <th>wavelet-LLL_ngtdm_Coarseness</th>\n",
              "      <th>wavelet-LLL_ngtdm_Complexity</th>\n",
              "      <th>wavelet-LLL_ngtdm_Contrast</th>\n",
              "      <th>wavelet-LLL_ngtdm_Strength</th>\n",
              "      <th>Label</th>\n",
              "    </tr>\n",
              "  </thead>\n",
              "  <tbody>\n",
              "    <tr>\n",
              "      <th>0</th>\n",
              "      <td>0.898535</td>\n",
              "      <td>0.570600</td>\n",
              "      <td>31.886509</td>\n",
              "      <td>55.882450</td>\n",
              "      <td>63.529521</td>\n",
              "      <td>66.573268</td>\n",
              "      <td>61.188234</td>\n",
              "      <td>72.718636</td>\n",
              "      <td>48863.000000</td>\n",
              "      <td>50.212354</td>\n",
              "      <td>...</td>\n",
              "      <td>0.000175</td>\n",
              "      <td>0.782714</td>\n",
              "      <td>188544.34720</td>\n",
              "      <td>0.000174</td>\n",
              "      <td>0.001121</td>\n",
              "      <td>0.001950</td>\n",
              "      <td>5.241414e+06</td>\n",
              "      <td>1.329551</td>\n",
              "      <td>576.487136</td>\n",
              "      <td>'large cell'</td>\n",
              "    </tr>\n",
              "    <tr>\n",
              "      <th>1</th>\n",
              "      <td>0.356341</td>\n",
              "      <td>0.293696</td>\n",
              "      <td>30.746972</td>\n",
              "      <td>104.689637</td>\n",
              "      <td>62.289646</td>\n",
              "      <td>76.837491</td>\n",
              "      <td>48.332184</td>\n",
              "      <td>99.015150</td>\n",
              "      <td>16849.666670</td>\n",
              "      <td>37.305177</td>\n",
              "      <td>...</td>\n",
              "      <td>0.000480</td>\n",
              "      <td>0.809799</td>\n",
              "      <td>185506.13380</td>\n",
              "      <td>0.000478</td>\n",
              "      <td>0.000573</td>\n",
              "      <td>0.006157</td>\n",
              "      <td>3.263341e+06</td>\n",
              "      <td>8.577655</td>\n",
              "      <td>1468.964920</td>\n",
              "      <td>'large cell'</td>\n",
              "    </tr>\n",
              "    <tr>\n",
              "      <th>2</th>\n",
              "      <td>0.972992</td>\n",
              "      <td>0.838632</td>\n",
              "      <td>36.685554</td>\n",
              "      <td>43.744513</td>\n",
              "      <td>56.920998</td>\n",
              "      <td>59.093147</td>\n",
              "      <td>50.000000</td>\n",
              "      <td>59.531504</td>\n",
              "      <td>45073.000000</td>\n",
              "      <td>42.563080</td>\n",
              "      <td>...</td>\n",
              "      <td>0.000204</td>\n",
              "      <td>0.607683</td>\n",
              "      <td>51789.09974</td>\n",
              "      <td>0.000200</td>\n",
              "      <td>0.003829</td>\n",
              "      <td>0.001594</td>\n",
              "      <td>1.033373e+06</td>\n",
              "      <td>1.189275</td>\n",
              "      <td>158.997655</td>\n",
              "      <td>'large cell'</td>\n",
              "    </tr>\n",
              "    <tr>\n",
              "      <th>3</th>\n",
              "      <td>0.355514</td>\n",
              "      <td>0.250921</td>\n",
              "      <td>32.048424</td>\n",
              "      <td>127.723174</td>\n",
              "      <td>92.130342</td>\n",
              "      <td>52.153619</td>\n",
              "      <td>50.159745</td>\n",
              "      <td>158.808060</td>\n",
              "      <td>13973.333330</td>\n",
              "      <td>45.407417</td>\n",
              "      <td>...</td>\n",
              "      <td>0.000609</td>\n",
              "      <td>0.672628</td>\n",
              "      <td>16150.60173</td>\n",
              "      <td>0.000595</td>\n",
              "      <td>0.008233</td>\n",
              "      <td>0.005954</td>\n",
              "      <td>6.759171e+04</td>\n",
              "      <td>0.596882</td>\n",
              "      <td>48.462226</td>\n",
              "      <td>'large cell'</td>\n",
              "    </tr>\n",
              "    <tr>\n",
              "      <th>4</th>\n",
              "      <td>0.869980</td>\n",
              "      <td>0.715864</td>\n",
              "      <td>37.872296</td>\n",
              "      <td>52.904327</td>\n",
              "      <td>63.780875</td>\n",
              "      <td>65.115282</td>\n",
              "      <td>59.363288</td>\n",
              "      <td>70.992957</td>\n",
              "      <td>50277.333330</td>\n",
              "      <td>46.025717</td>\n",
              "      <td>...</td>\n",
              "      <td>0.000179</td>\n",
              "      <td>0.739990</td>\n",
              "      <td>152246.78220</td>\n",
              "      <td>0.000178</td>\n",
              "      <td>0.001932</td>\n",
              "      <td>0.001420</td>\n",
              "      <td>3.371136e+06</td>\n",
              "      <td>2.314521</td>\n",
              "      <td>364.513624</td>\n",
              "      <td>'large cell'</td>\n",
              "    </tr>\n",
              "    <tr>\n",
              "      <th>...</th>\n",
              "      <td>...</td>\n",
              "      <td>...</td>\n",
              "      <td>...</td>\n",
              "      <td>...</td>\n",
              "      <td>...</td>\n",
              "      <td>...</td>\n",
              "      <td>...</td>\n",
              "      <td>...</td>\n",
              "      <td>...</td>\n",
              "      <td>...</td>\n",
              "      <td>...</td>\n",
              "      <td>...</td>\n",
              "      <td>...</td>\n",
              "      <td>...</td>\n",
              "      <td>...</td>\n",
              "      <td>...</td>\n",
              "      <td>...</td>\n",
              "      <td>...</td>\n",
              "      <td>...</td>\n",
              "      <td>...</td>\n",
              "      <td>...</td>\n",
              "    </tr>\n",
              "    <tr>\n",
              "      <th>242</th>\n",
              "      <td>0.613950</td>\n",
              "      <td>0.536166</td>\n",
              "      <td>67.085543</td>\n",
              "      <td>125.120921</td>\n",
              "      <td>151.433154</td>\n",
              "      <td>143.178211</td>\n",
              "      <td>118.962179</td>\n",
              "      <td>186.986630</td>\n",
              "      <td>262922.000000</td>\n",
              "      <td>76.818007</td>\n",
              "      <td>...</td>\n",
              "      <td>0.000055</td>\n",
              "      <td>0.539262</td>\n",
              "      <td>30796.75751</td>\n",
              "      <td>0.000047</td>\n",
              "      <td>0.018433</td>\n",
              "      <td>0.000387</td>\n",
              "      <td>5.073418e+05</td>\n",
              "      <td>0.115637</td>\n",
              "      <td>33.076902</td>\n",
              "      <td>others</td>\n",
              "    </tr>\n",
              "    <tr>\n",
              "      <th>243</th>\n",
              "      <td>0.706267</td>\n",
              "      <td>0.473298</td>\n",
              "      <td>19.144342</td>\n",
              "      <td>40.448808</td>\n",
              "      <td>39.395431</td>\n",
              "      <td>48.414874</td>\n",
              "      <td>34.234486</td>\n",
              "      <td>49.071377</td>\n",
              "      <td>13417.666670</td>\n",
              "      <td>28.567655</td>\n",
              "      <td>...</td>\n",
              "      <td>0.000797</td>\n",
              "      <td>0.635981</td>\n",
              "      <td>11131.16552</td>\n",
              "      <td>0.000775</td>\n",
              "      <td>0.007429</td>\n",
              "      <td>0.006453</td>\n",
              "      <td>8.507560e+04</td>\n",
              "      <td>0.600453</td>\n",
              "      <td>51.726423</td>\n",
              "      <td>others</td>\n",
              "    </tr>\n",
              "    <tr>\n",
              "      <th>244</th>\n",
              "      <td>0.832425</td>\n",
              "      <td>0.624674</td>\n",
              "      <td>10.141866</td>\n",
              "      <td>16.235443</td>\n",
              "      <td>19.697716</td>\n",
              "      <td>17.204651</td>\n",
              "      <td>16.124516</td>\n",
              "      <td>19.798990</td>\n",
              "      <td>1428.000000</td>\n",
              "      <td>13.514788</td>\n",
              "      <td>...</td>\n",
              "      <td>0.005545</td>\n",
              "      <td>0.855006</td>\n",
              "      <td>21236.68132</td>\n",
              "      <td>0.005537</td>\n",
              "      <td>0.003682</td>\n",
              "      <td>0.030105</td>\n",
              "      <td>8.491850e+04</td>\n",
              "      <td>4.490970</td>\n",
              "      <td>194.650316</td>\n",
              "      <td>others</td>\n",
              "    </tr>\n",
              "    <tr>\n",
              "      <th>245</th>\n",
              "      <td>0.505327</td>\n",
              "      <td>0.335579</td>\n",
              "      <td>14.737564</td>\n",
              "      <td>43.916805</td>\n",
              "      <td>45.650849</td>\n",
              "      <td>41.761226</td>\n",
              "      <td>29.120440</td>\n",
              "      <td>50.358713</td>\n",
              "      <td>7421.333333</td>\n",
              "      <td>22.192352</td>\n",
              "      <td>...</td>\n",
              "      <td>0.001130</td>\n",
              "      <td>0.715150</td>\n",
              "      <td>10757.09395</td>\n",
              "      <td>0.001110</td>\n",
              "      <td>0.007144</td>\n",
              "      <td>0.010583</td>\n",
              "      <td>5.701539e+04</td>\n",
              "      <td>0.849220</td>\n",
              "      <td>56.233061</td>\n",
              "      <td>others</td>\n",
              "    </tr>\n",
              "    <tr>\n",
              "      <th>246</th>\n",
              "      <td>0.505327</td>\n",
              "      <td>0.335579</td>\n",
              "      <td>14.737564</td>\n",
              "      <td>43.916805</td>\n",
              "      <td>45.650849</td>\n",
              "      <td>41.761226</td>\n",
              "      <td>29.120440</td>\n",
              "      <td>50.358713</td>\n",
              "      <td>7421.333333</td>\n",
              "      <td>22.192352</td>\n",
              "      <td>...</td>\n",
              "      <td>0.001130</td>\n",
              "      <td>0.715150</td>\n",
              "      <td>10757.09395</td>\n",
              "      <td>0.001110</td>\n",
              "      <td>0.007144</td>\n",
              "      <td>0.010583</td>\n",
              "      <td>5.701539e+04</td>\n",
              "      <td>0.849220</td>\n",
              "      <td>56.233061</td>\n",
              "      <td>others</td>\n",
              "    </tr>\n",
              "  </tbody>\n",
              "</table>\n",
              "<p>247 rows × 1094 columns</p>\n",
              "</div>\n",
              "      <button class=\"colab-df-convert\" onclick=\"convertToInteractive('df-da5c8de8-5d56-486b-92f4-2d0b0258061f')\"\n",
              "              title=\"Convert this dataframe to an interactive table.\"\n",
              "              style=\"display:none;\">\n",
              "        \n",
              "  <svg xmlns=\"http://www.w3.org/2000/svg\" height=\"24px\"viewBox=\"0 0 24 24\"\n",
              "       width=\"24px\">\n",
              "    <path d=\"M0 0h24v24H0V0z\" fill=\"none\"/>\n",
              "    <path d=\"M18.56 5.44l.94 2.06.94-2.06 2.06-.94-2.06-.94-.94-2.06-.94 2.06-2.06.94zm-11 1L8.5 8.5l.94-2.06 2.06-.94-2.06-.94L8.5 2.5l-.94 2.06-2.06.94zm10 10l.94 2.06.94-2.06 2.06-.94-2.06-.94-.94-2.06-.94 2.06-2.06.94z\"/><path d=\"M17.41 7.96l-1.37-1.37c-.4-.4-.92-.59-1.43-.59-.52 0-1.04.2-1.43.59L10.3 9.45l-7.72 7.72c-.78.78-.78 2.05 0 2.83L4 21.41c.39.39.9.59 1.41.59.51 0 1.02-.2 1.41-.59l7.78-7.78 2.81-2.81c.8-.78.8-2.07 0-2.86zM5.41 20L4 18.59l7.72-7.72 1.47 1.35L5.41 20z\"/>\n",
              "  </svg>\n",
              "      </button>\n",
              "      \n",
              "  <style>\n",
              "    .colab-df-container {\n",
              "      display:flex;\n",
              "      flex-wrap:wrap;\n",
              "      gap: 12px;\n",
              "    }\n",
              "\n",
              "    .colab-df-convert {\n",
              "      background-color: #E8F0FE;\n",
              "      border: none;\n",
              "      border-radius: 50%;\n",
              "      cursor: pointer;\n",
              "      display: none;\n",
              "      fill: #1967D2;\n",
              "      height: 32px;\n",
              "      padding: 0 0 0 0;\n",
              "      width: 32px;\n",
              "    }\n",
              "\n",
              "    .colab-df-convert:hover {\n",
              "      background-color: #E2EBFA;\n",
              "      box-shadow: 0px 1px 2px rgba(60, 64, 67, 0.3), 0px 1px 3px 1px rgba(60, 64, 67, 0.15);\n",
              "      fill: #174EA6;\n",
              "    }\n",
              "\n",
              "    [theme=dark] .colab-df-convert {\n",
              "      background-color: #3B4455;\n",
              "      fill: #D2E3FC;\n",
              "    }\n",
              "\n",
              "    [theme=dark] .colab-df-convert:hover {\n",
              "      background-color: #434B5C;\n",
              "      box-shadow: 0px 1px 3px 1px rgba(0, 0, 0, 0.15);\n",
              "      filter: drop-shadow(0px 1px 2px rgba(0, 0, 0, 0.3));\n",
              "      fill: #FFFFFF;\n",
              "    }\n",
              "  </style>\n",
              "\n",
              "      <script>\n",
              "        const buttonEl =\n",
              "          document.querySelector('#df-da5c8de8-5d56-486b-92f4-2d0b0258061f button.colab-df-convert');\n",
              "        buttonEl.style.display =\n",
              "          google.colab.kernel.accessAllowed ? 'block' : 'none';\n",
              "\n",
              "        async function convertToInteractive(key) {\n",
              "          const element = document.querySelector('#df-da5c8de8-5d56-486b-92f4-2d0b0258061f');\n",
              "          const dataTable =\n",
              "            await google.colab.kernel.invokeFunction('convertToInteractive',\n",
              "                                                     [key], {});\n",
              "          if (!dataTable) return;\n",
              "\n",
              "          const docLinkHtml = 'Like what you see? Visit the ' +\n",
              "            '<a target=\"_blank\" href=https://colab.research.google.com/notebooks/data_table.ipynb>data table notebook</a>'\n",
              "            + ' to learn more about interactive tables.';\n",
              "          element.innerHTML = '';\n",
              "          dataTable['output_type'] = 'display_data';\n",
              "          await google.colab.output.renderOutput(dataTable, element);\n",
              "          const docLink = document.createElement('div');\n",
              "          docLink.innerHTML = docLinkHtml;\n",
              "          element.appendChild(docLink);\n",
              "        }\n",
              "      </script>\n",
              "    </div>\n",
              "  </div>\n",
              "  "
            ]
          },
          "metadata": {},
          "execution_count": 267
        }
      ]
    },
    {
      "cell_type": "code",
      "source": [
        "data_X = data_df.drop(['Label'], axis = 1)"
      ],
      "metadata": {
        "id": "xY7x8ocvSH4J"
      },
      "execution_count": 268,
      "outputs": []
    },
    {
      "cell_type": "code",
      "source": [
        "data_X.columns "
      ],
      "metadata": {
        "colab": {
          "base_uri": "https://localhost:8080/"
        },
        "id": "m0Z66Mw1SXU0",
        "outputId": "2b4da779-6517-4121-d7cb-5b10be5c0768"
      },
      "execution_count": 269,
      "outputs": [
        {
          "output_type": "execute_result",
          "data": {
            "text/plain": [
              "Index(['original_shape_Elongation', 'original_shape_Flatness',\n",
              "       'original_shape_LeastAxisLength', 'original_shape_MajorAxisLength',\n",
              "       'original_shape_Maximum2DDiameterColumn',\n",
              "       'original_shape_Maximum2DDiameterRow',\n",
              "       'original_shape_Maximum2DDiameterSlice',\n",
              "       'original_shape_Maximum3DDiameter', 'original_shape_MeshVolume',\n",
              "       'original_shape_MinorAxisLength',\n",
              "       ...\n",
              "       'wavelet-LLL_gldm_LargeDependenceLowGrayLevelEmphasis',\n",
              "       'wavelet-LLL_gldm_LowGrayLevelEmphasis',\n",
              "       'wavelet-LLL_gldm_SmallDependenceEmphasis',\n",
              "       'wavelet-LLL_gldm_SmallDependenceHighGrayLevelEmphasis',\n",
              "       'wavelet-LLL_gldm_SmallDependenceLowGrayLevelEmphasis',\n",
              "       'wavelet-LLL_ngtdm_Busyness', 'wavelet-LLL_ngtdm_Coarseness',\n",
              "       'wavelet-LLL_ngtdm_Complexity', 'wavelet-LLL_ngtdm_Contrast',\n",
              "       'wavelet-LLL_ngtdm_Strength'],\n",
              "      dtype='object', length=1093)"
            ]
          },
          "metadata": {},
          "execution_count": 269
        }
      ]
    },
    {
      "cell_type": "code",
      "source": [
        "data_X.shape "
      ],
      "metadata": {
        "colab": {
          "base_uri": "https://localhost:8080/"
        },
        "id": "i1NsbDmKSYne",
        "outputId": "3e9cd76d-bd58-4ab8-d0a5-7e75d8963bd1"
      },
      "execution_count": 270,
      "outputs": [
        {
          "output_type": "execute_result",
          "data": {
            "text/plain": [
              "(247, 1093)"
            ]
          },
          "metadata": {},
          "execution_count": 270
        }
      ]
    },
    {
      "cell_type": "code",
      "source": [
        "data_y = data_df['Label']"
      ],
      "metadata": {
        "id": "Kg-YAsI4Sduw"
      },
      "execution_count": 271,
      "outputs": []
    },
    {
      "cell_type": "code",
      "source": [
        "data_y.shape "
      ],
      "metadata": {
        "colab": {
          "base_uri": "https://localhost:8080/"
        },
        "id": "zQwhaFrBSgjc",
        "outputId": "40bd330c-f730-4814-b874-c1b2709b9360"
      },
      "execution_count": 272,
      "outputs": [
        {
          "output_type": "execute_result",
          "data": {
            "text/plain": [
              "(247,)"
            ]
          },
          "metadata": {},
          "execution_count": 272
        }
      ]
    },
    {
      "cell_type": "code",
      "source": [
        "data_df.isnull().sum().sum()"
      ],
      "metadata": {
        "colab": {
          "base_uri": "https://localhost:8080/"
        },
        "id": "IZKfuHyKSilb",
        "outputId": "9400296a-77d6-4b32-dbea-300bf7bb9d84"
      },
      "execution_count": 273,
      "outputs": [
        {
          "output_type": "execute_result",
          "data": {
            "text/plain": [
              "0"
            ]
          },
          "metadata": {},
          "execution_count": 273
        }
      ]
    },
    {
      "cell_type": "code",
      "source": [
        "data_y.unique()"
      ],
      "metadata": {
        "colab": {
          "base_uri": "https://localhost:8080/"
        },
        "id": "zYYZQ-WjSl0H",
        "outputId": "7a882ced-6d95-4acc-97ad-9b1b78709a68"
      },
      "execution_count": 274,
      "outputs": [
        {
          "output_type": "execute_result",
          "data": {
            "text/plain": [
              "array([\"'large cell'\", \"'squamous cell carcinoma'\", 'adenocarcinoma',\n",
              "       'others'], dtype=object)"
            ]
          },
          "metadata": {},
          "execution_count": 274
        }
      ]
    },
    {
      "cell_type": "code",
      "source": [
        "data_X "
      ],
      "metadata": {
        "colab": {
          "base_uri": "https://localhost:8080/",
          "height": 505
        },
        "id": "_cW362R8Sp46",
        "outputId": "6b4c5a85-4696-4a5f-b9b8-491c7c33422d"
      },
      "execution_count": 275,
      "outputs": [
        {
          "output_type": "execute_result",
          "data": {
            "text/plain": [
              "     original_shape_Elongation  original_shape_Flatness  \\\n",
              "0                     0.898535                 0.570600   \n",
              "1                     0.356341                 0.293696   \n",
              "2                     0.972992                 0.838632   \n",
              "3                     0.355514                 0.250921   \n",
              "4                     0.869980                 0.715864   \n",
              "..                         ...                      ...   \n",
              "242                   0.613950                 0.536166   \n",
              "243                   0.706267                 0.473298   \n",
              "244                   0.832425                 0.624674   \n",
              "245                   0.505327                 0.335579   \n",
              "246                   0.505327                 0.335579   \n",
              "\n",
              "     original_shape_LeastAxisLength  original_shape_MajorAxisLength  \\\n",
              "0                         31.886509                       55.882450   \n",
              "1                         30.746972                      104.689637   \n",
              "2                         36.685554                       43.744513   \n",
              "3                         32.048424                      127.723174   \n",
              "4                         37.872296                       52.904327   \n",
              "..                              ...                             ...   \n",
              "242                       67.085543                      125.120921   \n",
              "243                       19.144342                       40.448808   \n",
              "244                       10.141866                       16.235443   \n",
              "245                       14.737564                       43.916805   \n",
              "246                       14.737564                       43.916805   \n",
              "\n",
              "     original_shape_Maximum2DDiameterColumn  \\\n",
              "0                                 63.529521   \n",
              "1                                 62.289646   \n",
              "2                                 56.920998   \n",
              "3                                 92.130342   \n",
              "4                                 63.780875   \n",
              "..                                      ...   \n",
              "242                              151.433154   \n",
              "243                               39.395431   \n",
              "244                               19.697716   \n",
              "245                               45.650849   \n",
              "246                               45.650849   \n",
              "\n",
              "     original_shape_Maximum2DDiameterRow  \\\n",
              "0                              66.573268   \n",
              "1                              76.837491   \n",
              "2                              59.093147   \n",
              "3                              52.153619   \n",
              "4                              65.115282   \n",
              "..                                   ...   \n",
              "242                           143.178211   \n",
              "243                            48.414874   \n",
              "244                            17.204651   \n",
              "245                            41.761226   \n",
              "246                            41.761226   \n",
              "\n",
              "     original_shape_Maximum2DDiameterSlice  original_shape_Maximum3DDiameter  \\\n",
              "0                                61.188234                         72.718636   \n",
              "1                                48.332184                         99.015150   \n",
              "2                                50.000000                         59.531504   \n",
              "3                                50.159745                        158.808060   \n",
              "4                                59.363288                         70.992957   \n",
              "..                                     ...                               ...   \n",
              "242                             118.962179                        186.986630   \n",
              "243                              34.234486                         49.071377   \n",
              "244                              16.124516                         19.798990   \n",
              "245                              29.120440                         50.358713   \n",
              "246                              29.120440                         50.358713   \n",
              "\n",
              "     original_shape_MeshVolume  original_shape_MinorAxisLength  ...  \\\n",
              "0                 48863.000000                       50.212354  ...   \n",
              "1                 16849.666670                       37.305177  ...   \n",
              "2                 45073.000000                       42.563080  ...   \n",
              "3                 13973.333330                       45.407417  ...   \n",
              "4                 50277.333330                       46.025717  ...   \n",
              "..                         ...                             ...  ...   \n",
              "242              262922.000000                       76.818007  ...   \n",
              "243               13417.666670                       28.567655  ...   \n",
              "244                1428.000000                       13.514788  ...   \n",
              "245                7421.333333                       22.192352  ...   \n",
              "246                7421.333333                       22.192352  ...   \n",
              "\n",
              "     wavelet-LLL_gldm_LargeDependenceLowGrayLevelEmphasis  \\\n",
              "0                                             0.000182      \n",
              "1                                             0.000492      \n",
              "2                                             0.000242      \n",
              "3                                             0.000702      \n",
              "4                                             0.000188      \n",
              "..                                                 ...      \n",
              "242                                           0.000135      \n",
              "243                                           0.000960      \n",
              "244                                           0.005574      \n",
              "245                                           0.001249      \n",
              "246                                           0.001249      \n",
              "\n",
              "     wavelet-LLL_gldm_LowGrayLevelEmphasis  \\\n",
              "0                                 0.000175   \n",
              "1                                 0.000480   \n",
              "2                                 0.000204   \n",
              "3                                 0.000609   \n",
              "4                                 0.000179   \n",
              "..                                     ...   \n",
              "242                               0.000055   \n",
              "243                               0.000797   \n",
              "244                               0.005545   \n",
              "245                               0.001130   \n",
              "246                               0.001130   \n",
              "\n",
              "     wavelet-LLL_gldm_SmallDependenceEmphasis  \\\n",
              "0                                    0.782714   \n",
              "1                                    0.809799   \n",
              "2                                    0.607683   \n",
              "3                                    0.672628   \n",
              "4                                    0.739990   \n",
              "..                                        ...   \n",
              "242                                  0.539262   \n",
              "243                                  0.635981   \n",
              "244                                  0.855006   \n",
              "245                                  0.715150   \n",
              "246                                  0.715150   \n",
              "\n",
              "     wavelet-LLL_gldm_SmallDependenceHighGrayLevelEmphasis  \\\n",
              "0                                         188544.34720       \n",
              "1                                         185506.13380       \n",
              "2                                          51789.09974       \n",
              "3                                          16150.60173       \n",
              "4                                         152246.78220       \n",
              "..                                                 ...       \n",
              "242                                        30796.75751       \n",
              "243                                        11131.16552       \n",
              "244                                        21236.68132       \n",
              "245                                        10757.09395       \n",
              "246                                        10757.09395       \n",
              "\n",
              "     wavelet-LLL_gldm_SmallDependenceLowGrayLevelEmphasis  \\\n",
              "0                                             0.000174      \n",
              "1                                             0.000478      \n",
              "2                                             0.000200      \n",
              "3                                             0.000595      \n",
              "4                                             0.000178      \n",
              "..                                                 ...      \n",
              "242                                           0.000047      \n",
              "243                                           0.000775      \n",
              "244                                           0.005537      \n",
              "245                                           0.001110      \n",
              "246                                           0.001110      \n",
              "\n",
              "     wavelet-LLL_ngtdm_Busyness  wavelet-LLL_ngtdm_Coarseness  \\\n",
              "0                      0.001121                      0.001950   \n",
              "1                      0.000573                      0.006157   \n",
              "2                      0.003829                      0.001594   \n",
              "3                      0.008233                      0.005954   \n",
              "4                      0.001932                      0.001420   \n",
              "..                          ...                           ...   \n",
              "242                    0.018433                      0.000387   \n",
              "243                    0.007429                      0.006453   \n",
              "244                    0.003682                      0.030105   \n",
              "245                    0.007144                      0.010583   \n",
              "246                    0.007144                      0.010583   \n",
              "\n",
              "     wavelet-LLL_ngtdm_Complexity  wavelet-LLL_ngtdm_Contrast  \\\n",
              "0                    5.241414e+06                    1.329551   \n",
              "1                    3.263341e+06                    8.577655   \n",
              "2                    1.033373e+06                    1.189275   \n",
              "3                    6.759171e+04                    0.596882   \n",
              "4                    3.371136e+06                    2.314521   \n",
              "..                            ...                         ...   \n",
              "242                  5.073418e+05                    0.115637   \n",
              "243                  8.507560e+04                    0.600453   \n",
              "244                  8.491850e+04                    4.490970   \n",
              "245                  5.701539e+04                    0.849220   \n",
              "246                  5.701539e+04                    0.849220   \n",
              "\n",
              "     wavelet-LLL_ngtdm_Strength  \n",
              "0                    576.487136  \n",
              "1                   1468.964920  \n",
              "2                    158.997655  \n",
              "3                     48.462226  \n",
              "4                    364.513624  \n",
              "..                          ...  \n",
              "242                   33.076902  \n",
              "243                   51.726423  \n",
              "244                  194.650316  \n",
              "245                   56.233061  \n",
              "246                   56.233061  \n",
              "\n",
              "[247 rows x 1093 columns]"
            ],
            "text/html": [
              "\n",
              "  <div id=\"df-32bfb9fc-121c-4b56-bb5d-b7ff854e49d2\">\n",
              "    <div class=\"colab-df-container\">\n",
              "      <div>\n",
              "<style scoped>\n",
              "    .dataframe tbody tr th:only-of-type {\n",
              "        vertical-align: middle;\n",
              "    }\n",
              "\n",
              "    .dataframe tbody tr th {\n",
              "        vertical-align: top;\n",
              "    }\n",
              "\n",
              "    .dataframe thead th {\n",
              "        text-align: right;\n",
              "    }\n",
              "</style>\n",
              "<table border=\"1\" class=\"dataframe\">\n",
              "  <thead>\n",
              "    <tr style=\"text-align: right;\">\n",
              "      <th></th>\n",
              "      <th>original_shape_Elongation</th>\n",
              "      <th>original_shape_Flatness</th>\n",
              "      <th>original_shape_LeastAxisLength</th>\n",
              "      <th>original_shape_MajorAxisLength</th>\n",
              "      <th>original_shape_Maximum2DDiameterColumn</th>\n",
              "      <th>original_shape_Maximum2DDiameterRow</th>\n",
              "      <th>original_shape_Maximum2DDiameterSlice</th>\n",
              "      <th>original_shape_Maximum3DDiameter</th>\n",
              "      <th>original_shape_MeshVolume</th>\n",
              "      <th>original_shape_MinorAxisLength</th>\n",
              "      <th>...</th>\n",
              "      <th>wavelet-LLL_gldm_LargeDependenceLowGrayLevelEmphasis</th>\n",
              "      <th>wavelet-LLL_gldm_LowGrayLevelEmphasis</th>\n",
              "      <th>wavelet-LLL_gldm_SmallDependenceEmphasis</th>\n",
              "      <th>wavelet-LLL_gldm_SmallDependenceHighGrayLevelEmphasis</th>\n",
              "      <th>wavelet-LLL_gldm_SmallDependenceLowGrayLevelEmphasis</th>\n",
              "      <th>wavelet-LLL_ngtdm_Busyness</th>\n",
              "      <th>wavelet-LLL_ngtdm_Coarseness</th>\n",
              "      <th>wavelet-LLL_ngtdm_Complexity</th>\n",
              "      <th>wavelet-LLL_ngtdm_Contrast</th>\n",
              "      <th>wavelet-LLL_ngtdm_Strength</th>\n",
              "    </tr>\n",
              "  </thead>\n",
              "  <tbody>\n",
              "    <tr>\n",
              "      <th>0</th>\n",
              "      <td>0.898535</td>\n",
              "      <td>0.570600</td>\n",
              "      <td>31.886509</td>\n",
              "      <td>55.882450</td>\n",
              "      <td>63.529521</td>\n",
              "      <td>66.573268</td>\n",
              "      <td>61.188234</td>\n",
              "      <td>72.718636</td>\n",
              "      <td>48863.000000</td>\n",
              "      <td>50.212354</td>\n",
              "      <td>...</td>\n",
              "      <td>0.000182</td>\n",
              "      <td>0.000175</td>\n",
              "      <td>0.782714</td>\n",
              "      <td>188544.34720</td>\n",
              "      <td>0.000174</td>\n",
              "      <td>0.001121</td>\n",
              "      <td>0.001950</td>\n",
              "      <td>5.241414e+06</td>\n",
              "      <td>1.329551</td>\n",
              "      <td>576.487136</td>\n",
              "    </tr>\n",
              "    <tr>\n",
              "      <th>1</th>\n",
              "      <td>0.356341</td>\n",
              "      <td>0.293696</td>\n",
              "      <td>30.746972</td>\n",
              "      <td>104.689637</td>\n",
              "      <td>62.289646</td>\n",
              "      <td>76.837491</td>\n",
              "      <td>48.332184</td>\n",
              "      <td>99.015150</td>\n",
              "      <td>16849.666670</td>\n",
              "      <td>37.305177</td>\n",
              "      <td>...</td>\n",
              "      <td>0.000492</td>\n",
              "      <td>0.000480</td>\n",
              "      <td>0.809799</td>\n",
              "      <td>185506.13380</td>\n",
              "      <td>0.000478</td>\n",
              "      <td>0.000573</td>\n",
              "      <td>0.006157</td>\n",
              "      <td>3.263341e+06</td>\n",
              "      <td>8.577655</td>\n",
              "      <td>1468.964920</td>\n",
              "    </tr>\n",
              "    <tr>\n",
              "      <th>2</th>\n",
              "      <td>0.972992</td>\n",
              "      <td>0.838632</td>\n",
              "      <td>36.685554</td>\n",
              "      <td>43.744513</td>\n",
              "      <td>56.920998</td>\n",
              "      <td>59.093147</td>\n",
              "      <td>50.000000</td>\n",
              "      <td>59.531504</td>\n",
              "      <td>45073.000000</td>\n",
              "      <td>42.563080</td>\n",
              "      <td>...</td>\n",
              "      <td>0.000242</td>\n",
              "      <td>0.000204</td>\n",
              "      <td>0.607683</td>\n",
              "      <td>51789.09974</td>\n",
              "      <td>0.000200</td>\n",
              "      <td>0.003829</td>\n",
              "      <td>0.001594</td>\n",
              "      <td>1.033373e+06</td>\n",
              "      <td>1.189275</td>\n",
              "      <td>158.997655</td>\n",
              "    </tr>\n",
              "    <tr>\n",
              "      <th>3</th>\n",
              "      <td>0.355514</td>\n",
              "      <td>0.250921</td>\n",
              "      <td>32.048424</td>\n",
              "      <td>127.723174</td>\n",
              "      <td>92.130342</td>\n",
              "      <td>52.153619</td>\n",
              "      <td>50.159745</td>\n",
              "      <td>158.808060</td>\n",
              "      <td>13973.333330</td>\n",
              "      <td>45.407417</td>\n",
              "      <td>...</td>\n",
              "      <td>0.000702</td>\n",
              "      <td>0.000609</td>\n",
              "      <td>0.672628</td>\n",
              "      <td>16150.60173</td>\n",
              "      <td>0.000595</td>\n",
              "      <td>0.008233</td>\n",
              "      <td>0.005954</td>\n",
              "      <td>6.759171e+04</td>\n",
              "      <td>0.596882</td>\n",
              "      <td>48.462226</td>\n",
              "    </tr>\n",
              "    <tr>\n",
              "      <th>4</th>\n",
              "      <td>0.869980</td>\n",
              "      <td>0.715864</td>\n",
              "      <td>37.872296</td>\n",
              "      <td>52.904327</td>\n",
              "      <td>63.780875</td>\n",
              "      <td>65.115282</td>\n",
              "      <td>59.363288</td>\n",
              "      <td>70.992957</td>\n",
              "      <td>50277.333330</td>\n",
              "      <td>46.025717</td>\n",
              "      <td>...</td>\n",
              "      <td>0.000188</td>\n",
              "      <td>0.000179</td>\n",
              "      <td>0.739990</td>\n",
              "      <td>152246.78220</td>\n",
              "      <td>0.000178</td>\n",
              "      <td>0.001932</td>\n",
              "      <td>0.001420</td>\n",
              "      <td>3.371136e+06</td>\n",
              "      <td>2.314521</td>\n",
              "      <td>364.513624</td>\n",
              "    </tr>\n",
              "    <tr>\n",
              "      <th>...</th>\n",
              "      <td>...</td>\n",
              "      <td>...</td>\n",
              "      <td>...</td>\n",
              "      <td>...</td>\n",
              "      <td>...</td>\n",
              "      <td>...</td>\n",
              "      <td>...</td>\n",
              "      <td>...</td>\n",
              "      <td>...</td>\n",
              "      <td>...</td>\n",
              "      <td>...</td>\n",
              "      <td>...</td>\n",
              "      <td>...</td>\n",
              "      <td>...</td>\n",
              "      <td>...</td>\n",
              "      <td>...</td>\n",
              "      <td>...</td>\n",
              "      <td>...</td>\n",
              "      <td>...</td>\n",
              "      <td>...</td>\n",
              "      <td>...</td>\n",
              "    </tr>\n",
              "    <tr>\n",
              "      <th>242</th>\n",
              "      <td>0.613950</td>\n",
              "      <td>0.536166</td>\n",
              "      <td>67.085543</td>\n",
              "      <td>125.120921</td>\n",
              "      <td>151.433154</td>\n",
              "      <td>143.178211</td>\n",
              "      <td>118.962179</td>\n",
              "      <td>186.986630</td>\n",
              "      <td>262922.000000</td>\n",
              "      <td>76.818007</td>\n",
              "      <td>...</td>\n",
              "      <td>0.000135</td>\n",
              "      <td>0.000055</td>\n",
              "      <td>0.539262</td>\n",
              "      <td>30796.75751</td>\n",
              "      <td>0.000047</td>\n",
              "      <td>0.018433</td>\n",
              "      <td>0.000387</td>\n",
              "      <td>5.073418e+05</td>\n",
              "      <td>0.115637</td>\n",
              "      <td>33.076902</td>\n",
              "    </tr>\n",
              "    <tr>\n",
              "      <th>243</th>\n",
              "      <td>0.706267</td>\n",
              "      <td>0.473298</td>\n",
              "      <td>19.144342</td>\n",
              "      <td>40.448808</td>\n",
              "      <td>39.395431</td>\n",
              "      <td>48.414874</td>\n",
              "      <td>34.234486</td>\n",
              "      <td>49.071377</td>\n",
              "      <td>13417.666670</td>\n",
              "      <td>28.567655</td>\n",
              "      <td>...</td>\n",
              "      <td>0.000960</td>\n",
              "      <td>0.000797</td>\n",
              "      <td>0.635981</td>\n",
              "      <td>11131.16552</td>\n",
              "      <td>0.000775</td>\n",
              "      <td>0.007429</td>\n",
              "      <td>0.006453</td>\n",
              "      <td>8.507560e+04</td>\n",
              "      <td>0.600453</td>\n",
              "      <td>51.726423</td>\n",
              "    </tr>\n",
              "    <tr>\n",
              "      <th>244</th>\n",
              "      <td>0.832425</td>\n",
              "      <td>0.624674</td>\n",
              "      <td>10.141866</td>\n",
              "      <td>16.235443</td>\n",
              "      <td>19.697716</td>\n",
              "      <td>17.204651</td>\n",
              "      <td>16.124516</td>\n",
              "      <td>19.798990</td>\n",
              "      <td>1428.000000</td>\n",
              "      <td>13.514788</td>\n",
              "      <td>...</td>\n",
              "      <td>0.005574</td>\n",
              "      <td>0.005545</td>\n",
              "      <td>0.855006</td>\n",
              "      <td>21236.68132</td>\n",
              "      <td>0.005537</td>\n",
              "      <td>0.003682</td>\n",
              "      <td>0.030105</td>\n",
              "      <td>8.491850e+04</td>\n",
              "      <td>4.490970</td>\n",
              "      <td>194.650316</td>\n",
              "    </tr>\n",
              "    <tr>\n",
              "      <th>245</th>\n",
              "      <td>0.505327</td>\n",
              "      <td>0.335579</td>\n",
              "      <td>14.737564</td>\n",
              "      <td>43.916805</td>\n",
              "      <td>45.650849</td>\n",
              "      <td>41.761226</td>\n",
              "      <td>29.120440</td>\n",
              "      <td>50.358713</td>\n",
              "      <td>7421.333333</td>\n",
              "      <td>22.192352</td>\n",
              "      <td>...</td>\n",
              "      <td>0.001249</td>\n",
              "      <td>0.001130</td>\n",
              "      <td>0.715150</td>\n",
              "      <td>10757.09395</td>\n",
              "      <td>0.001110</td>\n",
              "      <td>0.007144</td>\n",
              "      <td>0.010583</td>\n",
              "      <td>5.701539e+04</td>\n",
              "      <td>0.849220</td>\n",
              "      <td>56.233061</td>\n",
              "    </tr>\n",
              "    <tr>\n",
              "      <th>246</th>\n",
              "      <td>0.505327</td>\n",
              "      <td>0.335579</td>\n",
              "      <td>14.737564</td>\n",
              "      <td>43.916805</td>\n",
              "      <td>45.650849</td>\n",
              "      <td>41.761226</td>\n",
              "      <td>29.120440</td>\n",
              "      <td>50.358713</td>\n",
              "      <td>7421.333333</td>\n",
              "      <td>22.192352</td>\n",
              "      <td>...</td>\n",
              "      <td>0.001249</td>\n",
              "      <td>0.001130</td>\n",
              "      <td>0.715150</td>\n",
              "      <td>10757.09395</td>\n",
              "      <td>0.001110</td>\n",
              "      <td>0.007144</td>\n",
              "      <td>0.010583</td>\n",
              "      <td>5.701539e+04</td>\n",
              "      <td>0.849220</td>\n",
              "      <td>56.233061</td>\n",
              "    </tr>\n",
              "  </tbody>\n",
              "</table>\n",
              "<p>247 rows × 1093 columns</p>\n",
              "</div>\n",
              "      <button class=\"colab-df-convert\" onclick=\"convertToInteractive('df-32bfb9fc-121c-4b56-bb5d-b7ff854e49d2')\"\n",
              "              title=\"Convert this dataframe to an interactive table.\"\n",
              "              style=\"display:none;\">\n",
              "        \n",
              "  <svg xmlns=\"http://www.w3.org/2000/svg\" height=\"24px\"viewBox=\"0 0 24 24\"\n",
              "       width=\"24px\">\n",
              "    <path d=\"M0 0h24v24H0V0z\" fill=\"none\"/>\n",
              "    <path d=\"M18.56 5.44l.94 2.06.94-2.06 2.06-.94-2.06-.94-.94-2.06-.94 2.06-2.06.94zm-11 1L8.5 8.5l.94-2.06 2.06-.94-2.06-.94L8.5 2.5l-.94 2.06-2.06.94zm10 10l.94 2.06.94-2.06 2.06-.94-2.06-.94-.94-2.06-.94 2.06-2.06.94z\"/><path d=\"M17.41 7.96l-1.37-1.37c-.4-.4-.92-.59-1.43-.59-.52 0-1.04.2-1.43.59L10.3 9.45l-7.72 7.72c-.78.78-.78 2.05 0 2.83L4 21.41c.39.39.9.59 1.41.59.51 0 1.02-.2 1.41-.59l7.78-7.78 2.81-2.81c.8-.78.8-2.07 0-2.86zM5.41 20L4 18.59l7.72-7.72 1.47 1.35L5.41 20z\"/>\n",
              "  </svg>\n",
              "      </button>\n",
              "      \n",
              "  <style>\n",
              "    .colab-df-container {\n",
              "      display:flex;\n",
              "      flex-wrap:wrap;\n",
              "      gap: 12px;\n",
              "    }\n",
              "\n",
              "    .colab-df-convert {\n",
              "      background-color: #E8F0FE;\n",
              "      border: none;\n",
              "      border-radius: 50%;\n",
              "      cursor: pointer;\n",
              "      display: none;\n",
              "      fill: #1967D2;\n",
              "      height: 32px;\n",
              "      padding: 0 0 0 0;\n",
              "      width: 32px;\n",
              "    }\n",
              "\n",
              "    .colab-df-convert:hover {\n",
              "      background-color: #E2EBFA;\n",
              "      box-shadow: 0px 1px 2px rgba(60, 64, 67, 0.3), 0px 1px 3px 1px rgba(60, 64, 67, 0.15);\n",
              "      fill: #174EA6;\n",
              "    }\n",
              "\n",
              "    [theme=dark] .colab-df-convert {\n",
              "      background-color: #3B4455;\n",
              "      fill: #D2E3FC;\n",
              "    }\n",
              "\n",
              "    [theme=dark] .colab-df-convert:hover {\n",
              "      background-color: #434B5C;\n",
              "      box-shadow: 0px 1px 3px 1px rgba(0, 0, 0, 0.15);\n",
              "      filter: drop-shadow(0px 1px 2px rgba(0, 0, 0, 0.3));\n",
              "      fill: #FFFFFF;\n",
              "    }\n",
              "  </style>\n",
              "\n",
              "      <script>\n",
              "        const buttonEl =\n",
              "          document.querySelector('#df-32bfb9fc-121c-4b56-bb5d-b7ff854e49d2 button.colab-df-convert');\n",
              "        buttonEl.style.display =\n",
              "          google.colab.kernel.accessAllowed ? 'block' : 'none';\n",
              "\n",
              "        async function convertToInteractive(key) {\n",
              "          const element = document.querySelector('#df-32bfb9fc-121c-4b56-bb5d-b7ff854e49d2');\n",
              "          const dataTable =\n",
              "            await google.colab.kernel.invokeFunction('convertToInteractive',\n",
              "                                                     [key], {});\n",
              "          if (!dataTable) return;\n",
              "\n",
              "          const docLinkHtml = 'Like what you see? Visit the ' +\n",
              "            '<a target=\"_blank\" href=https://colab.research.google.com/notebooks/data_table.ipynb>data table notebook</a>'\n",
              "            + ' to learn more about interactive tables.';\n",
              "          element.innerHTML = '';\n",
              "          dataTable['output_type'] = 'display_data';\n",
              "          await google.colab.output.renderOutput(dataTable, element);\n",
              "          const docLink = document.createElement('div');\n",
              "          docLink.innerHTML = docLinkHtml;\n",
              "          element.appendChild(docLink);\n",
              "        }\n",
              "      </script>\n",
              "    </div>\n",
              "  </div>\n",
              "  "
            ]
          },
          "metadata": {},
          "execution_count": 275
        }
      ]
    },
    {
      "cell_type": "markdown",
      "source": [
        "Label encoding"
      ],
      "metadata": {
        "id": "m_33cVtBpNrv"
      }
    },
    {
      "cell_type": "code",
      "source": [
        "from sklearn.preprocessing import LabelEncoder "
      ],
      "metadata": {
        "id": "ZtLQo0xTSuKP"
      },
      "execution_count": 276,
      "outputs": []
    },
    {
      "cell_type": "code",
      "source": [
        "le = LabelEncoder()"
      ],
      "metadata": {
        "id": "9Lr1-HvcV8-V"
      },
      "execution_count": 277,
      "outputs": []
    },
    {
      "cell_type": "code",
      "source": [
        "data_y_trans = le.fit_transform(data_y)\n"
      ],
      "metadata": {
        "id": "l32ds-KaWBEt"
      },
      "execution_count": 278,
      "outputs": []
    },
    {
      "cell_type": "code",
      "source": [
        "data_X"
      ],
      "metadata": {
        "colab": {
          "base_uri": "https://localhost:8080/",
          "height": 505
        },
        "id": "bGQlGNLBWGsd",
        "outputId": "4791b36b-bd94-44b7-8e9c-44f4d84526aa"
      },
      "execution_count": 279,
      "outputs": [
        {
          "output_type": "execute_result",
          "data": {
            "text/plain": [
              "     original_shape_Elongation  original_shape_Flatness  \\\n",
              "0                     0.898535                 0.570600   \n",
              "1                     0.356341                 0.293696   \n",
              "2                     0.972992                 0.838632   \n",
              "3                     0.355514                 0.250921   \n",
              "4                     0.869980                 0.715864   \n",
              "..                         ...                      ...   \n",
              "242                   0.613950                 0.536166   \n",
              "243                   0.706267                 0.473298   \n",
              "244                   0.832425                 0.624674   \n",
              "245                   0.505327                 0.335579   \n",
              "246                   0.505327                 0.335579   \n",
              "\n",
              "     original_shape_LeastAxisLength  original_shape_MajorAxisLength  \\\n",
              "0                         31.886509                       55.882450   \n",
              "1                         30.746972                      104.689637   \n",
              "2                         36.685554                       43.744513   \n",
              "3                         32.048424                      127.723174   \n",
              "4                         37.872296                       52.904327   \n",
              "..                              ...                             ...   \n",
              "242                       67.085543                      125.120921   \n",
              "243                       19.144342                       40.448808   \n",
              "244                       10.141866                       16.235443   \n",
              "245                       14.737564                       43.916805   \n",
              "246                       14.737564                       43.916805   \n",
              "\n",
              "     original_shape_Maximum2DDiameterColumn  \\\n",
              "0                                 63.529521   \n",
              "1                                 62.289646   \n",
              "2                                 56.920998   \n",
              "3                                 92.130342   \n",
              "4                                 63.780875   \n",
              "..                                      ...   \n",
              "242                              151.433154   \n",
              "243                               39.395431   \n",
              "244                               19.697716   \n",
              "245                               45.650849   \n",
              "246                               45.650849   \n",
              "\n",
              "     original_shape_Maximum2DDiameterRow  \\\n",
              "0                              66.573268   \n",
              "1                              76.837491   \n",
              "2                              59.093147   \n",
              "3                              52.153619   \n",
              "4                              65.115282   \n",
              "..                                   ...   \n",
              "242                           143.178211   \n",
              "243                            48.414874   \n",
              "244                            17.204651   \n",
              "245                            41.761226   \n",
              "246                            41.761226   \n",
              "\n",
              "     original_shape_Maximum2DDiameterSlice  original_shape_Maximum3DDiameter  \\\n",
              "0                                61.188234                         72.718636   \n",
              "1                                48.332184                         99.015150   \n",
              "2                                50.000000                         59.531504   \n",
              "3                                50.159745                        158.808060   \n",
              "4                                59.363288                         70.992957   \n",
              "..                                     ...                               ...   \n",
              "242                             118.962179                        186.986630   \n",
              "243                              34.234486                         49.071377   \n",
              "244                              16.124516                         19.798990   \n",
              "245                              29.120440                         50.358713   \n",
              "246                              29.120440                         50.358713   \n",
              "\n",
              "     original_shape_MeshVolume  original_shape_MinorAxisLength  ...  \\\n",
              "0                 48863.000000                       50.212354  ...   \n",
              "1                 16849.666670                       37.305177  ...   \n",
              "2                 45073.000000                       42.563080  ...   \n",
              "3                 13973.333330                       45.407417  ...   \n",
              "4                 50277.333330                       46.025717  ...   \n",
              "..                         ...                             ...  ...   \n",
              "242              262922.000000                       76.818007  ...   \n",
              "243               13417.666670                       28.567655  ...   \n",
              "244                1428.000000                       13.514788  ...   \n",
              "245                7421.333333                       22.192352  ...   \n",
              "246                7421.333333                       22.192352  ...   \n",
              "\n",
              "     wavelet-LLL_gldm_LargeDependenceLowGrayLevelEmphasis  \\\n",
              "0                                             0.000182      \n",
              "1                                             0.000492      \n",
              "2                                             0.000242      \n",
              "3                                             0.000702      \n",
              "4                                             0.000188      \n",
              "..                                                 ...      \n",
              "242                                           0.000135      \n",
              "243                                           0.000960      \n",
              "244                                           0.005574      \n",
              "245                                           0.001249      \n",
              "246                                           0.001249      \n",
              "\n",
              "     wavelet-LLL_gldm_LowGrayLevelEmphasis  \\\n",
              "0                                 0.000175   \n",
              "1                                 0.000480   \n",
              "2                                 0.000204   \n",
              "3                                 0.000609   \n",
              "4                                 0.000179   \n",
              "..                                     ...   \n",
              "242                               0.000055   \n",
              "243                               0.000797   \n",
              "244                               0.005545   \n",
              "245                               0.001130   \n",
              "246                               0.001130   \n",
              "\n",
              "     wavelet-LLL_gldm_SmallDependenceEmphasis  \\\n",
              "0                                    0.782714   \n",
              "1                                    0.809799   \n",
              "2                                    0.607683   \n",
              "3                                    0.672628   \n",
              "4                                    0.739990   \n",
              "..                                        ...   \n",
              "242                                  0.539262   \n",
              "243                                  0.635981   \n",
              "244                                  0.855006   \n",
              "245                                  0.715150   \n",
              "246                                  0.715150   \n",
              "\n",
              "     wavelet-LLL_gldm_SmallDependenceHighGrayLevelEmphasis  \\\n",
              "0                                         188544.34720       \n",
              "1                                         185506.13380       \n",
              "2                                          51789.09974       \n",
              "3                                          16150.60173       \n",
              "4                                         152246.78220       \n",
              "..                                                 ...       \n",
              "242                                        30796.75751       \n",
              "243                                        11131.16552       \n",
              "244                                        21236.68132       \n",
              "245                                        10757.09395       \n",
              "246                                        10757.09395       \n",
              "\n",
              "     wavelet-LLL_gldm_SmallDependenceLowGrayLevelEmphasis  \\\n",
              "0                                             0.000174      \n",
              "1                                             0.000478      \n",
              "2                                             0.000200      \n",
              "3                                             0.000595      \n",
              "4                                             0.000178      \n",
              "..                                                 ...      \n",
              "242                                           0.000047      \n",
              "243                                           0.000775      \n",
              "244                                           0.005537      \n",
              "245                                           0.001110      \n",
              "246                                           0.001110      \n",
              "\n",
              "     wavelet-LLL_ngtdm_Busyness  wavelet-LLL_ngtdm_Coarseness  \\\n",
              "0                      0.001121                      0.001950   \n",
              "1                      0.000573                      0.006157   \n",
              "2                      0.003829                      0.001594   \n",
              "3                      0.008233                      0.005954   \n",
              "4                      0.001932                      0.001420   \n",
              "..                          ...                           ...   \n",
              "242                    0.018433                      0.000387   \n",
              "243                    0.007429                      0.006453   \n",
              "244                    0.003682                      0.030105   \n",
              "245                    0.007144                      0.010583   \n",
              "246                    0.007144                      0.010583   \n",
              "\n",
              "     wavelet-LLL_ngtdm_Complexity  wavelet-LLL_ngtdm_Contrast  \\\n",
              "0                    5.241414e+06                    1.329551   \n",
              "1                    3.263341e+06                    8.577655   \n",
              "2                    1.033373e+06                    1.189275   \n",
              "3                    6.759171e+04                    0.596882   \n",
              "4                    3.371136e+06                    2.314521   \n",
              "..                            ...                         ...   \n",
              "242                  5.073418e+05                    0.115637   \n",
              "243                  8.507560e+04                    0.600453   \n",
              "244                  8.491850e+04                    4.490970   \n",
              "245                  5.701539e+04                    0.849220   \n",
              "246                  5.701539e+04                    0.849220   \n",
              "\n",
              "     wavelet-LLL_ngtdm_Strength  \n",
              "0                    576.487136  \n",
              "1                   1468.964920  \n",
              "2                    158.997655  \n",
              "3                     48.462226  \n",
              "4                    364.513624  \n",
              "..                          ...  \n",
              "242                   33.076902  \n",
              "243                   51.726423  \n",
              "244                  194.650316  \n",
              "245                   56.233061  \n",
              "246                   56.233061  \n",
              "\n",
              "[247 rows x 1093 columns]"
            ],
            "text/html": [
              "\n",
              "  <div id=\"df-8e3d6517-6786-4bb0-a239-5d64b04ffee5\">\n",
              "    <div class=\"colab-df-container\">\n",
              "      <div>\n",
              "<style scoped>\n",
              "    .dataframe tbody tr th:only-of-type {\n",
              "        vertical-align: middle;\n",
              "    }\n",
              "\n",
              "    .dataframe tbody tr th {\n",
              "        vertical-align: top;\n",
              "    }\n",
              "\n",
              "    .dataframe thead th {\n",
              "        text-align: right;\n",
              "    }\n",
              "</style>\n",
              "<table border=\"1\" class=\"dataframe\">\n",
              "  <thead>\n",
              "    <tr style=\"text-align: right;\">\n",
              "      <th></th>\n",
              "      <th>original_shape_Elongation</th>\n",
              "      <th>original_shape_Flatness</th>\n",
              "      <th>original_shape_LeastAxisLength</th>\n",
              "      <th>original_shape_MajorAxisLength</th>\n",
              "      <th>original_shape_Maximum2DDiameterColumn</th>\n",
              "      <th>original_shape_Maximum2DDiameterRow</th>\n",
              "      <th>original_shape_Maximum2DDiameterSlice</th>\n",
              "      <th>original_shape_Maximum3DDiameter</th>\n",
              "      <th>original_shape_MeshVolume</th>\n",
              "      <th>original_shape_MinorAxisLength</th>\n",
              "      <th>...</th>\n",
              "      <th>wavelet-LLL_gldm_LargeDependenceLowGrayLevelEmphasis</th>\n",
              "      <th>wavelet-LLL_gldm_LowGrayLevelEmphasis</th>\n",
              "      <th>wavelet-LLL_gldm_SmallDependenceEmphasis</th>\n",
              "      <th>wavelet-LLL_gldm_SmallDependenceHighGrayLevelEmphasis</th>\n",
              "      <th>wavelet-LLL_gldm_SmallDependenceLowGrayLevelEmphasis</th>\n",
              "      <th>wavelet-LLL_ngtdm_Busyness</th>\n",
              "      <th>wavelet-LLL_ngtdm_Coarseness</th>\n",
              "      <th>wavelet-LLL_ngtdm_Complexity</th>\n",
              "      <th>wavelet-LLL_ngtdm_Contrast</th>\n",
              "      <th>wavelet-LLL_ngtdm_Strength</th>\n",
              "    </tr>\n",
              "  </thead>\n",
              "  <tbody>\n",
              "    <tr>\n",
              "      <th>0</th>\n",
              "      <td>0.898535</td>\n",
              "      <td>0.570600</td>\n",
              "      <td>31.886509</td>\n",
              "      <td>55.882450</td>\n",
              "      <td>63.529521</td>\n",
              "      <td>66.573268</td>\n",
              "      <td>61.188234</td>\n",
              "      <td>72.718636</td>\n",
              "      <td>48863.000000</td>\n",
              "      <td>50.212354</td>\n",
              "      <td>...</td>\n",
              "      <td>0.000182</td>\n",
              "      <td>0.000175</td>\n",
              "      <td>0.782714</td>\n",
              "      <td>188544.34720</td>\n",
              "      <td>0.000174</td>\n",
              "      <td>0.001121</td>\n",
              "      <td>0.001950</td>\n",
              "      <td>5.241414e+06</td>\n",
              "      <td>1.329551</td>\n",
              "      <td>576.487136</td>\n",
              "    </tr>\n",
              "    <tr>\n",
              "      <th>1</th>\n",
              "      <td>0.356341</td>\n",
              "      <td>0.293696</td>\n",
              "      <td>30.746972</td>\n",
              "      <td>104.689637</td>\n",
              "      <td>62.289646</td>\n",
              "      <td>76.837491</td>\n",
              "      <td>48.332184</td>\n",
              "      <td>99.015150</td>\n",
              "      <td>16849.666670</td>\n",
              "      <td>37.305177</td>\n",
              "      <td>...</td>\n",
              "      <td>0.000492</td>\n",
              "      <td>0.000480</td>\n",
              "      <td>0.809799</td>\n",
              "      <td>185506.13380</td>\n",
              "      <td>0.000478</td>\n",
              "      <td>0.000573</td>\n",
              "      <td>0.006157</td>\n",
              "      <td>3.263341e+06</td>\n",
              "      <td>8.577655</td>\n",
              "      <td>1468.964920</td>\n",
              "    </tr>\n",
              "    <tr>\n",
              "      <th>2</th>\n",
              "      <td>0.972992</td>\n",
              "      <td>0.838632</td>\n",
              "      <td>36.685554</td>\n",
              "      <td>43.744513</td>\n",
              "      <td>56.920998</td>\n",
              "      <td>59.093147</td>\n",
              "      <td>50.000000</td>\n",
              "      <td>59.531504</td>\n",
              "      <td>45073.000000</td>\n",
              "      <td>42.563080</td>\n",
              "      <td>...</td>\n",
              "      <td>0.000242</td>\n",
              "      <td>0.000204</td>\n",
              "      <td>0.607683</td>\n",
              "      <td>51789.09974</td>\n",
              "      <td>0.000200</td>\n",
              "      <td>0.003829</td>\n",
              "      <td>0.001594</td>\n",
              "      <td>1.033373e+06</td>\n",
              "      <td>1.189275</td>\n",
              "      <td>158.997655</td>\n",
              "    </tr>\n",
              "    <tr>\n",
              "      <th>3</th>\n",
              "      <td>0.355514</td>\n",
              "      <td>0.250921</td>\n",
              "      <td>32.048424</td>\n",
              "      <td>127.723174</td>\n",
              "      <td>92.130342</td>\n",
              "      <td>52.153619</td>\n",
              "      <td>50.159745</td>\n",
              "      <td>158.808060</td>\n",
              "      <td>13973.333330</td>\n",
              "      <td>45.407417</td>\n",
              "      <td>...</td>\n",
              "      <td>0.000702</td>\n",
              "      <td>0.000609</td>\n",
              "      <td>0.672628</td>\n",
              "      <td>16150.60173</td>\n",
              "      <td>0.000595</td>\n",
              "      <td>0.008233</td>\n",
              "      <td>0.005954</td>\n",
              "      <td>6.759171e+04</td>\n",
              "      <td>0.596882</td>\n",
              "      <td>48.462226</td>\n",
              "    </tr>\n",
              "    <tr>\n",
              "      <th>4</th>\n",
              "      <td>0.869980</td>\n",
              "      <td>0.715864</td>\n",
              "      <td>37.872296</td>\n",
              "      <td>52.904327</td>\n",
              "      <td>63.780875</td>\n",
              "      <td>65.115282</td>\n",
              "      <td>59.363288</td>\n",
              "      <td>70.992957</td>\n",
              "      <td>50277.333330</td>\n",
              "      <td>46.025717</td>\n",
              "      <td>...</td>\n",
              "      <td>0.000188</td>\n",
              "      <td>0.000179</td>\n",
              "      <td>0.739990</td>\n",
              "      <td>152246.78220</td>\n",
              "      <td>0.000178</td>\n",
              "      <td>0.001932</td>\n",
              "      <td>0.001420</td>\n",
              "      <td>3.371136e+06</td>\n",
              "      <td>2.314521</td>\n",
              "      <td>364.513624</td>\n",
              "    </tr>\n",
              "    <tr>\n",
              "      <th>...</th>\n",
              "      <td>...</td>\n",
              "      <td>...</td>\n",
              "      <td>...</td>\n",
              "      <td>...</td>\n",
              "      <td>...</td>\n",
              "      <td>...</td>\n",
              "      <td>...</td>\n",
              "      <td>...</td>\n",
              "      <td>...</td>\n",
              "      <td>...</td>\n",
              "      <td>...</td>\n",
              "      <td>...</td>\n",
              "      <td>...</td>\n",
              "      <td>...</td>\n",
              "      <td>...</td>\n",
              "      <td>...</td>\n",
              "      <td>...</td>\n",
              "      <td>...</td>\n",
              "      <td>...</td>\n",
              "      <td>...</td>\n",
              "      <td>...</td>\n",
              "    </tr>\n",
              "    <tr>\n",
              "      <th>242</th>\n",
              "      <td>0.613950</td>\n",
              "      <td>0.536166</td>\n",
              "      <td>67.085543</td>\n",
              "      <td>125.120921</td>\n",
              "      <td>151.433154</td>\n",
              "      <td>143.178211</td>\n",
              "      <td>118.962179</td>\n",
              "      <td>186.986630</td>\n",
              "      <td>262922.000000</td>\n",
              "      <td>76.818007</td>\n",
              "      <td>...</td>\n",
              "      <td>0.000135</td>\n",
              "      <td>0.000055</td>\n",
              "      <td>0.539262</td>\n",
              "      <td>30796.75751</td>\n",
              "      <td>0.000047</td>\n",
              "      <td>0.018433</td>\n",
              "      <td>0.000387</td>\n",
              "      <td>5.073418e+05</td>\n",
              "      <td>0.115637</td>\n",
              "      <td>33.076902</td>\n",
              "    </tr>\n",
              "    <tr>\n",
              "      <th>243</th>\n",
              "      <td>0.706267</td>\n",
              "      <td>0.473298</td>\n",
              "      <td>19.144342</td>\n",
              "      <td>40.448808</td>\n",
              "      <td>39.395431</td>\n",
              "      <td>48.414874</td>\n",
              "      <td>34.234486</td>\n",
              "      <td>49.071377</td>\n",
              "      <td>13417.666670</td>\n",
              "      <td>28.567655</td>\n",
              "      <td>...</td>\n",
              "      <td>0.000960</td>\n",
              "      <td>0.000797</td>\n",
              "      <td>0.635981</td>\n",
              "      <td>11131.16552</td>\n",
              "      <td>0.000775</td>\n",
              "      <td>0.007429</td>\n",
              "      <td>0.006453</td>\n",
              "      <td>8.507560e+04</td>\n",
              "      <td>0.600453</td>\n",
              "      <td>51.726423</td>\n",
              "    </tr>\n",
              "    <tr>\n",
              "      <th>244</th>\n",
              "      <td>0.832425</td>\n",
              "      <td>0.624674</td>\n",
              "      <td>10.141866</td>\n",
              "      <td>16.235443</td>\n",
              "      <td>19.697716</td>\n",
              "      <td>17.204651</td>\n",
              "      <td>16.124516</td>\n",
              "      <td>19.798990</td>\n",
              "      <td>1428.000000</td>\n",
              "      <td>13.514788</td>\n",
              "      <td>...</td>\n",
              "      <td>0.005574</td>\n",
              "      <td>0.005545</td>\n",
              "      <td>0.855006</td>\n",
              "      <td>21236.68132</td>\n",
              "      <td>0.005537</td>\n",
              "      <td>0.003682</td>\n",
              "      <td>0.030105</td>\n",
              "      <td>8.491850e+04</td>\n",
              "      <td>4.490970</td>\n",
              "      <td>194.650316</td>\n",
              "    </tr>\n",
              "    <tr>\n",
              "      <th>245</th>\n",
              "      <td>0.505327</td>\n",
              "      <td>0.335579</td>\n",
              "      <td>14.737564</td>\n",
              "      <td>43.916805</td>\n",
              "      <td>45.650849</td>\n",
              "      <td>41.761226</td>\n",
              "      <td>29.120440</td>\n",
              "      <td>50.358713</td>\n",
              "      <td>7421.333333</td>\n",
              "      <td>22.192352</td>\n",
              "      <td>...</td>\n",
              "      <td>0.001249</td>\n",
              "      <td>0.001130</td>\n",
              "      <td>0.715150</td>\n",
              "      <td>10757.09395</td>\n",
              "      <td>0.001110</td>\n",
              "      <td>0.007144</td>\n",
              "      <td>0.010583</td>\n",
              "      <td>5.701539e+04</td>\n",
              "      <td>0.849220</td>\n",
              "      <td>56.233061</td>\n",
              "    </tr>\n",
              "    <tr>\n",
              "      <th>246</th>\n",
              "      <td>0.505327</td>\n",
              "      <td>0.335579</td>\n",
              "      <td>14.737564</td>\n",
              "      <td>43.916805</td>\n",
              "      <td>45.650849</td>\n",
              "      <td>41.761226</td>\n",
              "      <td>29.120440</td>\n",
              "      <td>50.358713</td>\n",
              "      <td>7421.333333</td>\n",
              "      <td>22.192352</td>\n",
              "      <td>...</td>\n",
              "      <td>0.001249</td>\n",
              "      <td>0.001130</td>\n",
              "      <td>0.715150</td>\n",
              "      <td>10757.09395</td>\n",
              "      <td>0.001110</td>\n",
              "      <td>0.007144</td>\n",
              "      <td>0.010583</td>\n",
              "      <td>5.701539e+04</td>\n",
              "      <td>0.849220</td>\n",
              "      <td>56.233061</td>\n",
              "    </tr>\n",
              "  </tbody>\n",
              "</table>\n",
              "<p>247 rows × 1093 columns</p>\n",
              "</div>\n",
              "      <button class=\"colab-df-convert\" onclick=\"convertToInteractive('df-8e3d6517-6786-4bb0-a239-5d64b04ffee5')\"\n",
              "              title=\"Convert this dataframe to an interactive table.\"\n",
              "              style=\"display:none;\">\n",
              "        \n",
              "  <svg xmlns=\"http://www.w3.org/2000/svg\" height=\"24px\"viewBox=\"0 0 24 24\"\n",
              "       width=\"24px\">\n",
              "    <path d=\"M0 0h24v24H0V0z\" fill=\"none\"/>\n",
              "    <path d=\"M18.56 5.44l.94 2.06.94-2.06 2.06-.94-2.06-.94-.94-2.06-.94 2.06-2.06.94zm-11 1L8.5 8.5l.94-2.06 2.06-.94-2.06-.94L8.5 2.5l-.94 2.06-2.06.94zm10 10l.94 2.06.94-2.06 2.06-.94-2.06-.94-.94-2.06-.94 2.06-2.06.94z\"/><path d=\"M17.41 7.96l-1.37-1.37c-.4-.4-.92-.59-1.43-.59-.52 0-1.04.2-1.43.59L10.3 9.45l-7.72 7.72c-.78.78-.78 2.05 0 2.83L4 21.41c.39.39.9.59 1.41.59.51 0 1.02-.2 1.41-.59l7.78-7.78 2.81-2.81c.8-.78.8-2.07 0-2.86zM5.41 20L4 18.59l7.72-7.72 1.47 1.35L5.41 20z\"/>\n",
              "  </svg>\n",
              "      </button>\n",
              "      \n",
              "  <style>\n",
              "    .colab-df-container {\n",
              "      display:flex;\n",
              "      flex-wrap:wrap;\n",
              "      gap: 12px;\n",
              "    }\n",
              "\n",
              "    .colab-df-convert {\n",
              "      background-color: #E8F0FE;\n",
              "      border: none;\n",
              "      border-radius: 50%;\n",
              "      cursor: pointer;\n",
              "      display: none;\n",
              "      fill: #1967D2;\n",
              "      height: 32px;\n",
              "      padding: 0 0 0 0;\n",
              "      width: 32px;\n",
              "    }\n",
              "\n",
              "    .colab-df-convert:hover {\n",
              "      background-color: #E2EBFA;\n",
              "      box-shadow: 0px 1px 2px rgba(60, 64, 67, 0.3), 0px 1px 3px 1px rgba(60, 64, 67, 0.15);\n",
              "      fill: #174EA6;\n",
              "    }\n",
              "\n",
              "    [theme=dark] .colab-df-convert {\n",
              "      background-color: #3B4455;\n",
              "      fill: #D2E3FC;\n",
              "    }\n",
              "\n",
              "    [theme=dark] .colab-df-convert:hover {\n",
              "      background-color: #434B5C;\n",
              "      box-shadow: 0px 1px 3px 1px rgba(0, 0, 0, 0.15);\n",
              "      filter: drop-shadow(0px 1px 2px rgba(0, 0, 0, 0.3));\n",
              "      fill: #FFFFFF;\n",
              "    }\n",
              "  </style>\n",
              "\n",
              "      <script>\n",
              "        const buttonEl =\n",
              "          document.querySelector('#df-8e3d6517-6786-4bb0-a239-5d64b04ffee5 button.colab-df-convert');\n",
              "        buttonEl.style.display =\n",
              "          google.colab.kernel.accessAllowed ? 'block' : 'none';\n",
              "\n",
              "        async function convertToInteractive(key) {\n",
              "          const element = document.querySelector('#df-8e3d6517-6786-4bb0-a239-5d64b04ffee5');\n",
              "          const dataTable =\n",
              "            await google.colab.kernel.invokeFunction('convertToInteractive',\n",
              "                                                     [key], {});\n",
              "          if (!dataTable) return;\n",
              "\n",
              "          const docLinkHtml = 'Like what you see? Visit the ' +\n",
              "            '<a target=\"_blank\" href=https://colab.research.google.com/notebooks/data_table.ipynb>data table notebook</a>'\n",
              "            + ' to learn more about interactive tables.';\n",
              "          element.innerHTML = '';\n",
              "          dataTable['output_type'] = 'display_data';\n",
              "          await google.colab.output.renderOutput(dataTable, element);\n",
              "          const docLink = document.createElement('div');\n",
              "          docLink.innerHTML = docLinkHtml;\n",
              "          element.appendChild(docLink);\n",
              "        }\n",
              "      </script>\n",
              "    </div>\n",
              "  </div>\n",
              "  "
            ]
          },
          "metadata": {},
          "execution_count": 279
        }
      ]
    },
    {
      "cell_type": "code",
      "source": [
        "df2 = pd.DataFrame(data_X)  "
      ],
      "metadata": {
        "id": "AQmLs5oZZBJX"
      },
      "execution_count": 280,
      "outputs": []
    },
    {
      "cell_type": "code",
      "source": [
        "df2.to_csv(r'my_data.csv', index=False)"
      ],
      "metadata": {
        "id": "inC1c6myZ658"
      },
      "execution_count": 281,
      "outputs": []
    },
    {
      "cell_type": "code",
      "source": [
        "from sklearn.model_selection import train_test_split\n",
        "X_train, X_test,y_train, y_test = train_test_split(data_X, data_y_trans, train_size = 0.7)"
      ],
      "metadata": {
        "id": "mrdZHJ0WOGAW"
      },
      "execution_count": 282,
      "outputs": []
    },
    {
      "cell_type": "code",
      "source": [
        "from sklearn.preprocessing import StandardScaler \n",
        "ss = StandardScaler()\n",
        "X_train_std = ss.fit_transform(X_train)\n",
        "X_test_std = ss.fit_transform(X_test)"
      ],
      "metadata": {
        "id": "ZaY6hGTXcDt4"
      },
      "execution_count": 283,
      "outputs": []
    },
    {
      "cell_type": "markdown",
      "source": [
        "PSO"
      ],
      "metadata": {
        "id": "-Qw_s99SJINL"
      }
    },
    {
      "cell_type": "code",
      "source": [
        "import optunity\n",
        "import optunity.metrics\n",
        "\n",
        "data=X_train_std\n",
        "labels=y_train.tolist()\n",
        "# Define the hyperparameter configuration space\n",
        "search = {\n",
        "    'n_estimators': [10, 100],\n",
        "    'max_features': [1, 64],\n",
        "    'max_depth': [5,50],\n",
        "    \"min_samples_split\":[2,11],\n",
        "    \"min_samples_leaf\":[1,11],\n",
        "    \"criterion\":[0,1]\n",
        "         }\n",
        "# Define the objective function\n",
        "@optunity.cross_validated(x=data, y=labels, num_folds=3)\n",
        "def performance(x_train, y_train, x_test, y_test,n_estimators=None, max_features=None,max_depth=None,min_samples_split=None,min_samples_leaf=None,criterion=None):\n",
        "    # fit the model\n",
        "    if criterion<0.5:\n",
        "        cri='gini'\n",
        "    else:\n",
        "        cri='entropy'\n",
        "    model = RandomForestClassifier(random_state=56)\n",
        "    #predictions = model.predict(x_test)\n",
        "    scores=np.mean(cross_val_score(model, X_train_std, y_train, cv=3, n_jobs=-1,\n",
        "                                    scoring=\"accuracy\"))\n",
        "    #return optunity.metrics.roc_auc(y_test, predictions, positive=True)\n",
        "    return scores#optunity.metrics.accuracy(y_test, predictions)\n",
        "    optimal_configuration, info, _ = optunity.maximize(performance,\n",
        "                                                  solver_name='particle swarm',\n",
        "                                                  num_evals=20,\n",
        "                                                   **search\n",
        "                                                  )\n",
        "print(optimal_configuration)\n",
        "\n",
        "\n",
        "print(\"Accuracy:\"+ str(info.optimum))"
      ],
      "metadata": {
        "colab": {
          "base_uri": "https://localhost:8080/"
        },
        "id": "Nwh0I2G1JK-m",
        "outputId": "8580b43d-9486-42c5-8c6b-3b2e6595fa39"
      },
      "execution_count": 339,
      "outputs": [
        {
          "output_type": "stream",
          "name": "stdout",
          "text": [
            "{'n_estimators': 20.283203125, 'max_features': 35.3916015625, 'max_depth': 42.8369140625, 'min_samples_split': 7.9853515625, 'min_samples_leaf': 8.060546875, 'criterion': 0.2412109375}\n",
            "Accuracy:0.8019425019425018\n"
          ]
        }
      ]
    },
    {
      "cell_type": "markdown",
      "source": [
        "FEATURE SELECTION"
      ],
      "metadata": {
        "id": "IaBRVekPmMZi"
      }
    },
    {
      "cell_type": "code",
      "source": [
        "from sklearn.feature_selection import chi2 \n",
        "from sklearn.feature_selection import SelectKBest \n",
        "from sklearn.ensemble import ExtraTreesClassifier"
      ],
      "metadata": {
        "id": "7gJBMcms7025"
      },
      "execution_count": 284,
      "outputs": []
    },
    {
      "cell_type": "code",
      "source": [
        "model = ExtraTreesClassifier(bootstrap=False, ccp_alpha=0.0, class_weight=None,\n",
        "                     criterion='gini', max_depth=None, max_features='auto',\n",
        "                     max_leaf_nodes=None, max_samples=None,\n",
        "                     min_impurity_decrease=0.0, \n",
        "                     min_samples_leaf=1, min_samples_split=2,\n",
        "                     min_weight_fraction_leaf=0.0, n_estimators=100,\n",
        "                     n_jobs=None, oob_score=False, random_state=42, verbose=0,\n",
        "                     warm_start=False)\n",
        "\n",
        "model.fit(data_X, data_y_trans)"
      ],
      "metadata": {
        "id": "n9IAlJzu72GW",
        "outputId": "6098f16b-9346-4359-d700-ae5ef0d64838",
        "colab": {
          "base_uri": "https://localhost:8080/"
        }
      },
      "execution_count": 285,
      "outputs": [
        {
          "output_type": "execute_result",
          "data": {
            "text/plain": [
              "ExtraTreesClassifier(random_state=42)"
            ]
          },
          "metadata": {},
          "execution_count": 285
        }
      ]
    },
    {
      "cell_type": "code",
      "source": [
        "model.feature_importances_"
      ],
      "metadata": {
        "id": "_MeL3rQC8lNp",
        "outputId": "1654eecc-8af5-4a9d-fbd6-565b849503dd",
        "colab": {
          "base_uri": "https://localhost:8080/"
        }
      },
      "execution_count": 286,
      "outputs": [
        {
          "output_type": "execute_result",
          "data": {
            "text/plain": [
              "array([0.00095195, 0.00139088, 0.0009904 , ..., 0.00042896, 0.00129838,\n",
              "       0.00105998])"
            ]
          },
          "metadata": {},
          "execution_count": 286
        }
      ]
    },
    {
      "cell_type": "code",
      "source": [
        "feature_importance_std = pd.Series(model.feature_importances_, index=data_X.columns)\n",
        "feature_importance_std.nlargest(20).plot(kind='bar', title='Standardised Dataset Feature Selection using ExtraTreesClassifier')"
      ],
      "metadata": {
        "id": "Z8ty4qs584ae",
        "outputId": "e7e8e4ed-5e61-4c44-cee2-b465359a5058",
        "colab": {
          "base_uri": "https://localhost:8080/",
          "height": 566
        }
      },
      "execution_count": 287,
      "outputs": [
        {
          "output_type": "execute_result",
          "data": {
            "text/plain": [
              "<matplotlib.axes._subplots.AxesSubplot at 0x7f12282d9670>"
            ]
          },
          "metadata": {},
          "execution_count": 287
        },
        {
          "output_type": "display_data",
          "data": {
            "text/plain": [
              "<Figure size 432x288 with 1 Axes>"
            ],
            "image/png": "[encoded data removed]"
          },
          "metadata": {
            "needs_background": "light"
          }
        }
      ]
    },
    {
      "cell_type": "code",
      "source": [
        "feature_importance_std.nlargest(20)"
      ],
      "metadata": {
        "colab": {
          "base_uri": "https://localhost:8080/"
        },
        "id": "LMpuXLJsasSJ",
        "outputId": "376a9515-f85a-4ee4-e495-a0a0231c7b48"
      },
      "execution_count": 288,
      "outputs": [
        {
          "output_type": "execute_result",
          "data": {
            "text/plain": [
              "wavelet-HLL_glcm_Correlation                          0.005322\n",
              "wavelet-LLH_glszm_GrayLevelNonUniformity              0.004076\n",
              "original_shape_Maximum2DDiameterSlice                 0.004027\n",
              "original_glcm_Correlation                             0.003631\n",
              "original_firstorder_90Percentile                      0.003473\n",
              "wavelet-LLL_firstorder_Median                         0.003212\n",
              "log-sigma-1-0-mm-3D_ngtdm_Coarseness                  0.003106\n",
              "wavelet-HLL_gldm_GrayLevelVariance                    0.003091\n",
              "wavelet-LLH_glszm_SizeZoneNonUniformityNormalized     0.003088\n",
              "wavelet-LLH_glrlm_LongRunHighGrayLevelEmphasis        0.003032\n",
              "wavelet-HLH_glcm_Correlation                          0.002955\n",
              "wavelet-HHL_glrlm_LongRunHighGrayLevelEmphasis        0.002646\n",
              "wavelet-HHH_firstorder_Mean                           0.002623\n",
              "wavelet-LLH_glcm_Correlation                          0.002597\n",
              "wavelet-LLL_glszm_SizeZoneNonUniformity               0.002580\n",
              "wavelet-LHL_glszm_GrayLevelNonUniformity              0.002476\n",
              "wavelet-LLL_glszm_GrayLevelNonUniformityNormalized    0.002388\n",
              "wavelet-LHH_glrlm_GrayLevelNonUniformity              0.002364\n",
              "wavelet-HLL_glcm_Idmn                                 0.002303\n",
              "wavelet-HHL_glrlm_ShortRunEmphasis                    0.002302\n",
              "dtype: float64"
            ]
          },
          "metadata": {},
          "execution_count": 288
        }
      ]
    },
    {
      "cell_type": "code",
      "source": [
        "data_new_20features_X = data_X[['wavelet-HLL_glcm_Correlation',\n",
        "'wavelet-LLH_glszm_GrayLevelNonUniformity',\n",
        "'original_shape_Maximum2DDiameterSlice',\n",
        "'original_glcm_Correlation',\n",
        "'original_firstorder_90Percentile',\n",
        "'wavelet-LLL_firstorder_Median',\n",
        "'log-sigma-1-0-mm-3D_ngtdm_Coarseness',\n",
        "'wavelet-HLL_gldm_GrayLevelVariance',\n",
        "'wavelet-LLH_glszm_SizeZoneNonUniformityNormalized',\n",
        "'wavelet-LLH_glrlm_LongRunHighGrayLevelEmphasis',\n",
        "'wavelet-HLH_glcm_Correlation',\n",
        "'wavelet-HHL_glrlm_LongRunHighGrayLevelEmphasis',\n",
        "'wavelet-HHH_firstorder_Mean',\n",
        "'wavelet-LLH_glcm_Correlation',\n",
        "'wavelet-LLL_glszm_SizeZoneNonUniformity',\n",
        "'wavelet-LLH_glszm_GrayLevelNonUniformity',\n",
        "'wavelet-LLL_glszm_GrayLevelNonUniformityNormalized',\n",
        "'wavelet-LHH_glrlm_GrayLevelNonUniformity',\n",
        "'wavelet-HHL_glrlm_ShortRunEmphasis']]"
      ],
      "metadata": {
        "id": "IOCY4W5x9E7e"
      },
      "execution_count": 289,
      "outputs": []
    },
    {
      "cell_type": "code",
      "source": [
        "data_new_20features_X"
      ],
      "metadata": {
        "id": "Z3ovz_PH9Tiy",
        "outputId": "626a96b4-f4b2-493d-bf63-96563b9a0dc6",
        "colab": {
          "base_uri": "https://localhost:8080/",
          "height": 505
        }
      },
      "execution_count": 290,
      "outputs": [
        {
          "output_type": "execute_result",
          "data": {
            "text/plain": [
              "     wavelet-HLL_glcm_Correlation  wavelet-LLH_glszm_GrayLevelNonUniformity  \\\n",
              "0                        0.111907                                 59.266235   \n",
              "1                        0.186510                                 35.799083   \n",
              "2                        0.228052                                 52.330247   \n",
              "3                        0.182696                                 36.963134   \n",
              "4                        0.172725                                 61.275099   \n",
              "..                            ...                                       ...   \n",
              "242                      0.222189                                377.034868   \n",
              "243                      0.242403                                 19.990148   \n",
              "244                      0.400221                                  4.717172   \n",
              "245                      0.371026                                 16.793765   \n",
              "246                      0.371026                                 16.793765   \n",
              "\n",
              "     original_shape_Maximum2DDiameterSlice  original_glcm_Correlation  \\\n",
              "0                                61.188234                   0.692753   \n",
              "1                                48.332184                   0.874721   \n",
              "2                                50.000000                   0.543484   \n",
              "3                                50.159745                   0.471547   \n",
              "4                                59.363288                   0.571065   \n",
              "..                                     ...                        ...   \n",
              "242                             118.962179                   0.484215   \n",
              "243                              34.234486                   0.458299   \n",
              "244                              16.124516                   0.540853   \n",
              "245                              29.120440                   0.532447   \n",
              "246                              29.120440                   0.532447   \n",
              "\n",
              "     original_firstorder_90Percentile  wavelet-LLL_firstorder_Median  \\\n",
              "0                          320.109735                     152.173401   \n",
              "1                           35.692534                    -277.363739   \n",
              "2                          103.570842                     205.087456   \n",
              "3                           58.279659                      21.103539   \n",
              "4                           64.912999                      11.502838   \n",
              "..                                ...                            ...   \n",
              "242                         74.714656                     104.797287   \n",
              "243                        102.990390                     174.314224   \n",
              "244                        102.380483                      55.334547   \n",
              "245                        124.962648                     189.995987   \n",
              "246                        124.962648                     189.995987   \n",
              "\n",
              "     log-sigma-1-0-mm-3D_ngtdm_Coarseness  wavelet-HLL_gldm_GrayLevelVariance  \\\n",
              "0                                0.001385                          587.024260   \n",
              "1                                0.003359                         1678.095013   \n",
              "2                                0.001291                          307.093149   \n",
              "3                                0.003327                          201.963445   \n",
              "4                                0.001198                         1038.807072   \n",
              "..                                    ...                                 ...   \n",
              "242                              0.000202                          201.674443   \n",
              "243                              0.003836                           90.356696   \n",
              "244                              0.030720                          173.772280   \n",
              "245                              0.006959                          100.458654   \n",
              "246                              0.006959                          100.458654   \n",
              "\n",
              "     wavelet-LLH_glszm_SizeZoneNonUniformityNormalized  \\\n",
              "0                                             0.629069   \n",
              "1                                             0.577221   \n",
              "2                                             0.546732   \n",
              "3                                             0.474790   \n",
              "4                                             0.616722   \n",
              "..                                                 ...   \n",
              "242                                           0.436838   \n",
              "243                                           0.492993   \n",
              "244                                           0.469034   \n",
              "245                                           0.437020   \n",
              "246                                           0.437020   \n",
              "\n",
              "     wavelet-LLH_glrlm_LongRunHighGrayLevelEmphasis  \\\n",
              "0                                      15233.713280   \n",
              "1                                      11886.039060   \n",
              "2                                       8416.489819   \n",
              "3                                       8534.187501   \n",
              "4                                      15271.408360   \n",
              "..                                              ...   \n",
              "242                                     9361.071817   \n",
              "243                                    11013.892660   \n",
              "244                                      236.962555   \n",
              "245                                     3324.496749   \n",
              "246                                     3324.496749   \n",
              "\n",
              "     wavelet-HLH_glcm_Correlation  \\\n",
              "0                        0.004805   \n",
              "1                       -0.011177   \n",
              "2                        0.066790   \n",
              "3                        0.025917   \n",
              "4                        0.043009   \n",
              "..                            ...   \n",
              "242                      0.044446   \n",
              "243                      0.086067   \n",
              "244                     -0.014947   \n",
              "245                      0.087089   \n",
              "246                      0.087089   \n",
              "\n",
              "     wavelet-HHL_glrlm_LongRunHighGrayLevelEmphasis  \\\n",
              "0                                      12449.762880   \n",
              "1                                       9211.393271   \n",
              "2                                       4872.943326   \n",
              "3                                       6329.094091   \n",
              "4                                      15586.556710   \n",
              "..                                              ...   \n",
              "242                                    13232.335790   \n",
              "243                                     3492.605707   \n",
              "244                                      975.782516   \n",
              "245                                     3114.071937   \n",
              "246                                     3114.071937   \n",
              "\n",
              "     wavelet-HHH_firstorder_Mean  wavelet-LLH_glcm_Correlation  \\\n",
              "0                      -0.034250                      0.338160   \n",
              "1                       0.003666                      0.378823   \n",
              "2                      -0.074055                      0.442844   \n",
              "3                      -0.003756                      0.380519   \n",
              "4                       0.126153                      0.357940   \n",
              "..                           ...                           ...   \n",
              "242                    -0.033676                      0.376870   \n",
              "243                    -0.139018                      0.477427   \n",
              "244                    -0.268201                      0.485060   \n",
              "245                    -0.501685                      0.460377   \n",
              "246                    -0.501685                      0.460377   \n",
              "\n",
              "     wavelet-LLL_glszm_SizeZoneNonUniformity  \\\n",
              "0                                3856.633300   \n",
              "1                                1482.287701   \n",
              "2                                2393.474352   \n",
              "3                                 866.476580   \n",
              "4                                3596.487221   \n",
              "..                                       ...   \n",
              "242                             11190.092250   \n",
              "243                               744.748533   \n",
              "244                               133.329268   \n",
              "245                               510.316422   \n",
              "246                               510.316422   \n",
              "\n",
              "     wavelet-LLH_glszm_GrayLevelNonUniformity  \\\n",
              "0                                   59.266235   \n",
              "1                                   35.799083   \n",
              "2                                   52.330247   \n",
              "3                                   36.963134   \n",
              "4                                   61.275099   \n",
              "..                                        ...   \n",
              "242                                377.034868   \n",
              "243                                 19.990148   \n",
              "244                                  4.717172   \n",
              "245                                 16.793765   \n",
              "246                                 16.793765   \n",
              "\n",
              "     wavelet-LLL_glszm_GrayLevelNonUniformityNormalized  \\\n",
              "0                                             0.004577    \n",
              "1                                             0.003834    \n",
              "2                                             0.007771    \n",
              "3                                             0.013083    \n",
              "4                                             0.006591    \n",
              "..                                                 ...    \n",
              "242                                           0.012663    \n",
              "243                                           0.012673    \n",
              "244                                           0.012344    \n",
              "245                                           0.011781    \n",
              "246                                           0.011781    \n",
              "\n",
              "     wavelet-LHH_glrlm_GrayLevelNonUniformity  \\\n",
              "0                                  266.960698   \n",
              "1                                  132.744918   \n",
              "2                                  420.984012   \n",
              "3                                  112.082673   \n",
              "4                                  244.401105   \n",
              "..                                        ...   \n",
              "242                               3134.211362   \n",
              "243                                 96.713506   \n",
              "244                                 20.446238   \n",
              "245                                 91.414642   \n",
              "246                                 91.414642   \n",
              "\n",
              "     wavelet-HHL_glrlm_ShortRunEmphasis  \n",
              "0                              0.969541  \n",
              "1                              0.981721  \n",
              "2                              0.959236  \n",
              "3                              0.980580  \n",
              "4                              0.984527  \n",
              "..                                  ...  \n",
              "242                            0.955379  \n",
              "243                            0.970960  \n",
              "244                            0.963744  \n",
              "245                            0.958340  \n",
              "246                            0.958340  \n",
              "\n",
              "[247 rows x 19 columns]"
            ],
            "text/html": [
              "\n",
              "  <div id=\"df-30bf53f4-5f17-4ee9-b7ac-ebe8aab74739\">\n",
              "    <div class=\"colab-df-container\">\n",
              "      <div>\n",
              "<style scoped>\n",
              "    .dataframe tbody tr th:only-of-type {\n",
              "        vertical-align: middle;\n",
              "    }\n",
              "\n",
              "    .dataframe tbody tr th {\n",
              "        vertical-align: top;\n",
              "    }\n",
              "\n",
              "    .dataframe thead th {\n",
              "        text-align: right;\n",
              "    }\n",
              "</style>\n",
              "<table border=\"1\" class=\"dataframe\">\n",
              "  <thead>\n",
              "    <tr style=\"text-align: right;\">\n",
              "      <th></th>\n",
              "      <th>wavelet-HLL_glcm_Correlation</th>\n",
              "      <th>wavelet-LLH_glszm_GrayLevelNonUniformity</th>\n",
              "      <th>original_shape_Maximum2DDiameterSlice</th>\n",
              "      <th>original_glcm_Correlation</th>\n",
              "      <th>original_firstorder_90Percentile</th>\n",
              "      <th>wavelet-LLL_firstorder_Median</th>\n",
              "      <th>log-sigma-1-0-mm-3D_ngtdm_Coarseness</th>\n",
              "      <th>wavelet-HLL_gldm_GrayLevelVariance</th>\n",
              "      <th>wavelet-LLH_glszm_SizeZoneNonUniformityNormalized</th>\n",
              "      <th>wavelet-LLH_glrlm_LongRunHighGrayLevelEmphasis</th>\n",
              "      <th>wavelet-HLH_glcm_Correlation</th>\n",
              "      <th>wavelet-HHL_glrlm_LongRunHighGrayLevelEmphasis</th>\n",
              "      <th>wavelet-HHH_firstorder_Mean</th>\n",
              "      <th>wavelet-LLH_glcm_Correlation</th>\n",
              "      <th>wavelet-LLL_glszm_SizeZoneNonUniformity</th>\n",
              "      <th>wavelet-LLH_glszm_GrayLevelNonUniformity</th>\n",
              "      <th>wavelet-LLL_glszm_GrayLevelNonUniformityNormalized</th>\n",
              "      <th>wavelet-LHH_glrlm_GrayLevelNonUniformity</th>\n",
              "      <th>wavelet-HHL_glrlm_ShortRunEmphasis</th>\n",
              "    </tr>\n",
              "  </thead>\n",
              "  <tbody>\n",
              "    <tr>\n",
              "      <th>0</th>\n",
              "      <td>0.111907</td>\n",
              "      <td>59.266235</td>\n",
              "      <td>61.188234</td>\n",
              "      <td>0.692753</td>\n",
              "      <td>320.109735</td>\n",
              "      <td>152.173401</td>\n",
              "      <td>0.001385</td>\n",
              "      <td>587.024260</td>\n",
              "      <td>0.629069</td>\n",
              "      <td>15233.713280</td>\n",
              "      <td>0.004805</td>\n",
              "      <td>12449.762880</td>\n",
              "      <td>-0.034250</td>\n",
              "      <td>0.338160</td>\n",
              "      <td>3856.633300</td>\n",
              "      <td>59.266235</td>\n",
              "      <td>0.004577</td>\n",
              "      <td>266.960698</td>\n",
              "      <td>0.969541</td>\n",
              "    </tr>\n",
              "    <tr>\n",
              "      <th>1</th>\n",
              "      <td>0.186510</td>\n",
              "      <td>35.799083</td>\n",
              "      <td>48.332184</td>\n",
              "      <td>0.874721</td>\n",
              "      <td>35.692534</td>\n",
              "      <td>-277.363739</td>\n",
              "      <td>0.003359</td>\n",
              "      <td>1678.095013</td>\n",
              "      <td>0.577221</td>\n",
              "      <td>11886.039060</td>\n",
              "      <td>-0.011177</td>\n",
              "      <td>9211.393271</td>\n",
              "      <td>0.003666</td>\n",
              "      <td>0.378823</td>\n",
              "      <td>1482.287701</td>\n",
              "      <td>35.799083</td>\n",
              "      <td>0.003834</td>\n",
              "      <td>132.744918</td>\n",
              "      <td>0.981721</td>\n",
              "    </tr>\n",
              "    <tr>\n",
              "      <th>2</th>\n",
              "      <td>0.228052</td>\n",
              "      <td>52.330247</td>\n",
              "      <td>50.000000</td>\n",
              "      <td>0.543484</td>\n",
              "      <td>103.570842</td>\n",
              "      <td>205.087456</td>\n",
              "      <td>0.001291</td>\n",
              "      <td>307.093149</td>\n",
              "      <td>0.546732</td>\n",
              "      <td>8416.489819</td>\n",
              "      <td>0.066790</td>\n",
              "      <td>4872.943326</td>\n",
              "      <td>-0.074055</td>\n",
              "      <td>0.442844</td>\n",
              "      <td>2393.474352</td>\n",
              "      <td>52.330247</td>\n",
              "      <td>0.007771</td>\n",
              "      <td>420.984012</td>\n",
              "      <td>0.959236</td>\n",
              "    </tr>\n",
              "    <tr>\n",
              "      <th>3</th>\n",
              "      <td>0.182696</td>\n",
              "      <td>36.963134</td>\n",
              "      <td>50.159745</td>\n",
              "      <td>0.471547</td>\n",
              "      <td>58.279659</td>\n",
              "      <td>21.103539</td>\n",
              "      <td>0.003327</td>\n",
              "      <td>201.963445</td>\n",
              "      <td>0.474790</td>\n",
              "      <td>8534.187501</td>\n",
              "      <td>0.025917</td>\n",
              "      <td>6329.094091</td>\n",
              "      <td>-0.003756</td>\n",
              "      <td>0.380519</td>\n",
              "      <td>866.476580</td>\n",
              "      <td>36.963134</td>\n",
              "      <td>0.013083</td>\n",
              "      <td>112.082673</td>\n",
              "      <td>0.980580</td>\n",
              "    </tr>\n",
              "    <tr>\n",
              "      <th>4</th>\n",
              "      <td>0.172725</td>\n",
              "      <td>61.275099</td>\n",
              "      <td>59.363288</td>\n",
              "      <td>0.571065</td>\n",
              "      <td>64.912999</td>\n",
              "      <td>11.502838</td>\n",
              "      <td>0.001198</td>\n",
              "      <td>1038.807072</td>\n",
              "      <td>0.616722</td>\n",
              "      <td>15271.408360</td>\n",
              "      <td>0.043009</td>\n",
              "      <td>15586.556710</td>\n",
              "      <td>0.126153</td>\n",
              "      <td>0.357940</td>\n",
              "      <td>3596.487221</td>\n",
              "      <td>61.275099</td>\n",
              "      <td>0.006591</td>\n",
              "      <td>244.401105</td>\n",
              "      <td>0.984527</td>\n",
              "    </tr>\n",
              "    <tr>\n",
              "      <th>...</th>\n",
              "      <td>...</td>\n",
              "      <td>...</td>\n",
              "      <td>...</td>\n",
              "      <td>...</td>\n",
              "      <td>...</td>\n",
              "      <td>...</td>\n",
              "      <td>...</td>\n",
              "      <td>...</td>\n",
              "      <td>...</td>\n",
              "      <td>...</td>\n",
              "      <td>...</td>\n",
              "      <td>...</td>\n",
              "      <td>...</td>\n",
              "      <td>...</td>\n",
              "      <td>...</td>\n",
              "      <td>...</td>\n",
              "      <td>...</td>\n",
              "      <td>...</td>\n",
              "      <td>...</td>\n",
              "    </tr>\n",
              "    <tr>\n",
              "      <th>242</th>\n",
              "      <td>0.222189</td>\n",
              "      <td>377.034868</td>\n",
              "      <td>118.962179</td>\n",
              "      <td>0.484215</td>\n",
              "      <td>74.714656</td>\n",
              "      <td>104.797287</td>\n",
              "      <td>0.000202</td>\n",
              "      <td>201.674443</td>\n",
              "      <td>0.436838</td>\n",
              "      <td>9361.071817</td>\n",
              "      <td>0.044446</td>\n",
              "      <td>13232.335790</td>\n",
              "      <td>-0.033676</td>\n",
              "      <td>0.376870</td>\n",
              "      <td>11190.092250</td>\n",
              "      <td>377.034868</td>\n",
              "      <td>0.012663</td>\n",
              "      <td>3134.211362</td>\n",
              "      <td>0.955379</td>\n",
              "    </tr>\n",
              "    <tr>\n",
              "      <th>243</th>\n",
              "      <td>0.242403</td>\n",
              "      <td>19.990148</td>\n",
              "      <td>34.234486</td>\n",
              "      <td>0.458299</td>\n",
              "      <td>102.990390</td>\n",
              "      <td>174.314224</td>\n",
              "      <td>0.003836</td>\n",
              "      <td>90.356696</td>\n",
              "      <td>0.492993</td>\n",
              "      <td>11013.892660</td>\n",
              "      <td>0.086067</td>\n",
              "      <td>3492.605707</td>\n",
              "      <td>-0.139018</td>\n",
              "      <td>0.477427</td>\n",
              "      <td>744.748533</td>\n",
              "      <td>19.990148</td>\n",
              "      <td>0.012673</td>\n",
              "      <td>96.713506</td>\n",
              "      <td>0.970960</td>\n",
              "    </tr>\n",
              "    <tr>\n",
              "      <th>244</th>\n",
              "      <td>0.400221</td>\n",
              "      <td>4.717172</td>\n",
              "      <td>16.124516</td>\n",
              "      <td>0.540853</td>\n",
              "      <td>102.380483</td>\n",
              "      <td>55.334547</td>\n",
              "      <td>0.030720</td>\n",
              "      <td>173.772280</td>\n",
              "      <td>0.469034</td>\n",
              "      <td>236.962555</td>\n",
              "      <td>-0.014947</td>\n",
              "      <td>975.782516</td>\n",
              "      <td>-0.268201</td>\n",
              "      <td>0.485060</td>\n",
              "      <td>133.329268</td>\n",
              "      <td>4.717172</td>\n",
              "      <td>0.012344</td>\n",
              "      <td>20.446238</td>\n",
              "      <td>0.963744</td>\n",
              "    </tr>\n",
              "    <tr>\n",
              "      <th>245</th>\n",
              "      <td>0.371026</td>\n",
              "      <td>16.793765</td>\n",
              "      <td>29.120440</td>\n",
              "      <td>0.532447</td>\n",
              "      <td>124.962648</td>\n",
              "      <td>189.995987</td>\n",
              "      <td>0.006959</td>\n",
              "      <td>100.458654</td>\n",
              "      <td>0.437020</td>\n",
              "      <td>3324.496749</td>\n",
              "      <td>0.087089</td>\n",
              "      <td>3114.071937</td>\n",
              "      <td>-0.501685</td>\n",
              "      <td>0.460377</td>\n",
              "      <td>510.316422</td>\n",
              "      <td>16.793765</td>\n",
              "      <td>0.011781</td>\n",
              "      <td>91.414642</td>\n",
              "      <td>0.958340</td>\n",
              "    </tr>\n",
              "    <tr>\n",
              "      <th>246</th>\n",
              "      <td>0.371026</td>\n",
              "      <td>16.793765</td>\n",
              "      <td>29.120440</td>\n",
              "      <td>0.532447</td>\n",
              "      <td>124.962648</td>\n",
              "      <td>189.995987</td>\n",
              "      <td>0.006959</td>\n",
              "      <td>100.458654</td>\n",
              "      <td>0.437020</td>\n",
              "      <td>3324.496749</td>\n",
              "      <td>0.087089</td>\n",
              "      <td>3114.071937</td>\n",
              "      <td>-0.501685</td>\n",
              "      <td>0.460377</td>\n",
              "      <td>510.316422</td>\n",
              "      <td>16.793765</td>\n",
              "      <td>0.011781</td>\n",
              "      <td>91.414642</td>\n",
              "      <td>0.958340</td>\n",
              "    </tr>\n",
              "  </tbody>\n",
              "</table>\n",
              "<p>247 rows × 19 columns</p>\n",
              "</div>\n",
              "      <button class=\"colab-df-convert\" onclick=\"convertToInteractive('df-30bf53f4-5f17-4ee9-b7ac-ebe8aab74739')\"\n",
              "              title=\"Convert this dataframe to an interactive table.\"\n",
              "              style=\"display:none;\">\n",
              "        \n",
              "  <svg xmlns=\"http://www.w3.org/2000/svg\" height=\"24px\"viewBox=\"0 0 24 24\"\n",
              "       width=\"24px\">\n",
              "    <path d=\"M0 0h24v24H0V0z\" fill=\"none\"/>\n",
              "    <path d=\"M18.56 5.44l.94 2.06.94-2.06 2.06-.94-2.06-.94-.94-2.06-.94 2.06-2.06.94zm-11 1L8.5 8.5l.94-2.06 2.06-.94-2.06-.94L8.5 2.5l-.94 2.06-2.06.94zm10 10l.94 2.06.94-2.06 2.06-.94-2.06-.94-.94-2.06-.94 2.06-2.06.94z\"/><path d=\"M17.41 7.96l-1.37-1.37c-.4-.4-.92-.59-1.43-.59-.52 0-1.04.2-1.43.59L10.3 9.45l-7.72 7.72c-.78.78-.78 2.05 0 2.83L4 21.41c.39.39.9.59 1.41.59.51 0 1.02-.2 1.41-.59l7.78-7.78 2.81-2.81c.8-.78.8-2.07 0-2.86zM5.41 20L4 18.59l7.72-7.72 1.47 1.35L5.41 20z\"/>\n",
              "  </svg>\n",
              "      </button>\n",
              "      \n",
              "  <style>\n",
              "    .colab-df-container {\n",
              "      display:flex;\n",
              "      flex-wrap:wrap;\n",
              "      gap: 12px;\n",
              "    }\n",
              "\n",
              "    .colab-df-convert {\n",
              "      background-color: #E8F0FE;\n",
              "      border: none;\n",
              "      border-radius: 50%;\n",
              "      cursor: pointer;\n",
              "      display: none;\n",
              "      fill: #1967D2;\n",
              "      height: 32px;\n",
              "      padding: 0 0 0 0;\n",
              "      width: 32px;\n",
              "    }\n",
              "\n",
              "    .colab-df-convert:hover {\n",
              "      background-color: #E2EBFA;\n",
              "      box-shadow: 0px 1px 2px rgba(60, 64, 67, 0.3), 0px 1px 3px 1px rgba(60, 64, 67, 0.15);\n",
              "      fill: #174EA6;\n",
              "    }\n",
              "\n",
              "    [theme=dark] .colab-df-convert {\n",
              "      background-color: #3B4455;\n",
              "      fill: #D2E3FC;\n",
              "    }\n",
              "\n",
              "    [theme=dark] .colab-df-convert:hover {\n",
              "      background-color: #434B5C;\n",
              "      box-shadow: 0px 1px 3px 1px rgba(0, 0, 0, 0.15);\n",
              "      filter: drop-shadow(0px 1px 2px rgba(0, 0, 0, 0.3));\n",
              "      fill: #FFFFFF;\n",
              "    }\n",
              "  </style>\n",
              "\n",
              "      <script>\n",
              "        const buttonEl =\n",
              "          document.querySelector('#df-30bf53f4-5f17-4ee9-b7ac-ebe8aab74739 button.colab-df-convert');\n",
              "        buttonEl.style.display =\n",
              "          google.colab.kernel.accessAllowed ? 'block' : 'none';\n",
              "\n",
              "        async function convertToInteractive(key) {\n",
              "          const element = document.querySelector('#df-30bf53f4-5f17-4ee9-b7ac-ebe8aab74739');\n",
              "          const dataTable =\n",
              "            await google.colab.kernel.invokeFunction('convertToInteractive',\n",
              "                                                     [key], {});\n",
              "          if (!dataTable) return;\n",
              "\n",
              "          const docLinkHtml = 'Like what you see? Visit the ' +\n",
              "            '<a target=\"_blank\" href=https://colab.research.google.com/notebooks/data_table.ipynb>data table notebook</a>'\n",
              "            + ' to learn more about interactive tables.';\n",
              "          element.innerHTML = '';\n",
              "          dataTable['output_type'] = 'display_data';\n",
              "          await google.colab.output.renderOutput(dataTable, element);\n",
              "          const docLink = document.createElement('div');\n",
              "          docLink.innerHTML = docLinkHtml;\n",
              "          element.appendChild(docLink);\n",
              "        }\n",
              "      </script>\n",
              "    </div>\n",
              "  </div>\n",
              "  "
            ]
          },
          "metadata": {},
          "execution_count": 290
        }
      ]
    },
    {
      "cell_type": "code",
      "source": [
        "from sklearn.model_selection import train_test_split\n",
        "X_train_20, X_test_20, y_train_20, y_test_20 = train_test_split(data_new_20features_X, data_y_trans, train_size = 0.8, random_state=26)"
      ],
      "metadata": {
        "id": "gyDp8nmb9YO5"
      },
      "execution_count": 291,
      "outputs": []
    },
    {
      "cell_type": "code",
      "source": [
        "from sklearn.preprocessing import StandardScaler \n",
        "ss_20 = StandardScaler()\n",
        "X_train_std_20 = ss_20.fit_transform(X_train_20)\n",
        "X_test_std_20 = ss_20.fit_transform(X_test_20)"
      ],
      "metadata": {
        "id": "XR8nf1hpeMYN"
      },
      "execution_count": 292,
      "outputs": []
    },
    {
      "cell_type": "markdown",
      "source": [
        "Random forest"
      ],
      "metadata": {
        "id": "VGYijZvKeZSN"
      }
    },
    {
      "cell_type": "code",
      "source": [
        "from sklearn.ensemble import RandomForestClassifier\n",
        "rf = RandomForestClassifier(random_state=56)\n",
        "rf.fit(X_train_std_20, y_train_20)"
      ],
      "metadata": {
        "id": "M0Nu1SSleghf",
        "outputId": "2f3bec24-5da4-43a4-f713-6ff5e37fee1d",
        "colab": {
          "base_uri": "https://localhost:8080/"
        }
      },
      "execution_count": 293,
      "outputs": [
        {
          "output_type": "execute_result",
          "data": {
            "text/plain": [
              "RandomForestClassifier(random_state=56)"
            ]
          },
          "metadata": {},
          "execution_count": 293
        }
      ]
    },
    {
      "cell_type": "code",
      "source": [
        "rf_y_pred = rf.predict(X_test_std_20)"
      ],
      "metadata": {
        "id": "H4tDkDLkfbO8"
      },
      "execution_count": 294,
      "outputs": []
    },
    {
      "cell_type": "code",
      "source": [
        "from sklearn.metrics import accuracy_score "
      ],
      "metadata": {
        "id": "t7cAA8_wfi0W"
      },
      "execution_count": 295,
      "outputs": []
    },
    {
      "cell_type": "code",
      "source": [
        "acc_score = accuracy_score(y_test_20, rf_y_pred)\n",
        "print(\"Accuracy Score for Random_Forest: \\n\", acc_score*100)"
      ],
      "metadata": {
        "id": "N10OwgYmfRWa",
        "outputId": "6ec56f85-d1ef-4162-9e28-bb9a2fa97ceb",
        "colab": {
          "base_uri": "https://localhost:8080/"
        }
      },
      "execution_count": 296,
      "outputs": [
        {
          "output_type": "stream",
          "name": "stdout",
          "text": [
            "Accuracy Score for Random_Forest: \n",
            " 90.0\n"
          ]
        }
      ]
    },
    {
      "cell_type": "code",
      "source": [
        "from sklearn.metrics import classification_report \n",
        "from sklearn.metrics import confusion_matrix"
      ],
      "metadata": {
        "id": "y3NdR-gff1Mr"
      },
      "execution_count": 297,
      "outputs": []
    },
    {
      "cell_type": "code",
      "source": [
        "print(\"Classification Report for Random Forest: \\n\", classification_report(y_test_20,rf_y_pred))"
      ],
      "metadata": {
        "colab": {
          "base_uri": "https://localhost:8080/"
        },
        "id": "26XEsYg5f176",
        "outputId": "cf770166-4a9b-4d41-8b9c-5350398b023a"
      },
      "execution_count": 298,
      "outputs": [
        {
          "output_type": "stream",
          "name": "stdout",
          "text": [
            "Classification Report for Random Forest: \n",
            "               precision    recall  f1-score   support\n",
            "\n",
            "           0       1.00      0.85      0.92        13\n",
            "           1       0.82      0.95      0.88        19\n",
            "           2       1.00      0.75      0.86         4\n",
            "           3       0.93      0.93      0.93        14\n",
            "\n",
            "    accuracy                           0.90        50\n",
            "   macro avg       0.94      0.87      0.90        50\n",
            "weighted avg       0.91      0.90      0.90        50\n",
            "\n"
          ]
        }
      ]
    },
    {
      "cell_type": "code",
      "source": [
        "rf_conf_mat = confusion_matrix(y_test_20, rf_y_pred)\n",
        "print(\"Random Forest Confusion: \\n\", rf_conf_mat)"
      ],
      "metadata": {
        "colab": {
          "base_uri": "https://localhost:8080/"
        },
        "id": "-wIZOH0sf31S",
        "outputId": "6c4b571e-3be0-416c-f5ec-fb7b045ac1f0"
      },
      "execution_count": 299,
      "outputs": [
        {
          "output_type": "stream",
          "name": "stdout",
          "text": [
            "Random Forest Confusion: \n",
            " [[11  2  0  0]\n",
            " [ 0 18  0  1]\n",
            " [ 0  1  3  0]\n",
            " [ 0  1  0 13]]\n"
          ]
        }
      ]
    },
    {
      "cell_type": "markdown",
      "source": [
        "PSO"
      ],
      "metadata": {
        "id": "d7gxHFQwNCsg"
      }
    },
    {
      "cell_type": "code",
      "source": [
        "!pip install optunity"
      ],
      "metadata": {
        "colab": {
          "base_uri": "https://localhost:8080/"
        },
        "id": "lYnL_sltGBa6",
        "outputId": "61b5619c-18f3-4475-f292-8594e6d9b628"
      },
      "execution_count": 300,
      "outputs": [
        {
          "output_type": "stream",
          "name": "stdout",
          "text": [
            "Looking in indexes: https://pypi.org/simple, https://us-python.pkg.dev/colab-wheels/public/simple/\n",
            "Requirement already satisfied: optunity in /usr/local/lib/python3.8/dist-packages (1.1.1)\n"
          ]
        }
      ]
    },
    {
      "cell_type": "code",
      "source": [
        "import optunity\n",
        "import optunity.metrics\n",
        "\n",
        "data=X_train_std_20\n",
        "labels=y_train_20.tolist()\n",
        "# Define the hyperparameter configuration space\n",
        "search = {\n",
        "    'n_estimators': [10, 100],\n",
        "    'max_features': [1, 64],\n",
        "    'max_depth': [5,50],\n",
        "    \"min_samples_split\":[2,11],\n",
        "    \"min_samples_leaf\":[1,11],\n",
        "    \"criterion\":[0,1]\n",
        "         }\n",
        "# Define the objective function\n",
        "@optunity.cross_validated(x=data, y=labels, num_folds=3)\n",
        "def performance(x_train, y_train, x_test, y_test,n_estimators=None, max_features=None,max_depth=None,min_samples_split=None,min_samples_leaf=None,criterion=None):\n",
        "    # fit the model\n",
        "    if criterion<0.5:\n",
        "        cri='gini'\n",
        "    else:\n",
        "        cri='entropy'\n",
        "    model = RandomForestClassifier(random_state=56)\n",
        "                                  \n",
        "    #predictions = model.predict(x_test)\n",
        "    scores=np.mean(cross_val_score(model, X_train_std_20, y_train_20, cv=3, n_jobs=-1,\n",
        "                                    scoring=\"accuracy\"))\n",
        "    #return optunity.metrics.roc_auc(y_test, predictions, positive=True)\n",
        "    return scores#optunity.metrics.accuracy(y_test, predictions)\n",
        "\n",
        "optimal_configuration, info, _ = optunity.maximize(performance,\n",
        "                                                  solver_name='particle swarm',\n",
        "                                                  num_evals=20,\n",
        "                                                   **search\n",
        "                                                  )\n",
        "print(optimal_configuration)\n",
        "print(\"Accuracy:\"+ str(info.optimum))"
      ],
      "metadata": {
        "colab": {
          "base_uri": "https://localhost:8080/"
        },
        "id": "LcReYoraFnV5",
        "outputId": "08ff1ed7-985d-4e2d-b6b5-acc520fb245f"
      },
      "execution_count": 329,
      "outputs": [
        {
          "output_type": "stream",
          "name": "stdout",
          "text": [
            "{'n_estimators': 20.283203125, 'max_features': 35.3916015625, 'max_depth': 42.8369140625, 'min_samples_split': 7.9853515625, 'min_samples_leaf': 8.060546875, 'criterion': 0.2412109375}\n",
            "Accuracy:0.8019425019425018\n"
          ]
        }
      ]
    },
    {
      "cell_type": "markdown",
      "source": [
        "CROSS VALIDATION"
      ],
      "metadata": {
        "id": "-4p0sfQBeQST"
      }
    },
    {
      "cell_type": "code",
      "source": [
        "from sklearn.model_selection import KFold"
      ],
      "metadata": {
        "id": "eFXFqqLqbP4l"
      },
      "execution_count": 302,
      "outputs": []
    },
    {
      "cell_type": "code",
      "source": [
        "from sklearn.model_selection import cross_val_score"
      ],
      "metadata": {
        "id": "_AQ7VAZrbyhW"
      },
      "execution_count": 303,
      "outputs": []
    },
    {
      "cell_type": "code",
      "source": [
        "from sklearn.model_selection import cross_validate"
      ],
      "metadata": {
        "id": "gcRG9YczcJFL"
      },
      "execution_count": 304,
      "outputs": []
    },
    {
      "cell_type": "code",
      "source": [
        "from sklearn.model_selection import KFold\n",
        "kfold_validation=KFold(10)\n",
        "import numpy as np\n",
        "from sklearn.model_selection import cross_val_score\n",
        "results=cross_val_score(rf,data_new_20features_X, data_y_trans,cv=kfold_validation)\n",
        "print(results)\n",
        "print(np.mean(results))\n",
        "     "
      ],
      "metadata": {
        "colab": {
          "base_uri": "https://localhost:8080/"
        },
        "id": "pDpfWSweduhU",
        "outputId": "0376e19f-819b-4a23-bf94-d7d82325a3ac"
      },
      "execution_count": 305,
      "outputs": [
        {
          "output_type": "stream",
          "name": "stdout",
          "text": [
            "[0.72       0.88       0.84       0.96       1.         0.92\n",
            " 0.4        0.79166667 0.75       0.875     ]\n",
            "0.8136666666666666\n"
          ]
        }
      ]
    },
    {
      "cell_type": "code",
      "source": [
        "from sklearn.model_selection import cross_val_predict\n",
        "from sklearn.metrics import confusion_matrix\n",
        "y_pred = cross_val_predict(rf, data_new_20features_X, data_y_trans, cv=5)\n",
        "conf_mat = confusion_matrix(data_y_trans, y_pred)"
      ],
      "metadata": {
        "id": "Az3aC-99g-4S"
      },
      "execution_count": 306,
      "outputs": []
    },
    {
      "cell_type": "code",
      "source": [
        "print(conf_mat)"
      ],
      "metadata": {
        "colab": {
          "base_uri": "https://localhost:8080/"
        },
        "id": "B6lEba_vhyka",
        "outputId": "557a9d16-e792-4b17-b3aa-ef83c13eb48f"
      },
      "execution_count": 307,
      "outputs": [
        {
          "output_type": "stream",
          "name": "stdout",
          "text": [
            "[[59  9  0  3]\n",
            " [ 1 80  0  2]\n",
            " [ 2  0 20  1]\n",
            " [ 5  1  0 64]]\n"
          ]
        }
      ]
    },
    {
      "cell_type": "code",
      "source": [
        "print(\"Classification Report for Random Forest: \\n\", classification_report(data_y_trans,y_pred))"
      ],
      "metadata": {
        "colab": {
          "base_uri": "https://localhost:8080/"
        },
        "id": "Ue3TuN23heeL",
        "outputId": "811f21f8-4d67-4cd5-d11c-69b39978f0e8"
      },
      "execution_count": 308,
      "outputs": [
        {
          "output_type": "stream",
          "name": "stdout",
          "text": [
            "Classification Report for Random Forest: \n",
            "               precision    recall  f1-score   support\n",
            "\n",
            "           0       0.88      0.83      0.86        71\n",
            "           1       0.89      0.96      0.92        83\n",
            "           2       1.00      0.87      0.93        23\n",
            "           3       0.91      0.91      0.91        70\n",
            "\n",
            "    accuracy                           0.90       247\n",
            "   macro avg       0.92      0.89      0.91       247\n",
            "weighted avg       0.90      0.90      0.90       247\n",
            "\n"
          ]
        }
      ]
    },
    {
      "cell_type": "code",
      "source": [
        "from sklearn.metrics import roc_curve, auc\n",
        "from sklearn.metrics import roc_auc_score"
      ],
      "metadata": {
        "id": "oANjtZ8xkPuS"
      },
      "execution_count": 309,
      "outputs": []
    },
    {
      "cell_type": "code",
      "source": [
        "from sklearn.preprocessing import label_binarize\n",
        "y_bin = label_binarize(data_y_trans, classes=[0, 1, 2,3])\n",
        "from itertools import cycle\n",
        "lw=2"
      ],
      "metadata": {
        "id": "Cnh804PzkT_S"
      },
      "execution_count": 310,
      "outputs": []
    },
    {
      "cell_type": "code",
      "source": [
        "import matplotlib.pyplot as plt"
      ],
      "metadata": {
        "id": "PnJqrF75k8Lc"
      },
      "execution_count": 311,
      "outputs": []
    },
    {
      "cell_type": "code",
      "source": [
        "y_score = cross_val_predict(rf, data_new_20features_X, data_y_trans, cv=2 ,method='predict_proba')\n",
        "\n",
        "fpr = dict()\n",
        "tpr = dict()\n",
        "roc_auc = dict()\n",
        "for i in range(4):\n",
        "    fpr[i], tpr[i], _ = roc_curve(y_bin[:, i], y_score[:, i])\n",
        "    roc_auc[i] = auc(fpr[i], tpr[i])\n",
        "colors = cycle(['blue', 'red', 'green','magenta'])\n",
        "list_class = ['squamous','largecell','others','adeno']\n",
        "for i, color in zip(range(4), colors):\n",
        "    plt.plot(fpr[i], tpr[i], color=color, lw=lw,\n",
        "             label='ROC curve of class {0} (area = {1:0.2f})'\n",
        "             ''.format(list_class[i], roc_auc[i]))\n",
        "plt.plot([0, 1], [0, 1], 'k--', lw=lw)\n",
        "plt.xlim([-0.05, 1.0])\n",
        "plt.ylim([0.0, 1.05])\n",
        "plt.xlabel('False Positive Rate')\n",
        "plt.ylabel('True Positive Rate')\n",
        "# plt.title('Receiver operating characteristic for multi-class data')\n",
        "plt.legend(loc=\"lower right\")\n",
        "plt.show()"
      ],
      "metadata": {
        "colab": {
          "base_uri": "https://localhost:8080/",
          "height": 279
        },
        "id": "UQ_fJuwOkc_h",
        "outputId": "365fe5e0-14f5-472c-f8e4-71f030845e42"
      },
      "execution_count": 312,
      "outputs": [
        {
          "output_type": "display_data",
          "data": {
            "text/plain": [
              "<Figure size 432x288 with 1 Axes>"
            ],
            "image/png": "[encoded data removed]"
          },
          "metadata": {
            "needs_background": "light"
          }
        }
      ]
    },
    {
      "cell_type": "markdown",
      "source": [
        "svm"
      ],
      "metadata": {
        "id": "lZo3iGbemIDI"
      }
    },
    {
      "cell_type": "code",
      "source": [
        "from sklearn.svm import SVC\n",
        "\n",
        "svm_rbf = SVC(gamma=4, C=1)"
      ],
      "metadata": {
        "id": "YFjVZ8Qjl1ga"
      },
      "execution_count": 313,
      "outputs": []
    },
    {
      "cell_type": "code",
      "source": [
        "from sklearn.model_selection import cross_val_predict\n",
        "from sklearn.metrics import confusion_matrix\n",
        "y_pred = cross_val_predict(svm_rbf, data_new_20features_X, data_y_trans, cv=4)\n",
        "conf_mat = confusion_matrix(data_y_trans, y_pred)"
      ],
      "metadata": {
        "id": "vrd-YEMPmHBy"
      },
      "execution_count": 314,
      "outputs": []
    },
    {
      "cell_type": "code",
      "source": [
        "print(\"Classification Report for Random Forest: \\n\", classification_report(data_y_trans,y_pred))"
      ],
      "metadata": {
        "colab": {
          "base_uri": "https://localhost:8080/"
        },
        "id": "AYePNR5TmUVs",
        "outputId": "cbbc7ad2-a52d-4a22-f18b-152690e12454"
      },
      "execution_count": 315,
      "outputs": [
        {
          "output_type": "stream",
          "name": "stdout",
          "text": [
            "Classification Report for Random Forest: \n",
            "               precision    recall  f1-score   support\n",
            "\n",
            "           0       0.79      0.75      0.77        71\n",
            "           1       0.72      0.93      0.81        83\n",
            "           2       1.00      0.78      0.88        23\n",
            "           3       1.00      0.79      0.88        70\n",
            "\n",
            "    accuracy                           0.82       247\n",
            "   macro avg       0.88      0.81      0.83       247\n",
            "weighted avg       0.85      0.82      0.82       247\n",
            "\n"
          ]
        }
      ]
    },
    {
      "cell_type": "markdown",
      "source": [
        "knn"
      ],
      "metadata": {
        "id": "-srW6xmfmngj"
      }
    },
    {
      "cell_type": "code",
      "source": [
        "from sklearn.neighbors import KNeighborsClassifier\n",
        "\n",
        "knn = KNeighborsClassifier(3) "
      ],
      "metadata": {
        "id": "BwF9mvFpmXLV"
      },
      "execution_count": 316,
      "outputs": []
    },
    {
      "cell_type": "code",
      "source": [
        "from sklearn.model_selection import cross_val_predict\n",
        "from sklearn.metrics import confusion_matrix\n",
        "y_pred = cross_val_predict(knn, data_new_20features_X, data_y_trans, cv=4)\n",
        "conf_mat = confusion_matrix(data_y_trans, y_pred)"
      ],
      "metadata": {
        "id": "CIe3uu01mihJ"
      },
      "execution_count": 317,
      "outputs": []
    },
    {
      "cell_type": "code",
      "source": [
        "print(\"Classification Report for Random Forest: \\n\", classification_report(data_y_trans,y_pred))"
      ],
      "metadata": {
        "colab": {
          "base_uri": "https://localhost:8080/"
        },
        "id": "Jc8xPKsdmmKx",
        "outputId": "03838748-0926-496b-bf9f-ce9b789b5c95"
      },
      "execution_count": 318,
      "outputs": [
        {
          "output_type": "stream",
          "name": "stdout",
          "text": [
            "Classification Report for Random Forest: \n",
            "               precision    recall  f1-score   support\n",
            "\n",
            "           0       0.68      0.73      0.70        71\n",
            "           1       0.71      0.75      0.73        83\n",
            "           2       0.75      0.52      0.62        23\n",
            "           3       0.66      0.63      0.64        70\n",
            "\n",
            "    accuracy                           0.69       247\n",
            "   macro avg       0.70      0.66      0.67       247\n",
            "weighted avg       0.69      0.69      0.69       247\n",
            "\n"
          ]
        }
      ]
    },
    {
      "cell_type": "code",
      "source": [],
      "metadata": {
        "id": "3P9CJRV7mrhj"
      },
      "execution_count": 318,
      "outputs": []
    },
    {
      "cell_type": "markdown",
      "source": [
        "ROC Curve"
      ],
      "metadata": {
        "id": "CaVzfwfQiHfT"
      }
    },
    {
      "cell_type": "code",
      "source": [
        "def RoC_Curve(classifier, X_val, y_val, title): \n",
        "        \"\"\" RoC Curve for Classifier \n",
        "        Parameters: \n",
        "        ------------\n",
        "        classifier: Machine Learning Classifier to be Evaluated\n",
        "        X_val: Validation Dataset\n",
        "        y_val: Label/Target of Validation Dataset\n",
        "\n",
        "        Attributes:\n",
        "        Plots the Graph    \n",
        "        \n",
        "        Note: Some part of this Method code is taken \n",
        "            from Sklearn Website\n",
        "        \"\"\"\n",
        "\n",
        "        lw = 2\n",
        "        n_classes = 3\n",
        "        y_test1 = to_categorical(y_val)\n",
        "        pred_RFC_proba = classifier.predict_proba(X_val)\n",
        "        y_score = pred_RFC_proba\n",
        "\n",
        "        # Compute ROC curve and ROC area for each class\n",
        "        fpr = dict()\n",
        "        tpr = dict()\n",
        "        roc_auc = dict()\n",
        "        for i in range(n_classes):\n",
        "            fpr[i], tpr[i], _ = roc_curve(y_test1[:, i], y_score[:, i])\n",
        "            roc_auc[i] = auc(fpr[i], tpr[i])\n",
        "\n",
        "        # Compute micro-average ROC curve and ROC area\n",
        "        fpr[\"micro\"], tpr[\"micro\"], _ = roc_curve(y_test1.ravel(), y_score.ravel())\n",
        "        roc_auc[\"micro\"] = auc(fpr[\"micro\"], tpr[\"micro\"])\n",
        "\n",
        "        # First aggregate all false positive rates\n",
        "        all_fpr = np.unique(np.concatenate([fpr[i] for i in range(n_classes)]))\n",
        "\n",
        "        # Then interpolate all ROC curves at this points\n",
        "        mean_tpr = np.zeros_like(all_fpr)\n",
        "        for i in range(n_classes):\n",
        "            mean_tpr += interp(all_fpr, fpr[i], tpr[i])\n",
        "\n",
        "        # Finally average it and compute AUC\n",
        "        mean_tpr /= n_classes\n",
        "\n",
        "        fpr[\"macro\"] = all_fpr\n",
        "        tpr[\"macro\"] = mean_tpr\n",
        "        roc_auc[\"macro\"] = auc(fpr[\"macro\"], tpr[\"macro\"])\n",
        "\n",
        "        # Plot all ROC curves\n",
        "        plt.figure(figsize=(20,10))\n",
        "        plt.plot(fpr[\"micro\"], tpr[\"micro\"],\n",
        "                label='micro-average ROC curve (area = {0:0.2f})'\n",
        "                    ''.format(roc_auc[\"micro\"]),\n",
        "                color='deeppink', linestyle=':', linewidth=4)\n",
        "\n",
        "        plt.plot(fpr[\"macro\"], tpr[\"macro\"],\n",
        "                label='macro-average ROC curve (area = {0:0.2f})'\n",
        "                    ''.format(roc_auc[\"macro\"]),\n",
        "                color='navy', linestyle=':', linewidth=4)\n",
        "\n",
        "        list_class = ['adeno','squamous','other']\n",
        "        for i in range(n_classes):\n",
        "            plt.plot(fpr[i], tpr[i], lw=lw,\n",
        "                    label='ROC curve of class {0} (area = {1:0.2f})'\n",
        "                    ''.format(list_class[i], roc_auc[i]))\n",
        "\n",
        "        plt.plot([0, 1], [0, 1], 'k--', lw=lw)\n",
        "        plt.xlim([0.0, 1.0])\n",
        "        plt.ylim([0.0, 1.05])\n",
        "        plt.xlabel('False Positive Rate')\n",
        "        plt.ylabel('True Positive Rate')\n",
        "        plt.title(title) \n",
        "        plt.legend(loc=\"lower right\")\n",
        "        plt.show()"
      ],
      "metadata": {
        "id": "KE-rCZ9xiJcv"
      },
      "execution_count": 319,
      "outputs": []
    },
    {
      "cell_type": "code",
      "source": [
        "from keras.utils.np_utils import to_categorical\n",
        "from sklearn.metrics import roc_curve, auc\n",
        "from scipy import interp\n",
        "from sklearn.metrics import roc_auc_score\n",
        "import matplotlib.pyplot as plt"
      ],
      "metadata": {
        "id": "pZHyFRmwiK4q"
      },
      "execution_count": 320,
      "outputs": []
    },
    {
      "cell_type": "code",
      "source": [
        "title = 'Receiver operating characteristic of Random Forest'\n",
        "RoC_Curve(rf, X_test_std_20, y_test_20, title)"
      ],
      "metadata": {
        "colab": {
          "base_uri": "https://localhost:8080/",
          "height": 624
        },
        "id": "RvHj2o5XiMtv",
        "outputId": "e2a19a2b-a515-474e-da40-773a07556366"
      },
      "execution_count": 321,
      "outputs": [
        {
          "output_type": "stream",
          "name": "stderr",
          "text": [
            "<ipython-input-319-3fa2d96845d8>:40: DeprecationWarning: scipy.interp is deprecated and will be removed in SciPy 2.0.0, use numpy.interp instead\n",
            "  mean_tpr += interp(all_fpr, fpr[i], tpr[i])\n"
          ]
        },
        {
          "output_type": "display_data",
          "data": {
            "text/plain": [
              "<Figure size 1440x720 with 1 Axes>"
            ],
            "image/png": "[encoded data removed]"
          },
          "metadata": {
            "needs_background": "light"
          }
        }
      ]
    },
    {
      "cell_type": "markdown",
      "source": [
        "XGBoost"
      ],
      "metadata": {
        "id": "TWAGTg7BgdhI"
      }
    },
    {
      "cell_type": "code",
      "source": [
        "from sklearn.ensemble import GradientBoostingClassifier"
      ],
      "metadata": {
        "id": "eNUHwu8Dgj9Y"
      },
      "execution_count": 322,
      "outputs": []
    },
    {
      "cell_type": "code",
      "source": [
        "gradient_boost = GradientBoostingClassifier(n_estimators=100, learning_rate=0.1,\n",
        "max_depth=3, random_state=0)"
      ],
      "metadata": {
        "id": "KsdFGo_bnNUh"
      },
      "execution_count": 323,
      "outputs": []
    },
    {
      "cell_type": "code",
      "source": [
        "from sklearn.model_selection import cross_val_predict\n",
        "from sklearn.metrics import confusion_matrix\n",
        "y_pred = cross_val_predict(gradient_boost, data_new_20features_X, data_y_trans, cv=3)\n",
        "conf_mat = confusion_matrix(data_y_trans, y_pred)"
      ],
      "metadata": {
        "id": "rDrFJtkxnKeA"
      },
      "execution_count": 324,
      "outputs": []
    },
    {
      "cell_type": "code",
      "source": [
        "print(\"Classification Report for Random Forest: \\n\", classification_report(data_y_trans,y_pred))"
      ],
      "metadata": {
        "colab": {
          "base_uri": "https://localhost:8080/"
        },
        "id": "wUpsEHJmnVuH",
        "outputId": "ce7abfc2-f437-4765-b5cd-95862acd55c4"
      },
      "execution_count": 325,
      "outputs": [
        {
          "output_type": "stream",
          "name": "stdout",
          "text": [
            "Classification Report for Random Forest: \n",
            "               precision    recall  f1-score   support\n",
            "\n",
            "           0       0.88      0.83      0.86        71\n",
            "           1       0.87      0.94      0.90        83\n",
            "           2       0.72      0.78      0.75        23\n",
            "           3       0.88      0.81      0.84        70\n",
            "\n",
            "    accuracy                           0.86       247\n",
            "   macro avg       0.84      0.84      0.84       247\n",
            "weighted avg       0.86      0.86      0.86       247\n",
            "\n"
          ]
        }
      ]
    },
    {
      "cell_type": "code",
      "source": [],
      "metadata": {
        "id": "T9RSNg5qodSw"
      },
      "execution_count": 325,
      "outputs": []
    },
    {
      "cell_type": "markdown",
      "source": [
        "Gradient boostclassifier"
      ],
      "metadata": {
        "id": "_UNAYAjHofOw"
      }
    },
    {
      "cell_type": "code",
      "source": [
        "gradient_boost = GradientBoostingClassifier(n_estimators=100, learning_rate=0.1,\n",
        "max_depth=3, random_state=0)\n",
        "gradient_boost.fit(X_train_std_20, y_train_20)"
      ],
      "metadata": {
        "id": "3TGum262gnyN",
        "outputId": "52ef1e7f-951c-4345-b7dd-f096db44309e",
        "colab": {
          "base_uri": "https://localhost:8080/"
        }
      },
      "execution_count": 326,
      "outputs": [
        {
          "output_type": "execute_result",
          "data": {
            "text/plain": [
              "GradientBoostingClassifier(random_state=0)"
            ]
          },
          "metadata": {},
          "execution_count": 326
        }
      ]
    },
    {
      "cell_type": "code",
      "source": [
        "res_xg=gradient_boost.predict(X_test_std_20)"
      ],
      "metadata": {
        "id": "dDHOcefVi16X"
      },
      "execution_count": 327,
      "outputs": []
    },
    {
      "cell_type": "code",
      "source": [
        "acc_score_xg = accuracy_score(y_test_20, res_xg)\n",
        "print(\"Accuracy Score for GradientBoosting: \\n\", acc_score_xg*100)"
      ],
      "metadata": {
        "id": "7kTg2fCqizN0",
        "outputId": "94a27760-d7ca-4f12-e045-1139660f197d",
        "colab": {
          "base_uri": "https://localhost:8080/"
        }
      },
      "execution_count": 328,
      "outputs": [
        {
          "output_type": "stream",
          "name": "stdout",
          "text": [
            "Accuracy Score for GradientBoosting: \n",
            " 82.0\n"
          ]
        }
      ]
    }
  ]
}