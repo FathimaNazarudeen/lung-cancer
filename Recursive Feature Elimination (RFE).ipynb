{
  "nbformat": 4,
  "nbformat_minor": 0,
  "metadata": {
    "colab": {
      "provenance": [],
      "include_colab_link": true
    },
    "kernelspec": {
      "name": "python3",
      "display_name": "Python 3"
    },
    "language_info": {
      "name": "python"
    }
  },
  "cells": [
    {
      "cell_type": "markdown",
      "metadata": {
        "id": "view-in-github",
        "colab_type": "text"
      },
      "source": [
        "<a href=\"https://colab.research.google.com/github/FathimaNazarudeen/lung-cancer/blob/main/Recursive%20Feature%20Elimination%20(RFE).ipynb\" target=\"_parent\"><img src=\"https://colab.research.google.com/assets/colab-badge.svg\" alt=\"Open In Colab\"/></a>"
      ]
    },
    {
      "cell_type": "code",
      "execution_count": 1,
      "metadata": {
        "id": "Yt-0FxcaIn1b"
      },
      "outputs": [],
      "source": [
        "import pandas as pd \n",
        "import numpy as np"
      ]
    },
    {
      "cell_type": "code",
      "source": [
        "data=pd.read_csv(\"/content/thirddatasetdata3lung1editednew.csv\")"
      ],
      "metadata": {
        "id": "_TwssuD-ZbZM"
      },
      "execution_count": 2,
      "outputs": []
    },
    {
      "cell_type": "code",
      "source": [
        "data['Label'].value_counts()"
      ],
      "metadata": {
        "colab": {
          "base_uri": "https://localhost:8080/"
        },
        "id": "77U6Co_WQOBW",
        "outputId": "77df7e00-ea5a-4930-b5d9-b99fbf3111b5"
      },
      "execution_count": 3,
      "outputs": [
        {
          "output_type": "execute_result",
          "data": {
            "text/plain": [
              "'squamous cell carcinoma'    83\n",
              "'large cell'                 71\n",
              "others                       70\n",
              "adenocarcinoma               23\n",
              "Name: Label, dtype: int64"
            ]
          },
          "metadata": {},
          "execution_count": 3
        }
      ]
    },
    {
      "cell_type": "code",
      "source": [
        "data.columns "
      ],
      "metadata": {
        "colab": {
          "base_uri": "https://localhost:8080/"
        },
        "id": "KoaSe4-wRwK0",
        "outputId": "067e557d-1a2c-473e-aa8d-56f820785fb5"
      },
      "execution_count": 4,
      "outputs": [
        {
          "output_type": "execute_result",
          "data": {
            "text/plain": [
              "Index(['original_shape_Elongation', 'original_shape_Flatness',\n",
              "       'original_shape_LeastAxisLength', 'original_shape_MajorAxisLength',\n",
              "       'original_shape_Maximum2DDiameterColumn',\n",
              "       'original_shape_Maximum2DDiameterRow',\n",
              "       'original_shape_Maximum2DDiameterSlice',\n",
              "       'original_shape_Maximum3DDiameter', 'original_shape_MeshVolume',\n",
              "       'original_shape_MinorAxisLength',\n",
              "       ...\n",
              "       'wavelet-LLL_gldm_LowGrayLevelEmphasis',\n",
              "       'wavelet-LLL_gldm_SmallDependenceEmphasis',\n",
              "       'wavelet-LLL_gldm_SmallDependenceHighGrayLevelEmphasis',\n",
              "       'wavelet-LLL_gldm_SmallDependenceLowGrayLevelEmphasis',\n",
              "       'wavelet-LLL_ngtdm_Busyness', 'wavelet-LLL_ngtdm_Coarseness',\n",
              "       'wavelet-LLL_ngtdm_Complexity', 'wavelet-LLL_ngtdm_Contrast',\n",
              "       'wavelet-LLL_ngtdm_Strength', 'Label'],\n",
              "      dtype='object', length=1094)"
            ]
          },
          "metadata": {},
          "execution_count": 4
        }
      ]
    },
    {
      "cell_type": "code",
      "source": [
        "data_real = data.replace(np.inf, np.nan)"
      ],
      "metadata": {
        "id": "q4h6KjggRxfq"
      },
      "execution_count": 5,
      "outputs": []
    },
    {
      "cell_type": "code",
      "source": [
        "data_real.isnull().sum().sum()"
      ],
      "metadata": {
        "colab": {
          "base_uri": "https://localhost:8080/"
        },
        "id": "_F7n3UJCR2MO",
        "outputId": "c0105eae-f1c0-4aa1-ea64-bf08d5b8ccc1"
      },
      "execution_count": 6,
      "outputs": [
        {
          "output_type": "execute_result",
          "data": {
            "text/plain": [
              "0"
            ]
          },
          "metadata": {},
          "execution_count": 6
        }
      ]
    },
    {
      "cell_type": "code",
      "source": [
        "data_df = data_real.dropna(axis=0)"
      ],
      "metadata": {
        "id": "og_p85LcR6bO"
      },
      "execution_count": 7,
      "outputs": []
    },
    {
      "cell_type": "code",
      "source": [
        "data_df.isnull().sum().sum()"
      ],
      "metadata": {
        "colab": {
          "base_uri": "https://localhost:8080/"
        },
        "id": "-p1_6MARR92v",
        "outputId": "34ed05f2-6cff-4b21-9805-bc61eb71cdb1"
      },
      "execution_count": 8,
      "outputs": [
        {
          "output_type": "execute_result",
          "data": {
            "text/plain": [
              "0"
            ]
          },
          "metadata": {},
          "execution_count": 8
        }
      ]
    },
    {
      "cell_type": "code",
      "source": [
        "data_df"
      ],
      "metadata": {
        "colab": {
          "base_uri": "https://localhost:8080/",
          "height": 591
        },
        "id": "ejydE7xGSAw4",
        "outputId": "48e9b1b9-a8f9-4aa9-c15d-d40318175dc5"
      },
      "execution_count": 9,
      "outputs": [
        {
          "output_type": "execute_result",
          "data": {
            "text/plain": [
              "     original_shape_Elongation  original_shape_Flatness  \\\n",
              "0                     0.898535                 0.570600   \n",
              "1                     0.356341                 0.293696   \n",
              "2                     0.972992                 0.838632   \n",
              "3                     0.355514                 0.250921   \n",
              "4                     0.869980                 0.715864   \n",
              "..                         ...                      ...   \n",
              "242                   0.613950                 0.536166   \n",
              "243                   0.706267                 0.473298   \n",
              "244                   0.832425                 0.624674   \n",
              "245                   0.505327                 0.335579   \n",
              "246                   0.505327                 0.335579   \n",
              "\n",
              "     original_shape_LeastAxisLength  original_shape_MajorAxisLength  \\\n",
              "0                         31.886509                       55.882450   \n",
              "1                         30.746972                      104.689637   \n",
              "2                         36.685554                       43.744513   \n",
              "3                         32.048424                      127.723174   \n",
              "4                         37.872296                       52.904327   \n",
              "..                              ...                             ...   \n",
              "242                       67.085543                      125.120921   \n",
              "243                       19.144342                       40.448808   \n",
              "244                       10.141866                       16.235443   \n",
              "245                       14.737564                       43.916805   \n",
              "246                       14.737564                       43.916805   \n",
              "\n",
              "     original_shape_Maximum2DDiameterColumn  \\\n",
              "0                                 63.529521   \n",
              "1                                 62.289646   \n",
              "2                                 56.920998   \n",
              "3                                 92.130342   \n",
              "4                                 63.780875   \n",
              "..                                      ...   \n",
              "242                              151.433154   \n",
              "243                               39.395431   \n",
              "244                               19.697716   \n",
              "245                               45.650849   \n",
              "246                               45.650849   \n",
              "\n",
              "     original_shape_Maximum2DDiameterRow  \\\n",
              "0                              66.573268   \n",
              "1                              76.837491   \n",
              "2                              59.093147   \n",
              "3                              52.153619   \n",
              "4                              65.115282   \n",
              "..                                   ...   \n",
              "242                           143.178211   \n",
              "243                            48.414874   \n",
              "244                            17.204651   \n",
              "245                            41.761226   \n",
              "246                            41.761226   \n",
              "\n",
              "     original_shape_Maximum2DDiameterSlice  original_shape_Maximum3DDiameter  \\\n",
              "0                                61.188234                         72.718636   \n",
              "1                                48.332184                         99.015150   \n",
              "2                                50.000000                         59.531504   \n",
              "3                                50.159745                        158.808060   \n",
              "4                                59.363288                         70.992957   \n",
              "..                                     ...                               ...   \n",
              "242                             118.962179                        186.986630   \n",
              "243                              34.234486                         49.071377   \n",
              "244                              16.124516                         19.798990   \n",
              "245                              29.120440                         50.358713   \n",
              "246                              29.120440                         50.358713   \n",
              "\n",
              "     original_shape_MeshVolume  original_shape_MinorAxisLength  ...  \\\n",
              "0                 48863.000000                       50.212354  ...   \n",
              "1                 16849.666670                       37.305177  ...   \n",
              "2                 45073.000000                       42.563080  ...   \n",
              "3                 13973.333330                       45.407417  ...   \n",
              "4                 50277.333330                       46.025717  ...   \n",
              "..                         ...                             ...  ...   \n",
              "242              262922.000000                       76.818007  ...   \n",
              "243               13417.666670                       28.567655  ...   \n",
              "244                1428.000000                       13.514788  ...   \n",
              "245                7421.333333                       22.192352  ...   \n",
              "246                7421.333333                       22.192352  ...   \n",
              "\n",
              "     wavelet-LLL_gldm_LowGrayLevelEmphasis  \\\n",
              "0                                 0.000175   \n",
              "1                                 0.000480   \n",
              "2                                 0.000204   \n",
              "3                                 0.000609   \n",
              "4                                 0.000179   \n",
              "..                                     ...   \n",
              "242                               0.000055   \n",
              "243                               0.000797   \n",
              "244                               0.005545   \n",
              "245                               0.001130   \n",
              "246                               0.001130   \n",
              "\n",
              "     wavelet-LLL_gldm_SmallDependenceEmphasis  \\\n",
              "0                                    0.782714   \n",
              "1                                    0.809799   \n",
              "2                                    0.607683   \n",
              "3                                    0.672628   \n",
              "4                                    0.739990   \n",
              "..                                        ...   \n",
              "242                                  0.539262   \n",
              "243                                  0.635981   \n",
              "244                                  0.855006   \n",
              "245                                  0.715150   \n",
              "246                                  0.715150   \n",
              "\n",
              "     wavelet-LLL_gldm_SmallDependenceHighGrayLevelEmphasis  \\\n",
              "0                                         188544.34720       \n",
              "1                                         185506.13380       \n",
              "2                                          51789.09974       \n",
              "3                                          16150.60173       \n",
              "4                                         152246.78220       \n",
              "..                                                 ...       \n",
              "242                                        30796.75751       \n",
              "243                                        11131.16552       \n",
              "244                                        21236.68132       \n",
              "245                                        10757.09395       \n",
              "246                                        10757.09395       \n",
              "\n",
              "     wavelet-LLL_gldm_SmallDependenceLowGrayLevelEmphasis  \\\n",
              "0                                             0.000174      \n",
              "1                                             0.000478      \n",
              "2                                             0.000200      \n",
              "3                                             0.000595      \n",
              "4                                             0.000178      \n",
              "..                                                 ...      \n",
              "242                                           0.000047      \n",
              "243                                           0.000775      \n",
              "244                                           0.005537      \n",
              "245                                           0.001110      \n",
              "246                                           0.001110      \n",
              "\n",
              "     wavelet-LLL_ngtdm_Busyness  wavelet-LLL_ngtdm_Coarseness  \\\n",
              "0                      0.001121                      0.001950   \n",
              "1                      0.000573                      0.006157   \n",
              "2                      0.003829                      0.001594   \n",
              "3                      0.008233                      0.005954   \n",
              "4                      0.001932                      0.001420   \n",
              "..                          ...                           ...   \n",
              "242                    0.018433                      0.000387   \n",
              "243                    0.007429                      0.006453   \n",
              "244                    0.003682                      0.030105   \n",
              "245                    0.007144                      0.010583   \n",
              "246                    0.007144                      0.010583   \n",
              "\n",
              "     wavelet-LLL_ngtdm_Complexity  wavelet-LLL_ngtdm_Contrast  \\\n",
              "0                    5.241414e+06                    1.329551   \n",
              "1                    3.263341e+06                    8.577655   \n",
              "2                    1.033373e+06                    1.189275   \n",
              "3                    6.759171e+04                    0.596882   \n",
              "4                    3.371136e+06                    2.314521   \n",
              "..                            ...                         ...   \n",
              "242                  5.073418e+05                    0.115637   \n",
              "243                  8.507560e+04                    0.600453   \n",
              "244                  8.491850e+04                    4.490970   \n",
              "245                  5.701539e+04                    0.849220   \n",
              "246                  5.701539e+04                    0.849220   \n",
              "\n",
              "     wavelet-LLL_ngtdm_Strength         Label  \n",
              "0                    576.487136  'large cell'  \n",
              "1                   1468.964920  'large cell'  \n",
              "2                    158.997655  'large cell'  \n",
              "3                     48.462226  'large cell'  \n",
              "4                    364.513624  'large cell'  \n",
              "..                          ...           ...  \n",
              "242                   33.076902        others  \n",
              "243                   51.726423        others  \n",
              "244                  194.650316        others  \n",
              "245                   56.233061        others  \n",
              "246                   56.233061        others  \n",
              "\n",
              "[247 rows x 1094 columns]"
            ],
            "text/html": [
              "\n",
              "  <div id=\"df-30782fca-30bd-4839-afb6-7404933797d8\">\n",
              "    <div class=\"colab-df-container\">\n",
              "      <div>\n",
              "<style scoped>\n",
              "    .dataframe tbody tr th:only-of-type {\n",
              "        vertical-align: middle;\n",
              "    }\n",
              "\n",
              "    .dataframe tbody tr th {\n",
              "        vertical-align: top;\n",
              "    }\n",
              "\n",
              "    .dataframe thead th {\n",
              "        text-align: right;\n",
              "    }\n",
              "</style>\n",
              "<table border=\"1\" class=\"dataframe\">\n",
              "  <thead>\n",
              "    <tr style=\"text-align: right;\">\n",
              "      <th></th>\n",
              "      <th>original_shape_Elongation</th>\n",
              "      <th>original_shape_Flatness</th>\n",
              "      <th>original_shape_LeastAxisLength</th>\n",
              "      <th>original_shape_MajorAxisLength</th>\n",
              "      <th>original_shape_Maximum2DDiameterColumn</th>\n",
              "      <th>original_shape_Maximum2DDiameterRow</th>\n",
              "      <th>original_shape_Maximum2DDiameterSlice</th>\n",
              "      <th>original_shape_Maximum3DDiameter</th>\n",
              "      <th>original_shape_MeshVolume</th>\n",
              "      <th>original_shape_MinorAxisLength</th>\n",
              "      <th>...</th>\n",
              "      <th>wavelet-LLL_gldm_LowGrayLevelEmphasis</th>\n",
              "      <th>wavelet-LLL_gldm_SmallDependenceEmphasis</th>\n",
              "      <th>wavelet-LLL_gldm_SmallDependenceHighGrayLevelEmphasis</th>\n",
              "      <th>wavelet-LLL_gldm_SmallDependenceLowGrayLevelEmphasis</th>\n",
              "      <th>wavelet-LLL_ngtdm_Busyness</th>\n",
              "      <th>wavelet-LLL_ngtdm_Coarseness</th>\n",
              "      <th>wavelet-LLL_ngtdm_Complexity</th>\n",
              "      <th>wavelet-LLL_ngtdm_Contrast</th>\n",
              "      <th>wavelet-LLL_ngtdm_Strength</th>\n",
              "      <th>Label</th>\n",
              "    </tr>\n",
              "  </thead>\n",
              "  <tbody>\n",
              "    <tr>\n",
              "      <th>0</th>\n",
              "      <td>0.898535</td>\n",
              "      <td>0.570600</td>\n",
              "      <td>31.886509</td>\n",
              "      <td>55.882450</td>\n",
              "      <td>63.529521</td>\n",
              "      <td>66.573268</td>\n",
              "      <td>61.188234</td>\n",
              "      <td>72.718636</td>\n",
              "      <td>48863.000000</td>\n",
              "      <td>50.212354</td>\n",
              "      <td>...</td>\n",
              "      <td>0.000175</td>\n",
              "      <td>0.782714</td>\n",
              "      <td>188544.34720</td>\n",
              "      <td>0.000174</td>\n",
              "      <td>0.001121</td>\n",
              "      <td>0.001950</td>\n",
              "      <td>5.241414e+06</td>\n",
              "      <td>1.329551</td>\n",
              "      <td>576.487136</td>\n",
              "      <td>'large cell'</td>\n",
              "    </tr>\n",
              "    <tr>\n",
              "      <th>1</th>\n",
              "      <td>0.356341</td>\n",
              "      <td>0.293696</td>\n",
              "      <td>30.746972</td>\n",
              "      <td>104.689637</td>\n",
              "      <td>62.289646</td>\n",
              "      <td>76.837491</td>\n",
              "      <td>48.332184</td>\n",
              "      <td>99.015150</td>\n",
              "      <td>16849.666670</td>\n",
              "      <td>37.305177</td>\n",
              "      <td>...</td>\n",
              "      <td>0.000480</td>\n",
              "      <td>0.809799</td>\n",
              "      <td>185506.13380</td>\n",
              "      <td>0.000478</td>\n",
              "      <td>0.000573</td>\n",
              "      <td>0.006157</td>\n",
              "      <td>3.263341e+06</td>\n",
              "      <td>8.577655</td>\n",
              "      <td>1468.964920</td>\n",
              "      <td>'large cell'</td>\n",
              "    </tr>\n",
              "    <tr>\n",
              "      <th>2</th>\n",
              "      <td>0.972992</td>\n",
              "      <td>0.838632</td>\n",
              "      <td>36.685554</td>\n",
              "      <td>43.744513</td>\n",
              "      <td>56.920998</td>\n",
              "      <td>59.093147</td>\n",
              "      <td>50.000000</td>\n",
              "      <td>59.531504</td>\n",
              "      <td>45073.000000</td>\n",
              "      <td>42.563080</td>\n",
              "      <td>...</td>\n",
              "      <td>0.000204</td>\n",
              "      <td>0.607683</td>\n",
              "      <td>51789.09974</td>\n",
              "      <td>0.000200</td>\n",
              "      <td>0.003829</td>\n",
              "      <td>0.001594</td>\n",
              "      <td>1.033373e+06</td>\n",
              "      <td>1.189275</td>\n",
              "      <td>158.997655</td>\n",
              "      <td>'large cell'</td>\n",
              "    </tr>\n",
              "    <tr>\n",
              "      <th>3</th>\n",
              "      <td>0.355514</td>\n",
              "      <td>0.250921</td>\n",
              "      <td>32.048424</td>\n",
              "      <td>127.723174</td>\n",
              "      <td>92.130342</td>\n",
              "      <td>52.153619</td>\n",
              "      <td>50.159745</td>\n",
              "      <td>158.808060</td>\n",
              "      <td>13973.333330</td>\n",
              "      <td>45.407417</td>\n",
              "      <td>...</td>\n",
              "      <td>0.000609</td>\n",
              "      <td>0.672628</td>\n",
              "      <td>16150.60173</td>\n",
              "      <td>0.000595</td>\n",
              "      <td>0.008233</td>\n",
              "      <td>0.005954</td>\n",
              "      <td>6.759171e+04</td>\n",
              "      <td>0.596882</td>\n",
              "      <td>48.462226</td>\n",
              "      <td>'large cell'</td>\n",
              "    </tr>\n",
              "    <tr>\n",
              "      <th>4</th>\n",
              "      <td>0.869980</td>\n",
              "      <td>0.715864</td>\n",
              "      <td>37.872296</td>\n",
              "      <td>52.904327</td>\n",
              "      <td>63.780875</td>\n",
              "      <td>65.115282</td>\n",
              "      <td>59.363288</td>\n",
              "      <td>70.992957</td>\n",
              "      <td>50277.333330</td>\n",
              "      <td>46.025717</td>\n",
              "      <td>...</td>\n",
              "      <td>0.000179</td>\n",
              "      <td>0.739990</td>\n",
              "      <td>152246.78220</td>\n",
              "      <td>0.000178</td>\n",
              "      <td>0.001932</td>\n",
              "      <td>0.001420</td>\n",
              "      <td>3.371136e+06</td>\n",
              "      <td>2.314521</td>\n",
              "      <td>364.513624</td>\n",
              "      <td>'large cell'</td>\n",
              "    </tr>\n",
              "    <tr>\n",
              "      <th>...</th>\n",
              "      <td>...</td>\n",
              "      <td>...</td>\n",
              "      <td>...</td>\n",
              "      <td>...</td>\n",
              "      <td>...</td>\n",
              "      <td>...</td>\n",
              "      <td>...</td>\n",
              "      <td>...</td>\n",
              "      <td>...</td>\n",
              "      <td>...</td>\n",
              "      <td>...</td>\n",
              "      <td>...</td>\n",
              "      <td>...</td>\n",
              "      <td>...</td>\n",
              "      <td>...</td>\n",
              "      <td>...</td>\n",
              "      <td>...</td>\n",
              "      <td>...</td>\n",
              "      <td>...</td>\n",
              "      <td>...</td>\n",
              "      <td>...</td>\n",
              "    </tr>\n",
              "    <tr>\n",
              "      <th>242</th>\n",
              "      <td>0.613950</td>\n",
              "      <td>0.536166</td>\n",
              "      <td>67.085543</td>\n",
              "      <td>125.120921</td>\n",
              "      <td>151.433154</td>\n",
              "      <td>143.178211</td>\n",
              "      <td>118.962179</td>\n",
              "      <td>186.986630</td>\n",
              "      <td>262922.000000</td>\n",
              "      <td>76.818007</td>\n",
              "      <td>...</td>\n",
              "      <td>0.000055</td>\n",
              "      <td>0.539262</td>\n",
              "      <td>30796.75751</td>\n",
              "      <td>0.000047</td>\n",
              "      <td>0.018433</td>\n",
              "      <td>0.000387</td>\n",
              "      <td>5.073418e+05</td>\n",
              "      <td>0.115637</td>\n",
              "      <td>33.076902</td>\n",
              "      <td>others</td>\n",
              "    </tr>\n",
              "    <tr>\n",
              "      <th>243</th>\n",
              "      <td>0.706267</td>\n",
              "      <td>0.473298</td>\n",
              "      <td>19.144342</td>\n",
              "      <td>40.448808</td>\n",
              "      <td>39.395431</td>\n",
              "      <td>48.414874</td>\n",
              "      <td>34.234486</td>\n",
              "      <td>49.071377</td>\n",
              "      <td>13417.666670</td>\n",
              "      <td>28.567655</td>\n",
              "      <td>...</td>\n",
              "      <td>0.000797</td>\n",
              "      <td>0.635981</td>\n",
              "      <td>11131.16552</td>\n",
              "      <td>0.000775</td>\n",
              "      <td>0.007429</td>\n",
              "      <td>0.006453</td>\n",
              "      <td>8.507560e+04</td>\n",
              "      <td>0.600453</td>\n",
              "      <td>51.726423</td>\n",
              "      <td>others</td>\n",
              "    </tr>\n",
              "    <tr>\n",
              "      <th>244</th>\n",
              "      <td>0.832425</td>\n",
              "      <td>0.624674</td>\n",
              "      <td>10.141866</td>\n",
              "      <td>16.235443</td>\n",
              "      <td>19.697716</td>\n",
              "      <td>17.204651</td>\n",
              "      <td>16.124516</td>\n",
              "      <td>19.798990</td>\n",
              "      <td>1428.000000</td>\n",
              "      <td>13.514788</td>\n",
              "      <td>...</td>\n",
              "      <td>0.005545</td>\n",
              "      <td>0.855006</td>\n",
              "      <td>21236.68132</td>\n",
              "      <td>0.005537</td>\n",
              "      <td>0.003682</td>\n",
              "      <td>0.030105</td>\n",
              "      <td>8.491850e+04</td>\n",
              "      <td>4.490970</td>\n",
              "      <td>194.650316</td>\n",
              "      <td>others</td>\n",
              "    </tr>\n",
              "    <tr>\n",
              "      <th>245</th>\n",
              "      <td>0.505327</td>\n",
              "      <td>0.335579</td>\n",
              "      <td>14.737564</td>\n",
              "      <td>43.916805</td>\n",
              "      <td>45.650849</td>\n",
              "      <td>41.761226</td>\n",
              "      <td>29.120440</td>\n",
              "      <td>50.358713</td>\n",
              "      <td>7421.333333</td>\n",
              "      <td>22.192352</td>\n",
              "      <td>...</td>\n",
              "      <td>0.001130</td>\n",
              "      <td>0.715150</td>\n",
              "      <td>10757.09395</td>\n",
              "      <td>0.001110</td>\n",
              "      <td>0.007144</td>\n",
              "      <td>0.010583</td>\n",
              "      <td>5.701539e+04</td>\n",
              "      <td>0.849220</td>\n",
              "      <td>56.233061</td>\n",
              "      <td>others</td>\n",
              "    </tr>\n",
              "    <tr>\n",
              "      <th>246</th>\n",
              "      <td>0.505327</td>\n",
              "      <td>0.335579</td>\n",
              "      <td>14.737564</td>\n",
              "      <td>43.916805</td>\n",
              "      <td>45.650849</td>\n",
              "      <td>41.761226</td>\n",
              "      <td>29.120440</td>\n",
              "      <td>50.358713</td>\n",
              "      <td>7421.333333</td>\n",
              "      <td>22.192352</td>\n",
              "      <td>...</td>\n",
              "      <td>0.001130</td>\n",
              "      <td>0.715150</td>\n",
              "      <td>10757.09395</td>\n",
              "      <td>0.001110</td>\n",
              "      <td>0.007144</td>\n",
              "      <td>0.010583</td>\n",
              "      <td>5.701539e+04</td>\n",
              "      <td>0.849220</td>\n",
              "      <td>56.233061</td>\n",
              "      <td>others</td>\n",
              "    </tr>\n",
              "  </tbody>\n",
              "</table>\n",
              "<p>247 rows × 1094 columns</p>\n",
              "</div>\n",
              "      <button class=\"colab-df-convert\" onclick=\"convertToInteractive('df-30782fca-30bd-4839-afb6-7404933797d8')\"\n",
              "              title=\"Convert this dataframe to an interactive table.\"\n",
              "              style=\"display:none;\">\n",
              "        \n",
              "  <svg xmlns=\"http://www.w3.org/2000/svg\" height=\"24px\"viewBox=\"0 0 24 24\"\n",
              "       width=\"24px\">\n",
              "    <path d=\"M0 0h24v24H0V0z\" fill=\"none\"/>\n",
              "    <path d=\"M18.56 5.44l.94 2.06.94-2.06 2.06-.94-2.06-.94-.94-2.06-.94 2.06-2.06.94zm-11 1L8.5 8.5l.94-2.06 2.06-.94-2.06-.94L8.5 2.5l-.94 2.06-2.06.94zm10 10l.94 2.06.94-2.06 2.06-.94-2.06-.94-.94-2.06-.94 2.06-2.06.94z\"/><path d=\"M17.41 7.96l-1.37-1.37c-.4-.4-.92-.59-1.43-.59-.52 0-1.04.2-1.43.59L10.3 9.45l-7.72 7.72c-.78.78-.78 2.05 0 2.83L4 21.41c.39.39.9.59 1.41.59.51 0 1.02-.2 1.41-.59l7.78-7.78 2.81-2.81c.8-.78.8-2.07 0-2.86zM5.41 20L4 18.59l7.72-7.72 1.47 1.35L5.41 20z\"/>\n",
              "  </svg>\n",
              "      </button>\n",
              "      \n",
              "  <style>\n",
              "    .colab-df-container {\n",
              "      display:flex;\n",
              "      flex-wrap:wrap;\n",
              "      gap: 12px;\n",
              "    }\n",
              "\n",
              "    .colab-df-convert {\n",
              "      background-color: #E8F0FE;\n",
              "      border: none;\n",
              "      border-radius: 50%;\n",
              "      cursor: pointer;\n",
              "      display: none;\n",
              "      fill: #1967D2;\n",
              "      height: 32px;\n",
              "      padding: 0 0 0 0;\n",
              "      width: 32px;\n",
              "    }\n",
              "\n",
              "    .colab-df-convert:hover {\n",
              "      background-color: #E2EBFA;\n",
              "      box-shadow: 0px 1px 2px rgba(60, 64, 67, 0.3), 0px 1px 3px 1px rgba(60, 64, 67, 0.15);\n",
              "      fill: #174EA6;\n",
              "    }\n",
              "\n",
              "    [theme=dark] .colab-df-convert {\n",
              "      background-color: #3B4455;\n",
              "      fill: #D2E3FC;\n",
              "    }\n",
              "\n",
              "    [theme=dark] .colab-df-convert:hover {\n",
              "      background-color: #434B5C;\n",
              "      box-shadow: 0px 1px 3px 1px rgba(0, 0, 0, 0.15);\n",
              "      filter: drop-shadow(0px 1px 2px rgba(0, 0, 0, 0.3));\n",
              "      fill: #FFFFFF;\n",
              "    }\n",
              "  </style>\n",
              "\n",
              "      <script>\n",
              "        const buttonEl =\n",
              "          document.querySelector('#df-30782fca-30bd-4839-afb6-7404933797d8 button.colab-df-convert');\n",
              "        buttonEl.style.display =\n",
              "          google.colab.kernel.accessAllowed ? 'block' : 'none';\n",
              "\n",
              "        async function convertToInteractive(key) {\n",
              "          const element = document.querySelector('#df-30782fca-30bd-4839-afb6-7404933797d8');\n",
              "          const dataTable =\n",
              "            await google.colab.kernel.invokeFunction('convertToInteractive',\n",
              "                                                     [key], {});\n",
              "          if (!dataTable) return;\n",
              "\n",
              "          const docLinkHtml = 'Like what you see? Visit the ' +\n",
              "            '<a target=\"_blank\" href=https://colab.research.google.com/notebooks/data_table.ipynb>data table notebook</a>'\n",
              "            + ' to learn more about interactive tables.';\n",
              "          element.innerHTML = '';\n",
              "          dataTable['output_type'] = 'display_data';\n",
              "          await google.colab.output.renderOutput(dataTable, element);\n",
              "          const docLink = document.createElement('div');\n",
              "          docLink.innerHTML = docLinkHtml;\n",
              "          element.appendChild(docLink);\n",
              "        }\n",
              "      </script>\n",
              "    </div>\n",
              "  </div>\n",
              "  "
            ]
          },
          "metadata": {},
          "execution_count": 9
        }
      ]
    },
    {
      "cell_type": "code",
      "source": [
        "data_X = data_df.drop(['Label'], axis = 1)"
      ],
      "metadata": {
        "id": "xY7x8ocvSH4J"
      },
      "execution_count": 10,
      "outputs": []
    },
    {
      "cell_type": "code",
      "source": [
        "data_X.columns "
      ],
      "metadata": {
        "colab": {
          "base_uri": "https://localhost:8080/"
        },
        "id": "m0Z66Mw1SXU0",
        "outputId": "7cb821f8-5cb2-4a53-e8a0-0932edef2854"
      },
      "execution_count": 11,
      "outputs": [
        {
          "output_type": "execute_result",
          "data": {
            "text/plain": [
              "Index(['original_shape_Elongation', 'original_shape_Flatness',\n",
              "       'original_shape_LeastAxisLength', 'original_shape_MajorAxisLength',\n",
              "       'original_shape_Maximum2DDiameterColumn',\n",
              "       'original_shape_Maximum2DDiameterRow',\n",
              "       'original_shape_Maximum2DDiameterSlice',\n",
              "       'original_shape_Maximum3DDiameter', 'original_shape_MeshVolume',\n",
              "       'original_shape_MinorAxisLength',\n",
              "       ...\n",
              "       'wavelet-LLL_gldm_LargeDependenceLowGrayLevelEmphasis',\n",
              "       'wavelet-LLL_gldm_LowGrayLevelEmphasis',\n",
              "       'wavelet-LLL_gldm_SmallDependenceEmphasis',\n",
              "       'wavelet-LLL_gldm_SmallDependenceHighGrayLevelEmphasis',\n",
              "       'wavelet-LLL_gldm_SmallDependenceLowGrayLevelEmphasis',\n",
              "       'wavelet-LLL_ngtdm_Busyness', 'wavelet-LLL_ngtdm_Coarseness',\n",
              "       'wavelet-LLL_ngtdm_Complexity', 'wavelet-LLL_ngtdm_Contrast',\n",
              "       'wavelet-LLL_ngtdm_Strength'],\n",
              "      dtype='object', length=1093)"
            ]
          },
          "metadata": {},
          "execution_count": 11
        }
      ]
    },
    {
      "cell_type": "code",
      "source": [
        "data_X.shape "
      ],
      "metadata": {
        "colab": {
          "base_uri": "https://localhost:8080/"
        },
        "id": "i1NsbDmKSYne",
        "outputId": "06efa017-20e8-40d8-d4ac-31347ad55aac"
      },
      "execution_count": 12,
      "outputs": [
        {
          "output_type": "execute_result",
          "data": {
            "text/plain": [
              "(247, 1093)"
            ]
          },
          "metadata": {},
          "execution_count": 12
        }
      ]
    },
    {
      "cell_type": "code",
      "source": [
        "data_y = data_df['Label']"
      ],
      "metadata": {
        "id": "Kg-YAsI4Sduw"
      },
      "execution_count": 13,
      "outputs": []
    },
    {
      "cell_type": "code",
      "source": [
        "data_y.shape "
      ],
      "metadata": {
        "colab": {
          "base_uri": "https://localhost:8080/"
        },
        "id": "zQwhaFrBSgjc",
        "outputId": "38f3cad5-02ce-4aab-9348-8413501b4167"
      },
      "execution_count": 14,
      "outputs": [
        {
          "output_type": "execute_result",
          "data": {
            "text/plain": [
              "(247,)"
            ]
          },
          "metadata": {},
          "execution_count": 14
        }
      ]
    },
    {
      "cell_type": "code",
      "source": [
        "data_df.isnull().sum().sum()"
      ],
      "metadata": {
        "colab": {
          "base_uri": "https://localhost:8080/"
        },
        "id": "IZKfuHyKSilb",
        "outputId": "973a4bc8-9177-414d-95e1-cda7154a2af4"
      },
      "execution_count": 15,
      "outputs": [
        {
          "output_type": "execute_result",
          "data": {
            "text/plain": [
              "0"
            ]
          },
          "metadata": {},
          "execution_count": 15
        }
      ]
    },
    {
      "cell_type": "code",
      "source": [
        "data_y.unique()"
      ],
      "metadata": {
        "colab": {
          "base_uri": "https://localhost:8080/"
        },
        "id": "zYYZQ-WjSl0H",
        "outputId": "9ce1a1b2-a1ae-4e81-9333-09fd96d54135"
      },
      "execution_count": 16,
      "outputs": [
        {
          "output_type": "execute_result",
          "data": {
            "text/plain": [
              "array([\"'large cell'\", \"'squamous cell carcinoma'\", 'adenocarcinoma',\n",
              "       'others'], dtype=object)"
            ]
          },
          "metadata": {},
          "execution_count": 16
        }
      ]
    },
    {
      "cell_type": "code",
      "source": [
        "data_X "
      ],
      "metadata": {
        "colab": {
          "base_uri": "https://localhost:8080/",
          "height": 505
        },
        "id": "_cW362R8Sp46",
        "outputId": "a07e5bbe-d103-41d4-9c8f-be1cb8e416ff"
      },
      "execution_count": 17,
      "outputs": [
        {
          "output_type": "execute_result",
          "data": {
            "text/plain": [
              "     original_shape_Elongation  original_shape_Flatness  \\\n",
              "0                     0.898535                 0.570600   \n",
              "1                     0.356341                 0.293696   \n",
              "2                     0.972992                 0.838632   \n",
              "3                     0.355514                 0.250921   \n",
              "4                     0.869980                 0.715864   \n",
              "..                         ...                      ...   \n",
              "242                   0.613950                 0.536166   \n",
              "243                   0.706267                 0.473298   \n",
              "244                   0.832425                 0.624674   \n",
              "245                   0.505327                 0.335579   \n",
              "246                   0.505327                 0.335579   \n",
              "\n",
              "     original_shape_LeastAxisLength  original_shape_MajorAxisLength  \\\n",
              "0                         31.886509                       55.882450   \n",
              "1                         30.746972                      104.689637   \n",
              "2                         36.685554                       43.744513   \n",
              "3                         32.048424                      127.723174   \n",
              "4                         37.872296                       52.904327   \n",
              "..                              ...                             ...   \n",
              "242                       67.085543                      125.120921   \n",
              "243                       19.144342                       40.448808   \n",
              "244                       10.141866                       16.235443   \n",
              "245                       14.737564                       43.916805   \n",
              "246                       14.737564                       43.916805   \n",
              "\n",
              "     original_shape_Maximum2DDiameterColumn  \\\n",
              "0                                 63.529521   \n",
              "1                                 62.289646   \n",
              "2                                 56.920998   \n",
              "3                                 92.130342   \n",
              "4                                 63.780875   \n",
              "..                                      ...   \n",
              "242                              151.433154   \n",
              "243                               39.395431   \n",
              "244                               19.697716   \n",
              "245                               45.650849   \n",
              "246                               45.650849   \n",
              "\n",
              "     original_shape_Maximum2DDiameterRow  \\\n",
              "0                              66.573268   \n",
              "1                              76.837491   \n",
              "2                              59.093147   \n",
              "3                              52.153619   \n",
              "4                              65.115282   \n",
              "..                                   ...   \n",
              "242                           143.178211   \n",
              "243                            48.414874   \n",
              "244                            17.204651   \n",
              "245                            41.761226   \n",
              "246                            41.761226   \n",
              "\n",
              "     original_shape_Maximum2DDiameterSlice  original_shape_Maximum3DDiameter  \\\n",
              "0                                61.188234                         72.718636   \n",
              "1                                48.332184                         99.015150   \n",
              "2                                50.000000                         59.531504   \n",
              "3                                50.159745                        158.808060   \n",
              "4                                59.363288                         70.992957   \n",
              "..                                     ...                               ...   \n",
              "242                             118.962179                        186.986630   \n",
              "243                              34.234486                         49.071377   \n",
              "244                              16.124516                         19.798990   \n",
              "245                              29.120440                         50.358713   \n",
              "246                              29.120440                         50.358713   \n",
              "\n",
              "     original_shape_MeshVolume  original_shape_MinorAxisLength  ...  \\\n",
              "0                 48863.000000                       50.212354  ...   \n",
              "1                 16849.666670                       37.305177  ...   \n",
              "2                 45073.000000                       42.563080  ...   \n",
              "3                 13973.333330                       45.407417  ...   \n",
              "4                 50277.333330                       46.025717  ...   \n",
              "..                         ...                             ...  ...   \n",
              "242              262922.000000                       76.818007  ...   \n",
              "243               13417.666670                       28.567655  ...   \n",
              "244                1428.000000                       13.514788  ...   \n",
              "245                7421.333333                       22.192352  ...   \n",
              "246                7421.333333                       22.192352  ...   \n",
              "\n",
              "     wavelet-LLL_gldm_LargeDependenceLowGrayLevelEmphasis  \\\n",
              "0                                             0.000182      \n",
              "1                                             0.000492      \n",
              "2                                             0.000242      \n",
              "3                                             0.000702      \n",
              "4                                             0.000188      \n",
              "..                                                 ...      \n",
              "242                                           0.000135      \n",
              "243                                           0.000960      \n",
              "244                                           0.005574      \n",
              "245                                           0.001249      \n",
              "246                                           0.001249      \n",
              "\n",
              "     wavelet-LLL_gldm_LowGrayLevelEmphasis  \\\n",
              "0                                 0.000175   \n",
              "1                                 0.000480   \n",
              "2                                 0.000204   \n",
              "3                                 0.000609   \n",
              "4                                 0.000179   \n",
              "..                                     ...   \n",
              "242                               0.000055   \n",
              "243                               0.000797   \n",
              "244                               0.005545   \n",
              "245                               0.001130   \n",
              "246                               0.001130   \n",
              "\n",
              "     wavelet-LLL_gldm_SmallDependenceEmphasis  \\\n",
              "0                                    0.782714   \n",
              "1                                    0.809799   \n",
              "2                                    0.607683   \n",
              "3                                    0.672628   \n",
              "4                                    0.739990   \n",
              "..                                        ...   \n",
              "242                                  0.539262   \n",
              "243                                  0.635981   \n",
              "244                                  0.855006   \n",
              "245                                  0.715150   \n",
              "246                                  0.715150   \n",
              "\n",
              "     wavelet-LLL_gldm_SmallDependenceHighGrayLevelEmphasis  \\\n",
              "0                                         188544.34720       \n",
              "1                                         185506.13380       \n",
              "2                                          51789.09974       \n",
              "3                                          16150.60173       \n",
              "4                                         152246.78220       \n",
              "..                                                 ...       \n",
              "242                                        30796.75751       \n",
              "243                                        11131.16552       \n",
              "244                                        21236.68132       \n",
              "245                                        10757.09395       \n",
              "246                                        10757.09395       \n",
              "\n",
              "     wavelet-LLL_gldm_SmallDependenceLowGrayLevelEmphasis  \\\n",
              "0                                             0.000174      \n",
              "1                                             0.000478      \n",
              "2                                             0.000200      \n",
              "3                                             0.000595      \n",
              "4                                             0.000178      \n",
              "..                                                 ...      \n",
              "242                                           0.000047      \n",
              "243                                           0.000775      \n",
              "244                                           0.005537      \n",
              "245                                           0.001110      \n",
              "246                                           0.001110      \n",
              "\n",
              "     wavelet-LLL_ngtdm_Busyness  wavelet-LLL_ngtdm_Coarseness  \\\n",
              "0                      0.001121                      0.001950   \n",
              "1                      0.000573                      0.006157   \n",
              "2                      0.003829                      0.001594   \n",
              "3                      0.008233                      0.005954   \n",
              "4                      0.001932                      0.001420   \n",
              "..                          ...                           ...   \n",
              "242                    0.018433                      0.000387   \n",
              "243                    0.007429                      0.006453   \n",
              "244                    0.003682                      0.030105   \n",
              "245                    0.007144                      0.010583   \n",
              "246                    0.007144                      0.010583   \n",
              "\n",
              "     wavelet-LLL_ngtdm_Complexity  wavelet-LLL_ngtdm_Contrast  \\\n",
              "0                    5.241414e+06                    1.329551   \n",
              "1                    3.263341e+06                    8.577655   \n",
              "2                    1.033373e+06                    1.189275   \n",
              "3                    6.759171e+04                    0.596882   \n",
              "4                    3.371136e+06                    2.314521   \n",
              "..                            ...                         ...   \n",
              "242                  5.073418e+05                    0.115637   \n",
              "243                  8.507560e+04                    0.600453   \n",
              "244                  8.491850e+04                    4.490970   \n",
              "245                  5.701539e+04                    0.849220   \n",
              "246                  5.701539e+04                    0.849220   \n",
              "\n",
              "     wavelet-LLL_ngtdm_Strength  \n",
              "0                    576.487136  \n",
              "1                   1468.964920  \n",
              "2                    158.997655  \n",
              "3                     48.462226  \n",
              "4                    364.513624  \n",
              "..                          ...  \n",
              "242                   33.076902  \n",
              "243                   51.726423  \n",
              "244                  194.650316  \n",
              "245                   56.233061  \n",
              "246                   56.233061  \n",
              "\n",
              "[247 rows x 1093 columns]"
            ],
            "text/html": [
              "\n",
              "  <div id=\"df-71ce44a3-11b1-41d5-99fc-d9c098dffb8a\">\n",
              "    <div class=\"colab-df-container\">\n",
              "      <div>\n",
              "<style scoped>\n",
              "    .dataframe tbody tr th:only-of-type {\n",
              "        vertical-align: middle;\n",
              "    }\n",
              "\n",
              "    .dataframe tbody tr th {\n",
              "        vertical-align: top;\n",
              "    }\n",
              "\n",
              "    .dataframe thead th {\n",
              "        text-align: right;\n",
              "    }\n",
              "</style>\n",
              "<table border=\"1\" class=\"dataframe\">\n",
              "  <thead>\n",
              "    <tr style=\"text-align: right;\">\n",
              "      <th></th>\n",
              "      <th>original_shape_Elongation</th>\n",
              "      <th>original_shape_Flatness</th>\n",
              "      <th>original_shape_LeastAxisLength</th>\n",
              "      <th>original_shape_MajorAxisLength</th>\n",
              "      <th>original_shape_Maximum2DDiameterColumn</th>\n",
              "      <th>original_shape_Maximum2DDiameterRow</th>\n",
              "      <th>original_shape_Maximum2DDiameterSlice</th>\n",
              "      <th>original_shape_Maximum3DDiameter</th>\n",
              "      <th>original_shape_MeshVolume</th>\n",
              "      <th>original_shape_MinorAxisLength</th>\n",
              "      <th>...</th>\n",
              "      <th>wavelet-LLL_gldm_LargeDependenceLowGrayLevelEmphasis</th>\n",
              "      <th>wavelet-LLL_gldm_LowGrayLevelEmphasis</th>\n",
              "      <th>wavelet-LLL_gldm_SmallDependenceEmphasis</th>\n",
              "      <th>wavelet-LLL_gldm_SmallDependenceHighGrayLevelEmphasis</th>\n",
              "      <th>wavelet-LLL_gldm_SmallDependenceLowGrayLevelEmphasis</th>\n",
              "      <th>wavelet-LLL_ngtdm_Busyness</th>\n",
              "      <th>wavelet-LLL_ngtdm_Coarseness</th>\n",
              "      <th>wavelet-LLL_ngtdm_Complexity</th>\n",
              "      <th>wavelet-LLL_ngtdm_Contrast</th>\n",
              "      <th>wavelet-LLL_ngtdm_Strength</th>\n",
              "    </tr>\n",
              "  </thead>\n",
              "  <tbody>\n",
              "    <tr>\n",
              "      <th>0</th>\n",
              "      <td>0.898535</td>\n",
              "      <td>0.570600</td>\n",
              "      <td>31.886509</td>\n",
              "      <td>55.882450</td>\n",
              "      <td>63.529521</td>\n",
              "      <td>66.573268</td>\n",
              "      <td>61.188234</td>\n",
              "      <td>72.718636</td>\n",
              "      <td>48863.000000</td>\n",
              "      <td>50.212354</td>\n",
              "      <td>...</td>\n",
              "      <td>0.000182</td>\n",
              "      <td>0.000175</td>\n",
              "      <td>0.782714</td>\n",
              "      <td>188544.34720</td>\n",
              "      <td>0.000174</td>\n",
              "      <td>0.001121</td>\n",
              "      <td>0.001950</td>\n",
              "      <td>5.241414e+06</td>\n",
              "      <td>1.329551</td>\n",
              "      <td>576.487136</td>\n",
              "    </tr>\n",
              "    <tr>\n",
              "      <th>1</th>\n",
              "      <td>0.356341</td>\n",
              "      <td>0.293696</td>\n",
              "      <td>30.746972</td>\n",
              "      <td>104.689637</td>\n",
              "      <td>62.289646</td>\n",
              "      <td>76.837491</td>\n",
              "      <td>48.332184</td>\n",
              "      <td>99.015150</td>\n",
              "      <td>16849.666670</td>\n",
              "      <td>37.305177</td>\n",
              "      <td>...</td>\n",
              "      <td>0.000492</td>\n",
              "      <td>0.000480</td>\n",
              "      <td>0.809799</td>\n",
              "      <td>185506.13380</td>\n",
              "      <td>0.000478</td>\n",
              "      <td>0.000573</td>\n",
              "      <td>0.006157</td>\n",
              "      <td>3.263341e+06</td>\n",
              "      <td>8.577655</td>\n",
              "      <td>1468.964920</td>\n",
              "    </tr>\n",
              "    <tr>\n",
              "      <th>2</th>\n",
              "      <td>0.972992</td>\n",
              "      <td>0.838632</td>\n",
              "      <td>36.685554</td>\n",
              "      <td>43.744513</td>\n",
              "      <td>56.920998</td>\n",
              "      <td>59.093147</td>\n",
              "      <td>50.000000</td>\n",
              "      <td>59.531504</td>\n",
              "      <td>45073.000000</td>\n",
              "      <td>42.563080</td>\n",
              "      <td>...</td>\n",
              "      <td>0.000242</td>\n",
              "      <td>0.000204</td>\n",
              "      <td>0.607683</td>\n",
              "      <td>51789.09974</td>\n",
              "      <td>0.000200</td>\n",
              "      <td>0.003829</td>\n",
              "      <td>0.001594</td>\n",
              "      <td>1.033373e+06</td>\n",
              "      <td>1.189275</td>\n",
              "      <td>158.997655</td>\n",
              "    </tr>\n",
              "    <tr>\n",
              "      <th>3</th>\n",
              "      <td>0.355514</td>\n",
              "      <td>0.250921</td>\n",
              "      <td>32.048424</td>\n",
              "      <td>127.723174</td>\n",
              "      <td>92.130342</td>\n",
              "      <td>52.153619</td>\n",
              "      <td>50.159745</td>\n",
              "      <td>158.808060</td>\n",
              "      <td>13973.333330</td>\n",
              "      <td>45.407417</td>\n",
              "      <td>...</td>\n",
              "      <td>0.000702</td>\n",
              "      <td>0.000609</td>\n",
              "      <td>0.672628</td>\n",
              "      <td>16150.60173</td>\n",
              "      <td>0.000595</td>\n",
              "      <td>0.008233</td>\n",
              "      <td>0.005954</td>\n",
              "      <td>6.759171e+04</td>\n",
              "      <td>0.596882</td>\n",
              "      <td>48.462226</td>\n",
              "    </tr>\n",
              "    <tr>\n",
              "      <th>4</th>\n",
              "      <td>0.869980</td>\n",
              "      <td>0.715864</td>\n",
              "      <td>37.872296</td>\n",
              "      <td>52.904327</td>\n",
              "      <td>63.780875</td>\n",
              "      <td>65.115282</td>\n",
              "      <td>59.363288</td>\n",
              "      <td>70.992957</td>\n",
              "      <td>50277.333330</td>\n",
              "      <td>46.025717</td>\n",
              "      <td>...</td>\n",
              "      <td>0.000188</td>\n",
              "      <td>0.000179</td>\n",
              "      <td>0.739990</td>\n",
              "      <td>152246.78220</td>\n",
              "      <td>0.000178</td>\n",
              "      <td>0.001932</td>\n",
              "      <td>0.001420</td>\n",
              "      <td>3.371136e+06</td>\n",
              "      <td>2.314521</td>\n",
              "      <td>364.513624</td>\n",
              "    </tr>\n",
              "    <tr>\n",
              "      <th>...</th>\n",
              "      <td>...</td>\n",
              "      <td>...</td>\n",
              "      <td>...</td>\n",
              "      <td>...</td>\n",
              "      <td>...</td>\n",
              "      <td>...</td>\n",
              "      <td>...</td>\n",
              "      <td>...</td>\n",
              "      <td>...</td>\n",
              "      <td>...</td>\n",
              "      <td>...</td>\n",
              "      <td>...</td>\n",
              "      <td>...</td>\n",
              "      <td>...</td>\n",
              "      <td>...</td>\n",
              "      <td>...</td>\n",
              "      <td>...</td>\n",
              "      <td>...</td>\n",
              "      <td>...</td>\n",
              "      <td>...</td>\n",
              "      <td>...</td>\n",
              "    </tr>\n",
              "    <tr>\n",
              "      <th>242</th>\n",
              "      <td>0.613950</td>\n",
              "      <td>0.536166</td>\n",
              "      <td>67.085543</td>\n",
              "      <td>125.120921</td>\n",
              "      <td>151.433154</td>\n",
              "      <td>143.178211</td>\n",
              "      <td>118.962179</td>\n",
              "      <td>186.986630</td>\n",
              "      <td>262922.000000</td>\n",
              "      <td>76.818007</td>\n",
              "      <td>...</td>\n",
              "      <td>0.000135</td>\n",
              "      <td>0.000055</td>\n",
              "      <td>0.539262</td>\n",
              "      <td>30796.75751</td>\n",
              "      <td>0.000047</td>\n",
              "      <td>0.018433</td>\n",
              "      <td>0.000387</td>\n",
              "      <td>5.073418e+05</td>\n",
              "      <td>0.115637</td>\n",
              "      <td>33.076902</td>\n",
              "    </tr>\n",
              "    <tr>\n",
              "      <th>243</th>\n",
              "      <td>0.706267</td>\n",
              "      <td>0.473298</td>\n",
              "      <td>19.144342</td>\n",
              "      <td>40.448808</td>\n",
              "      <td>39.395431</td>\n",
              "      <td>48.414874</td>\n",
              "      <td>34.234486</td>\n",
              "      <td>49.071377</td>\n",
              "      <td>13417.666670</td>\n",
              "      <td>28.567655</td>\n",
              "      <td>...</td>\n",
              "      <td>0.000960</td>\n",
              "      <td>0.000797</td>\n",
              "      <td>0.635981</td>\n",
              "      <td>11131.16552</td>\n",
              "      <td>0.000775</td>\n",
              "      <td>0.007429</td>\n",
              "      <td>0.006453</td>\n",
              "      <td>8.507560e+04</td>\n",
              "      <td>0.600453</td>\n",
              "      <td>51.726423</td>\n",
              "    </tr>\n",
              "    <tr>\n",
              "      <th>244</th>\n",
              "      <td>0.832425</td>\n",
              "      <td>0.624674</td>\n",
              "      <td>10.141866</td>\n",
              "      <td>16.235443</td>\n",
              "      <td>19.697716</td>\n",
              "      <td>17.204651</td>\n",
              "      <td>16.124516</td>\n",
              "      <td>19.798990</td>\n",
              "      <td>1428.000000</td>\n",
              "      <td>13.514788</td>\n",
              "      <td>...</td>\n",
              "      <td>0.005574</td>\n",
              "      <td>0.005545</td>\n",
              "      <td>0.855006</td>\n",
              "      <td>21236.68132</td>\n",
              "      <td>0.005537</td>\n",
              "      <td>0.003682</td>\n",
              "      <td>0.030105</td>\n",
              "      <td>8.491850e+04</td>\n",
              "      <td>4.490970</td>\n",
              "      <td>194.650316</td>\n",
              "    </tr>\n",
              "    <tr>\n",
              "      <th>245</th>\n",
              "      <td>0.505327</td>\n",
              "      <td>0.335579</td>\n",
              "      <td>14.737564</td>\n",
              "      <td>43.916805</td>\n",
              "      <td>45.650849</td>\n",
              "      <td>41.761226</td>\n",
              "      <td>29.120440</td>\n",
              "      <td>50.358713</td>\n",
              "      <td>7421.333333</td>\n",
              "      <td>22.192352</td>\n",
              "      <td>...</td>\n",
              "      <td>0.001249</td>\n",
              "      <td>0.001130</td>\n",
              "      <td>0.715150</td>\n",
              "      <td>10757.09395</td>\n",
              "      <td>0.001110</td>\n",
              "      <td>0.007144</td>\n",
              "      <td>0.010583</td>\n",
              "      <td>5.701539e+04</td>\n",
              "      <td>0.849220</td>\n",
              "      <td>56.233061</td>\n",
              "    </tr>\n",
              "    <tr>\n",
              "      <th>246</th>\n",
              "      <td>0.505327</td>\n",
              "      <td>0.335579</td>\n",
              "      <td>14.737564</td>\n",
              "      <td>43.916805</td>\n",
              "      <td>45.650849</td>\n",
              "      <td>41.761226</td>\n",
              "      <td>29.120440</td>\n",
              "      <td>50.358713</td>\n",
              "      <td>7421.333333</td>\n",
              "      <td>22.192352</td>\n",
              "      <td>...</td>\n",
              "      <td>0.001249</td>\n",
              "      <td>0.001130</td>\n",
              "      <td>0.715150</td>\n",
              "      <td>10757.09395</td>\n",
              "      <td>0.001110</td>\n",
              "      <td>0.007144</td>\n",
              "      <td>0.010583</td>\n",
              "      <td>5.701539e+04</td>\n",
              "      <td>0.849220</td>\n",
              "      <td>56.233061</td>\n",
              "    </tr>\n",
              "  </tbody>\n",
              "</table>\n",
              "<p>247 rows × 1093 columns</p>\n",
              "</div>\n",
              "      <button class=\"colab-df-convert\" onclick=\"convertToInteractive('df-71ce44a3-11b1-41d5-99fc-d9c098dffb8a')\"\n",
              "              title=\"Convert this dataframe to an interactive table.\"\n",
              "              style=\"display:none;\">\n",
              "        \n",
              "  <svg xmlns=\"http://www.w3.org/2000/svg\" height=\"24px\"viewBox=\"0 0 24 24\"\n",
              "       width=\"24px\">\n",
              "    <path d=\"M0 0h24v24H0V0z\" fill=\"none\"/>\n",
              "    <path d=\"M18.56 5.44l.94 2.06.94-2.06 2.06-.94-2.06-.94-.94-2.06-.94 2.06-2.06.94zm-11 1L8.5 8.5l.94-2.06 2.06-.94-2.06-.94L8.5 2.5l-.94 2.06-2.06.94zm10 10l.94 2.06.94-2.06 2.06-.94-2.06-.94-.94-2.06-.94 2.06-2.06.94z\"/><path d=\"M17.41 7.96l-1.37-1.37c-.4-.4-.92-.59-1.43-.59-.52 0-1.04.2-1.43.59L10.3 9.45l-7.72 7.72c-.78.78-.78 2.05 0 2.83L4 21.41c.39.39.9.59 1.41.59.51 0 1.02-.2 1.41-.59l7.78-7.78 2.81-2.81c.8-.78.8-2.07 0-2.86zM5.41 20L4 18.59l7.72-7.72 1.47 1.35L5.41 20z\"/>\n",
              "  </svg>\n",
              "      </button>\n",
              "      \n",
              "  <style>\n",
              "    .colab-df-container {\n",
              "      display:flex;\n",
              "      flex-wrap:wrap;\n",
              "      gap: 12px;\n",
              "    }\n",
              "\n",
              "    .colab-df-convert {\n",
              "      background-color: #E8F0FE;\n",
              "      border: none;\n",
              "      border-radius: 50%;\n",
              "      cursor: pointer;\n",
              "      display: none;\n",
              "      fill: #1967D2;\n",
              "      height: 32px;\n",
              "      padding: 0 0 0 0;\n",
              "      width: 32px;\n",
              "    }\n",
              "\n",
              "    .colab-df-convert:hover {\n",
              "      background-color: #E2EBFA;\n",
              "      box-shadow: 0px 1px 2px rgba(60, 64, 67, 0.3), 0px 1px 3px 1px rgba(60, 64, 67, 0.15);\n",
              "      fill: #174EA6;\n",
              "    }\n",
              "\n",
              "    [theme=dark] .colab-df-convert {\n",
              "      background-color: #3B4455;\n",
              "      fill: #D2E3FC;\n",
              "    }\n",
              "\n",
              "    [theme=dark] .colab-df-convert:hover {\n",
              "      background-color: #434B5C;\n",
              "      box-shadow: 0px 1px 3px 1px rgba(0, 0, 0, 0.15);\n",
              "      filter: drop-shadow(0px 1px 2px rgba(0, 0, 0, 0.3));\n",
              "      fill: #FFFFFF;\n",
              "    }\n",
              "  </style>\n",
              "\n",
              "      <script>\n",
              "        const buttonEl =\n",
              "          document.querySelector('#df-71ce44a3-11b1-41d5-99fc-d9c098dffb8a button.colab-df-convert');\n",
              "        buttonEl.style.display =\n",
              "          google.colab.kernel.accessAllowed ? 'block' : 'none';\n",
              "\n",
              "        async function convertToInteractive(key) {\n",
              "          const element = document.querySelector('#df-71ce44a3-11b1-41d5-99fc-d9c098dffb8a');\n",
              "          const dataTable =\n",
              "            await google.colab.kernel.invokeFunction('convertToInteractive',\n",
              "                                                     [key], {});\n",
              "          if (!dataTable) return;\n",
              "\n",
              "          const docLinkHtml = 'Like what you see? Visit the ' +\n",
              "            '<a target=\"_blank\" href=https://colab.research.google.com/notebooks/data_table.ipynb>data table notebook</a>'\n",
              "            + ' to learn more about interactive tables.';\n",
              "          element.innerHTML = '';\n",
              "          dataTable['output_type'] = 'display_data';\n",
              "          await google.colab.output.renderOutput(dataTable, element);\n",
              "          const docLink = document.createElement('div');\n",
              "          docLink.innerHTML = docLinkHtml;\n",
              "          element.appendChild(docLink);\n",
              "        }\n",
              "      </script>\n",
              "    </div>\n",
              "  </div>\n",
              "  "
            ]
          },
          "metadata": {},
          "execution_count": 17
        }
      ]
    },
    {
      "cell_type": "markdown",
      "source": [
        "Label encoding"
      ],
      "metadata": {
        "id": "m_33cVtBpNrv"
      }
    },
    {
      "cell_type": "code",
      "source": [
        "from sklearn.preprocessing import LabelEncoder "
      ],
      "metadata": {
        "id": "ZtLQo0xTSuKP"
      },
      "execution_count": 18,
      "outputs": []
    },
    {
      "cell_type": "code",
      "source": [
        "le = LabelEncoder()"
      ],
      "metadata": {
        "id": "9Lr1-HvcV8-V"
      },
      "execution_count": 19,
      "outputs": []
    },
    {
      "cell_type": "code",
      "source": [
        "data_y_trans = le.fit_transform(data_y)\n"
      ],
      "metadata": {
        "id": "l32ds-KaWBEt"
      },
      "execution_count": 20,
      "outputs": []
    },
    {
      "cell_type": "code",
      "source": [
        "data_X"
      ],
      "metadata": {
        "colab": {
          "base_uri": "https://localhost:8080/",
          "height": 505
        },
        "id": "bGQlGNLBWGsd",
        "outputId": "161868a8-b371-4ce5-b442-1d73247f6375"
      },
      "execution_count": 21,
      "outputs": [
        {
          "output_type": "execute_result",
          "data": {
            "text/plain": [
              "     original_shape_Elongation  original_shape_Flatness  \\\n",
              "0                     0.898535                 0.570600   \n",
              "1                     0.356341                 0.293696   \n",
              "2                     0.972992                 0.838632   \n",
              "3                     0.355514                 0.250921   \n",
              "4                     0.869980                 0.715864   \n",
              "..                         ...                      ...   \n",
              "242                   0.613950                 0.536166   \n",
              "243                   0.706267                 0.473298   \n",
              "244                   0.832425                 0.624674   \n",
              "245                   0.505327                 0.335579   \n",
              "246                   0.505327                 0.335579   \n",
              "\n",
              "     original_shape_LeastAxisLength  original_shape_MajorAxisLength  \\\n",
              "0                         31.886509                       55.882450   \n",
              "1                         30.746972                      104.689637   \n",
              "2                         36.685554                       43.744513   \n",
              "3                         32.048424                      127.723174   \n",
              "4                         37.872296                       52.904327   \n",
              "..                              ...                             ...   \n",
              "242                       67.085543                      125.120921   \n",
              "243                       19.144342                       40.448808   \n",
              "244                       10.141866                       16.235443   \n",
              "245                       14.737564                       43.916805   \n",
              "246                       14.737564                       43.916805   \n",
              "\n",
              "     original_shape_Maximum2DDiameterColumn  \\\n",
              "0                                 63.529521   \n",
              "1                                 62.289646   \n",
              "2                                 56.920998   \n",
              "3                                 92.130342   \n",
              "4                                 63.780875   \n",
              "..                                      ...   \n",
              "242                              151.433154   \n",
              "243                               39.395431   \n",
              "244                               19.697716   \n",
              "245                               45.650849   \n",
              "246                               45.650849   \n",
              "\n",
              "     original_shape_Maximum2DDiameterRow  \\\n",
              "0                              66.573268   \n",
              "1                              76.837491   \n",
              "2                              59.093147   \n",
              "3                              52.153619   \n",
              "4                              65.115282   \n",
              "..                                   ...   \n",
              "242                           143.178211   \n",
              "243                            48.414874   \n",
              "244                            17.204651   \n",
              "245                            41.761226   \n",
              "246                            41.761226   \n",
              "\n",
              "     original_shape_Maximum2DDiameterSlice  original_shape_Maximum3DDiameter  \\\n",
              "0                                61.188234                         72.718636   \n",
              "1                                48.332184                         99.015150   \n",
              "2                                50.000000                         59.531504   \n",
              "3                                50.159745                        158.808060   \n",
              "4                                59.363288                         70.992957   \n",
              "..                                     ...                               ...   \n",
              "242                             118.962179                        186.986630   \n",
              "243                              34.234486                         49.071377   \n",
              "244                              16.124516                         19.798990   \n",
              "245                              29.120440                         50.358713   \n",
              "246                              29.120440                         50.358713   \n",
              "\n",
              "     original_shape_MeshVolume  original_shape_MinorAxisLength  ...  \\\n",
              "0                 48863.000000                       50.212354  ...   \n",
              "1                 16849.666670                       37.305177  ...   \n",
              "2                 45073.000000                       42.563080  ...   \n",
              "3                 13973.333330                       45.407417  ...   \n",
              "4                 50277.333330                       46.025717  ...   \n",
              "..                         ...                             ...  ...   \n",
              "242              262922.000000                       76.818007  ...   \n",
              "243               13417.666670                       28.567655  ...   \n",
              "244                1428.000000                       13.514788  ...   \n",
              "245                7421.333333                       22.192352  ...   \n",
              "246                7421.333333                       22.192352  ...   \n",
              "\n",
              "     wavelet-LLL_gldm_LargeDependenceLowGrayLevelEmphasis  \\\n",
              "0                                             0.000182      \n",
              "1                                             0.000492      \n",
              "2                                             0.000242      \n",
              "3                                             0.000702      \n",
              "4                                             0.000188      \n",
              "..                                                 ...      \n",
              "242                                           0.000135      \n",
              "243                                           0.000960      \n",
              "244                                           0.005574      \n",
              "245                                           0.001249      \n",
              "246                                           0.001249      \n",
              "\n",
              "     wavelet-LLL_gldm_LowGrayLevelEmphasis  \\\n",
              "0                                 0.000175   \n",
              "1                                 0.000480   \n",
              "2                                 0.000204   \n",
              "3                                 0.000609   \n",
              "4                                 0.000179   \n",
              "..                                     ...   \n",
              "242                               0.000055   \n",
              "243                               0.000797   \n",
              "244                               0.005545   \n",
              "245                               0.001130   \n",
              "246                               0.001130   \n",
              "\n",
              "     wavelet-LLL_gldm_SmallDependenceEmphasis  \\\n",
              "0                                    0.782714   \n",
              "1                                    0.809799   \n",
              "2                                    0.607683   \n",
              "3                                    0.672628   \n",
              "4                                    0.739990   \n",
              "..                                        ...   \n",
              "242                                  0.539262   \n",
              "243                                  0.635981   \n",
              "244                                  0.855006   \n",
              "245                                  0.715150   \n",
              "246                                  0.715150   \n",
              "\n",
              "     wavelet-LLL_gldm_SmallDependenceHighGrayLevelEmphasis  \\\n",
              "0                                         188544.34720       \n",
              "1                                         185506.13380       \n",
              "2                                          51789.09974       \n",
              "3                                          16150.60173       \n",
              "4                                         152246.78220       \n",
              "..                                                 ...       \n",
              "242                                        30796.75751       \n",
              "243                                        11131.16552       \n",
              "244                                        21236.68132       \n",
              "245                                        10757.09395       \n",
              "246                                        10757.09395       \n",
              "\n",
              "     wavelet-LLL_gldm_SmallDependenceLowGrayLevelEmphasis  \\\n",
              "0                                             0.000174      \n",
              "1                                             0.000478      \n",
              "2                                             0.000200      \n",
              "3                                             0.000595      \n",
              "4                                             0.000178      \n",
              "..                                                 ...      \n",
              "242                                           0.000047      \n",
              "243                                           0.000775      \n",
              "244                                           0.005537      \n",
              "245                                           0.001110      \n",
              "246                                           0.001110      \n",
              "\n",
              "     wavelet-LLL_ngtdm_Busyness  wavelet-LLL_ngtdm_Coarseness  \\\n",
              "0                      0.001121                      0.001950   \n",
              "1                      0.000573                      0.006157   \n",
              "2                      0.003829                      0.001594   \n",
              "3                      0.008233                      0.005954   \n",
              "4                      0.001932                      0.001420   \n",
              "..                          ...                           ...   \n",
              "242                    0.018433                      0.000387   \n",
              "243                    0.007429                      0.006453   \n",
              "244                    0.003682                      0.030105   \n",
              "245                    0.007144                      0.010583   \n",
              "246                    0.007144                      0.010583   \n",
              "\n",
              "     wavelet-LLL_ngtdm_Complexity  wavelet-LLL_ngtdm_Contrast  \\\n",
              "0                    5.241414e+06                    1.329551   \n",
              "1                    3.263341e+06                    8.577655   \n",
              "2                    1.033373e+06                    1.189275   \n",
              "3                    6.759171e+04                    0.596882   \n",
              "4                    3.371136e+06                    2.314521   \n",
              "..                            ...                         ...   \n",
              "242                  5.073418e+05                    0.115637   \n",
              "243                  8.507560e+04                    0.600453   \n",
              "244                  8.491850e+04                    4.490970   \n",
              "245                  5.701539e+04                    0.849220   \n",
              "246                  5.701539e+04                    0.849220   \n",
              "\n",
              "     wavelet-LLL_ngtdm_Strength  \n",
              "0                    576.487136  \n",
              "1                   1468.964920  \n",
              "2                    158.997655  \n",
              "3                     48.462226  \n",
              "4                    364.513624  \n",
              "..                          ...  \n",
              "242                   33.076902  \n",
              "243                   51.726423  \n",
              "244                  194.650316  \n",
              "245                   56.233061  \n",
              "246                   56.233061  \n",
              "\n",
              "[247 rows x 1093 columns]"
            ],
            "text/html": [
              "\n",
              "  <div id=\"df-8bf33448-6870-4f18-a930-3611a3129df5\">\n",
              "    <div class=\"colab-df-container\">\n",
              "      <div>\n",
              "<style scoped>\n",
              "    .dataframe tbody tr th:only-of-type {\n",
              "        vertical-align: middle;\n",
              "    }\n",
              "\n",
              "    .dataframe tbody tr th {\n",
              "        vertical-align: top;\n",
              "    }\n",
              "\n",
              "    .dataframe thead th {\n",
              "        text-align: right;\n",
              "    }\n",
              "</style>\n",
              "<table border=\"1\" class=\"dataframe\">\n",
              "  <thead>\n",
              "    <tr style=\"text-align: right;\">\n",
              "      <th></th>\n",
              "      <th>original_shape_Elongation</th>\n",
              "      <th>original_shape_Flatness</th>\n",
              "      <th>original_shape_LeastAxisLength</th>\n",
              "      <th>original_shape_MajorAxisLength</th>\n",
              "      <th>original_shape_Maximum2DDiameterColumn</th>\n",
              "      <th>original_shape_Maximum2DDiameterRow</th>\n",
              "      <th>original_shape_Maximum2DDiameterSlice</th>\n",
              "      <th>original_shape_Maximum3DDiameter</th>\n",
              "      <th>original_shape_MeshVolume</th>\n",
              "      <th>original_shape_MinorAxisLength</th>\n",
              "      <th>...</th>\n",
              "      <th>wavelet-LLL_gldm_LargeDependenceLowGrayLevelEmphasis</th>\n",
              "      <th>wavelet-LLL_gldm_LowGrayLevelEmphasis</th>\n",
              "      <th>wavelet-LLL_gldm_SmallDependenceEmphasis</th>\n",
              "      <th>wavelet-LLL_gldm_SmallDependenceHighGrayLevelEmphasis</th>\n",
              "      <th>wavelet-LLL_gldm_SmallDependenceLowGrayLevelEmphasis</th>\n",
              "      <th>wavelet-LLL_ngtdm_Busyness</th>\n",
              "      <th>wavelet-LLL_ngtdm_Coarseness</th>\n",
              "      <th>wavelet-LLL_ngtdm_Complexity</th>\n",
              "      <th>wavelet-LLL_ngtdm_Contrast</th>\n",
              "      <th>wavelet-LLL_ngtdm_Strength</th>\n",
              "    </tr>\n",
              "  </thead>\n",
              "  <tbody>\n",
              "    <tr>\n",
              "      <th>0</th>\n",
              "      <td>0.898535</td>\n",
              "      <td>0.570600</td>\n",
              "      <td>31.886509</td>\n",
              "      <td>55.882450</td>\n",
              "      <td>63.529521</td>\n",
              "      <td>66.573268</td>\n",
              "      <td>61.188234</td>\n",
              "      <td>72.718636</td>\n",
              "      <td>48863.000000</td>\n",
              "      <td>50.212354</td>\n",
              "      <td>...</td>\n",
              "      <td>0.000182</td>\n",
              "      <td>0.000175</td>\n",
              "      <td>0.782714</td>\n",
              "      <td>188544.34720</td>\n",
              "      <td>0.000174</td>\n",
              "      <td>0.001121</td>\n",
              "      <td>0.001950</td>\n",
              "      <td>5.241414e+06</td>\n",
              "      <td>1.329551</td>\n",
              "      <td>576.487136</td>\n",
              "    </tr>\n",
              "    <tr>\n",
              "      <th>1</th>\n",
              "      <td>0.356341</td>\n",
              "      <td>0.293696</td>\n",
              "      <td>30.746972</td>\n",
              "      <td>104.689637</td>\n",
              "      <td>62.289646</td>\n",
              "      <td>76.837491</td>\n",
              "      <td>48.332184</td>\n",
              "      <td>99.015150</td>\n",
              "      <td>16849.666670</td>\n",
              "      <td>37.305177</td>\n",
              "      <td>...</td>\n",
              "      <td>0.000492</td>\n",
              "      <td>0.000480</td>\n",
              "      <td>0.809799</td>\n",
              "      <td>185506.13380</td>\n",
              "      <td>0.000478</td>\n",
              "      <td>0.000573</td>\n",
              "      <td>0.006157</td>\n",
              "      <td>3.263341e+06</td>\n",
              "      <td>8.577655</td>\n",
              "      <td>1468.964920</td>\n",
              "    </tr>\n",
              "    <tr>\n",
              "      <th>2</th>\n",
              "      <td>0.972992</td>\n",
              "      <td>0.838632</td>\n",
              "      <td>36.685554</td>\n",
              "      <td>43.744513</td>\n",
              "      <td>56.920998</td>\n",
              "      <td>59.093147</td>\n",
              "      <td>50.000000</td>\n",
              "      <td>59.531504</td>\n",
              "      <td>45073.000000</td>\n",
              "      <td>42.563080</td>\n",
              "      <td>...</td>\n",
              "      <td>0.000242</td>\n",
              "      <td>0.000204</td>\n",
              "      <td>0.607683</td>\n",
              "      <td>51789.09974</td>\n",
              "      <td>0.000200</td>\n",
              "      <td>0.003829</td>\n",
              "      <td>0.001594</td>\n",
              "      <td>1.033373e+06</td>\n",
              "      <td>1.189275</td>\n",
              "      <td>158.997655</td>\n",
              "    </tr>\n",
              "    <tr>\n",
              "      <th>3</th>\n",
              "      <td>0.355514</td>\n",
              "      <td>0.250921</td>\n",
              "      <td>32.048424</td>\n",
              "      <td>127.723174</td>\n",
              "      <td>92.130342</td>\n",
              "      <td>52.153619</td>\n",
              "      <td>50.159745</td>\n",
              "      <td>158.808060</td>\n",
              "      <td>13973.333330</td>\n",
              "      <td>45.407417</td>\n",
              "      <td>...</td>\n",
              "      <td>0.000702</td>\n",
              "      <td>0.000609</td>\n",
              "      <td>0.672628</td>\n",
              "      <td>16150.60173</td>\n",
              "      <td>0.000595</td>\n",
              "      <td>0.008233</td>\n",
              "      <td>0.005954</td>\n",
              "      <td>6.759171e+04</td>\n",
              "      <td>0.596882</td>\n",
              "      <td>48.462226</td>\n",
              "    </tr>\n",
              "    <tr>\n",
              "      <th>4</th>\n",
              "      <td>0.869980</td>\n",
              "      <td>0.715864</td>\n",
              "      <td>37.872296</td>\n",
              "      <td>52.904327</td>\n",
              "      <td>63.780875</td>\n",
              "      <td>65.115282</td>\n",
              "      <td>59.363288</td>\n",
              "      <td>70.992957</td>\n",
              "      <td>50277.333330</td>\n",
              "      <td>46.025717</td>\n",
              "      <td>...</td>\n",
              "      <td>0.000188</td>\n",
              "      <td>0.000179</td>\n",
              "      <td>0.739990</td>\n",
              "      <td>152246.78220</td>\n",
              "      <td>0.000178</td>\n",
              "      <td>0.001932</td>\n",
              "      <td>0.001420</td>\n",
              "      <td>3.371136e+06</td>\n",
              "      <td>2.314521</td>\n",
              "      <td>364.513624</td>\n",
              "    </tr>\n",
              "    <tr>\n",
              "      <th>...</th>\n",
              "      <td>...</td>\n",
              "      <td>...</td>\n",
              "      <td>...</td>\n",
              "      <td>...</td>\n",
              "      <td>...</td>\n",
              "      <td>...</td>\n",
              "      <td>...</td>\n",
              "      <td>...</td>\n",
              "      <td>...</td>\n",
              "      <td>...</td>\n",
              "      <td>...</td>\n",
              "      <td>...</td>\n",
              "      <td>...</td>\n",
              "      <td>...</td>\n",
              "      <td>...</td>\n",
              "      <td>...</td>\n",
              "      <td>...</td>\n",
              "      <td>...</td>\n",
              "      <td>...</td>\n",
              "      <td>...</td>\n",
              "      <td>...</td>\n",
              "    </tr>\n",
              "    <tr>\n",
              "      <th>242</th>\n",
              "      <td>0.613950</td>\n",
              "      <td>0.536166</td>\n",
              "      <td>67.085543</td>\n",
              "      <td>125.120921</td>\n",
              "      <td>151.433154</td>\n",
              "      <td>143.178211</td>\n",
              "      <td>118.962179</td>\n",
              "      <td>186.986630</td>\n",
              "      <td>262922.000000</td>\n",
              "      <td>76.818007</td>\n",
              "      <td>...</td>\n",
              "      <td>0.000135</td>\n",
              "      <td>0.000055</td>\n",
              "      <td>0.539262</td>\n",
              "      <td>30796.75751</td>\n",
              "      <td>0.000047</td>\n",
              "      <td>0.018433</td>\n",
              "      <td>0.000387</td>\n",
              "      <td>5.073418e+05</td>\n",
              "      <td>0.115637</td>\n",
              "      <td>33.076902</td>\n",
              "    </tr>\n",
              "    <tr>\n",
              "      <th>243</th>\n",
              "      <td>0.706267</td>\n",
              "      <td>0.473298</td>\n",
              "      <td>19.144342</td>\n",
              "      <td>40.448808</td>\n",
              "      <td>39.395431</td>\n",
              "      <td>48.414874</td>\n",
              "      <td>34.234486</td>\n",
              "      <td>49.071377</td>\n",
              "      <td>13417.666670</td>\n",
              "      <td>28.567655</td>\n",
              "      <td>...</td>\n",
              "      <td>0.000960</td>\n",
              "      <td>0.000797</td>\n",
              "      <td>0.635981</td>\n",
              "      <td>11131.16552</td>\n",
              "      <td>0.000775</td>\n",
              "      <td>0.007429</td>\n",
              "      <td>0.006453</td>\n",
              "      <td>8.507560e+04</td>\n",
              "      <td>0.600453</td>\n",
              "      <td>51.726423</td>\n",
              "    </tr>\n",
              "    <tr>\n",
              "      <th>244</th>\n",
              "      <td>0.832425</td>\n",
              "      <td>0.624674</td>\n",
              "      <td>10.141866</td>\n",
              "      <td>16.235443</td>\n",
              "      <td>19.697716</td>\n",
              "      <td>17.204651</td>\n",
              "      <td>16.124516</td>\n",
              "      <td>19.798990</td>\n",
              "      <td>1428.000000</td>\n",
              "      <td>13.514788</td>\n",
              "      <td>...</td>\n",
              "      <td>0.005574</td>\n",
              "      <td>0.005545</td>\n",
              "      <td>0.855006</td>\n",
              "      <td>21236.68132</td>\n",
              "      <td>0.005537</td>\n",
              "      <td>0.003682</td>\n",
              "      <td>0.030105</td>\n",
              "      <td>8.491850e+04</td>\n",
              "      <td>4.490970</td>\n",
              "      <td>194.650316</td>\n",
              "    </tr>\n",
              "    <tr>\n",
              "      <th>245</th>\n",
              "      <td>0.505327</td>\n",
              "      <td>0.335579</td>\n",
              "      <td>14.737564</td>\n",
              "      <td>43.916805</td>\n",
              "      <td>45.650849</td>\n",
              "      <td>41.761226</td>\n",
              "      <td>29.120440</td>\n",
              "      <td>50.358713</td>\n",
              "      <td>7421.333333</td>\n",
              "      <td>22.192352</td>\n",
              "      <td>...</td>\n",
              "      <td>0.001249</td>\n",
              "      <td>0.001130</td>\n",
              "      <td>0.715150</td>\n",
              "      <td>10757.09395</td>\n",
              "      <td>0.001110</td>\n",
              "      <td>0.007144</td>\n",
              "      <td>0.010583</td>\n",
              "      <td>5.701539e+04</td>\n",
              "      <td>0.849220</td>\n",
              "      <td>56.233061</td>\n",
              "    </tr>\n",
              "    <tr>\n",
              "      <th>246</th>\n",
              "      <td>0.505327</td>\n",
              "      <td>0.335579</td>\n",
              "      <td>14.737564</td>\n",
              "      <td>43.916805</td>\n",
              "      <td>45.650849</td>\n",
              "      <td>41.761226</td>\n",
              "      <td>29.120440</td>\n",
              "      <td>50.358713</td>\n",
              "      <td>7421.333333</td>\n",
              "      <td>22.192352</td>\n",
              "      <td>...</td>\n",
              "      <td>0.001249</td>\n",
              "      <td>0.001130</td>\n",
              "      <td>0.715150</td>\n",
              "      <td>10757.09395</td>\n",
              "      <td>0.001110</td>\n",
              "      <td>0.007144</td>\n",
              "      <td>0.010583</td>\n",
              "      <td>5.701539e+04</td>\n",
              "      <td>0.849220</td>\n",
              "      <td>56.233061</td>\n",
              "    </tr>\n",
              "  </tbody>\n",
              "</table>\n",
              "<p>247 rows × 1093 columns</p>\n",
              "</div>\n",
              "      <button class=\"colab-df-convert\" onclick=\"convertToInteractive('df-8bf33448-6870-4f18-a930-3611a3129df5')\"\n",
              "              title=\"Convert this dataframe to an interactive table.\"\n",
              "              style=\"display:none;\">\n",
              "        \n",
              "  <svg xmlns=\"http://www.w3.org/2000/svg\" height=\"24px\"viewBox=\"0 0 24 24\"\n",
              "       width=\"24px\">\n",
              "    <path d=\"M0 0h24v24H0V0z\" fill=\"none\"/>\n",
              "    <path d=\"M18.56 5.44l.94 2.06.94-2.06 2.06-.94-2.06-.94-.94-2.06-.94 2.06-2.06.94zm-11 1L8.5 8.5l.94-2.06 2.06-.94-2.06-.94L8.5 2.5l-.94 2.06-2.06.94zm10 10l.94 2.06.94-2.06 2.06-.94-2.06-.94-.94-2.06-.94 2.06-2.06.94z\"/><path d=\"M17.41 7.96l-1.37-1.37c-.4-.4-.92-.59-1.43-.59-.52 0-1.04.2-1.43.59L10.3 9.45l-7.72 7.72c-.78.78-.78 2.05 0 2.83L4 21.41c.39.39.9.59 1.41.59.51 0 1.02-.2 1.41-.59l7.78-7.78 2.81-2.81c.8-.78.8-2.07 0-2.86zM5.41 20L4 18.59l7.72-7.72 1.47 1.35L5.41 20z\"/>\n",
              "  </svg>\n",
              "      </button>\n",
              "      \n",
              "  <style>\n",
              "    .colab-df-container {\n",
              "      display:flex;\n",
              "      flex-wrap:wrap;\n",
              "      gap: 12px;\n",
              "    }\n",
              "\n",
              "    .colab-df-convert {\n",
              "      background-color: #E8F0FE;\n",
              "      border: none;\n",
              "      border-radius: 50%;\n",
              "      cursor: pointer;\n",
              "      display: none;\n",
              "      fill: #1967D2;\n",
              "      height: 32px;\n",
              "      padding: 0 0 0 0;\n",
              "      width: 32px;\n",
              "    }\n",
              "\n",
              "    .colab-df-convert:hover {\n",
              "      background-color: #E2EBFA;\n",
              "      box-shadow: 0px 1px 2px rgba(60, 64, 67, 0.3), 0px 1px 3px 1px rgba(60, 64, 67, 0.15);\n",
              "      fill: #174EA6;\n",
              "    }\n",
              "\n",
              "    [theme=dark] .colab-df-convert {\n",
              "      background-color: #3B4455;\n",
              "      fill: #D2E3FC;\n",
              "    }\n",
              "\n",
              "    [theme=dark] .colab-df-convert:hover {\n",
              "      background-color: #434B5C;\n",
              "      box-shadow: 0px 1px 3px 1px rgba(0, 0, 0, 0.15);\n",
              "      filter: drop-shadow(0px 1px 2px rgba(0, 0, 0, 0.3));\n",
              "      fill: #FFFFFF;\n",
              "    }\n",
              "  </style>\n",
              "\n",
              "      <script>\n",
              "        const buttonEl =\n",
              "          document.querySelector('#df-8bf33448-6870-4f18-a930-3611a3129df5 button.colab-df-convert');\n",
              "        buttonEl.style.display =\n",
              "          google.colab.kernel.accessAllowed ? 'block' : 'none';\n",
              "\n",
              "        async function convertToInteractive(key) {\n",
              "          const element = document.querySelector('#df-8bf33448-6870-4f18-a930-3611a3129df5');\n",
              "          const dataTable =\n",
              "            await google.colab.kernel.invokeFunction('convertToInteractive',\n",
              "                                                     [key], {});\n",
              "          if (!dataTable) return;\n",
              "\n",
              "          const docLinkHtml = 'Like what you see? Visit the ' +\n",
              "            '<a target=\"_blank\" href=https://colab.research.google.com/notebooks/data_table.ipynb>data table notebook</a>'\n",
              "            + ' to learn more about interactive tables.';\n",
              "          element.innerHTML = '';\n",
              "          dataTable['output_type'] = 'display_data';\n",
              "          await google.colab.output.renderOutput(dataTable, element);\n",
              "          const docLink = document.createElement('div');\n",
              "          docLink.innerHTML = docLinkHtml;\n",
              "          element.appendChild(docLink);\n",
              "        }\n",
              "      </script>\n",
              "    </div>\n",
              "  </div>\n",
              "  "
            ]
          },
          "metadata": {},
          "execution_count": 21
        }
      ]
    },
    {
      "cell_type": "code",
      "source": [
        "df2 = pd.DataFrame(data_X)  "
      ],
      "metadata": {
        "id": "AQmLs5oZZBJX"
      },
      "execution_count": 22,
      "outputs": []
    },
    {
      "cell_type": "code",
      "source": [
        "df2.to_csv(r'my_data.csv', index=False)"
      ],
      "metadata": {
        "id": "inC1c6myZ658"
      },
      "execution_count": 23,
      "outputs": []
    },
    {
      "cell_type": "code",
      "source": [
        "from sklearn.model_selection import train_test_split\n",
        "X_train, X_test,y_train, y_test = train_test_split(data_X, data_y_trans, train_size = 0.7)"
      ],
      "metadata": {
        "id": "mrdZHJ0WOGAW"
      },
      "execution_count": 24,
      "outputs": []
    },
    {
      "cell_type": "code",
      "source": [
        "from sklearn.preprocessing import StandardScaler \n",
        "ss = StandardScaler()\n",
        "X_train_std = ss.fit_transform(X_train)\n",
        "X_test_std = ss.fit_transform(X_test)"
      ],
      "metadata": {
        "id": "ZaY6hGTXcDt4"
      },
      "execution_count": 25,
      "outputs": []
    },
    {
      "cell_type": "markdown",
      "source": [
        "FEATURE SELECTION"
      ],
      "metadata": {
        "id": "IaBRVekPmMZi"
      }
    },
    {
      "cell_type": "markdown",
      "source": [
        "Recursive Feature Elimination (RFE)"
      ],
      "metadata": {
        "id": "7MVwVLWwWG_z"
      }
    },
    {
      "cell_type": "code",
      "source": [
        "import pandas as pd\n",
        "import numpy as np\n",
        "import matplotlib.pyplot as plt\n",
        "import seaborn as sns\n",
        "%matplotlib inline\n",
        "from sklearn import datasets\n",
        "from sklearn.model_selection import train_test_split\n",
        "from sklearn.linear_model import LinearRegression"
      ],
      "metadata": {
        "id": "wYaFHU2XKmph"
      },
      "execution_count": 39,
      "outputs": []
    },
    {
      "cell_type": "code",
      "source": [
        "from sklearn.feature_selection import RFE\n",
        "from sklearn.feature_selection import RFECV\n",
        "\n",
        "lin_reg=LinearRegression()\n",
        "\n",
        "rfe_mod=RFE(lin_reg)\n",
        "myvalues=rfe_mod.fit(data_X, data_y_trans)\n",
        "myvalues.support_\n",
        "myvalues.ranking_\n",
        "\n",
        "\n",
        "print(\"Num of features: %s\"%(myvalues.n_features_))\n",
        "print(\"Selected features:%s\"%(myvalues.support_))\n",
        "print(\"Feature Ranking :%s\"%(myvalues.ranking_))"
      ],
      "metadata": {
        "id": "302df53wKnSm",
        "outputId": "3d46b92b-0cd3-454c-c932-7ce0486c387b",
        "colab": {
          "base_uri": "https://localhost:8080/"
        }
      },
      "execution_count": 41,
      "outputs": [
        {
          "output_type": "stream",
          "name": "stdout",
          "text": [
            "Num of features: 546\n",
            "Selected features:[ True False  True ... False  True  True]\n",
            "Feature Ranking :[  1 353   1 ... 192   1   1]\n"
          ]
        }
      ]
    },
    {
      "cell_type": "code",
      "source": [
        "myvalues.n_features_"
      ],
      "metadata": {
        "id": "uFMjOMhQLa-o",
        "outputId": "09bc9b5e-cf74-444b-e4b4-782bfde9b758",
        "colab": {
          "base_uri": "https://localhost:8080/"
        }
      },
      "execution_count": 50,
      "outputs": [
        {
          "output_type": "execute_result",
          "data": {
            "text/plain": [
              "546"
            ]
          },
          "metadata": {},
          "execution_count": 50
        }
      ]
    },
    {
      "cell_type": "code",
      "source": [],
      "metadata": {
        "id": "Y-GHJ-GTL3b0"
      },
      "execution_count": null,
      "outputs": []
    },
    {
      "cell_type": "code",
      "source": [
        "feature_importance_std = pd.Series(myvalues.ranking_, index=data_X.columns)\n",
        "feature_importance_std.nlargest(20).plot(kind='bar', title='Standardised Dataset Feature Selection using Recursive Feature Elimination')"
      ],
      "metadata": {
        "id": "Z8ty4qs584ae",
        "outputId": "04dc89f5-e860-4154-8714-6885a14a6ba0",
        "colab": {
          "base_uri": "https://localhost:8080/",
          "height": 597
        }
      },
      "execution_count": 58,
      "outputs": [
        {
          "output_type": "execute_result",
          "data": {
            "text/plain": [
              "<matplotlib.axes._subplots.AxesSubplot at 0x7f0cca2ec6a0>"
            ]
          },
          "metadata": {},
          "execution_count": 58
        },
        {
          "output_type": "display_data",
          "data": {
            "text/plain": [
              "<Figure size 432x288 with 1 Axes>"
            ],
            "image/png": "[encoded data removed]"
          },
          "metadata": {
            "needs_background": "light"
          }
        }
      ]
    },
    {
      "cell_type": "code",
      "source": [
        "feature_importance_std.nlargest(20)"
      ],
      "metadata": {
        "id": "W1S-8tQuMmfc",
        "outputId": "d06b0937-5eeb-4b4b-a300-e53be1902f44",
        "colab": {
          "base_uri": "https://localhost:8080/"
        }
      },
      "execution_count": 59,
      "outputs": [
        {
          "output_type": "execute_result",
          "data": {
            "text/plain": [
              "original_glcm_ClusterProminence                         548\n",
              "original_glcm_JointEnergy                               547\n",
              "wavelet-LLL_gldm_LargeDependenceLowGrayLevelEmphasis    546\n",
              "original_glcm_Imc2                                      545\n",
              "wavelet-LLL_glszm_LowGrayLevelZoneEmphasis              544\n",
              "original_glcm_InverseVariance                           543\n",
              "wavelet-LLL_glszm_SmallAreaLowGrayLevelEmphasis         542\n",
              "wavelet-LHL_glrlm_LongRunLowGrayLevelEmphasis           541\n",
              "log-sigma-3-0-mm-3D_glcm_InverseVariance                540\n",
              "wavelet-LLL_glszm_LargeAreaLowGrayLevelEmphasis         539\n",
              "wavelet-LLL_glrlm_RunVariance                           538\n",
              "wavelet-LLL_glcm_JointEnergy                            537\n",
              "wavelet-HHH_gldm_SmallDependenceLowGrayLevelEmphasis    536\n",
              "wavelet-LHH_glszm_SmallAreaLowGrayLevelEmphasis         535\n",
              "original_glszm_LowGrayLevelZoneEmphasis                 534\n",
              "original_glszm_SmallAreaLowGrayLevelEmphasis            533\n",
              "original_glszm_LargeAreaLowGrayLevelEmphasis            532\n",
              "original_glrlm_ShortRunLowGrayLevelEmphasis             531\n",
              "original_glrlm_LowGrayLevelRunEmphasis                  530\n",
              "original_glrlm_LongRunLowGrayLevelEmphasis              529\n",
              "dtype: int64"
            ]
          },
          "metadata": {},
          "execution_count": 59
        }
      ]
    },
    {
      "cell_type": "code",
      "source": [
        "data_new_20features_X = data_X[['original_glcm_ClusterProminence',\n",
        "'original_glcm_JointEnergy',\n",
        "'wavelet-LLL_gldm_LargeDependenceLowGrayLevelEmphasis',\n",
        "'original_glcm_Imc2',\n",
        "'wavelet-LLL_glszm_LowGrayLevelZoneEmphasis',\n",
        "'original_glcm_InverseVariance',\n",
        "'wavelet-LLL_glszm_SmallAreaLowGrayLevelEmphasis',\n",
        "'wavelet-LHL_glrlm_LongRunLowGrayLevelEmphasis',\n",
        "'log-sigma-3-0-mm-3D_glcm_InverseVariance',\n",
        "'wavelet-LLL_glszm_LargeAreaLowGrayLevelEmphasis',\n",
        "'wavelet-LLL_glrlm_RunVariance',\n",
        "'wavelet-LLL_glcm_JointEnergy',\n",
        "'wavelet-HHH_gldm_SmallDependenceLowGrayLevelEmphasis',\n",
        "'wavelet-LHH_glszm_SmallAreaLowGrayLevelEmphasis',\n",
        "'original_glszm_LowGrayLevelZoneEmphasis',\n",
        "'original_glszm_SmallAreaLowGrayLevelEmphasis',\n",
        "'original_glszm_LargeAreaLowGrayLevelEmphasis',\n",
        "'original_glrlm_ShortRunLowGrayLevelEmphasis',\n",
        "'original_glrlm_LowGrayLevelRunEmphasis',\n",
        "'original_glrlm_LongRunLowGrayLevelEmphasis']]"
      ],
      "metadata": {
        "id": "97C-CtzKRfFe"
      },
      "execution_count": 60,
      "outputs": []
    },
    {
      "cell_type": "code",
      "source": [
        "from sklearn.model_selection import train_test_split\n",
        "X_train_20, X_test_20, y_train_20, y_test_20 = train_test_split(data_new_20features_X, data_y_trans, train_size = 0.8, random_state=26)"
      ],
      "metadata": {
        "id": "gyDp8nmb9YO5"
      },
      "execution_count": 61,
      "outputs": []
    },
    {
      "cell_type": "code",
      "source": [
        "from sklearn.preprocessing import StandardScaler \n",
        "ss_20 = StandardScaler()\n",
        "X_train_std_20 = ss_20.fit_transform(X_train_20)\n",
        "X_test_std_20 = ss_20.fit_transform(X_test_20)"
      ],
      "metadata": {
        "id": "XR8nf1hpeMYN"
      },
      "execution_count": 62,
      "outputs": []
    },
    {
      "cell_type": "markdown",
      "source": [
        "Random forest"
      ],
      "metadata": {
        "id": "VGYijZvKeZSN"
      }
    },
    {
      "cell_type": "code",
      "source": [
        "from sklearn.ensemble import RandomForestClassifier\n",
        "rf = RandomForestClassifier(random_state=56)\n",
        "rf.fit(X_train_std_20, y_train_20)"
      ],
      "metadata": {
        "id": "M0Nu1SSleghf",
        "outputId": "212a3719-be66-40d5-856c-f9f610f79978",
        "colab": {
          "base_uri": "https://localhost:8080/"
        }
      },
      "execution_count": 63,
      "outputs": [
        {
          "output_type": "execute_result",
          "data": {
            "text/plain": [
              "RandomForestClassifier(random_state=56)"
            ]
          },
          "metadata": {},
          "execution_count": 63
        }
      ]
    },
    {
      "cell_type": "code",
      "source": [
        "rf_y_pred = rf.predict(X_test_std_20)"
      ],
      "metadata": {
        "id": "H4tDkDLkfbO8"
      },
      "execution_count": 64,
      "outputs": []
    },
    {
      "cell_type": "code",
      "source": [
        "from sklearn.metrics import accuracy_score "
      ],
      "metadata": {
        "id": "t7cAA8_wfi0W"
      },
      "execution_count": 65,
      "outputs": []
    },
    {
      "cell_type": "code",
      "source": [
        "acc_score = accuracy_score(y_test_20, rf_y_pred)\n",
        "print(\"Accuracy Score for Random_Forest: \\n\", acc_score*100)"
      ],
      "metadata": {
        "id": "N10OwgYmfRWa",
        "outputId": "4ace3c9d-fd07-40e1-e74a-0f3782ce522f",
        "colab": {
          "base_uri": "https://localhost:8080/"
        }
      },
      "execution_count": 66,
      "outputs": [
        {
          "output_type": "stream",
          "name": "stdout",
          "text": [
            "Accuracy Score for Random_Forest: \n",
            " 44.0\n"
          ]
        }
      ]
    },
    {
      "cell_type": "code",
      "source": [
        "from sklearn.metrics import classification_report \n",
        "from sklearn.metrics import confusion_matrix"
      ],
      "metadata": {
        "id": "y3NdR-gff1Mr"
      },
      "execution_count": 67,
      "outputs": []
    },
    {
      "cell_type": "code",
      "source": [
        "print(\"Classification Report for Random Forest: \\n\", classification_report(y_test_20,rf_y_pred))"
      ],
      "metadata": {
        "colab": {
          "base_uri": "https://localhost:8080/"
        },
        "id": "26XEsYg5f176",
        "outputId": "5decc2cf-ce37-4a83-ce7c-0e7dc643c62d"
      },
      "execution_count": 68,
      "outputs": [
        {
          "output_type": "stream",
          "name": "stdout",
          "text": [
            "Classification Report for Random Forest: \n",
            "               precision    recall  f1-score   support\n",
            "\n",
            "           0       0.35      0.46      0.40        13\n",
            "           1       0.47      0.47      0.47        19\n",
            "           2       0.00      0.00      0.00         4\n",
            "           3       0.50      0.50      0.50        14\n",
            "\n",
            "    accuracy                           0.44        50\n",
            "   macro avg       0.33      0.36      0.34        50\n",
            "weighted avg       0.41      0.44      0.42        50\n",
            "\n"
          ]
        },
        {
          "output_type": "stream",
          "name": "stderr",
          "text": [
            "/usr/local/lib/python3.8/dist-packages/sklearn/metrics/_classification.py:1318: UndefinedMetricWarning: Precision and F-score are ill-defined and being set to 0.0 in labels with no predicted samples. Use `zero_division` parameter to control this behavior.\n",
            "  _warn_prf(average, modifier, msg_start, len(result))\n",
            "/usr/local/lib/python3.8/dist-packages/sklearn/metrics/_classification.py:1318: UndefinedMetricWarning: Precision and F-score are ill-defined and being set to 0.0 in labels with no predicted samples. Use `zero_division` parameter to control this behavior.\n",
            "  _warn_prf(average, modifier, msg_start, len(result))\n",
            "/usr/local/lib/python3.8/dist-packages/sklearn/metrics/_classification.py:1318: UndefinedMetricWarning: Precision and F-score are ill-defined and being set to 0.0 in labels with no predicted samples. Use `zero_division` parameter to control this behavior.\n",
            "  _warn_prf(average, modifier, msg_start, len(result))\n"
          ]
        }
      ]
    },
    {
      "cell_type": "code",
      "source": [
        "rf_conf_mat = confusion_matrix(y_test_20, rf_y_pred)\n",
        "print(\"Random Forest Confusion: \\n\", rf_conf_mat)"
      ],
      "metadata": {
        "colab": {
          "base_uri": "https://localhost:8080/"
        },
        "id": "-wIZOH0sf31S",
        "outputId": "30f34e9d-1802-4343-8cb4-891aa1df99ed"
      },
      "execution_count": 69,
      "outputs": [
        {
          "output_type": "stream",
          "name": "stdout",
          "text": [
            "Random Forest Confusion: \n",
            " [[6 4 0 3]\n",
            " [7 9 0 3]\n",
            " [1 2 0 1]\n",
            " [3 4 0 7]]\n"
          ]
        }
      ]
    },
    {
      "cell_type": "markdown",
      "source": [
        "CROSS VALIDATION"
      ],
      "metadata": {
        "id": "-4p0sfQBeQST"
      }
    },
    {
      "cell_type": "code",
      "source": [
        "from sklearn.model_selection import KFold"
      ],
      "metadata": {
        "id": "eFXFqqLqbP4l"
      },
      "execution_count": 70,
      "outputs": []
    },
    {
      "cell_type": "code",
      "source": [
        "from sklearn.model_selection import cross_val_score"
      ],
      "metadata": {
        "id": "_AQ7VAZrbyhW"
      },
      "execution_count": 71,
      "outputs": []
    },
    {
      "cell_type": "code",
      "source": [
        "from sklearn.model_selection import cross_validate"
      ],
      "metadata": {
        "id": "gcRG9YczcJFL"
      },
      "execution_count": 72,
      "outputs": []
    },
    {
      "cell_type": "code",
      "source": [
        "from sklearn.model_selection import KFold\n",
        "kfold_validation=KFold(10)\n",
        "import numpy as np\n",
        "from sklearn.model_selection import cross_val_score\n",
        "results=cross_val_score(rf,data_new_20features_X, data_y_trans,cv=kfold_validation)\n",
        "print(results)\n",
        "print(np.mean(results))\n",
        "     "
      ],
      "metadata": {
        "id": "pDpfWSweduhU",
        "colab": {
          "base_uri": "https://localhost:8080/"
        },
        "outputId": "24064453-9167-4a2d-9357-3f1fb90f4078"
      },
      "execution_count": 73,
      "outputs": [
        {
          "output_type": "stream",
          "name": "stdout",
          "text": [
            "[0.84       0.76       0.8        0.8        0.96       0.88\n",
            " 0.4        0.79166667 0.75       0.83333333]\n",
            "0.7815\n"
          ]
        }
      ]
    },
    {
      "cell_type": "code",
      "source": [
        "from sklearn.model_selection import cross_val_predict\n",
        "from sklearn.metrics import confusion_matrix\n",
        "y_pred = cross_val_predict(rf, data_new_20features_X, data_y_trans, cv=10)\n",
        "conf_mat = confusion_matrix(data_y_trans, y_pred)"
      ],
      "metadata": {
        "id": "Az3aC-99g-4S"
      },
      "execution_count": 85,
      "outputs": []
    },
    {
      "cell_type": "code",
      "source": [
        "print(conf_mat)"
      ],
      "metadata": {
        "id": "B6lEba_vhyka",
        "colab": {
          "base_uri": "https://localhost:8080/"
        },
        "outputId": "4f2200c3-2d7e-41f6-9933-3658438dcbbe"
      },
      "execution_count": 86,
      "outputs": [
        {
          "output_type": "stream",
          "name": "stdout",
          "text": [
            "[[62  5  0  4]\n",
            " [ 2 76  0  5]\n",
            " [ 1  0 20  2]\n",
            " [ 3  2  0 65]]\n"
          ]
        }
      ]
    },
    {
      "cell_type": "code",
      "source": [
        "print(\"Classification Report for Random Forest: \\n\", classification_report(data_y_trans,y_pred))"
      ],
      "metadata": {
        "id": "Ue3TuN23heeL",
        "colab": {
          "base_uri": "https://localhost:8080/"
        },
        "outputId": "c66b492d-5ee8-4ba1-a7c6-2162dbc0eb2d"
      },
      "execution_count": 87,
      "outputs": [
        {
          "output_type": "stream",
          "name": "stdout",
          "text": [
            "Classification Report for Random Forest: \n",
            "               precision    recall  f1-score   support\n",
            "\n",
            "           0       0.91      0.87      0.89        71\n",
            "           1       0.92      0.92      0.92        83\n",
            "           2       1.00      0.87      0.93        23\n",
            "           3       0.86      0.93      0.89        70\n",
            "\n",
            "    accuracy                           0.90       247\n",
            "   macro avg       0.92      0.90      0.91       247\n",
            "weighted avg       0.91      0.90      0.90       247\n",
            "\n"
          ]
        }
      ]
    },
    {
      "cell_type": "code",
      "source": [
        "from sklearn.metrics import roc_curve, auc\n",
        "from sklearn.metrics import roc_auc_score"
      ],
      "metadata": {
        "id": "oANjtZ8xkPuS"
      },
      "execution_count": 88,
      "outputs": []
    },
    {
      "cell_type": "code",
      "source": [
        "from sklearn.preprocessing import label_binarize\n",
        "y_bin = label_binarize(data_y_trans, classes=[0, 1, 2,3])\n",
        "from itertools import cycle\n",
        "lw=2"
      ],
      "metadata": {
        "id": "Cnh804PzkT_S"
      },
      "execution_count": 89,
      "outputs": []
    },
    {
      "cell_type": "code",
      "source": [
        "import matplotlib.pyplot as plt"
      ],
      "metadata": {
        "id": "PnJqrF75k8Lc"
      },
      "execution_count": 90,
      "outputs": []
    },
    {
      "cell_type": "code",
      "source": [
        "y_score = cross_val_predict(rf, data_new_20features_X, data_y_trans, cv=2 ,method='predict_proba')\n",
        "\n",
        "fpr = dict()\n",
        "tpr = dict()\n",
        "roc_auc = dict()\n",
        "for i in range(4):\n",
        "    fpr[i], tpr[i], _ = roc_curve(y_bin[:, i], y_score[:, i])\n",
        "    roc_auc[i] = auc(fpr[i], tpr[i])\n",
        "colors = cycle(['blue', 'red', 'green','magenta'])\n",
        "list_class = ['squamous','largecell','others','adeno']\n",
        "for i, color in zip(range(4), colors):\n",
        "    plt.plot(fpr[i], tpr[i], color=color, lw=lw,\n",
        "             label='ROC curve of class {0} (area = {1:0.2f})'\n",
        "             ''.format(list_class[i], roc_auc[i]))\n",
        "plt.plot([0, 1], [0, 1], 'k--', lw=lw)\n",
        "plt.xlim([-0.05, 1.0])\n",
        "plt.ylim([0.0, 1.05])\n",
        "plt.xlabel('False Positive Rate')\n",
        "plt.ylabel('True Positive Rate')\n",
        "# plt.title('Receiver operating characteristic for multi-class data')\n",
        "plt.legend(loc=\"lower right\")\n",
        "plt.show()"
      ],
      "metadata": {
        "id": "UQ_fJuwOkc_h",
        "colab": {
          "base_uri": "https://localhost:8080/",
          "height": 279
        },
        "outputId": "32cc8f6a-588d-4867-b7a6-0da401ab2bb3"
      },
      "execution_count": 91,
      "outputs": [
        {
          "output_type": "display_data",
          "data": {
            "text/plain": [
              "<Figure size 432x288 with 1 Axes>"
            ],
            "image/png": "[encoded data removed]"
          },
          "metadata": {
            "needs_background": "light"
          }
        }
      ]
    },
    {
      "cell_type": "markdown",
      "source": [
        "svm"
      ],
      "metadata": {
        "id": "lZo3iGbemIDI"
      }
    },
    {
      "cell_type": "code",
      "source": [
        "from sklearn.svm import SVC\n",
        "\n",
        "svm_rbf = SVC(gamma=4, C=1)"
      ],
      "metadata": {
        "id": "YFjVZ8Qjl1ga"
      },
      "execution_count": 137,
      "outputs": []
    },
    {
      "cell_type": "code",
      "source": [
        "from sklearn.model_selection import cross_val_predict\n",
        "from sklearn.metrics import confusion_matrix\n",
        "y_pred = cross_val_predict(svm_rbf, data_new_20features_X, data_y_trans, cv=10)\n",
        "conf_mat = confusion_matrix(data_y_trans, y_pred)"
      ],
      "metadata": {
        "id": "vrd-YEMPmHBy"
      },
      "execution_count": 138,
      "outputs": []
    },
    {
      "cell_type": "code",
      "source": [
        "print(\"Classification Report for Random Forest: \\n\", classification_report(data_y_trans,y_pred))"
      ],
      "metadata": {
        "id": "AYePNR5TmUVs",
        "colab": {
          "base_uri": "https://localhost:8080/"
        },
        "outputId": "ad80585f-0fd4-4cef-b9f3-77b964a60b7e"
      },
      "execution_count": 139,
      "outputs": [
        {
          "output_type": "stream",
          "name": "stdout",
          "text": [
            "Classification Report for Random Forest: \n",
            "               precision    recall  f1-score   support\n",
            "\n",
            "           0       0.83      0.80      0.81        71\n",
            "           1       0.76      0.90      0.82        83\n",
            "           2       1.00      0.87      0.93        23\n",
            "           3       1.00      0.84      0.91        70\n",
            "\n",
            "    accuracy                           0.85       247\n",
            "   macro avg       0.90      0.85      0.87       247\n",
            "weighted avg       0.87      0.85      0.86       247\n",
            "\n"
          ]
        }
      ]
    },
    {
      "cell_type": "markdown",
      "source": [
        "knn"
      ],
      "metadata": {
        "id": "-srW6xmfmngj"
      }
    },
    {
      "cell_type": "code",
      "source": [
        "from sklearn.neighbors import KNeighborsClassifier\n",
        "\n",
        "knn = KNeighborsClassifier(3) "
      ],
      "metadata": {
        "id": "BwF9mvFpmXLV"
      },
      "execution_count": 95,
      "outputs": []
    },
    {
      "cell_type": "code",
      "source": [
        "from sklearn.model_selection import cross_val_predict\n",
        "from sklearn.metrics import confusion_matrix\n",
        "y_pred = cross_val_predict(knn, data_new_20features_X, data_y_trans, cv=10)\n",
        "conf_mat = confusion_matrix(data_y_trans, y_pred)"
      ],
      "metadata": {
        "id": "CIe3uu01mihJ"
      },
      "execution_count": 132,
      "outputs": []
    },
    {
      "cell_type": "code",
      "source": [
        "print(\"Classification Report for knn: \\n\", classification_report(data_y_trans,y_pred))"
      ],
      "metadata": {
        "id": "Jc8xPKsdmmKx",
        "colab": {
          "base_uri": "https://localhost:8080/"
        },
        "outputId": "5e8e443b-8b72-450f-a0bc-ad207e9bb86f"
      },
      "execution_count": 133,
      "outputs": [
        {
          "output_type": "stream",
          "name": "stdout",
          "text": [
            "Classification Report for knn: \n",
            "               precision    recall  f1-score   support\n",
            "\n",
            "           0       0.77      0.75      0.76        71\n",
            "           1       0.68      0.72      0.70        83\n",
            "           2       0.63      0.52      0.57        23\n",
            "           3       0.65      0.66      0.65        70\n",
            "\n",
            "    accuracy                           0.69       247\n",
            "   macro avg       0.68      0.66      0.67       247\n",
            "weighted avg       0.69      0.69      0.69       247\n",
            "\n"
          ]
        }
      ]
    },
    {
      "cell_type": "markdown",
      "source": [
        "ROC Curve"
      ],
      "metadata": {
        "id": "CaVzfwfQiHfT"
      }
    },
    {
      "cell_type": "code",
      "source": [
        "def RoC_Curve(classifier, X_val, y_val, title): \n",
        "        \"\"\" RoC Curve for Classifier \n",
        "        Parameters: \n",
        "        ------------\n",
        "        classifier: Machine Learning Classifier to be Evaluated\n",
        "        X_val: Validation Dataset\n",
        "        y_val: Label/Target of Validation Dataset\n",
        "\n",
        "        Attributes:\n",
        "        Plots the Graph    \n",
        "        \n",
        "        Note: Some part of this Method code is taken \n",
        "            from Sklearn Website\n",
        "        \"\"\"\n",
        "\n",
        "        lw = 2\n",
        "        n_classes = 3\n",
        "        y_test1 = to_categorical(y_val)\n",
        "        pred_RFC_proba = classifier.predict_proba(X_val)\n",
        "        y_score = pred_RFC_proba\n",
        "\n",
        "        # Compute ROC curve and ROC area for each class\n",
        "        fpr = dict()\n",
        "        tpr = dict()\n",
        "        roc_auc = dict()\n",
        "        for i in range(n_classes):\n",
        "            fpr[i], tpr[i], _ = roc_curve(y_test1[:, i], y_score[:, i])\n",
        "            roc_auc[i] = auc(fpr[i], tpr[i])\n",
        "\n",
        "        # Compute micro-average ROC curve and ROC area\n",
        "        fpr[\"micro\"], tpr[\"micro\"], _ = roc_curve(y_test1.ravel(), y_score.ravel())\n",
        "        roc_auc[\"micro\"] = auc(fpr[\"micro\"], tpr[\"micro\"])\n",
        "\n",
        "        # First aggregate all false positive rates\n",
        "        all_fpr = np.unique(np.concatenate([fpr[i] for i in range(n_classes)]))\n",
        "\n",
        "        # Then interpolate all ROC curves at this points\n",
        "        mean_tpr = np.zeros_like(all_fpr)\n",
        "        for i in range(n_classes):\n",
        "            mean_tpr += interp(all_fpr, fpr[i], tpr[i])\n",
        "\n",
        "        # Finally average it and compute AUC\n",
        "        mean_tpr /= n_classes\n",
        "\n",
        "        fpr[\"macro\"] = all_fpr\n",
        "        tpr[\"macro\"] = mean_tpr\n",
        "        roc_auc[\"macro\"] = auc(fpr[\"macro\"], tpr[\"macro\"])\n",
        "\n",
        "        # Plot all ROC curves\n",
        "        plt.figure(figsize=(20,10))\n",
        "        plt.plot(fpr[\"micro\"], tpr[\"micro\"],\n",
        "                label='micro-average ROC curve (area = {0:0.2f})'\n",
        "                    ''.format(roc_auc[\"micro\"]),\n",
        "                color='deeppink', linestyle=':', linewidth=4)\n",
        "\n",
        "        plt.plot(fpr[\"macro\"], tpr[\"macro\"],\n",
        "                label='macro-average ROC curve (area = {0:0.2f})'\n",
        "                    ''.format(roc_auc[\"macro\"]),\n",
        "                color='navy', linestyle=':', linewidth=4)\n",
        "\n",
        "        list_class = ['adeno','squamous','other']\n",
        "        for i in range(n_classes):\n",
        "            plt.plot(fpr[i], tpr[i], lw=lw,\n",
        "                    label='ROC curve of class {0} (area = {1:0.2f})'\n",
        "                    ''.format(list_class[i], roc_auc[i]))\n",
        "\n",
        "        plt.plot([0, 1], [0, 1], 'k--', lw=lw)\n",
        "        plt.xlim([0.0, 1.0])\n",
        "        plt.ylim([0.0, 1.05])\n",
        "        plt.xlabel('False Positive Rate')\n",
        "        plt.ylabel('True Positive Rate')\n",
        "        plt.title(title) \n",
        "        plt.legend(loc=\"lower right\")\n",
        "        plt.show()"
      ],
      "metadata": {
        "id": "KE-rCZ9xiJcv"
      },
      "execution_count": 134,
      "outputs": []
    },
    {
      "cell_type": "code",
      "source": [
        "from keras.utils.np_utils import to_categorical\n",
        "from sklearn.metrics import roc_curve, auc\n",
        "from scipy import interp\n",
        "from sklearn.metrics import roc_auc_score\n",
        "import matplotlib.pyplot as plt"
      ],
      "metadata": {
        "id": "pZHyFRmwiK4q"
      },
      "execution_count": 135,
      "outputs": []
    },
    {
      "cell_type": "code",
      "source": [
        "title = 'Receiver operating characteristic of Random Forest'\n",
        "RoC_Curve(rf, X_test_std_20, y_test_20, title)"
      ],
      "metadata": {
        "id": "RvHj2o5XiMtv",
        "colab": {
          "base_uri": "https://localhost:8080/",
          "height": 624
        },
        "outputId": "d9b52b65-70f9-44b2-f5ea-230975df4264"
      },
      "execution_count": 136,
      "outputs": [
        {
          "output_type": "stream",
          "name": "stderr",
          "text": [
            "<ipython-input-134-3fa2d96845d8>:40: DeprecationWarning: scipy.interp is deprecated and will be removed in SciPy 2.0.0, use numpy.interp instead\n",
            "  mean_tpr += interp(all_fpr, fpr[i], tpr[i])\n"
          ]
        },
        {
          "output_type": "display_data",
          "data": {
            "text/plain": [
              "<Figure size 1440x720 with 1 Axes>"
            ],
            "image/png": "[encoded data removed]"
          },
          "metadata": {
            "needs_background": "light"
          }
        }
      ]
    },
    {
      "cell_type": "markdown",
      "source": [
        "XGBoost"
      ],
      "metadata": {
        "id": "TWAGTg7BgdhI"
      }
    },
    {
      "cell_type": "code",
      "source": [
        "from sklearn.ensemble import GradientBoostingClassifier"
      ],
      "metadata": {
        "id": "eNUHwu8Dgj9Y"
      },
      "execution_count": 102,
      "outputs": []
    },
    {
      "cell_type": "code",
      "source": [
        "gradient_boost = GradientBoostingClassifier(n_estimators=100, learning_rate=0.1,\n",
        "max_depth=3, random_state=0)"
      ],
      "metadata": {
        "id": "KsdFGo_bnNUh"
      },
      "execution_count": 103,
      "outputs": []
    },
    {
      "cell_type": "code",
      "source": [
        "from sklearn.model_selection import cross_val_predict\n",
        "from sklearn.metrics import confusion_matrix\n",
        "y_pred = cross_val_predict(gradient_boost, data_new_20features_X, data_y_trans, cv=10)\n",
        "conf_mat = confusion_matrix(data_y_trans, y_pred)"
      ],
      "metadata": {
        "id": "rDrFJtkxnKeA"
      },
      "execution_count": 130,
      "outputs": []
    },
    {
      "cell_type": "code",
      "source": [
        "print(\"Classification Report for xgboost: \\n\", classification_report(data_y_trans,y_pred))"
      ],
      "metadata": {
        "id": "wUpsEHJmnVuH",
        "colab": {
          "base_uri": "https://localhost:8080/"
        },
        "outputId": "d9f93e74-fc6c-481c-8701-de25db88a671"
      },
      "execution_count": 131,
      "outputs": [
        {
          "output_type": "stream",
          "name": "stdout",
          "text": [
            "Classification Report for xgboost: \n",
            "               precision    recall  f1-score   support\n",
            "\n",
            "           0       0.95      0.87      0.91        71\n",
            "           1       0.90      0.90      0.90        83\n",
            "           2       0.91      0.87      0.89        23\n",
            "           3       0.83      0.91      0.87        70\n",
            "\n",
            "    accuracy                           0.89       247\n",
            "   macro avg       0.90      0.89      0.89       247\n",
            "weighted avg       0.90      0.89      0.90       247\n",
            "\n"
          ]
        }
      ]
    },
    {
      "cell_type": "markdown",
      "source": [
        "DECISION TREE"
      ],
      "metadata": {
        "id": "PbnL6swMUD79"
      }
    },
    {
      "cell_type": "code",
      "source": [
        "from sklearn.tree import DecisionTreeClassifier \n",
        "dt = DecisionTreeClassifier(random_state=56)\n",
        "from sklearn.model_selection import cross_val_predict\n",
        "from sklearn.metrics import confusion_matrix\n",
        "y_pred1 = cross_val_predict(dt, data_new_20features_X, data_y_trans, cv=10)\n",
        "conf_mat = confusion_matrix(data_y_trans, y_pred)"
      ],
      "metadata": {
        "id": "74_H-YNxUEck"
      },
      "execution_count": 125,
      "outputs": []
    },
    {
      "cell_type": "code",
      "source": [
        "print(\"Classification Report for xgboost: \\n\", classification_report(data_y_trans,y_pred1))"
      ],
      "metadata": {
        "id": "xuDPgrl4VgVF",
        "outputId": "913fec60-1201-4bbe-ac97-d239f73e0fa6",
        "colab": {
          "base_uri": "https://localhost:8080/"
        }
      },
      "execution_count": 128,
      "outputs": [
        {
          "output_type": "stream",
          "name": "stdout",
          "text": [
            "Classification Report for xgboost: \n",
            "               precision    recall  f1-score   support\n",
            "\n",
            "           0       0.90      0.80      0.85        71\n",
            "           1       0.89      0.88      0.88        83\n",
            "           2       0.74      0.87      0.80        23\n",
            "           3       0.88      0.94      0.91        70\n",
            "\n",
            "    accuracy                           0.87       247\n",
            "   macro avg       0.85      0.87      0.86       247\n",
            "weighted avg       0.88      0.87      0.87       247\n",
            "\n"
          ]
        }
      ]
    }
  ]
}